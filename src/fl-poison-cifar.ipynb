{
 "cells": [
  {
   "cell_type": "code",
   "execution_count": 1,
   "id": "4a189859",
   "metadata": {},
   "outputs": [],
   "source": [
    "%load_ext autoreload\n",
    "%autoreload 2\n",
    "\n",
    "import asyncio, copy, os, socket, sys, time\n",
    "from functools import partial\n",
    "from multiprocessing import Pool, Process\n",
    "from pathlib import Path\n",
    "from tqdm import tqdm\n",
    "\n",
    "import torch\n",
    "from torch import optim\n",
    "from torch.utils.tensorboard import SummaryWriter\n",
    "\n",
    "sys.path.insert(0, os.path.abspath(os.path.join(os.getcwd(), \"../\")))\n",
    "from libs import agg, data, fl, log, nn, poison, resnet, sim, wandb\n",
    "from cfgs.fedargs import *"
   ]
  },
  {
   "cell_type": "code",
   "execution_count": 2,
   "id": "3e7e0cae",
   "metadata": {},
   "outputs": [
    {
     "name": "stderr",
     "output_type": "stream",
     "text": [
      "\u001b[34m\u001b[1mwandb\u001b[0m: Currently logged in as: \u001b[33mkasyah\u001b[0m (use `wandb login --relogin` to force relogin)\n",
      "\u001b[34m\u001b[1mwandb\u001b[0m: wandb version 0.12.9 is available!  To upgrade, please run:\n",
      "\u001b[34m\u001b[1mwandb\u001b[0m:  $ pip install wandb --upgrade\n"
     ]
    },
    {
     "data": {
      "text/html": [
       "\n",
       "                    Syncing run <strong><a href=\"https://wandb.ai/kasyah/fl-poison-usnix/runs/28dxjww5\" target=\"_blank\">fedavg-cifar10-na</a></strong> to <a href=\"https://wandb.ai/kasyah/fl-poison-usnix\" target=\"_blank\">Weights & Biases</a> (<a href=\"https://docs.wandb.com/integrations/jupyter.html\" target=\"_blank\">docs</a>).<br/>\n",
       "\n",
       "                "
      ],
      "text/plain": [
       "<IPython.core.display.HTML object>"
      ]
     },
     "metadata": {},
     "output_type": "display_data"
    }
   ],
   "source": [
    "project = 'fl-poison-usnix'\n",
    "name = 'fedavg-cifar10-na'\n",
    "\n",
    "#Define Custom CFFs\n",
    "fedargs.dataset = \"cifar10\"\n",
    "fedargs.model = resnet.ResNet18()\n",
    "\n",
    "# Save Logs To File (info | debug | warning | error | critical) [optional]\n",
    "log.init(\"info\")\n",
    "wb = wandb.init(name, project)"
   ]
  },
  {
   "cell_type": "code",
   "execution_count": 3,
   "id": "2bb399c2",
   "metadata": {},
   "outputs": [],
   "source": [
    "# Device settings\n",
    "use_cuda = fedargs.cuda and torch.cuda.is_available()\n",
    "torch.manual_seed(fedargs.seed)\n",
    "device = torch.device(\"cuda\" if use_cuda else \"cpu\")\n",
    "kwargs = {\"num_workers\": 1, \"pin_memory\": True} if use_cuda else {}"
   ]
  },
  {
   "cell_type": "code",
   "execution_count": 4,
   "id": "76542fcf",
   "metadata": {},
   "outputs": [],
   "source": [
    "# Prepare clients\n",
    "host = socket.gethostname()\n",
    "clients = [host + \"(\" + str(client + 1) + \")\" for client in range(fedargs.num_clients)]"
   ]
  },
  {
   "cell_type": "code",
   "execution_count": 5,
   "id": "402306c0",
   "metadata": {},
   "outputs": [
    {
     "name": "stdout",
     "output_type": "stream",
     "text": [
      "Files already downloaded and verified\n",
      "Files already downloaded and verified\n"
     ]
    }
   ],
   "source": [
    "# Initialize Global and Client models\n",
    "global_model = copy.deepcopy(fedargs.model)\n",
    "# Load Data to clients\n",
    "train_data, test_data = data.load_dataset(fedargs.dataset)"
   ]
  },
  {
   "cell_type": "markdown",
   "id": "1ca573ed",
   "metadata": {},
   "source": [
    "<h2>FLTrust</h2>"
   ]
  },
  {
   "cell_type": "code",
   "execution_count": 6,
   "id": "bbe42e44",
   "metadata": {},
   "outputs": [],
   "source": [
    "if FLTrust[\"is\"]:\n",
    "    train_data, FLTrust[\"data\"] = data.random_split(train_data, FLTrust[\"ratio\"])\n",
    "    FLTrust[\"loader\"] = torch.utils.data.DataLoader(FLTrust[\"data\"], batch_size=fedargs.client_batch_size, shuffle=True, **kwargs)\n",
    "    \n",
    "    if FLTrust[\"proxy\"][\"is\"]:\n",
    "        FLTrust[\"data\"], FLTrust[\"proxy\"][\"data\"] = data.random_split(FLTrust[\"data\"], FLTrust[\"proxy\"][\"ratio\"])\n",
    "        FLTrust[\"loader\"] = torch.utils.data.DataLoader(FLTrust[\"data\"], batch_size=fedargs.client_batch_size, shuffle=True, **kwargs)\n",
    "        FLTrust[\"proxy\"][\"loader\"] = torch.utils.data.DataLoader(FLTrust[\"proxy\"][\"data\"], batch_size=fedargs.client_batch_size, shuffle=True, **kwargs)"
   ]
  },
  {
   "cell_type": "markdown",
   "id": "8025440b",
   "metadata": {},
   "source": [
    "<h2>Prepare a backdoored loader for test</h2>"
   ]
  },
  {
   "cell_type": "code",
   "execution_count": 7,
   "id": "769acb54",
   "metadata": {},
   "outputs": [],
   "source": [
    "if backdoor_attack[\"is\"]:\n",
    "    train_data, backdoor_attack[\"data\"] = data.random_split(train_data, backdoor_attack[\"ratio\"])\n",
    "    backdoor_attack[\"data\"] = poison.insert_trojan(backdoor_attack[\"data\"],\n",
    "                                                   backdoor_attack[\"target_label\"],\n",
    "                                                   backdoor_attack[\"trojan_func\"], 1)\n",
    "    backdoor_attack[\"loader\"] = torch.utils.data.DataLoader(backdoor_attack[\"data\"], batch_size=fedargs.client_batch_size, shuffle=True, **kwargs)"
   ]
  },
  {
   "cell_type": "markdown",
   "id": "b0f568d4",
   "metadata": {},
   "source": [
    "<h2>Load client's data</h2>"
   ]
  },
  {
   "cell_type": "code",
   "execution_count": 8,
   "id": "80508740",
   "metadata": {},
   "outputs": [],
   "source": [
    "clients_data = data.split_data(train_data, clients)"
   ]
  },
  {
   "cell_type": "markdown",
   "id": "0670c19d",
   "metadata": {},
   "source": [
    "<h2>Label Flip Attack</h2>"
   ]
  },
  {
   "cell_type": "code",
   "execution_count": 9,
   "id": "43985c8b",
   "metadata": {},
   "outputs": [],
   "source": [
    "if label_flip_attack[\"is\"]:\n",
    "    for client in mal_clients:\n",
    "        clients_data[clients[client]] = label_flip_attack[\"func\"](clients_data[clients[client]],\n",
    "                                                                  label_flip_attack[\"labels\"],\n",
    "                                                                  label_flip_attack[\"percent\"])"
   ]
  },
  {
   "cell_type": "markdown",
   "id": "3c01394f",
   "metadata": {},
   "source": [
    "<h2>Backdoor Attack</h2>"
   ]
  },
  {
   "cell_type": "code",
   "execution_count": 10,
   "id": "11198f68",
   "metadata": {},
   "outputs": [],
   "source": [
    "if backdoor_attack[\"is\"]:\n",
    "    for client in mal_clients:\n",
    "        clients_data[clients[client]] = poison.insert_trojan(clients_data[clients[client]],\n",
    "                                                             backdoor_attack[\"target_label\"],\n",
    "                                                             backdoor_attack[\"trojan_func\"], 0.5)"
   ]
  },
  {
   "cell_type": "code",
   "execution_count": 11,
   "id": "f21c1481",
   "metadata": {},
   "outputs": [],
   "source": [
    "client_train_loaders, _ = data.load_client_data(clients_data, fedargs.client_batch_size, None, **kwargs)\n",
    "test_loader = torch.utils.data.DataLoader(test_data, batch_size=fedargs.test_batch_size, shuffle=True, **kwargs)\n",
    "\n",
    "client_details = {\n",
    "        client: {\"train_loader\": client_train_loaders[client],\n",
    "                 \"model\": copy.deepcopy(global_model),\n",
    "                 \"model_update\": None}\n",
    "        for client in clients\n",
    "    }"
   ]
  },
  {
   "cell_type": "code",
   "execution_count": 12,
   "id": "af4f472f",
   "metadata": {},
   "outputs": [],
   "source": [
    "def background(f):\n",
    "    def wrapped(*args, **kwargs):\n",
    "        return asyncio.get_event_loop().run_in_executor(None, f, *args, **kwargs)\n",
    "\n",
    "    return wrapped\n",
    "\n",
    "@background\n",
    "def process(client, epoch, model, train_loader, fedargs, device):\n",
    "    # Train\n",
    "    model_update, model, loss = fedargs.train_func(model, train_loader, \n",
    "                                                   fedargs.learning_rate,\n",
    "                                                   fedargs.weight_decay,\n",
    "                                                   fedargs.local_rounds, device)\n",
    "\n",
    "    log.jsondebug(loss, \"Epoch {} of {} : Federated Training loss, Client {}\".format(epoch, fedargs.epochs, client))\n",
    "    log.modeldebug(model_update, \"Epoch {} of {} : Client {} Update\".format(epoch, fedargs.epochs, client))\n",
    "    \n",
    "    return model_update"
   ]
  },
  {
   "cell_type": "code",
   "execution_count": null,
   "id": "b3f7f3fb",
   "metadata": {
    "scrolled": true
   },
   "outputs": [
    {
     "name": "stderr",
     "output_type": "stream",
     "text": [
      "  0%|          | 0/51 [00:00<?, ?it/s]2022-01-22 13:20:27,443 - <ipython-input-13-00521f11c043>::<module>(l:6) : Federated Training Epoch 0 of 51 [MainProcess : MainThread (INFO)]\n",
      "  2%|▏         | 1/51 [06:57<5:47:55, 417.50s/it]2022-01-22 13:27:24,656 - <ipython-input-13-00521f11c043>::<module>(l:6) : Federated Training Epoch 1 of 51 [MainProcess : MainThread (INFO)]\n",
      "2022-01-22 13:27:59,210 - <ipython-input-13-00521f11c043>::<module>(l:22) : Global Test Outut after Epoch 1 of 51 {\n",
      "    \"accuracy\": 10.0,\n",
      "    \"correct\": 1000,\n",
      "    \"test_loss\": -0.507536049079895\n",
      "} [MainProcess : MainThread (INFO)]\n",
      "  4%|▍         | 2/51 [14:28<5:56:49, 436.92s/it]2022-01-22 13:34:55,163 - <ipython-input-13-00521f11c043>::<module>(l:6) : Federated Training Epoch 2 of 51 [MainProcess : MainThread (INFO)]\n",
      "2022-01-22 13:35:27,493 - <ipython-input-13-00521f11c043>::<module>(l:22) : Global Test Outut after Epoch 2 of 51 {\n",
      "    \"accuracy\": 19.11,\n",
      "    \"correct\": 1911,\n",
      "    \"test_loss\": -6.08577356185913\n",
      "} [MainProcess : MainThread (INFO)]\n",
      "  6%|▌         | 3/51 [21:40<5:47:49, 434.78s/it]2022-01-22 13:42:07,391 - <ipython-input-13-00521f11c043>::<module>(l:6) : Federated Training Epoch 3 of 51 [MainProcess : MainThread (INFO)]\n",
      "2022-01-22 13:42:38,716 - <ipython-input-13-00521f11c043>::<module>(l:22) : Global Test Outut after Epoch 3 of 51 {\n",
      "    \"accuracy\": 23.72,\n",
      "    \"correct\": 2372,\n",
      "    \"test_loss\": -8.712568655395508\n",
      "} [MainProcess : MainThread (INFO)]\n",
      "  8%|▊         | 4/51 [28:59<5:42:02, 436.64s/it]2022-01-22 13:49:26,889 - <ipython-input-13-00521f11c043>::<module>(l:6) : Federated Training Epoch 4 of 51 [MainProcess : MainThread (INFO)]\n",
      "2022-01-22 13:49:57,298 - <ipython-input-13-00521f11c043>::<module>(l:22) : Global Test Outut after Epoch 4 of 51 {\n",
      "    \"accuracy\": 27.29,\n",
      "    \"correct\": 2729,\n",
      "    \"test_loss\": -9.58995689239502\n",
      "} [MainProcess : MainThread (INFO)]\n",
      " 10%|▉         | 5/51 [35:37<5:24:00, 422.62s/it]2022-01-22 13:56:04,633 - <ipython-input-13-00521f11c043>::<module>(l:6) : Federated Training Epoch 5 of 51 [MainProcess : MainThread (INFO)]\n",
      "2022-01-22 13:56:36,004 - <ipython-input-13-00521f11c043>::<module>(l:22) : Global Test Outut after Epoch 5 of 51 {\n",
      "    \"accuracy\": 29.81,\n",
      "    \"correct\": 2981,\n",
      "    \"test_loss\": -10.674629612731934\n",
      "} [MainProcess : MainThread (INFO)]\n",
      " 12%|█▏        | 6/51 [42:47<5:18:48, 425.08s/it]2022-01-22 14:03:14,498 - <ipython-input-13-00521f11c043>::<module>(l:6) : Federated Training Epoch 6 of 51 [MainProcess : MainThread (INFO)]\n",
      "2022-01-22 14:03:45,121 - <ipython-input-13-00521f11c043>::<module>(l:22) : Global Test Outut after Epoch 6 of 51 {\n",
      "    \"accuracy\": 31.830000000000002,\n",
      "    \"correct\": 3183,\n",
      "    \"test_loss\": -11.992416445922851\n",
      "} [MainProcess : MainThread (INFO)]\n",
      " 14%|█▎        | 7/51 [49:50<5:11:12, 424.37s/it]2022-01-22 14:10:17,410 - <ipython-input-13-00521f11c043>::<module>(l:6) : Federated Training Epoch 7 of 51 [MainProcess : MainThread (INFO)]\n",
      "2022-01-22 14:10:47,967 - <ipython-input-13-00521f11c043>::<module>(l:22) : Global Test Outut after Epoch 7 of 51 {\n",
      "    \"accuracy\": 33.989999999999995,\n",
      "    \"correct\": 3399,\n",
      "    \"test_loss\": -13.53514109802246\n",
      "} [MainProcess : MainThread (INFO)]\n",
      " 18%|█▊        | 9/51 [1:04:22<5:01:20, 430.49s/it]2022-01-22 14:24:49,694 - <ipython-input-13-00521f11c043>::<module>(l:6) : Federated Training Epoch 9 of 51 [MainProcess : MainThread (INFO)]\n",
      "2022-01-22 14:25:20,732 - <ipython-input-13-00521f11c043>::<module>(l:22) : Global Test Outut after Epoch 9 of 51 {\n",
      "    \"accuracy\": 35.96,\n",
      "    \"correct\": 3596,\n",
      "    \"test_loss\": -15.690721530151368\n",
      "} [MainProcess : MainThread (INFO)]\n",
      "2022-01-22 14:32:02,487 - <ipython-input-13-00521f11c043>::<module>(l:22) : Global Test Outut after Epoch 10 of 51 {\n",
      "    \"accuracy\": 37.2,\n",
      "    \"correct\": 3720,\n",
      "    \"test_loss\": -16.901769833374022\n",
      "} [MainProcess : MainThread (INFO)]\n",
      " 24%|██▎       | 12/51 [1:24:44<4:30:47, 416.61s/it]2022-01-22 14:45:11,556 - <ipython-input-13-00521f11c043>::<module>(l:6) : Federated Training Epoch 12 of 51 [MainProcess : MainThread (INFO)]\n",
      "2022-01-22 14:45:42,093 - <ipython-input-13-00521f11c043>::<module>(l:22) : Global Test Outut after Epoch 12 of 51 {\n",
      "    \"accuracy\": 38.26,\n",
      "    \"correct\": 3826,\n",
      "    \"test_loss\": -19.61661182861328\n",
      "} [MainProcess : MainThread (INFO)]\n",
      " 25%|██▌       | 13/51 [1:31:21<4:20:05, 410.66s/it]2022-01-22 14:51:48,527 - <ipython-input-13-00521f11c043>::<module>(l:6) : Federated Training Epoch 13 of 51 [MainProcess : MainThread (INFO)]\n",
      "2022-01-22 14:52:19,631 - <ipython-input-13-00521f11c043>::<module>(l:22) : Global Test Outut after Epoch 13 of 51 {\n",
      "    \"accuracy\": 38.83,\n",
      "    \"correct\": 3883,\n",
      "    \"test_loss\": -20.768236352539063\n",
      "} [MainProcess : MainThread (INFO)]\n",
      " 27%|██▋       | 14/51 [1:38:17<4:14:11, 412.21s/it]2022-01-22 14:58:44,339 - <ipython-input-13-00521f11c043>::<module>(l:6) : Federated Training Epoch 14 of 51 [MainProcess : MainThread (INFO)]\n",
      "2022-01-22 14:59:14,863 - <ipython-input-13-00521f11c043>::<module>(l:22) : Global Test Outut after Epoch 14 of 51 {\n",
      "    \"accuracy\": 39.62,\n",
      "    \"correct\": 3962,\n",
      "    \"test_loss\": -21.90007532043457\n",
      "} [MainProcess : MainThread (INFO)]\n",
      " 29%|██▉       | 15/51 [1:44:51<4:04:05, 406.83s/it]2022-01-22 15:05:18,686 - <ipython-input-13-00521f11c043>::<module>(l:6) : Federated Training Epoch 15 of 51 [MainProcess : MainThread (INFO)]\n",
      "2022-01-22 15:05:49,589 - <ipython-input-13-00521f11c043>::<module>(l:22) : Global Test Outut after Epoch 15 of 51 {\n",
      "    \"accuracy\": 39.79,\n",
      "    \"correct\": 3979,\n",
      "    \"test_loss\": -23.082930249023438\n",
      "} [MainProcess : MainThread (INFO)]\n",
      " 31%|███▏      | 16/51 [1:51:57<4:00:35, 412.45s/it]2022-01-22 15:12:24,176 - <ipython-input-13-00521f11c043>::<module>(l:6) : Federated Training Epoch 16 of 51 [MainProcess : MainThread (INFO)]\n",
      "2022-01-22 15:12:56,031 - <ipython-input-13-00521f11c043>::<module>(l:22) : Global Test Outut after Epoch 16 of 51 {\n",
      "    \"accuracy\": 40.21,\n",
      "    \"correct\": 4021,\n",
      "    \"test_loss\": -24.345384225463867\n",
      "} [MainProcess : MainThread (INFO)]\n",
      " 33%|███▎      | 17/51 [1:58:42<3:52:32, 410.36s/it]2022-01-22 15:19:09,663 - <ipython-input-13-00521f11c043>::<module>(l:6) : Federated Training Epoch 17 of 51 [MainProcess : MainThread (INFO)]\n",
      "2022-01-22 15:19:39,600 - <ipython-input-13-00521f11c043>::<module>(l:22) : Global Test Outut after Epoch 17 of 51 {\n",
      "    \"accuracy\": 40.43,\n",
      "    \"correct\": 4043,\n",
      "    \"test_loss\": -25.333903942871093\n",
      "} [MainProcess : MainThread (INFO)]\n",
      " 35%|███▌      | 18/51 [2:05:33<3:45:52, 410.68s/it]2022-01-22 15:26:01,092 - <ipython-input-13-00521f11c043>::<module>(l:6) : Federated Training Epoch 18 of 51 [MainProcess : MainThread (INFO)]\n",
      "2022-01-22 15:26:33,679 - <ipython-input-13-00521f11c043>::<module>(l:22) : Global Test Outut after Epoch 18 of 51 {\n",
      "    \"accuracy\": 41.339999999999996,\n",
      "    \"correct\": 4134,\n",
      "    \"test_loss\": -26.56230852661133\n",
      "} [MainProcess : MainThread (INFO)]\n",
      " 37%|███▋      | 19/51 [2:12:20<3:38:17, 409.31s/it]2022-01-22 15:32:47,223 - <ipython-input-13-00521f11c043>::<module>(l:6) : Federated Training Epoch 19 of 51 [MainProcess : MainThread (INFO)]\n",
      "2022-01-22 15:33:17,971 - <ipython-input-13-00521f11c043>::<module>(l:22) : Global Test Outut after Epoch 19 of 51 {\n",
      "    \"accuracy\": 41.92,\n",
      "    \"correct\": 4192,\n",
      "    \"test_loss\": -27.663807388305663\n",
      "} [MainProcess : MainThread (INFO)]\n",
      " 39%|███▉      | 20/51 [2:18:57<3:29:36, 405.68s/it]2022-01-22 15:39:24,432 - <ipython-input-13-00521f11c043>::<module>(l:6) : Federated Training Epoch 20 of 51 [MainProcess : MainThread (INFO)]\n",
      "2022-01-22 15:39:56,643 - <ipython-input-13-00521f11c043>::<module>(l:22) : Global Test Outut after Epoch 20 of 51 {\n",
      "    \"accuracy\": 42.17,\n",
      "    \"correct\": 4217,\n",
      "    \"test_loss\": -29.37536353149414\n",
      "} [MainProcess : MainThread (INFO)]\n"
     ]
    }
   ],
   "source": [
    "import time\n",
    "start_time = time.time()\n",
    "    \n",
    "# Federated Training\n",
    "for epoch in tqdm(range(fedargs.epochs)):\n",
    "    log.info(\"Federated Training Epoch {} of {}\".format(epoch, fedargs.epochs))\n",
    "\n",
    "    # Global Model Update\n",
    "    if epoch > 0:\n",
    "        # For Tmean and FLTrust, not impacts others as of now\n",
    "        avgargs = {\"beta\": len(mal_clients), \n",
    "                   \"base_model_update\": global_model_update if FLTrust[\"is\"] else None,\n",
    "                   \"base_norm\": True}\n",
    "        \n",
    "        # Average\n",
    "        global_model = fl.federated_avg(client_model_updates, global_model, fedargs.agg_rule, **avgargs)\n",
    "        log.modeldebug(global_model, \"Epoch {}: Server Update\".format(epoch))\n",
    "        \n",
    "        # Test, Plot and Log\n",
    "        global_test_output = fedargs.eval_func(global_model, test_loader, device, label_flip_attack[\"labels\"])\n",
    "        wb.log({\"epoch\": epoch, \"time\": time.time(), \"acc\": global_test_output[\"accuracy\"], \"loss\": global_test_output[\"test_loss\"]})\n",
    "        log.jsoninfo(global_test_output, \"Global Test Outut after Epoch {} of {}\".format(epoch, fedargs.epochs))\n",
    "        \n",
    "        # Evaluate LFA\n",
    "        if \"attack\" in global_test_output:\n",
    "            if \"attack_success_rate\" in global_test_output[\"attack\"]:\n",
    "                wb.log({\"attack_success_rate\": global_test_output[\"attack\"][\"attack_success_rate\"]})\n",
    "            if \"misclassification_rate\" in global_test_output[\"attack\"]:\n",
    "                wb.log({\"misclassification_rate\": global_test_output[\"attack\"][\"misclassification_rate\"]})\n",
    "\n",
    "        # Evaluate Backdoor\n",
    "        if backdoor_attack[\"is\"]:\n",
    "            backdoor_test_output = fl.backdoor_test(global_model, backdoor_attack[\"loader\"], device, backdoor_attack[\"target_label\"])\n",
    "            wb.log({\"backdoor_success_rate\": backdoor_test_output[\"accuracy\"]})\n",
    "            log.jsoninfo(backdoor_test_output, \"Backdoor Test Outut after Epoch {} of {}\".format(epoch, fedargs.epochs))\n",
    "\n",
    "        # Update client models\n",
    "        for client in clients:\n",
    "            client_details[client]['model'] = copy.deepcopy(global_model)\n",
    "\n",
    "    # Clients\n",
    "    tasks = [process(client, epoch, client_details[client]['model'],\n",
    "                     client_details[client]['train_loader'],\n",
    "                     fedargs, device) for client in clients]\n",
    "    try:\n",
    "        updates = fedargs.loop.run_until_complete(asyncio.gather(*tasks))\n",
    "    except KeyboardInterrupt as e:\n",
    "        log.error(\"Caught keyboard interrupt. Canceling tasks...\")\n",
    "        tasks.cancel()\n",
    "        fedargs.loop.run_forever()\n",
    "        tasks.exception()\n",
    "\n",
    "    for client, update in zip(clients, updates):\n",
    "        client_details[client]['model_update'] = update\n",
    "    client_model_updates = {client: details[\"model_update\"] for client, details in client_details.items()}\n",
    "    \n",
    "    # Fang attack\n",
    "    if fang_attack[\"is\"]:\n",
    "        client_model_updates = fang_attack[\"func\"](client_model_updates, len(mal_clients), fang_attack[\"kn\"])\n",
    "        \n",
    "    # LIE attack\n",
    "    if lie_attack[\"is\"]:\n",
    "        client_model_updates = lie_attack[\"func\"](client_model_updates, len(mal_clients), lie_attack[\"kn\"])\n",
    "   \n",
    "    # SOTA attack\n",
    "    if sota_attack[\"is\"]:\n",
    "        client_model_updates = sota_attack[\"func\"](client_model_updates, len(mal_clients), \n",
    "                                                   sota_attack[\"kn\"], sota_attack[\"dev_type\"])\n",
    "    \n",
    "    # FLtrust or FLTC based aggregation rules or attacks\n",
    "    if FLTrust[\"is\"]:\n",
    "        global_model_update, _, _ = fedargs.train_func(global_model, FLTrust[\"loader\"],\n",
    "                                                       fedargs.learning_rate,\n",
    "                                                       fedargs.weight_decay,\n",
    "                                                       fedargs.local_rounds, device)\n",
    "\n",
    "        # For Attacks related to FLTrust\n",
    "        base_model_update = global_model_update\n",
    "        if FLTrust[\"proxy\"][\"is\"]:\n",
    "            base_model_update, _, _ = fedargs.train_func(global_model, FLTrust[\"proxy\"][\"loader\"],\n",
    "                                                         fedargs.learning_rate,\n",
    "                                                         fedargs.weight_decay,\n",
    "                                                         fedargs.local_rounds, device)\n",
    "        \n",
    "        # Layer replacement attack\n",
    "        if layer_replacement_attack[\"is\"]:\n",
    "            for client in mal_clients:\n",
    "                client_details[clients[client]]['model_update'] = layer_replacement_attack[\"func\"](base_model_update,\n",
    "                                                                                                   client_details[clients[client]]['model_update'],\n",
    "                                                                                                   layer_replacement_attack[\"layers\"])\n",
    "\n",
    "        # For cosine attack, Malicious Clients\n",
    "        if cosine_attack[\"is\"]:\n",
    "            p_models, params_changed = cosine_attack[\"func\"](base_model_update, cosine_attack[\"args\"], epoch,\n",
    "                                                             client_model_updates, len(mal_clients), cosine_attack[\"kn\"])\n",
    "            \n",
    "            for client, p_model in enumerate(p_models):\n",
    "                client_details[clients[client]]['model_update'] = p_model \n",
    "\n",
    "            #plot params changed for only one client\n",
    "            fedargs.tb.add_scalar(\"Params Changed for Cosine Attack/\", params_changed, epoch)\n",
    "\n",
    "        # For sybil attack, Malicious Clients\n",
    "        if sybil_attack[\"is\"]:\n",
    "            for client in mal_clients:\n",
    "                client_details[clients[client]]['model_update'] = base_model_update\n",
    "                \n",
    "        # again pair, as changed during attack\n",
    "        client_model_updates = {client: details[\"model_update\"] for client, details in client_details.items()}\n",
    "\n",
    "print(time.time() - start_time)"
   ]
  },
  {
   "cell_type": "markdown",
   "id": "37b2d6a9",
   "metadata": {
    "deletable": false,
    "editable": false
   },
   "source": [
    "<h1> End </h1>"
   ]
  }
 ],
 "metadata": {
  "kernelspec": {
   "display_name": "Python [conda env:syft]",
   "language": "python",
   "name": "conda-env-syft-py"
  },
  "language_info": {
   "codemirror_mode": {
    "name": "ipython",
    "version": 3
   },
   "file_extension": ".py",
   "mimetype": "text/x-python",
   "name": "python",
   "nbconvert_exporter": "python",
   "pygments_lexer": "ipython3",
   "version": "3.9.5"
  }
 },
 "nbformat": 4,
 "nbformat_minor": 5
}
