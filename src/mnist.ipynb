{
 "cells": [
  {
   "cell_type": "code",
   "execution_count": null,
   "metadata": {},
   "outputs": [],
   "source": [
    "%load_ext autoreload\n",
    "%autoreload 2\n",
    "\n",
    "import torch\n",
    "import torch.nn as nn\n",
    "import torch.nn.functional as F\n",
    "import torch.optim as optim\n",
    "from torchvision import datasets, transforms\n",
    "from torch.autograd import Variable\n",
    "\n",
    "import os, sys\n",
    "sys.path.insert(0, os.path.abspath(os.path.join(os.getcwd(), \"../\")))\n",
    "from libs import sim"
   ]
  },
  {
   "cell_type": "code",
   "execution_count": null,
   "metadata": {},
   "outputs": [],
   "source": [
    "class MnistModel(nn.Module):\n",
    "    def __init__(self):\n",
    "        super(MnistModel, self).__init__()\n",
    "        # input is 28x28\n",
    "        # padding=2 for same padding\n",
    "        self.conv1 = nn.Conv2d(1, 32, 5, padding=2)\n",
    "        # feature map size is 14*14 by pooling\n",
    "        # padding=2 for same padding\n",
    "        self.conv2 = nn.Conv2d(32, 64, 5, padding=2)\n",
    "        # feature map size is 7*7 by pooling\n",
    "        self.fc1 = nn.Linear(64*7*7, 1024)\n",
    "        self.fc2 = nn.Linear(1024, 10)\n",
    "        \n",
    "    def forward(self, x):\n",
    "        x = F.max_pool2d(F.relu(self.conv1(x)), 2)\n",
    "        x = F.max_pool2d(F.relu(self.conv2(x)), 2)\n",
    "        x = x.view(-1, 64*7*7)   # reshape Variable\n",
    "        x = F.relu(self.fc1(x))\n",
    "        x = F.dropout(x, training=self.training)\n",
    "        x = self.fc2(x)\n",
    "        return F.log_softmax(x)\n",
    "    \n",
    "    def forward_test(self, x):\n",
    "        res = {}\n",
    "        x = F.max_pool2d(F.relu(self.conv1(x)), 2)\n",
    "        res[\"layer_1\"] = x\n",
    "        x = F.max_pool2d(F.relu(self.conv2(x)), 2)\n",
    "        res[\"layer_2\"] = x\n",
    "        x = x.view(-1, 64*7*7)   # reshape Variable\n",
    "        res[\"layer_3\"] = x        \n",
    "        x = F.relu(self.fc1(x))\n",
    "        res[\"layer_4\"] = x        \n",
    "        x = F.dropout(x, training=self.training)\n",
    "        res[\"layer_5\"] = x        \n",
    "        x = self.fc2(x)\n",
    "        res[\"layer_6\"] = x        \n",
    "        return res\n",
    "    \n",
    "model = MnistModel()\n",
    "model"
   ]
  },
  {
   "cell_type": "code",
   "execution_count": null,
   "metadata": {},
   "outputs": [],
   "source": [
    "batch_size = 50\n",
    "train_loader = torch.utils.data.DataLoader(\n",
    "    datasets.MNIST('../data', train=True, download=True, transform=transforms.ToTensor()),\n",
    "    batch_size=batch_size, shuffle=True)"
   ]
  },
  {
   "cell_type": "code",
   "execution_count": null,
   "metadata": {},
   "outputs": [],
   "source": [
    "test_loader = torch.utils.data.DataLoader(\n",
    "    datasets.MNIST('../data', train=False, transform=transforms.ToTensor()),\n",
    "    batch_size=1000)"
   ]
  },
  {
   "cell_type": "code",
   "execution_count": null,
   "metadata": {},
   "outputs": [],
   "source": [
    "# Define the regularization strength\n",
    "weight_decay = 0.001\n",
    "#optimizer = optim.Adam(model.parameters(), lr=0.0001, weight_decay=weight_decay)\n",
    "optimizer = optim.SGD(model.parameters(), lr=0.01)"
   ]
  },
  {
   "cell_type": "code",
   "execution_count": null,
   "metadata": {},
   "outputs": [],
   "source": [
    "model.train()\n",
    "train_loss = []\n",
    "train_accu = []\n",
    "i = 0\n",
    "\n",
    "#loss_fn = nn.MSELoss()\n",
    "loss_fn = nn.CrossEntropyLoss()\n",
    "for epoch in range(5):\n",
    "    for data, target in train_loader:\n",
    "        data, target = Variable(data), Variable(target)\n",
    "        optimizer.zero_grad()\n",
    "        output = model(data)\n",
    "        #loss = F.nll_loss(output, target)\n",
    "        loss= loss_fn(output, target)\n",
    "        loss.backward()    # calc gradients\n",
    "        train_loss.append(loss.item())\n",
    "        optimizer.step()   # update gradients\n",
    "        prediction = output.data.max(1)[1]   # first column has actual prob.\n",
    "        accuracy = prediction.eq(target.data).sum()/batch_size*100\n",
    "        train_accu.append(accuracy)\n",
    "        if i % 1000 == 0:\n",
    "            print('Train Step: {}\\tLoss: {:.3f}\\tAccuracy: {:.3f}'.format(i, loss.item(), accuracy))\n",
    "        i += 1"
   ]
  },
  {
   "cell_type": "code",
   "execution_count": null,
   "metadata": {},
   "outputs": [],
   "source": [
    "model.eval()\n",
    "correct = 0\n",
    "for data, target in test_loader:\n",
    "    data, target = Variable(data, volatile=True), Variable(target)\n",
    "    output = model(data)\n",
    "    loss = F.nll_loss(output, target)\n",
    "    prediction = output.data.max(1)[1]\n",
    "    correct += prediction.eq(target.data).sum()\n",
    "\n",
    "print('\\nTest set: \\tLoss: {:.3f}\\tAccuracy: {:.3f}'.format(loss, 100. * correct / len(test_loader.dataset)))"
   ]
  },
  {
   "cell_type": "markdown",
   "metadata": {},
   "source": [
    "<h1>Hyperdimensional Encoding</h1>"
   ]
  },
  {
   "cell_type": "code",
   "execution_count": null,
   "metadata": {},
   "outputs": [],
   "source": [
    "import numpy as nd\n",
    "\n",
    "'''\n",
    "r_proj = nd.random.randint(2, size=(10000,10000))\n",
    "r_proj[r_proj == 0] = -1\n",
    "r_inv_proj = nd.linalg.pinv(r_proj)\n",
    "\n",
    "print(r_proj.shape, r_inv_proj.shape)\n",
    "\n",
    "with open('proj.npy', 'wb') as f:\n",
    "    nd.save(f, r_proj)\n",
    "    \n",
    "with open('inv.npy', 'wb') as f:\n",
    "    nd.save(f, r_inv_proj)  \n",
    "'''\n",
    "\n",
    "with open('proj.npy', 'rb') as f:\n",
    "    r_proj = nd.load(f)\n",
    "\n",
    "with open('inv.npy', 'rb') as f:\n",
    "    r_inv_proj = nd.load(f)    \n",
    "\n",
    "def get_enc_model(model):\n",
    "    arr, slist = sim.get_net_arr(model)\n",
    "\n",
    "    rem = nd.zeros(10000- (len(arr) % 10000))\n",
    "    if len(arr) % 10000 != 0:\n",
    "        arr = nd.concatenate((arr, rem), axis=None)\n",
    "\n",
    "    #enc_model = []\n",
    "    enc_model = nd.array([])\n",
    "    index = 0\n",
    "    while index < len(arr):\n",
    "        #enc_model.append(arr[index:index+10000] @ r_proj)\n",
    "        enc_model = nd.concatenate((enc_model, (arr[index:index+10000] @ r_proj)), axis = None)\n",
    "        index = index + 10000\n",
    "        #print(index)\n",
    "\n",
    "    return enc_model\n",
    "\n",
    "def get_dec_model(enc_model):\n",
    "    arr, slist = sim.get_net_arr(model)\n",
    "    \n",
    "    rem = nd.zeros(10000- (len(arr) % 10000))\n",
    "    if len(arr) % 10000 != 0:\n",
    "        arr = nd.concatenate((arr, rem), axis=None)\n",
    "    \n",
    "    dec_model = nd.zeros(len(arr))\n",
    "    index = 0\n",
    "    while index < len(arr):\n",
    "        dec = enc_model[index: index + 10000] @ r_inv_proj\n",
    "        dec_model[index: index + 10000] = dec\n",
    "        index = index + 10000\n",
    "        #print(index)\n",
    "\n",
    "    dec_model = sim.get_arr_net(model, dec_model, slist)\n",
    "    return dec_model"
   ]
  },
  {
   "cell_type": "code",
   "execution_count": null,
   "metadata": {},
   "outputs": [],
   "source": [
    "enc_model = get_enc_model(model)\n",
    "print(enc_model)"
   ]
  },
  {
   "cell_type": "code",
   "execution_count": null,
   "metadata": {},
   "outputs": [],
   "source": [
    "print(len(enc_model))"
   ]
  },
  {
   "cell_type": "code",
   "execution_count": null,
   "metadata": {},
   "outputs": [],
   "source": [
    "dec_model = get_dec_model(enc_model)\n",
    "print(dec_model)"
   ]
  },
  {
   "cell_type": "code",
   "execution_count": null,
   "metadata": {},
   "outputs": [],
   "source": [
    "data, target = Variable(data, volatile=True), Variable(target)\n",
    "output = dec_model(data)\n",
    "print(output[0].argmax(), target[0])"
   ]
  },
  {
   "cell_type": "markdown",
   "metadata": {},
   "source": [
    "<h1>Homomorphic Encryption</h1>"
   ]
  },
  {
   "cell_type": "code",
   "execution_count": null,
   "metadata": {},
   "outputs": [],
   "source": [
    "import tenseal as ts\n",
    "\n",
    "def create_ctx():\n",
    "    pmd = 8192\n",
    "    cmbs = [60, 40, 40, 60]\n",
    "    ctx = ts.context(ts.SCHEME_TYPE.CKKS, pmd, cmbs)\n",
    "    ctx.global_scale = 2 ** 40\n",
    "    ctx.generate_galois_keys()\n",
    "    return ctx\n",
    "\n",
    "context = create_ctx()\n",
    "\n",
    "HE = Pyfhel()\n",
    "HE.contextGen(scheme='ckks', n=8192, scale=2**26, qi_sizes=[31]+ [scale_power]*n_mults +[31])\n",
    "HE.keyGen()\n",
    "HE.relinKeyGen()"
   ]
  },
  {
   "cell_type": "code",
   "execution_count": null,
   "metadata": {},
   "outputs": [],
   "source": [
    "a = [5,10]\n",
    "b = [10,20]\n",
    "\n",
    "enc_a = ts.ckks_vector(context, a)\n",
    "enc_a\n",
    "\n",
    "enc_b = ts.ckks_vector(context, b)\n",
    "enc_b\n",
    "\n",
    "print((enc_a + enc_b).decrypt())"
   ]
  },
  {
   "cell_type": "code",
   "execution_count": null,
   "metadata": {},
   "outputs": [],
   "source": [
    "arr, slist = sim.get_net_arr(model)\n",
    "enc_ckks_model = ts.ckks_vector(context, arr)"
   ]
  },
  {
   "cell_type": "code",
   "execution_count": null,
   "metadata": {},
   "outputs": [],
   "source": [
    "dec_ckks_model = sim.get_arr_net(model, nd.array(enc_ckks_model.decrypt()), slist)\n",
    "data, target = Variable(data, volatile=True), Variable(target)\n",
    "output = dec_ckks_model(data)\n",
    "print(output[0].argmax(), target[0])"
   ]
  },
  {
   "cell_type": "code",
   "execution_count": null,
   "metadata": {},
   "outputs": [],
   "source": [
    "enc_ckks_model = (enc_ckks_model + enc_ckks_model)\n",
    "dec_ckks_model = sim.get_arr_net(model, nd.array(enc_ckks_model.decrypt())/2, slist)\n",
    "data, target = Variable(data, volatile=True), Variable(target)\n",
    "output = dec_ckks_model(data)\n",
    "print(output[0].argmax(), target[0])"
   ]
  },
  {
   "cell_type": "code",
   "execution_count": null,
   "metadata": {},
   "outputs": [],
   "source": []
  },
  {
   "cell_type": "code",
   "execution_count": null,
   "metadata": {},
   "outputs": [],
   "source": []
  },
  {
   "cell_type": "code",
   "execution_count": null,
   "metadata": {},
   "outputs": [],
   "source": [
    "target_batch = next(iter(test_loader))\n",
    "target_images, target_labels = target_batch\n",
    "\n",
    "img = target_images[0]\n",
    "lbl = target_labels[0]\n",
    "\n",
    "img2 = target_images[2]\n",
    "lbl2 = target_labels[2]\n",
    "\n",
    "print(img.shape, lbl)\n",
    "\n",
    "with torch.no_grad():\n",
    "    out = model.forward_test(img.unsqueeze(0))\n",
    "    \n",
    "#print(out)"
   ]
  },
  {
   "cell_type": "code",
   "execution_count": null,
   "metadata": {},
   "outputs": [],
   "source": [
    "actvs = 0\n",
    "for k, v in out.items():\n",
    "    print (len(v.view(-1)))\n",
    "    actvs = actvs + v.numel()\n",
    "print(actvs)"
   ]
  },
  {
   "cell_type": "code",
   "execution_count": null,
   "metadata": {},
   "outputs": [],
   "source": [
    "arr, _ = sim.get_net_arr(model)\n",
    "print(len(arr))"
   ]
  },
  {
   "cell_type": "code",
   "execution_count": null,
   "metadata": {},
   "outputs": [],
   "source": [
    "model"
   ]
  },
  {
   "cell_type": "code",
   "execution_count": null,
   "metadata": {},
   "outputs": [],
   "source": [
    "# a dict to store the activations\n",
    "activation = {}\n",
    "def getActivation(name):\n",
    "    def hook(model, input, output):\n",
    "        activation[name] = output.detach()\n",
    "    return hook\n",
    "\n",
    "# register forward hooks on the layers of choice\n",
    "h1 = model.conv1.register_forward_hook(getActivation('conv1'))\n",
    "h2 = model.conv2.register_forward_hook(getActivation('conv2'))\n",
    "h3 = model.fc1.register_forward_hook(getActivation('fc1'))\n",
    "h4 = model.fc2.register_forward_hook(getActivation('fc2'))\n",
    "\n",
    "out = model(img.unsqueeze(0))\n",
    "print(activation['conv1'].numel(), activation['conv2'].numel(), activation['fc1'].numel(), activation['fc2'].numel())\n",
    "#print(activation['conv2'],activation['conv2'].shape)\n",
    "print(activation['conv1'].shape,activation['conv2'].shape)\n",
    "# detach the hooks\n",
    "h1.remove()\n",
    "h2.remove()\n",
    "h3.remove()\n",
    "h4.remove()"
   ]
  },
  {
   "cell_type": "code",
   "execution_count": null,
   "metadata": {},
   "outputs": [],
   "source": [
    "'''\n",
    "activation = {}\n",
    "hooks = {}\n",
    "for name, module in model.named_modules():\n",
    "    print(module)\n",
    "    hooks[name] = module.register_forward_hook(getActivation(module))\n",
    "\n",
    "output = model(img.unsqueeze(0))\n",
    "\n",
    "print(activation, activation['conv1'].numel())\n",
    "\n",
    "for name, _ in hooks.items():\n",
    "    hooks[name].remove()\n",
    "'''"
   ]
  },
  {
   "cell_type": "code",
   "execution_count": null,
   "metadata": {},
   "outputs": [],
   "source": [
    "import numpy\n",
    "\n",
    "arr = numpy.arange(60).reshape(3, 4, 5)\n",
    "arr"
   ]
  },
  {
   "cell_type": "code",
   "execution_count": null,
   "metadata": {},
   "outputs": [],
   "source": [
    "def find_index(index, dim = (3, 4, 5)):\n",
    "    row = int(index / (dim[1] * dim[2]))\n",
    "    rem = index - row * (dim[1] * dim[2])\n",
    "    col = int(rem / dim[2])\n",
    "    hei = rem - col * dim[2]\n",
    "    return row, col, hei\n",
    "\n",
    "find_index(40)"
   ]
  },
  {
   "cell_type": "code",
   "execution_count": null,
   "metadata": {},
   "outputs": [],
   "source": []
  }
 ],
 "metadata": {
  "kernelspec": {
   "display_name": "Python [conda env:syft]",
   "language": "python",
   "name": "conda-env-syft-py"
  },
  "language_info": {
   "codemirror_mode": {
    "name": "ipython",
    "version": 3
   },
   "file_extension": ".py",
   "mimetype": "text/x-python",
   "name": "python",
   "nbconvert_exporter": "python",
   "pygments_lexer": "ipython3",
   "version": "3.9.5"
  }
 },
 "nbformat": 4,
 "nbformat_minor": 2
}
