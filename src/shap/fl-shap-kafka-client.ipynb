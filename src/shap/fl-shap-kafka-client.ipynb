{
 "cells": [
  {
   "cell_type": "code",
   "execution_count": 1,
   "id": "2ac6d8c4",
   "metadata": {},
   "outputs": [],
   "source": [
    "%load_ext autoreload\n",
    "%autoreload 2\n",
    "\n",
    "import asyncio, copy, os, socket, sys, time\n",
    "from functools import partial\n",
    "from multiprocessing import Pool, Process\n",
    "from pathlib import Path\n",
    "from tqdm import tqdm\n",
    "\n",
    "import torch\n",
    "from torch import optim\n",
    "\n",
    "import shap\n",
    "\n",
    "sys.path.insert(0, os.path.abspath(os.path.join(os.getcwd(), \"../../\")))\n",
    "from libs import agg, data, fl, helper, log, nn, poison, resnet, sim, wandb\n",
    "from libs.distributed import *\n",
    "from cfgs.fedargs import *"
   ]
  },
  {
   "cell_type": "code",
   "execution_count": 2,
   "id": "6b97ef4e",
   "metadata": {},
   "outputs": [
    {
     "name": "stderr",
     "output_type": "stream",
     "text": [
      "\u001b[34m\u001b[1mwandb\u001b[0m: Currently logged in as: \u001b[33mkasyah\u001b[0m (use `wandb login --relogin` to force relogin)\n",
      "\u001b[34m\u001b[1mwandb\u001b[0m: wandb version 0.12.10 is available!  To upgrade, please run:\n",
      "\u001b[34m\u001b[1mwandb\u001b[0m:  $ pip install wandb --upgrade\n"
     ]
    },
    {
     "data": {
      "text/html": [
       "\n",
       "                    Syncing run <strong><a href=\"https://wandb.ai/kasyah/fl-shap/runs/39kooasv\" target=\"_blank\">fedavg-cnn-mnistclient-x</a></strong> to <a href=\"https://wandb.ai/kasyah/fl-shap\" target=\"_blank\">Weights & Biases</a> (<a href=\"https://docs.wandb.com/integrations/jupyter.html\" target=\"_blank\">docs</a>).<br/>\n",
       "\n",
       "                "
      ],
      "text/plain": [
       "<IPython.core.display.HTML object>"
      ]
     },
     "metadata": {},
     "output_type": "display_data"
    }
   ],
   "source": [
    "project = 'fl-shap'\n",
    "name = 'fedavg-cnn-mnist' + fedargs.name\n",
    "\n",
    "#Define Custom CFGs\n",
    "fedargs.num_clients = 1\n",
    "\n",
    "# Save Logs To File (info | debug | warning | error | critical) [optional]\n",
    "log.init(\"info\")\n",
    "wb = wandb.init(name, project)"
   ]
  },
  {
   "cell_type": "code",
   "execution_count": 3,
   "id": "404051b9",
   "metadata": {},
   "outputs": [],
   "source": [
    "# Device settings\n",
    "use_cuda = fedargs.cuda and torch.cuda.is_available()\n",
    "torch.manual_seed(fedargs.seed)\n",
    "device = torch.device(\"cuda\" if use_cuda else \"cpu\")\n",
    "kwargs = {\"num_workers\": 1, \"pin_memory\": True} if use_cuda else {}"
   ]
  },
  {
   "cell_type": "code",
   "execution_count": 4,
   "id": "30da804b",
   "metadata": {},
   "outputs": [],
   "source": [
    "host = socket.gethostname()\n",
    "clients = [host + \": \" + fedargs.name]"
   ]
  },
  {
   "cell_type": "code",
   "execution_count": 5,
   "id": "9c934d9d",
   "metadata": {},
   "outputs": [],
   "source": [
    "# Distributed topology\n",
    "dt = Distributed(clients, fedargs.broker_ip, fedargs.schema_ip, fedargs.wait_to_consume)"
   ]
  },
  {
   "cell_type": "code",
   "execution_count": 6,
   "id": "a98e13dd",
   "metadata": {},
   "outputs": [],
   "source": [
    "# Initialize Global and Client models\n",
    "global_model = copy.deepcopy(fedargs.model)\n",
    "# Load Data to clients\n",
    "train_data, test_data = data.load_dataset(fedargs.dataset)"
   ]
  },
  {
   "cell_type": "code",
   "execution_count": 7,
   "id": "c6765692",
   "metadata": {},
   "outputs": [],
   "source": [
    "clients_data = data.split_data(train_data, clients)"
   ]
  },
  {
   "cell_type": "code",
   "execution_count": 8,
   "id": "d285354e",
   "metadata": {},
   "outputs": [],
   "source": [
    "client_train_loaders, client_test_loaders = data.load_client_data(clients_data, fedargs.client_batch_size, 0.2, **kwargs)\n",
    "test_loader = torch.utils.data.DataLoader(test_data, batch_size=fedargs.test_batch_size, shuffle=True, **kwargs)\n",
    "\n",
    "client_details = {\n",
    "        client: {\"train_loader\": client_train_loaders[client],\n",
    "                 \"test_loader\": client_test_loaders[client],\n",
    "                 \"model\": copy.deepcopy(global_model),\n",
    "                 \"model_update\": None}\n",
    "        for client in clients\n",
    "    }"
   ]
  },
  {
   "cell_type": "code",
   "execution_count": 9,
   "id": "844992de",
   "metadata": {},
   "outputs": [],
   "source": [
    "def process(client, epoch, dt, model, train_loader, test_loader, fedargs, device):\n",
    "    log.info(\"Epoch: {}, Processing Client {}\".format(epoch, client))\n",
    "    \n",
    "    # Consume and Average, epoch passed is actually prev epoch, for which we want to consume updates\n",
    "    client_model_updates = dt.consume_model(client, fedargs.topic, model, epoch)\n",
    "    \n",
    "    # Pop one's own update\n",
    "    if client in client_model_updates:\n",
    "        client_model_updates.pop(client)\n",
    "\n",
    "    log.info(\"Epoch: {}, Client {} received {} model update(s) from {}\".format(epoch, client, \n",
    "                                                                               len(client_model_updates), \n",
    "                                                                               list(client_model_updates.keys())))\n",
    "    \n",
    "    if len(client_model_updates) != 0:\n",
    "        model = fl.federated_avg(client_model_updates, model)\n",
    "\n",
    "    # Train    \n",
    "    model_update, model, loss = fedargs.train_func(model, train_loader, \n",
    "                                                   fedargs.learning_rate,\n",
    "                                                   fedargs.weight_decay,\n",
    "                                                   fedargs.local_rounds, device)\n",
    "\n",
    "    # Publish\n",
    "    epoch = epoch + 1\n",
    "    dt.produce_model(client, fedargs.topic, model_update, epoch)\n",
    "\n",
    "    log.jsondebug(loss, \"Epoch {} : Federated Training loss, Client {}\".format(epoch, client))\n",
    "    log.modeldebug(model, \"Epoch {}: Client {} Update\".format(epoch, client))\n",
    "\n",
    "    # Test, Plot and Log\n",
    "    test_output = fedargs.eval_func(model, test_loader, device)\n",
    "    wb.log({client: {\"epoch\": epoch, \"time\": time.time(), \"acc\": test_output[\"accuracy\"], \"loss\": test_output[\"test_loss\"]}})\n",
    "    log.jsoninfo(test_output, \"Test Outut after Epoch {} of {} for Client {}\".format(epoch, fedargs.epochs, client))\n",
    "\n",
    "    return model"
   ]
  },
  {
   "cell_type": "code",
   "execution_count": 10,
   "id": "a3c349a1",
   "metadata": {},
   "outputs": [
    {
     "name": "stderr",
     "output_type": "stream",
     "text": [
      "  0%|          | 0/1 [00:00<?, ?it/s]2022-02-07 11:29:51,017 - <ipython-input-10-32c122a5cc8b>::<module>(l:6) : Federated Training Epoch 0 of 1 [MainProcess : MainThread (INFO)]\n",
      "2022-02-07 11:29:51,043 - <ipython-input-9-e20d4c96e1f4>::process(l:2) : Epoch: 0, Processing Client bladecluster.iitp.org: client-x [MainProcess : MainThread (INFO)]\n",
      "2022-02-07 11:30:01,098 - <ipython-input-9-e20d4c96e1f4>::process(l:11) : Epoch: 0, Client bladecluster.iitp.org: client-x received 0 model update(s) from [] [MainProcess : MainThread (INFO)]\n",
      "2022-02-07 11:30:34,114 - /home/harsh_1921cs01/hub/AgroFed/fl/libs/protobuf_producer.py::produce(l:56) : Producing user records to topic pyflx. ^C to exit. [MainProcess : MainThread (INFO)]\n",
      "2022-02-07 11:30:34,165 - /home/harsh_1921cs01/hub/AgroFed/fl/libs/protobuf_producer.py::produce(l:64) : Exception raised [MainProcess : MainThread (ERROR)]\n",
      "2022-02-07 11:30:34,197 - /home/harsh_1921cs01/hub/AgroFed/fl/libs/protobuf_producer.py::produce(l:66) : Flushing records... [MainProcess : MainThread (INFO)]\n",
      "2022-02-07 11:30:37,724 - <ipython-input-9-e20d4c96e1f4>::process(l:34) : Test Outut after Epoch 1 of 1 for Client bladecluster.iitp.org: client-x {\n",
      "    \"accuracy\": 96.56666666666666,\n",
      "    \"correct\": 11588,\n",
      "    \"test_loss\": 0.11822438855717579\n",
      "} [MainProcess : MainThread (INFO)]\n",
      "100%|██████████| 1/1 [00:47<00:00, 47.10s/it]"
     ]
    },
    {
     "name": "stdout",
     "output_type": "stream",
     "text": [
      "47.10743498802185\n"
     ]
    },
    {
     "name": "stderr",
     "output_type": "stream",
     "text": [
      "\n"
     ]
    }
   ],
   "source": [
    "import time\n",
    "start_time = time.time()\n",
    "fedargs.epochs = 1\n",
    "# Federated Training\n",
    "for epoch in tqdm(range(fedargs.epochs)):\n",
    "    log.info(\"Federated Training Epoch {} of {}\".format(epoch, fedargs.epochs))\n",
    "\n",
    "    for client in clients:\n",
    "        client_details[client]['model'] = process(client, epoch, dt, client_details[client]['model'],\n",
    "                                                  client_details[client]['train_loader'],\n",
    "                                                  client_details[client]['test_loader'],\n",
    "                                                  fedargs, device)\n",
    "print(time.time() - start_time)"
   ]
  },
  {
   "cell_type": "code",
   "execution_count": null,
   "id": "1962033a",
   "metadata": {},
   "outputs": [],
   "source": []
  }
 ],
 "metadata": {
  "kernelspec": {
   "display_name": "Python [conda env:syft]",
   "language": "python",
   "name": "conda-env-syft-py"
  },
  "language_info": {
   "codemirror_mode": {
    "name": "ipython",
    "version": 3
   },
   "file_extension": ".py",
   "mimetype": "text/x-python",
   "name": "python",
   "nbconvert_exporter": "python",
   "pygments_lexer": "ipython3",
   "version": "3.9.5"
  }
 },
 "nbformat": 4,
 "nbformat_minor": 5
}
