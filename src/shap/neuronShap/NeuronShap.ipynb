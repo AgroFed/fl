{
 "cells": [
  {
   "cell_type": "code",
   "execution_count": null,
   "id": "8778124f",
   "metadata": {},
   "outputs": [],
   "source": [
    "import torch\n",
    "from itertools import permutations\n",
    "\n",
    "def calculate_shapley_values(model, dataset):\n",
    "    shapley_values = torch.zeros(model.num_neurons)  # Initialize Shapley values for each neuron\n",
    "    \n",
    "    for i in range(model.num_neurons):\n",
    "        contributions = []\n",
    "        \n",
    "        # Iterate over all possible permutations of neuron combinations\n",
    "        for perm in permutations(range(model.num_neurons), i+1):\n",
    "            total_contribution = 0.0\n",
    "            \n",
    "            for data in dataset:\n",
    "                inputs, _ = data\n",
    "                inputs = inputs.unsqueeze(0)\n",
    "                \n",
    "                # Set all neurons to zero except the ones in the current permutation\n",
    "                zeroed_neurons = torch.ones(model.num_neurons)\n",
    "                zeroed_neurons[list(perm)] = 0\n",
    "                \n",
    "                # Compute the output with the zeroed neurons\n",
    "                zeroed_output = model(inputs * zeroed_neurons)\n",
    "                \n",
    "                # Compute the difference in output when adding the current permutation\n",
    "                diff = model(inputs) - zeroed_output\n",
    "                \n",
    "                total_contribution += diff.abs().sum().item()\n",
    "            \n",
    "            # Calculate the average marginal contribution for the current permutation\n",
    "            avg_contribution = total_contribution / len(dataset)\n",
    "            \n",
    "            contributions.append(avg_contribution)\n",
    "        \n",
    "        # Calculate the Shapley value for the current neuron\n",
    "        shapley_values[i] = sum(contributions) / len(contributions)\n",
    "    \n",
    "    return shapley_values\n",
    "\n",
    "# Usage example\n",
    "model = YourModel()  # Replace YourModel() with your actual PyTorch model\n",
    "dataset = YourDataset()  # Replace YourDataset() with your actual dataset\n",
    "\n",
    "shapley_values = calculate_shapley_values(model, dataset)\n",
    "print(shapley_values)"
   ]
  }
 ],
 "metadata": {
  "kernelspec": {
   "display_name": "Python [conda env:syft]",
   "language": "python",
   "name": "conda-env-syft-py"
  },
  "language_info": {
   "codemirror_mode": {
    "name": "ipython",
    "version": 3
   },
   "file_extension": ".py",
   "mimetype": "text/x-python",
   "name": "python",
   "nbconvert_exporter": "python",
   "pygments_lexer": "ipython3",
   "version": "3.9.5"
  }
 },
 "nbformat": 4,
 "nbformat_minor": 5
}
