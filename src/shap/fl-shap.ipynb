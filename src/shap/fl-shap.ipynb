{
 "cells": [
  {
   "cell_type": "code",
   "execution_count": 72,
   "id": "4a189859",
   "metadata": {},
   "outputs": [
    {
     "name": "stdout",
     "output_type": "stream",
     "text": [
      "The autoreload extension is already loaded. To reload it, use:\n",
      "  %reload_ext autoreload\n"
     ]
    }
   ],
   "source": [
    "%load_ext autoreload\n",
    "%autoreload 2\n",
    "\n",
    "import asyncio, copy, os, socket, sys, time\n",
    "from functools import partial\n",
    "from multiprocessing import Pool, Process\n",
    "from pathlib import Path\n",
    "from tqdm import tqdm\n",
    "\n",
    "import torch\n",
    "from torch import optim\n",
    "\n",
    "import shap\n",
    "%matplotlib inline\n",
    "import matplotlib.pyplot as plt\n",
    "import numpy as np\n",
    "\n",
    "sys.path.insert(0, os.path.abspath(os.path.join(os.getcwd(), \"../../\")))\n",
    "from libs import agg, data, fl, log, nn, plot, poison, resnet, sim, wandb\n",
    "from cfgs.fedargs import *"
   ]
  },
  {
   "cell_type": "code",
   "execution_count": 46,
   "id": "3e7e0cae",
   "metadata": {},
   "outputs": [
    {
     "data": {
      "text/html": [
       "Finishing last run (ID:xvglhp14) before initializing another..."
      ],
      "text/plain": [
       "<IPython.core.display.HTML object>"
      ]
     },
     "metadata": {},
     "output_type": "display_data"
    },
    {
     "data": {
      "text/html": [
       "<br/>Waiting for W&B process to finish, PID 156205... <strong style=\"color:green\">(success).</strong>"
      ],
      "text/plain": [
       "<IPython.core.display.HTML object>"
      ]
     },
     "metadata": {},
     "output_type": "display_data"
    },
    {
     "data": {
      "application/vnd.jupyter.widget-view+json": {
       "model_id": "",
       "version_major": 2,
       "version_minor": 0
      },
      "text/plain": [
       "VBox(children=(Label(value=' 0.00MB of 0.00MB uploaded (0.00MB deduped)\\r'), FloatProgress(value=1.0, max=1.0)…"
      ]
     },
     "metadata": {},
     "output_type": "display_data"
    },
    {
     "data": {
      "text/html": [
       "<style>\n",
       "    table.wandb td:nth-child(1) { padding: 0 10px; text-align: right }\n",
       "    .wandb-row { display: flex; flex-direction: row; flex-wrap: wrap; width: 100% }\n",
       "    .wandb-col { display: flex; flex-direction: column; flex-basis: 100%; flex: 1; padding: 10px; }\n",
       "    </style>\n",
       "<div class=\"wandb-row\"><div class=\"wandb-col\">\n",
       "<h3>Run history:</h3><br/><table class=\"wandb\"><tr><td>acc</td><td>▁▆▆▇▇▇███</td></tr><tr><td>epoch</td><td>▁▂▃▄▅▅▆▇█</td></tr><tr><td>loss</td><td>▁▂▄▅▆▇▇▇█</td></tr><tr><td>time</td><td>▁▁▅▅▅▅███</td></tr></table><br/></div><div class=\"wandb-col\">\n",
       "<h3>Run summary:</h3><br/><table class=\"wandb\"><tr><td>acc</td><td>74.67</td></tr><tr><td>epoch</td><td>9</td></tr><tr><td>loss</td><td>1.94514</td></tr><tr><td>time</td><td>1653658516.4391</td></tr></table>\n",
       "</div></div>\n",
       "Synced 6 W&B file(s), 0 media file(s), 0 artifact file(s) and 0 other file(s)\n",
       "<br/>Synced <strong style=\"color:#cdcd00\">fedavg-cnn-mnist</strong>: <a href=\"https://wandb.ai/kasyah/fl-shap/runs/xvglhp14\" target=\"_blank\">https://wandb.ai/kasyah/fl-shap/runs/xvglhp14</a><br/>\n",
       "Find logs at: <code>/home/harsh_1921cs01/hub/AgroFed/fl/libs/../out/wandb/run-20220527_190029-xvglhp14/logs</code><br/>\n"
      ],
      "text/plain": [
       "<IPython.core.display.HTML object>"
      ]
     },
     "metadata": {},
     "output_type": "display_data"
    },
    {
     "data": {
      "text/html": [
       "Successfully finished last run (ID:xvglhp14). Initializing new run:<br/>"
      ],
      "text/plain": [
       "<IPython.core.display.HTML object>"
      ]
     },
     "metadata": {},
     "output_type": "display_data"
    },
    {
     "name": "stderr",
     "output_type": "stream",
     "text": [
      "\u001b[34m\u001b[1mwandb\u001b[0m: wandb version 0.12.17 is available!  To upgrade, please run:\n",
      "\u001b[34m\u001b[1mwandb\u001b[0m:  $ pip install wandb --upgrade\n"
     ]
    },
    {
     "data": {
      "text/html": [
       "\n",
       "                    Syncing run <strong><a href=\"https://wandb.ai/kasyah/fl-shap/runs/31hrzdun\" target=\"_blank\">fedavg-cnn-mnist</a></strong> to <a href=\"https://wandb.ai/kasyah/fl-shap\" target=\"_blank\">Weights & Biases</a> (<a href=\"https://docs.wandb.com/integrations/jupyter.html\" target=\"_blank\">docs</a>).<br/>\n",
       "\n",
       "                "
      ],
      "text/plain": [
       "<IPython.core.display.HTML object>"
      ]
     },
     "metadata": {},
     "output_type": "display_data"
    }
   ],
   "source": [
    "project = 'fl-shap'\n",
    "name = 'fedavg-cnn-mnist'\n",
    "\n",
    "#Define Custom CFGs\n",
    "fedargs.num_clients = 10\n",
    "mal_clients = [c for c in range(5)]\n",
    "shap_explain[\"is\"] = True\n",
    "\n",
    "# Save Logs To File (info | debug | warning | error | critical) [optional]\n",
    "log.init(\"info\")\n",
    "wb = wandb.init(name, project)"
   ]
  },
  {
   "cell_type": "code",
   "execution_count": 73,
   "id": "2bb399c2",
   "metadata": {},
   "outputs": [],
   "source": [
    "# Device settings\n",
    "use_cuda = fedargs.cuda and torch.cuda.is_available()\n",
    "torch.manual_seed(fedargs.seed)\n",
    "device = torch.device(\"cuda\" if use_cuda else \"cpu\")\n",
    "kwargs = {\"num_workers\": 1, \"pin_memory\": True} if use_cuda else {}"
   ]
  },
  {
   "cell_type": "code",
   "execution_count": 74,
   "id": "76542fcf",
   "metadata": {},
   "outputs": [],
   "source": [
    "# Prepare clients\n",
    "host = socket.gethostname()\n",
    "clients = [host + \"(\" + str(client + 1) + \")\" for client in range(fedargs.num_clients)]"
   ]
  },
  {
   "cell_type": "code",
   "execution_count": 75,
   "id": "402306c0",
   "metadata": {},
   "outputs": [],
   "source": [
    "# Initialize Global and Client models\n",
    "global_model = copy.deepcopy(fedargs.model)\n",
    "# Load Data to clients\n",
    "train_data, test_data = data.load_dataset(fedargs.dataset, only_to_tensor = True)"
   ]
  },
  {
   "cell_type": "code",
   "execution_count": 76,
   "id": "80508740",
   "metadata": {},
   "outputs": [],
   "source": [
    "clients_data = data.split_data(train_data, clients)"
   ]
  },
  {
   "cell_type": "markdown",
   "id": "b8e0ae74",
   "metadata": {},
   "source": [
    "<h1>SHAP: Trim Data For Class Sniffing</h1>"
   ]
  },
  {
   "cell_type": "code",
   "execution_count": 77,
   "id": "ae6b4366",
   "metadata": {},
   "outputs": [
    {
     "ename": "IndexError",
     "evalue": "list index out of range",
     "output_type": "error",
     "traceback": [
      "\u001b[0;31m---------------------------------------------------------------------------\u001b[0m",
      "\u001b[0;31mIndexError\u001b[0m                                Traceback (most recent call last)",
      "\u001b[0;32m<ipython-input-77-1aa61055e7ea>\u001b[0m in \u001b[0;36m<module>\u001b[0;34m\u001b[0m\n\u001b[1;32m      1\u001b[0m \u001b[0;32mif\u001b[0m \u001b[0mshap_explain\u001b[0m\u001b[0;34m[\u001b[0m\u001b[0;34m\"is\"\u001b[0m\u001b[0;34m]\u001b[0m\u001b[0;34m:\u001b[0m\u001b[0;34m\u001b[0m\u001b[0;34m\u001b[0m\u001b[0m\n\u001b[1;32m      2\u001b[0m     \u001b[0;32mfor\u001b[0m \u001b[0mclient\u001b[0m \u001b[0;32min\u001b[0m \u001b[0mmal_clients\u001b[0m\u001b[0;34m:\u001b[0m\u001b[0;34m\u001b[0m\u001b[0;34m\u001b[0m\u001b[0m\n\u001b[0;32m----> 3\u001b[0;31m         \u001b[0mclients_data\u001b[0m\u001b[0;34m[\u001b[0m\u001b[0mclients\u001b[0m\u001b[0;34m[\u001b[0m\u001b[0mclient\u001b[0m\u001b[0;34m]\u001b[0m\u001b[0;34m]\u001b[0m \u001b[0;34m=\u001b[0m \u001b[0mshap_explain\u001b[0m\u001b[0;34m[\u001b[0m\u001b[0;34m\"trim_data\"\u001b[0m\u001b[0;34m]\u001b[0m\u001b[0;34m(\u001b[0m\u001b[0mclients_data\u001b[0m\u001b[0;34m[\u001b[0m\u001b[0mclients\u001b[0m\u001b[0;34m[\u001b[0m\u001b[0mclient\u001b[0m\u001b[0;34m]\u001b[0m\u001b[0;34m]\u001b[0m\u001b[0;34m,\u001b[0m \u001b[0mshap_explain\u001b[0m\u001b[0;34m[\u001b[0m\u001b[0;34m\"trim_labels\"\u001b[0m\u001b[0;34m]\u001b[0m\u001b[0;34m)\u001b[0m\u001b[0;34m\u001b[0m\u001b[0;34m\u001b[0m\u001b[0m\n\u001b[0m",
      "\u001b[0;31mIndexError\u001b[0m: list index out of range"
     ]
    }
   ],
   "source": [
    "if shap_explain[\"is\"]:\n",
    "    for client in mal_clients:\n",
    "        clients_data[clients[client]] = shap_explain[\"trim_data\"](clients_data[clients[client]], shap_explain[\"trim_labels\"])    "
   ]
  },
  {
   "cell_type": "code",
   "execution_count": 78,
   "id": "f21c1481",
   "metadata": {},
   "outputs": [],
   "source": [
    "client_train_loaders, _ = data.load_client_data(clients_data, fedargs.client_batch_size, None, **kwargs)\n",
    "test_loader = torch.utils.data.DataLoader(test_data, batch_size=fedargs.test_batch_size, shuffle=True, **kwargs)\n",
    "\n",
    "client_details = {\n",
    "        client: {\"train_loader\": client_train_loaders[client],\n",
    "                 \"model\": copy.deepcopy(global_model),\n",
    "                 \"model_update\": None}\n",
    "        for client in clients\n",
    "    }"
   ]
  },
  {
   "cell_type": "code",
   "execution_count": 79,
   "id": "af4f472f",
   "metadata": {},
   "outputs": [],
   "source": [
    "def background(f):\n",
    "    def wrapped(*args, **kwargs):\n",
    "        return asyncio.get_event_loop().run_in_executor(None, f, *args, **kwargs)\n",
    "\n",
    "    return wrapped\n",
    "\n",
    "@background\n",
    "def process(client, epoch, model, train_loader, fedargs, device):\n",
    "    # Train\n",
    "    model_update, model, loss = fedargs.train_func(model, train_loader, \n",
    "                                                   fedargs.learning_rate,\n",
    "                                                   fedargs.weight_decay,\n",
    "                                                   fedargs.local_rounds, device)\n",
    "\n",
    "    log.jsondebug(loss, \"Epoch {} of {} : Federated Training loss, Client {}\".format(epoch, fedargs.epochs, client))\n",
    "    log.modeldebug(model_update, \"Epoch {} of {} : Client {} Update\".format(epoch, fedargs.epochs, client))\n",
    "    \n",
    "    return model_update, model"
   ]
  },
  {
   "cell_type": "code",
   "execution_count": 54,
   "id": "b3f7f3fb",
   "metadata": {
    "scrolled": true
   },
   "outputs": [
    {
     "name": "stderr",
     "output_type": "stream",
     "text": [
      "  0%|          | 0/10 [00:00<?, ?it/s]2022-05-28 10:10:49,103 - <ipython-input-54-8efa5b355043>::<module>(l:8) : Federated Training Epoch 0 of 10 [MainProcess : MainThread (INFO)]\n",
      " 10%|█         | 1/10 [00:24<03:42, 24.77s/it]2022-05-28 10:11:13,898 - <ipython-input-54-8efa5b355043>::<module>(l:8) : Federated Training Epoch 1 of 10 [MainProcess : MainThread (INFO)]\n",
      "2022-05-28 10:11:15,808 - <ipython-input-54-8efa5b355043>::<module>(l:19) : Global Test Outut after Epoch 1 of 10 {\n",
      "    \"accuracy\": 68.27,\n",
      "    \"correct\": 6827,\n",
      "    \"test_loss\": 1.1538332145690917\n",
      "} [MainProcess : MainThread (INFO)]\n",
      " 20%|██        | 2/10 [00:53<03:36, 27.04s/it]2022-05-28 10:11:42,517 - <ipython-input-54-8efa5b355043>::<module>(l:8) : Federated Training Epoch 2 of 10 [MainProcess : MainThread (INFO)]\n",
      "2022-05-28 10:11:44,766 - <ipython-input-54-8efa5b355043>::<module>(l:19) : Global Test Outut after Epoch 2 of 10 {\n",
      "    \"accuracy\": 71.53,\n",
      "    \"correct\": 7153,\n",
      "    \"test_loss\": 1.3452501658439637\n",
      "} [MainProcess : MainThread (INFO)]\n",
      " 30%|███       | 3/10 [01:22<03:15, 27.88s/it]2022-05-28 10:12:11,378 - <ipython-input-54-8efa5b355043>::<module>(l:8) : Federated Training Epoch 3 of 10 [MainProcess : MainThread (INFO)]\n",
      "2022-05-28 10:12:13,444 - <ipython-input-54-8efa5b355043>::<module>(l:19) : Global Test Outut after Epoch 3 of 10 {\n",
      "    \"accuracy\": 72.78,\n",
      "    \"correct\": 7278,\n",
      "    \"test_loss\": 1.5142261076927186\n",
      "} [MainProcess : MainThread (INFO)]\n",
      " 40%|████      | 4/10 [01:50<02:47, 27.95s/it]2022-05-28 10:12:39,445 - <ipython-input-54-8efa5b355043>::<module>(l:8) : Federated Training Epoch 4 of 10 [MainProcess : MainThread (INFO)]\n",
      "2022-05-28 10:12:41,768 - <ipython-input-54-8efa5b355043>::<module>(l:19) : Global Test Outut after Epoch 4 of 10 {\n",
      "    \"accuracy\": 73.33,\n",
      "    \"correct\": 7333,\n",
      "    \"test_loss\": 1.6820514108657836\n",
      "} [MainProcess : MainThread (INFO)]\n",
      " 50%|█████     | 5/10 [02:18<02:20, 28.06s/it]2022-05-28 10:13:07,712 - <ipython-input-54-8efa5b355043>::<module>(l:8) : Federated Training Epoch 5 of 10 [MainProcess : MainThread (INFO)]\n",
      "2022-05-28 10:13:09,652 - <ipython-input-54-8efa5b355043>::<module>(l:19) : Global Test Outut after Epoch 5 of 10 {\n",
      "    \"accuracy\": 73.82,\n",
      "    \"correct\": 7382,\n",
      "    \"test_loss\": 1.8875339004516603\n",
      "} [MainProcess : MainThread (INFO)]\n",
      " 60%|██████    | 6/10 [02:47<01:53, 28.29s/it]2022-05-28 10:13:36,437 - <ipython-input-54-8efa5b355043>::<module>(l:8) : Federated Training Epoch 6 of 10 [MainProcess : MainThread (INFO)]\n",
      "2022-05-28 10:13:38,289 - <ipython-input-54-8efa5b355043>::<module>(l:19) : Global Test Outut after Epoch 6 of 10 {\n",
      "    \"accuracy\": 74.13,\n",
      "    \"correct\": 7413,\n",
      "    \"test_loss\": 1.9477693615913392\n",
      "} [MainProcess : MainThread (INFO)]\n",
      " 70%|███████   | 7/10 [03:16<01:25, 28.44s/it]2022-05-28 10:14:05,172 - <ipython-input-54-8efa5b355043>::<module>(l:8) : Federated Training Epoch 7 of 10 [MainProcess : MainThread (INFO)]\n",
      "2022-05-28 10:14:07,454 - <ipython-input-54-8efa5b355043>::<module>(l:19) : Global Test Outut after Epoch 7 of 10 {\n",
      "    \"accuracy\": 74.31,\n",
      "    \"correct\": 7431,\n",
      "    \"test_loss\": 1.978624640274048\n",
      "} [MainProcess : MainThread (INFO)]\n",
      " 80%|████████  | 8/10 [03:45<00:57, 28.61s/it]2022-05-28 10:14:34,156 - <ipython-input-54-8efa5b355043>::<module>(l:8) : Federated Training Epoch 8 of 10 [MainProcess : MainThread (INFO)]\n",
      "2022-05-28 10:14:37,155 - <ipython-input-54-8efa5b355043>::<module>(l:19) : Global Test Outut after Epoch 8 of 10 {\n",
      "    \"accuracy\": 74.53,\n",
      "    \"correct\": 7453,\n",
      "    \"test_loss\": 2.0688538455963137\n",
      "} [MainProcess : MainThread (INFO)]\n",
      " 90%|█████████ | 9/10 [04:15<00:29, 29.13s/it]2022-05-28 10:15:04,433 - <ipython-input-54-8efa5b355043>::<module>(l:8) : Federated Training Epoch 9 of 10 [MainProcess : MainThread (INFO)]\n",
      "2022-05-28 10:15:06,295 - <ipython-input-54-8efa5b355043>::<module>(l:19) : Global Test Outut after Epoch 9 of 10 {\n",
      "    \"accuracy\": 74.71,\n",
      "    \"correct\": 7471,\n",
      "    \"test_loss\": 2.066117928695679\n",
      "} [MainProcess : MainThread (INFO)]\n",
      "100%|██████████| 10/10 [04:44<00:00, 28.41s/it]"
     ]
    },
    {
     "name": "stdout",
     "output_type": "stream",
     "text": [
      "284.15418696403503\n"
     ]
    },
    {
     "name": "stderr",
     "output_type": "stream",
     "text": [
      "\n"
     ]
    }
   ],
   "source": [
    "import time\n",
    "start_time = time.time()\n",
    "\n",
    "fedargs.epochs = 10\n",
    "    \n",
    "# Federated Training\n",
    "for epoch in tqdm(range(fedargs.epochs)):\n",
    "    log.info(\"Federated Training Epoch {} of {}\".format(epoch, fedargs.epochs))\n",
    "    \n",
    "    # Global Model Update\n",
    "    if epoch > 0:     \n",
    "        # Average\n",
    "        global_model = fl.federated_avg(client_model_updates, global_model)\n",
    "        log.modeldebug(global_model, \"Epoch {} of {} : Server Update\".format(epoch, fedargs.epochs))\n",
    "        \n",
    "        # Test and Log\n",
    "        global_test_output = fedargs.eval_func(global_model, test_loader, device)\n",
    "        wb.log({\"epoch\": epoch, \"time\": time.time(), \"acc\": global_test_output[\"accuracy\"], \"loss\": global_test_output[\"test_loss\"]})\n",
    "        log.jsoninfo(global_test_output, \"Global Test Outut after Epoch {} of {}\".format(epoch, fedargs.epochs))\n",
    "        \n",
    "        # Update client models\n",
    "        #for client in clients:\n",
    "        #    client_details[client]['model'] = copy.deepcopy(global_model)\n",
    "\n",
    "    # Clients\n",
    "    tasks = [process(client, epoch, client_details[client]['model'],\n",
    "                     client_details[client]['train_loader'],\n",
    "                     fedargs, device) for client in clients]\n",
    "    try:\n",
    "        updates = fedargs.loop.run_until_complete(asyncio.gather(*tasks))\n",
    "    except KeyboardInterrupt as e:\n",
    "        log.error(\"Caught keyboard interrupt. Canceling tasks...\")\n",
    "        tasks.cancel()\n",
    "        fedargs.loop.run_forever()\n",
    "        tasks.exception()\n",
    "\n",
    "    for client, (model_update, model) in zip(clients, updates):\n",
    "        client_details[client]['model_update'], client_details[client]['model'] = model_update, model\n",
    "    client_model_updates = {client: details[\"model_update\"] for client, details in client_details.items()}\n",
    "\n",
    "print(time.time() - start_time)"
   ]
  },
  {
   "cell_type": "markdown",
   "id": "54cbc867",
   "metadata": {},
   "source": [
    "<h1>SHAP Explain</h1>"
   ]
  },
  {
   "cell_type": "code",
   "execution_count": 80,
   "id": "851a17b5",
   "metadata": {},
   "outputs": [
    {
     "name": "stdout",
     "output_type": "stream",
     "text": [
      "bladecluster.iitp.org(1)\n",
      "{'test_loss': 2.3018545581817627, 'correct': 807, 'accuracy': 8.07}\n"
     ]
    }
   ],
   "source": [
    "print(clients[0])\n",
    "print(fedargs.eval_func(client_details['bladecluster.iitp.org(1)']['model'], test_loader, device))"
   ]
  },
  {
   "cell_type": "code",
   "execution_count": 82,
   "id": "999a72bb",
   "metadata": {},
   "outputs": [],
   "source": [
    "batch = next(iter(test_loader))\n",
    "images, labels = batch\n",
    "baseline = images\n",
    "    \n",
    "explain1 = shap.DeepExplainer(client_details['bladecluster.iitp.org(1)']['model'], baseline)\n",
    "explain2 = shap.DeepExplainer(client_details['bladecluster.iitp.org(9)']['model'], baseline)\n",
    "explain3 = shap.DeepExplainer(global_model, baseline)\n",
    "#explain = shap.DeepExplainer(global_model, baseline)"
   ]
  },
  {
   "cell_type": "code",
   "execution_count": 83,
   "id": "2b04437e",
   "metadata": {},
   "outputs": [
    {
     "name": "stdout",
     "output_type": "stream",
     "text": [
      "tensor(4)\n"
     ]
    },
    {
     "data": {
      "image/png": "[encoded data removed]",
      "text/plain": [
       "<Figure size 432x288 with 1 Axes>"
      ]
     },
     "metadata": {
      "needs_background": "light"
     },
     "output_type": "display_data"
    }
   ],
   "source": [
    "label = -1\n",
    "while label != 4:\n",
    "    batch = next(iter(test_loader))\n",
    "    images, labels = batch\n",
    "    g_img, label = images[0], labels[0]\n",
    "    plt.imshow(g_img.numpy().squeeze())\n",
    "    print(label)"
   ]
  },
  {
   "cell_type": "code",
   "execution_count": 84,
   "id": "58a28d3a",
   "metadata": {},
   "outputs": [
    {
     "data": {
      "text/plain": [
       "<matplotlib.image.AxesImage at 0x7fd44db3ecd0>"
      ]
     },
     "execution_count": 84,
     "metadata": {},
     "output_type": "execute_result"
    },
    {
     "data": {
      "image/png": "[encoded data removed]",
      "text/plain": [
       "<Figure size 432x288 with 1 Axes>"
      ]
     },
     "metadata": {
      "needs_background": "light"
     },
     "output_type": "display_data"
    }
   ],
   "source": [
    "z_img = torch.tensor([[0.0 for col in range(28)] for row in range(28)])\n",
    "z_img = z_img.reshape(1,28,28)\n",
    "plt.imshow(z_img.numpy().squeeze())"
   ]
  },
  {
   "cell_type": "code",
   "execution_count": 85,
   "id": "9b44c0a7",
   "metadata": {},
   "outputs": [],
   "source": [
    "def shap_plot(explain, img):\n",
    "    #shap_image = g_img.unsqueeze(0)\n",
    "    shap_values = explain.shap_values(img.unsqueeze(0))\n",
    "    \n",
    "    shap_tensor = torch.tensor(shap_values)\n",
    "    shap_lists = []\n",
    "    for i in range(10):\n",
    "        lsum = 0\n",
    "        lst = shap_tensor[i].squeeze(0).squeeze(0).view(784).tolist()\n",
    "        shap_lists.append(lst)\n",
    "        for l in lst:\n",
    "            if l > 0:\n",
    "                lsum += abs(l)\n",
    "        print ('shap_sum', lsum)\n",
    "    \n",
    "    shap_numpy = [np.swapaxes(np.swapaxes(s, 1, -1), 1, 2) for s in shap_values]\n",
    "    test_numpy = np.swapaxes(np.swapaxes(img.unsqueeze(0).numpy(), 1, -1), 1, 2)\n",
    "    shap.image_plot(shap_numpy, -test_numpy, None, 20, 0.2, 0.2, None, False)\n",
    "    #shap.image_plot(shap_values, -shap_image)"
   ]
  },
  {
   "cell_type": "code",
   "execution_count": 60,
   "id": "e00f8e80",
   "metadata": {},
   "outputs": [
    {
     "data": {
      "image/png": "[encoded data removed]",
      "text/plain": [
       "<Figure size 432x648 with 2 Axes>"
      ]
     },
     "metadata": {
      "needs_background": "light"
     },
     "output_type": "display_data"
    }
   ],
   "source": [
    "from torch.nn import functional as F\n",
    "\n",
    "def view_classify(img, ps, version=\"MNIST\"):\n",
    "    ps = ps.data.numpy().squeeze()    \n",
    "    fig, (ax1, ax2) = plt.subplots(figsize=(6,9), ncols=2)\n",
    "    ax1.imshow(img.resize_(1, 28, 28).numpy().squeeze())\n",
    "    ax1.axis('off')\n",
    "    ax2.barh(np.arange(10), ps)\n",
    "    ax2.set_aspect(0.1)\n",
    "    ax2.set_yticks(np.arange(10))\n",
    "    if version == \"MNIST\":\n",
    "        ax2.set_yticklabels(np.arange(10))\n",
    "    ax2.set_title('Class Probability')\n",
    "    ax2.set_xlim(0, 1.1)\n",
    "\n",
    "    \n",
    "model = client_details['bladecluster.iitp.org(5)']['model']\n",
    "with torch.no_grad():\n",
    "    logits = model.forward(g_img.unsqueeze(0).float())\n",
    "\n",
    "ps = F.softmax(logits, dim=1)\n",
    "_, label = torch.max(ps, 1)\n",
    "view_classify(g_img, ps)"
   ]
  },
  {
   "cell_type": "code",
   "execution_count": 86,
   "id": "95611cd7",
   "metadata": {},
   "outputs": [
    {
     "name": "stdout",
     "output_type": "stream",
     "text": [
      "shap_sum 0.4502154216883304\n",
      "shap_sum 0.015116594338768552\n",
      "shap_sum 0.00506737698089843\n",
      "shap_sum 0.004260100556057481\n",
      "shap_sum 0.0034508761347259442\n",
      "shap_sum 0.009187540137892247\n",
      "shap_sum 0.08205324585229024\n",
      "shap_sum 0.008439859575040565\n",
      "shap_sum 0.006563029506585938\n",
      "shap_sum 0.013560298996455611\n"
     ]
    },
    {
     "data": {
      "image/png": "[encoded data removed]",
      "text/plain": [
       "<Figure size 1440x218.182 with 12 Axes>"
      ]
     },
     "metadata": {
      "needs_background": "light"
     },
     "output_type": "display_data"
    }
   ],
   "source": [
    "shap_plot(explain1, g_img)"
   ]
  },
  {
   "cell_type": "code",
   "execution_count": 87,
   "id": "000b649d",
   "metadata": {},
   "outputs": [
    {
     "name": "stdout",
     "output_type": "stream",
     "text": [
      "shap_sum 0.4502154216883304\n",
      "shap_sum 0.015116594338768552\n",
      "shap_sum 0.00506737698089843\n",
      "shap_sum 0.004260100556057481\n",
      "shap_sum 0.0034508761347259442\n",
      "shap_sum 0.009187540137892247\n",
      "shap_sum 0.08205324585229024\n",
      "shap_sum 0.008439859575040565\n",
      "shap_sum 0.006563029506585938\n",
      "shap_sum 0.013560298996455611\n"
     ]
    },
    {
     "data": {
      "image/png": "[encoded data removed]",
      "text/plain": [
       "<Figure size 1440x218.182 with 12 Axes>"
      ]
     },
     "metadata": {
      "needs_background": "light"
     },
     "output_type": "display_data"
    }
   ],
   "source": [
    "shap_plot(explain2, g_img)"
   ]
  },
  {
   "cell_type": "code",
   "execution_count": 88,
   "id": "beec2330",
   "metadata": {},
   "outputs": [
    {
     "name": "stdout",
     "output_type": "stream",
     "text": [
      "shap_sum 0.0033930309704864325\n",
      "shap_sum 0.005498696787108237\n",
      "shap_sum 0.01705057742571925\n",
      "shap_sum 0.005311099427531343\n",
      "shap_sum 0.003631372202240357\n",
      "shap_sum 0.031484769618494\n",
      "shap_sum 0.0040595860811695195\n",
      "shap_sum 0.0037196882952157395\n",
      "shap_sum 0.01077791713903875\n",
      "shap_sum 0.03588862750342159\n"
     ]
    },
    {
     "data": {
      "image/png": "[encoded data removed]",
      "text/plain": [
       "<Figure size 1440x218.182 with 12 Axes>"
      ]
     },
     "metadata": {
      "needs_background": "light"
     },
     "output_type": "display_data"
    }
   ],
   "source": [
    "shap_plot(explain1, z_img)"
   ]
  },
  {
   "cell_type": "code",
   "execution_count": 64,
   "id": "63c9fca7",
   "metadata": {},
   "outputs": [
    {
     "name": "stdout",
     "output_type": "stream",
     "text": [
      "shap_sum 3.587634623562552\n",
      "shap_sum 0.2313174563753272\n",
      "shap_sum 0.053723148169460444\n",
      "shap_sum 0.11618033124601546\n",
      "shap_sum 0.6545084579478306\n",
      "shap_sum 0.23735020234672177\n",
      "shap_sum 0.1416884733938334\n",
      "shap_sum 3.690212449069702\n",
      "shap_sum 0.018714789381543473\n",
      "shap_sum 0.06528847631150869\n"
     ]
    },
    {
     "data": {
      "image/png": "[encoded data removed]",
      "text/plain": [
       "<Figure size 1440x218.182 with 12 Axes>"
      ]
     },
     "metadata": {
      "needs_background": "light"
     },
     "output_type": "display_data"
    }
   ],
   "source": [
    "shap_plot(explain2, z_img)"
   ]
  },
  {
   "cell_type": "markdown",
   "id": "37b2d6a9",
   "metadata": {
    "deletable": false,
    "editable": false
   },
   "source": [
    "<h1> End </h1>"
   ]
  }
 ],
 "metadata": {
  "kernelspec": {
   "display_name": "Python [conda env:syft]",
   "language": "python",
   "name": "conda-env-syft-py"
  },
  "language_info": {
   "codemirror_mode": {
    "name": "ipython",
    "version": 3
   },
   "file_extension": ".py",
   "mimetype": "text/x-python",
   "name": "python",
   "nbconvert_exporter": "python",
   "pygments_lexer": "ipython3",
   "version": "3.9.5"
  }
 },
 "nbformat": 4,
 "nbformat_minor": 5
}
