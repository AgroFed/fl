{
 "cells": [
  {
   "cell_type": "code",
   "execution_count": 69,
   "id": "4a189859",
   "metadata": {},
   "outputs": [
    {
     "name": "stdout",
     "output_type": "stream",
     "text": [
      "The autoreload extension is already loaded. To reload it, use:\n",
      "  %reload_ext autoreload\n"
     ]
    }
   ],
   "source": [
    "%load_ext autoreload\n",
    "%autoreload 2\n",
    "\n",
    "import asyncio, copy, os, socket, sys, time\n",
    "from functools import partial\n",
    "from multiprocessing import Pool, Process\n",
    "from pathlib import Path\n",
    "from tqdm import tqdm\n",
    "\n",
    "import torch\n",
    "from torch import optim\n",
    "\n",
    "import shap\n",
    "%matplotlib inline\n",
    "import matplotlib.pyplot as plt\n",
    "import numpy as np\n",
    "\n",
    "sys.path.insert(0, os.path.abspath(os.path.join(os.getcwd(), \"../../\")))\n",
    "from libs import agg, data, fl, log, nn, plot, poison, resnet, sim, wandb\n",
    "from cfgs.fedargs import *"
   ]
  },
  {
   "cell_type": "code",
   "execution_count": 70,
   "id": "3e7e0cae",
   "metadata": {},
   "outputs": [
    {
     "data": {
      "text/html": [
       "Finishing last run (ID:u8lcy347) before initializing another..."
      ],
      "text/plain": [
       "<IPython.core.display.HTML object>"
      ]
     },
     "metadata": {},
     "output_type": "display_data"
    },
    {
     "data": {
      "text/html": [
       "<br/>Waiting for W&B process to finish, PID 71952... <strong style=\"color:green\">(success).</strong>"
      ],
      "text/plain": [
       "<IPython.core.display.HTML object>"
      ]
     },
     "metadata": {},
     "output_type": "display_data"
    },
    {
     "data": {
      "application/vnd.jupyter.widget-view+json": {
       "model_id": "",
       "version_major": 2,
       "version_minor": 0
      },
      "text/plain": [
       "VBox(children=(Label(value=' 0.00MB of 0.00MB uploaded (0.00MB deduped)\\r'), FloatProgress(value=1.0, max=1.0)…"
      ]
     },
     "metadata": {},
     "output_type": "display_data"
    },
    {
     "data": {
      "text/html": [
       "<style>\n",
       "    table.wandb td:nth-child(1) { padding: 0 10px; text-align: right }\n",
       "    .wandb-row { display: flex; flex-direction: row; flex-wrap: wrap; width: 100% }\n",
       "    .wandb-col { display: flex; flex-direction: column; flex-basis: 100%; flex: 1; padding: 10px; }\n",
       "    </style>\n",
       "<div class=\"wandb-row\"><div class=\"wandb-col\">\n",
       "</div><div class=\"wandb-col\">\n",
       "</div></div>\n",
       "Synced 6 W&B file(s), 0 media file(s), 0 artifact file(s) and 0 other file(s)\n",
       "<br/>Synced <strong style=\"color:#cdcd00\">fedavg-cnn-mnist</strong>: <a href=\"https://wandb.ai/kasyah/fl-shap/runs/u8lcy347\" target=\"_blank\">https://wandb.ai/kasyah/fl-shap/runs/u8lcy347</a><br/>\n",
       "Find logs at: <code>/home/harsh_1921cs01/hub/AgroFed/fl/libs/../out/wandb/run-20220212_104804-u8lcy347/logs</code><br/>\n"
      ],
      "text/plain": [
       "<IPython.core.display.HTML object>"
      ]
     },
     "metadata": {},
     "output_type": "display_data"
    },
    {
     "data": {
      "text/html": [
       "Successfully finished last run (ID:u8lcy347). Initializing new run:<br/>"
      ],
      "text/plain": [
       "<IPython.core.display.HTML object>"
      ]
     },
     "metadata": {},
     "output_type": "display_data"
    },
    {
     "name": "stderr",
     "output_type": "stream",
     "text": [
      "\u001b[34m\u001b[1mwandb\u001b[0m: wandb version 0.12.10 is available!  To upgrade, please run:\n",
      "\u001b[34m\u001b[1mwandb\u001b[0m:  $ pip install wandb --upgrade\n"
     ]
    },
    {
     "data": {
      "text/html": [
       "\n",
       "                    Syncing run <strong><a href=\"https://wandb.ai/kasyah/fl-shap/runs/3c5y8sty\" target=\"_blank\">fedavg-cnn-mnist</a></strong> to <a href=\"https://wandb.ai/kasyah/fl-shap\" target=\"_blank\">Weights & Biases</a> (<a href=\"https://docs.wandb.com/integrations/jupyter.html\" target=\"_blank\">docs</a>).<br/>\n",
       "\n",
       "                "
      ],
      "text/plain": [
       "<IPython.core.display.HTML object>"
      ]
     },
     "metadata": {},
     "output_type": "display_data"
    }
   ],
   "source": [
    "project = 'fl-shap'\n",
    "name = 'fedavg-cnn-mnist'\n",
    "\n",
    "#Define Custom CFGs\n",
    "fedargs.num_clients = 10\n",
    "mal_clients = [c for c in range(5)]\n",
    "shap_explain[\"is\"] = True\n",
    "\n",
    "# Save Logs To File (info | debug | warning | error | critical) [optional]\n",
    "log.init(\"info\")\n",
    "wb = wandb.init(name, project)"
   ]
  },
  {
   "cell_type": "code",
   "execution_count": 71,
   "id": "2bb399c2",
   "metadata": {},
   "outputs": [],
   "source": [
    "# Device settings\n",
    "use_cuda = fedargs.cuda and torch.cuda.is_available()\n",
    "torch.manual_seed(fedargs.seed)\n",
    "device = torch.device(\"cuda\" if use_cuda else \"cpu\")\n",
    "kwargs = {\"num_workers\": 1, \"pin_memory\": True} if use_cuda else {}"
   ]
  },
  {
   "cell_type": "code",
   "execution_count": 72,
   "id": "76542fcf",
   "metadata": {},
   "outputs": [],
   "source": [
    "# Prepare clients\n",
    "host = socket.gethostname()\n",
    "clients = [host + \"(\" + str(client + 1) + \")\" for client in range(fedargs.num_clients)]"
   ]
  },
  {
   "cell_type": "code",
   "execution_count": 73,
   "id": "402306c0",
   "metadata": {},
   "outputs": [],
   "source": [
    "# Initialize Global and Client models\n",
    "global_model = copy.deepcopy(fedargs.model)\n",
    "# Load Data to clients\n",
    "train_data, test_data = data.load_dataset(fedargs.dataset, only_to_tensor = True)"
   ]
  },
  {
   "cell_type": "code",
   "execution_count": 74,
   "id": "80508740",
   "metadata": {},
   "outputs": [],
   "source": [
    "clients_data = data.split_data(train_data, clients)"
   ]
  },
  {
   "cell_type": "markdown",
   "id": "b8e0ae74",
   "metadata": {},
   "source": [
    "<h1>SHAP: Trim Data For Class Sniffing</h1>"
   ]
  },
  {
   "cell_type": "code",
   "execution_count": 75,
   "id": "ae6b4366",
   "metadata": {},
   "outputs": [],
   "source": [
    "if shap_explain[\"is\"]:\n",
    "    for client in mal_clients:\n",
    "        clients_data[clients[client]] = shap_explain[\"trim_data\"](clients_data[clients[client]], shap_explain[\"trim_labels\"])    "
   ]
  },
  {
   "cell_type": "code",
   "execution_count": 76,
   "id": "f21c1481",
   "metadata": {},
   "outputs": [],
   "source": [
    "client_train_loaders, _ = data.load_client_data(clients_data, fedargs.client_batch_size, None, **kwargs)\n",
    "test_loader = torch.utils.data.DataLoader(test_data, batch_size=fedargs.test_batch_size, shuffle=True, **kwargs)\n",
    "\n",
    "client_details = {\n",
    "        client: {\"train_loader\": client_train_loaders[client],\n",
    "                 \"model\": copy.deepcopy(global_model),\n",
    "                 \"model_update\": None}\n",
    "        for client in clients\n",
    "    }"
   ]
  },
  {
   "cell_type": "code",
   "execution_count": 77,
   "id": "af4f472f",
   "metadata": {},
   "outputs": [],
   "source": [
    "def background(f):\n",
    "    def wrapped(*args, **kwargs):\n",
    "        return asyncio.get_event_loop().run_in_executor(None, f, *args, **kwargs)\n",
    "\n",
    "    return wrapped\n",
    "\n",
    "@background\n",
    "def process(client, epoch, model, train_loader, fedargs, device):\n",
    "    # Train\n",
    "    model_update, model, loss = fedargs.train_func(model, train_loader, \n",
    "                                                   fedargs.learning_rate,\n",
    "                                                   fedargs.weight_decay,\n",
    "                                                   fedargs.local_rounds, device)\n",
    "\n",
    "    log.jsondebug(loss, \"Epoch {} of {} : Federated Training loss, Client {}\".format(epoch, fedargs.epochs, client))\n",
    "    log.modeldebug(model_update, \"Epoch {} of {} : Client {} Update\".format(epoch, fedargs.epochs, client))\n",
    "    \n",
    "    return model_update, model"
   ]
  },
  {
   "cell_type": "code",
   "execution_count": 78,
   "id": "b3f7f3fb",
   "metadata": {
    "scrolled": true
   },
   "outputs": [
    {
     "name": "stderr",
     "output_type": "stream",
     "text": [
      "  0%|          | 0/2 [00:00<?, ?it/s]2022-02-15 16:13:56,207 - <ipython-input-78-f5afd80b6914>::<module>(l:8) : Federated Training Epoch 0 of 2 [MainProcess : MainThread (INFO)]\n",
      " 50%|█████     | 1/2 [00:28<00:28, 28.05s/it]2022-02-15 16:14:24,263 - <ipython-input-78-f5afd80b6914>::<module>(l:8) : Federated Training Epoch 1 of 2 [MainProcess : MainThread (INFO)]\n",
      "100%|██████████| 2/2 [00:58<00:00, 29.30s/it]"
     ]
    },
    {
     "name": "stdout",
     "output_type": "stream",
     "text": [
      "58.60203671455383\n"
     ]
    },
    {
     "name": "stderr",
     "output_type": "stream",
     "text": [
      "\n"
     ]
    }
   ],
   "source": [
    "import time\n",
    "start_time = time.time()\n",
    "\n",
    "fedargs.epochs = 2\n",
    "    \n",
    "# Federated Training\n",
    "for epoch in tqdm(range(fedargs.epochs)):\n",
    "    log.info(\"Federated Training Epoch {} of {}\".format(epoch, fedargs.epochs))\n",
    "    '''\n",
    "    # Global Model Update\n",
    "    if epoch > 0:     \n",
    "        # Average\n",
    "        global_model = fl.federated_avg(client_model_updates, global_model)\n",
    "        log.modeldebug(global_model, \"Epoch {} of {} : Server Update\".format(epoch, fedargs.epochs))\n",
    "        \n",
    "        # Test and Log\n",
    "        global_test_output = fedargs.eval_func(global_model, test_loader, device)\n",
    "        wb.log({\"epoch\": epoch, \"time\": time.time(), \"acc\": global_test_output[\"accuracy\"], \"loss\": global_test_output[\"test_loss\"]})\n",
    "        log.jsoninfo(global_test_output, \"Global Test Outut after Epoch {} of {}\".format(epoch, fedargs.epochs))\n",
    "        \n",
    "        # Update client models\n",
    "        for client in clients:\n",
    "            client_details[client]['model'] = copy.deepcopy(global_model)\n",
    "    '''\n",
    "    # Clients\n",
    "    tasks = [process(client, epoch, client_details[client]['model'],\n",
    "                     client_details[client]['train_loader'],\n",
    "                     fedargs, device) for client in clients]\n",
    "    try:\n",
    "        updates = fedargs.loop.run_until_complete(asyncio.gather(*tasks))\n",
    "    except KeyboardInterrupt as e:\n",
    "        log.error(\"Caught keyboard interrupt. Canceling tasks...\")\n",
    "        tasks.cancel()\n",
    "        fedargs.loop.run_forever()\n",
    "        tasks.exception()\n",
    "\n",
    "    for client, (model_update, model) in zip(clients, updates):\n",
    "        client_details[client]['model_update'], client_details[client]['model'] = model_update, model\n",
    "    client_model_updates = {client: details[\"model_update\"] for client, details in client_details.items()}\n",
    "\n",
    "print(time.time() - start_time)"
   ]
  },
  {
   "cell_type": "markdown",
   "id": "54cbc867",
   "metadata": {},
   "source": [
    "<h1>SHAP Explain</h1>"
   ]
  },
  {
   "cell_type": "code",
   "execution_count": 79,
   "id": "851a17b5",
   "metadata": {},
   "outputs": [
    {
     "name": "stdout",
     "output_type": "stream",
     "text": [
      "bladecluster.iitp.org(1)\n",
      "{'test_loss': 2.0114392253875732, 'correct': 7134, 'accuracy': 71.34}\n"
     ]
    }
   ],
   "source": [
    "print(clients[0])\n",
    "print(fedargs.eval_func(client_details['bladecluster.iitp.org(1)']['model'], test_loader, device))"
   ]
  },
  {
   "cell_type": "code",
   "execution_count": 80,
   "id": "999a72bb",
   "metadata": {},
   "outputs": [],
   "source": [
    "batch = next(iter(test_loader))\n",
    "images, labels = batch\n",
    "baseline = images\n",
    "    \n",
    "explain1 = shap.DeepExplainer(client_details['bladecluster.iitp.org(1)']['model'], baseline)\n",
    "explain2 = shap.DeepExplainer(client_details['bladecluster.iitp.org(9)']['model'], baseline)\n",
    "explain3 = shap.DeepExplainer(global_model, baseline)\n",
    "#explain = shap.DeepExplainer(global_model, baseline)"
   ]
  },
  {
   "cell_type": "code",
   "execution_count": 81,
   "id": "2b04437e",
   "metadata": {},
   "outputs": [
    {
     "name": "stdout",
     "output_type": "stream",
     "text": [
      "tensor(1)\n",
      "tensor(4)\n"
     ]
    },
    {
     "data": {
      "image/png": "[encoded data removed]",
      "text/plain": [
       "<Figure size 432x288 with 1 Axes>"
      ]
     },
     "metadata": {
      "needs_background": "light"
     },
     "output_type": "display_data"
    }
   ],
   "source": [
    "label = -1\n",
    "while label != 4:\n",
    "    batch = next(iter(test_loader))\n",
    "    images, labels = batch\n",
    "    g_img, label = images[0], labels[0]\n",
    "    plt.imshow(g_img.numpy().squeeze())\n",
    "    print(label)"
   ]
  },
  {
   "cell_type": "code",
   "execution_count": 82,
   "id": "58a28d3a",
   "metadata": {},
   "outputs": [
    {
     "data": {
      "text/plain": [
       "<matplotlib.image.AxesImage at 0x7fa20bf6dca0>"
      ]
     },
     "execution_count": 82,
     "metadata": {},
     "output_type": "execute_result"
    },
    {
     "data": {
      "image/png": "[encoded data removed]",
      "text/plain": [
       "<Figure size 432x288 with 1 Axes>"
      ]
     },
     "metadata": {
      "needs_background": "light"
     },
     "output_type": "display_data"
    }
   ],
   "source": [
    "z_img = torch.tensor([[0.0 for col in range(28)] for row in range(28)])\n",
    "z_img = z_img.reshape(1,28,28)\n",
    "plt.imshow(z_img.numpy().squeeze())"
   ]
  },
  {
   "cell_type": "code",
   "execution_count": 83,
   "id": "9b44c0a7",
   "metadata": {},
   "outputs": [],
   "source": [
    "def shap_plot(explain, img):\n",
    "    #shap_image = g_img.unsqueeze(0)\n",
    "    shap_values = explain.shap_values(img.unsqueeze(0))\n",
    "    \n",
    "    shap_tensor = torch.tensor(shap_values)\n",
    "    shap_lists = []\n",
    "    for i in range(10):\n",
    "        lsum = 0\n",
    "        lst = shap_tensor[i].squeeze(0).squeeze(0).view(784).tolist()\n",
    "        shap_lists.append(lst)\n",
    "        for l in lst:\n",
    "            if l > 0:\n",
    "                lsum += abs(l)\n",
    "        print ('shap_sum', lsum)\n",
    "    \n",
    "    shap_numpy = [np.swapaxes(np.swapaxes(s, 1, -1), 1, 2) for s in shap_values]\n",
    "    test_numpy = np.swapaxes(np.swapaxes(img.unsqueeze(0).numpy(), 1, -1), 1, 2)\n",
    "    shap.image_plot(shap_numpy, -test_numpy, None, 20, 0.2, 0.2, None, False)\n",
    "    #shap.image_plot(shap_values, -shap_image)"
   ]
  },
  {
   "cell_type": "code",
   "execution_count": 84,
   "id": "e00f8e80",
   "metadata": {},
   "outputs": [
    {
     "data": {
      "image/png": "[encoded data removed]",
      "text/plain": [
       "<Figure size 432x648 with 2 Axes>"
      ]
     },
     "metadata": {
      "needs_background": "light"
     },
     "output_type": "display_data"
    }
   ],
   "source": [
    "from torch.nn import functional as F\n",
    "\n",
    "def view_classify(img, ps, version=\"MNIST\"):\n",
    "    ps = ps.data.numpy().squeeze()    \n",
    "    fig, (ax1, ax2) = plt.subplots(figsize=(6,9), ncols=2)\n",
    "    ax1.imshow(img.resize_(1, 28, 28).numpy().squeeze())\n",
    "    ax1.axis('off')\n",
    "    ax2.barh(np.arange(10), ps)\n",
    "    ax2.set_aspect(0.1)\n",
    "    ax2.set_yticks(np.arange(10))\n",
    "    if version == \"MNIST\":\n",
    "        ax2.set_yticklabels(np.arange(10))\n",
    "    ax2.set_title('Class Probability')\n",
    "    ax2.set_xlim(0, 1.1)\n",
    "\n",
    "    \n",
    "model = client_details['bladecluster.iitp.org(5)']['model']\n",
    "with torch.no_grad():\n",
    "    logits = model.forward(g_img.unsqueeze(0).float())\n",
    "\n",
    "ps = F.softmax(logits, dim=1)\n",
    "_, label = torch.max(ps, 1)\n",
    "view_classify(g_img, ps)"
   ]
  },
  {
   "cell_type": "code",
   "execution_count": 85,
   "id": "95611cd7",
   "metadata": {},
   "outputs": [
    {
     "name": "stdout",
     "output_type": "stream",
     "text": [
      "shap_sum 0.0034583163732245376\n",
      "shap_sum 0.021520737399016776\n",
      "shap_sum 0.020846803907918154\n",
      "shap_sum 0.11223088075085563\n",
      "shap_sum 0.00015201218977710157\n",
      "shap_sum 1.0503460951538468\n",
      "shap_sum 0.052379383419834\n",
      "shap_sum 0.08036416203208718\n",
      "shap_sum 0.10314427956762962\n",
      "shap_sum 0.7246992177733205\n"
     ]
    },
    {
     "data": {
      "image/png": "[encoded data removed]",
      "text/plain": [
       "<Figure size 1440x218.182 with 12 Axes>"
      ]
     },
     "metadata": {
      "needs_background": "light"
     },
     "output_type": "display_data"
    }
   ],
   "source": [
    "shap_plot(explain1, g_img)"
   ]
  },
  {
   "cell_type": "code",
   "execution_count": 86,
   "id": "000b649d",
   "metadata": {},
   "outputs": [
    {
     "name": "stdout",
     "output_type": "stream",
     "text": [
      "shap_sum 0.0330410104165067\n",
      "shap_sum 0.004733292854710185\n",
      "shap_sum 0.012496377775286283\n",
      "shap_sum 0.034696748882316095\n",
      "shap_sum 0.6907656072908139\n",
      "shap_sum 0.21658425727661257\n",
      "shap_sum 0.06248333744809531\n",
      "shap_sum 0.05777881287556219\n",
      "shap_sum 0.029881386392907106\n",
      "shap_sum 3.454227045598481\n"
     ]
    },
    {
     "data": {
      "image/png": "[encoded data removed]",
      "text/plain": [
       "<Figure size 1440x218.182 with 12 Axes>"
      ]
     },
     "metadata": {
      "needs_background": "light"
     },
     "output_type": "display_data"
    }
   ],
   "source": [
    "shap_plot(explain2, g_img)"
   ]
  },
  {
   "cell_type": "code",
   "execution_count": 87,
   "id": "beec2330",
   "metadata": {},
   "outputs": [
    {
     "name": "stdout",
     "output_type": "stream",
     "text": [
      "shap_sum 0.03287667839154906\n",
      "shap_sum 0.5665607875992009\n",
      "shap_sum 0.3029916374489723\n",
      "shap_sum 0.1324204935340525\n",
      "shap_sum 0.00990878177192328\n",
      "shap_sum 0.08964821561944802\n",
      "shap_sum 0.8143943597494712\n",
      "shap_sum 0.6063034225673931\n",
      "shap_sum 0.01958037566717491\n",
      "shap_sum 0.044668953742899475\n"
     ]
    },
    {
     "data": {
      "image/png": "[encoded data removed]",
      "text/plain": [
       "<Figure size 1440x218.182 with 12 Axes>"
      ]
     },
     "metadata": {
      "needs_background": "light"
     },
     "output_type": "display_data"
    }
   ],
   "source": [
    "shap_plot(explain1, z_img)"
   ]
  },
  {
   "cell_type": "code",
   "execution_count": 88,
   "id": "63c9fca7",
   "metadata": {},
   "outputs": [
    {
     "name": "stdout",
     "output_type": "stream",
     "text": [
      "shap_sum 0.2842002410532132\n",
      "shap_sum 0.3949077267392308\n",
      "shap_sum 0.6074973357108213\n",
      "shap_sum 0.025772794552567646\n",
      "shap_sum 0.19913673857232084\n",
      "shap_sum 0.16582385444499437\n",
      "shap_sum 0.8955887741924116\n",
      "shap_sum 0.3168670439964991\n",
      "shap_sum 0.02448179289548405\n",
      "shap_sum 0.32811190652228994\n"
     ]
    },
    {
     "data": {
      "image/png": "[encoded data removed]",
      "text/plain": [
       "<Figure size 1440x218.182 with 12 Axes>"
      ]
     },
     "metadata": {
      "needs_background": "light"
     },
     "output_type": "display_data"
    }
   ],
   "source": [
    "shap_plot(explain2, z_img)"
   ]
  },
  {
   "cell_type": "markdown",
   "id": "37b2d6a9",
   "metadata": {
    "deletable": false,
    "editable": false
   },
   "source": [
    "<h1> End </h1>"
   ]
  }
 ],
 "metadata": {
  "kernelspec": {
   "display_name": "Python [conda env:syft]",
   "language": "python",
   "name": "conda-env-syft-py"
  },
  "language_info": {
   "codemirror_mode": {
    "name": "ipython",
    "version": 3
   },
   "file_extension": ".py",
   "mimetype": "text/x-python",
   "name": "python",
   "nbconvert_exporter": "python",
   "pygments_lexer": "ipython3",
   "version": "3.9.5"
  }
 },
 "nbformat": 4,
 "nbformat_minor": 5
}
