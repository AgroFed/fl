{
 "cells": [
  {
   "cell_type": "code",
   "execution_count": 17,
   "id": "70a77f9c",
   "metadata": {},
   "outputs": [],
   "source": [
    "import os, sys\n",
    "import copy\n",
    "import socket\n",
    "import torch\n",
    "import pickle\n",
    "from torch import optim\n",
    "from torch.utils.tensorboard import SummaryWriter\n",
    "\n",
    "#!pip install networkx matplotlib\n",
    "import networkx as nx\n",
    "import numpy as np\n",
    "import matplotlib.pyplot as plt\n",
    "\n",
    "import sys, os\n",
    "sys.path.insert(0, os.path.abspath(os.path.join(os.getcwd(), \"../\")))\n",
    "from libs.topology_manager import *\n",
    "from libs import fl, nn, data, log"
   ]
  },
  {
   "cell_type": "code",
   "execution_count": 18,
   "id": "8c9749cd",
   "metadata": {},
   "outputs": [],
   "source": [
    "# Save Logs To File (info | debug | warning | error | critical) [optional]\n",
    "log.init(\"info\")\n",
    "#log.init(\"info\", \"federated.log\")\n",
    "#log.init(\"debug\", \"flkafka.log\")"
   ]
  },
  {
   "cell_type": "code",
   "execution_count": 19,
   "id": "76f22545",
   "metadata": {},
   "outputs": [
    {
     "data": {
      "image/png": "[encoded data removed]",
      "text/plain": [
       "<Figure size 432x288 with 1 Axes>"
      ]
     },
     "metadata": {},
     "output_type": "display_data"
    }
   ],
   "source": [
    "adj_mat = np.array([[0,1,1,1,1,1],\n",
    "             [1,0,0,0,0,0],\n",
    "             [1,0,0,0,0,0],\n",
    "             [1,0,0,0,0,0],\n",
    "             [1,0,0,0,0,0], \n",
    "             [1,0,0,0,0,0]])\n",
    "\n",
    "node_type = {'aggregator': [0,1], 'trainer': [2,3], 'broadcaster': [4,5]}\n",
    "\n",
    "di_graph = nx.DiGraph(adj_mat)\n",
    "nx.draw(di_graph)"
   ]
  },
  {
   "cell_type": "code",
   "execution_count": 20,
   "id": "ea0623fc",
   "metadata": {},
   "outputs": [],
   "source": [
    "class FedArgs():\n",
    "    def __init__(self):\n",
    "        self.num_clients = len(adj_mat)\n",
    "        self.epochs = 5\n",
    "        self.local_rounds = 1\n",
    "        self.client_batch_size = 32\n",
    "        self.test_batch_size = 128\n",
    "        self.learning_rate = 1e-4\n",
    "        self.weight_decay = 1e-5\n",
    "        self.cuda = False\n",
    "        self.seed = 1\n",
    "        self.topic = 'pyflx'\n",
    "        self.tb = SummaryWriter('../out/runs/centralized', comment=\"Mnist Centralized Federated training\")\n",
    "\n",
    "fedargs = FedArgs()"
   ]
  },
  {
   "cell_type": "code",
   "execution_count": 21,
   "id": "6a3022ee",
   "metadata": {},
   "outputs": [],
   "source": [
    "use_cuda = fedargs.cuda and torch.cuda.is_available()\n",
    "torch.manual_seed(fedargs.seed)\n",
    "device = torch.device(\"cuda\" if use_cuda else \"cpu\")\n",
    "kwargs = {\"num_workers\": 1, \"pin_memory\": True} if use_cuda else {}"
   ]
  },
  {
   "cell_type": "code",
   "execution_count": 22,
   "id": "3e8de969",
   "metadata": {},
   "outputs": [],
   "source": [
    "host = socket.gethostname()\n",
    "clients = [host + \"(\" + str(client + 1) + \")\" for client in range(fedargs.num_clients)]\n",
    "ctp = CentralizedTopology(adj_mat, clients, node_type)"
   ]
  },
  {
   "cell_type": "code",
   "execution_count": 23,
   "id": "b7283a3b",
   "metadata": {},
   "outputs": [],
   "source": [
    "# Load MNIST Data to clients\n",
    "train_data, test_data = data.load_mnist_dataset()\n",
    "clients_data = data.split_data(train_data, clients)\n",
    "client_loaders, test_loader = data.load_client_data(clients_data, fedargs.client_batch_size, test_data, fedargs.test_batch_size, **kwargs)\n",
    "\n",
    "# Load preliminary models\n",
    "# if want to do random initialization, replace copy.deepcopy(global_model) with nn.ModelMNIST() and vice versa\n",
    "global_model = nn.ModelMNIST().to(device)\n",
    "clients_info = {\n",
    "        client: { \"model\": nn.ModelMNIST().to(device), \"loss\": {}, \"data_loader\": client_loaders[client]}\n",
    "        for client in clients\n",
    "    }"
   ]
  },
  {
   "cell_type": "code",
   "execution_count": null,
   "id": "fc40c00d",
   "metadata": {},
   "outputs": [
    {
     "name": "stderr",
     "output_type": "stream",
     "text": [
      "2021-07-27 11:37:20,979 - <ipython-input-26-21a35de58427>::<module>(l:5) : Federated Training Epoch 1 of 5\n",
      "2021-07-27 11:37:23,016 - <ipython-input-26-21a35de58427>::<module>(l:12) : Client bladecluster.iitp.org(1) received 0 model updates\n",
      "2021-07-27 11:37:25,121 - <ipython-input-26-21a35de58427>::<module>(l:12) : Client bladecluster.iitp.org(2) received 0 model updates\n",
      "2021-07-27 11:37:27,222 - <ipython-input-26-21a35de58427>::<module>(l:12) : Client bladecluster.iitp.org(3) received 0 model updates\n",
      "2021-07-27 11:37:29,323 - <ipython-input-26-21a35de58427>::<module>(l:12) : Client bladecluster.iitp.org(4) received 0 model updates\n",
      "2021-07-27 11:37:31,423 - <ipython-input-26-21a35de58427>::<module>(l:12) : Client bladecluster.iitp.org(5) received 0 model updates\n",
      "2021-07-27 11:37:33,530 - <ipython-input-26-21a35de58427>::<module>(l:12) : Client bladecluster.iitp.org(6) received 0 model updates\n",
      "2021-07-27 11:37:54,010 - /home/harsh_1921cs01/hub/X-PyFLX/libs/protobuf_producer.py::produce(l:56) : Producing user records to topic pyflx. ^C to exit.\n",
      "2021-07-27 11:37:54,208 - /home/harsh_1921cs01/hub/X-PyFLX/libs/protobuf_producer.py::produce(l:66) : Flushing records...\n",
      "2021-07-27 11:37:55,090 - /home/harsh_1921cs01/hub/X-PyFLX/libs/protobuf_producer.py::delivery_report(l:50) : User record b'bladecluster.iitp.org(1)' successfully produced to pyflx [0] at offset 69\n",
      "2021-07-27 11:38:15,619 - /home/harsh_1921cs01/hub/X-PyFLX/libs/protobuf_producer.py::produce(l:56) : Producing user records to topic pyflx. ^C to exit.\n",
      "2021-07-27 11:38:15,803 - /home/harsh_1921cs01/hub/X-PyFLX/libs/protobuf_producer.py::produce(l:66) : Flushing records...\n",
      "2021-07-27 11:38:16,683 - /home/harsh_1921cs01/hub/X-PyFLX/libs/protobuf_producer.py::delivery_report(l:50) : User record b'bladecluster.iitp.org(2)' successfully produced to pyflx [0] at offset 70\n"
     ]
    }
   ],
   "source": [
    "# Federated Training\n",
    "for _epoch in range(fedargs.epochs):\n",
    "\n",
    "    epoch = _epoch + 1\n",
    "    log.info(\"Federated Training Epoch {} of {}\".format(epoch, fedargs.epochs))\n",
    "    \n",
    "    # Average\n",
    "    for client in clients:\n",
    "        # @todo wont'work, untill topology manager gets updated\n",
    "        rcvd_models = ctp.get_rcvd_models(client)\n",
    "        log.info(\"Client {} received {} model updates\".format(client, len(rcvd_models)))\n",
    "        if len(rcvd_models) != 0:\n",
    "            clients_info[client]['model'] = fl.federated_avg(rcvd_models)\n",
    "            \n",
    "    # Erase flush models\n",
    "    ctp.flush_models()\n",
    "    \n",
    "    # Train\n",
    "    for client in clients:\n",
    "        clients_info[client]['model'], clients_info[client]['loss'] = fl.client_update(clients_info[client]['model'],\n",
    "                                                                                clients_info[client]['data_loader'],     \n",
    "                                                                                fedargs.learning_rate,\n",
    "                                                                                fedargs.weight_decay,\n",
    "                                                                                fedargs.local_rounds,\n",
    "                                                                                device)\n",
    "        # Broadcast\n",
    "        # @todo wont'work, untill topology manager gets updated\n",
    "        ctp.broadcast(client, client_models[str_client])\n",
    "\n",
    "        for local_epoch, loss in enumerate(list(clients_info[client]['loss'].values())):\n",
    "            fedargs.tb.add_scalars(\"Training Loss/\" + client, \n",
    "                                   {str(epoch): loss}, \n",
    "                                   str(local_epoch + 1))\n",
    "\n",
    "        log.jsondebug(clients_info[client]['loss'],\n",
    "                     \"Epoch {} of {} : Federated Training loss, Client {}\".format(epoch, \n",
    "                                                                          fedargs.epochs, \n",
    "                                                                          client))\n",
    "        log.modeldebug(clients_info[client]['model'],\n",
    "                       \"Epoch {} of {} : Client {} Update\".format(epoch, \n",
    "                                                                  fedargs.epochs, \n",
    "                                                                  client))\n",
    "\n",
    "    # Test Output for every node\n",
    "    for client in clients:\n",
    "        test_output = fl.eval(clients_info[client]['model'], test_loader, device)\n",
    "\n",
    "        fedargs.tb.add_scalar(\"Test Loss/\" + client, \n",
    "                              test_output[\"accuracy\"], \n",
    "                              epoch)\n",
    "\n",
    "        log.jsoninfo(test_output, \n",
    "                     \"Test Outut after Epoch {} of {} for Client {}\".format(epoch,\n",
    "                                                                            fedargs.epochs,\n",
    "                                                                            client))"
   ]
  },
  {
   "cell_type": "code",
   "execution_count": null,
   "id": "ea863d7f",
   "metadata": {},
   "outputs": [],
   "source": []
  }
 ],
 "metadata": {
  "kernelspec": {
   "display_name": "Python [conda env:syft]",
   "language": "python",
   "name": "conda-env-syft-py"
  },
  "language_info": {
   "codemirror_mode": {
    "name": "ipython",
    "version": 3
   },
   "file_extension": ".py",
   "mimetype": "text/x-python",
   "name": "python",
   "nbconvert_exporter": "python",
   "pygments_lexer": "ipython3",
   "version": "3.9.5"
  }
 },
 "nbformat": 4,
 "nbformat_minor": 5
}
