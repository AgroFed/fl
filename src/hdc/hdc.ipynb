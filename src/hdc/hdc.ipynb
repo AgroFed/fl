{
 "cells": [
  {
   "cell_type": "code",
   "execution_count": 11,
   "id": "46de111e",
   "metadata": {},
   "outputs": [
    {
     "name": "stdout",
     "output_type": "stream",
     "text": [
      "The autoreload extension is already loaded. To reload it, use:\n",
      "  %reload_ext autoreload\n"
     ]
    }
   ],
   "source": [
    "%load_ext autoreload\n",
    "%autoreload 2\n",
    "\n",
    "import asyncio, copy, os, socket, sys, time\n",
    "from functools import partial\n",
    "from multiprocessing import Pool, Process\n",
    "from pathlib import Path\n",
    "from tqdm import tqdm\n",
    "\n",
    "import torch\n",
    "from torch import optim\n",
    "from torch.utils.tensorboard import SummaryWriter\n",
    "\n",
    "sys.path.insert(0, os.path.abspath(os.path.join(os.getcwd(), \"../../\")))\n",
    "from libs import agg, data, fl, hdc, log, nn, plot, poison, resnet, sim, wandb\n",
    "from libs.distributed import *\n",
    "from cfgs.fedargs import *"
   ]
  },
  {
   "cell_type": "code",
   "execution_count": 12,
   "id": "dc035659",
   "metadata": {},
   "outputs": [
    {
     "data": {
      "text/html": [
       "Finishing last run (ID:3eu66ug1) before initializing another..."
      ],
      "text/plain": [
       "<IPython.core.display.HTML object>"
      ]
     },
     "metadata": {},
     "output_type": "display_data"
    },
    {
     "data": {
      "text/html": [
       "<br/>Waiting for W&B process to finish, PID 157468... <strong style=\"color:green\">(success).</strong>"
      ],
      "text/plain": [
       "<IPython.core.display.HTML object>"
      ]
     },
     "metadata": {},
     "output_type": "display_data"
    },
    {
     "data": {
      "application/vnd.jupyter.widget-view+json": {
       "model_id": "",
       "version_major": 2,
       "version_minor": 0
      },
      "text/plain": [
       "VBox(children=(Label(value=' 0.00MB of 0.00MB uploaded (0.00MB deduped)\\r'), FloatProgress(value=1.0, max=1.0)…"
      ]
     },
     "metadata": {},
     "output_type": "display_data"
    },
    {
     "data": {
      "text/html": [
       "<style>\n",
       "    table.wandb td:nth-child(1) { padding: 0 10px; text-align: right }\n",
       "    .wandb-row { display: flex; flex-direction: row; flex-wrap: wrap; width: 100% }\n",
       "    .wandb-col { display: flex; flex-direction: column; flex-basis: 100%; flex: 1; padding: 10px; }\n",
       "    </style>\n",
       "<div class=\"wandb-row\"><div class=\"wandb-col\">\n",
       "</div><div class=\"wandb-col\">\n",
       "</div></div>\n",
       "Synced 6 W&B file(s), 0 media file(s), 0 artifact file(s) and 0 other file(s)\n",
       "<br/>Synced <strong style=\"color:#cdcd00\">mnist</strong>: <a href=\"https://wandb.ai/kasyah/fl-hdc/runs/3eu66ug1\" target=\"_blank\">https://wandb.ai/kasyah/fl-hdc/runs/3eu66ug1</a><br/>\n",
       "Find logs at: <code>/home/harsh_1921cs01/hub/AgroFed/main/fl/libs/../out/wandb/run-20220530_122239-3eu66ug1/logs</code><br/>\n"
      ],
      "text/plain": [
       "<IPython.core.display.HTML object>"
      ]
     },
     "metadata": {},
     "output_type": "display_data"
    },
    {
     "data": {
      "text/html": [
       "Successfully finished last run (ID:3eu66ug1). Initializing new run:<br/>"
      ],
      "text/plain": [
       "<IPython.core.display.HTML object>"
      ]
     },
     "metadata": {},
     "output_type": "display_data"
    },
    {
     "name": "stderr",
     "output_type": "stream",
     "text": [
      "\u001b[34m\u001b[1mwandb\u001b[0m: wandb version 0.12.17 is available!  To upgrade, please run:\n",
      "\u001b[34m\u001b[1mwandb\u001b[0m:  $ pip install wandb --upgrade\n"
     ]
    },
    {
     "data": {
      "text/html": [
       "\n",
       "                    Syncing run <strong><a href=\"https://wandb.ai/kasyah/fl-hdc/runs/3hz9brjj\" target=\"_blank\">mnist</a></strong> to <a href=\"https://wandb.ai/kasyah/fl-hdc\" target=\"_blank\">Weights & Biases</a> (<a href=\"https://docs.wandb.com/integrations/jupyter.html\" target=\"_blank\">docs</a>).<br/>\n",
       "\n",
       "                "
      ],
      "text/plain": [
       "<IPython.core.display.HTML object>"
      ]
     },
     "metadata": {},
     "output_type": "display_data"
    }
   ],
   "source": [
    "project = 'fl-hdc'\n",
    "name = 'mnist'\n",
    "\n",
    "#Define Custom CFGs\n",
    "fedargs.epochs = 2\n",
    "fedargs.dataset = 'fmnist'\n",
    "fedargs.one_d_len = 784\n",
    "\n",
    "# Save Logs To File (info | debug | warning | error | critical) [optional]\n",
    "log.init(\"info\")\n",
    "wb = wandb.init(name, project)"
   ]
  },
  {
   "cell_type": "code",
   "execution_count": 13,
   "id": "547560db",
   "metadata": {},
   "outputs": [],
   "source": [
    "use_cuda = fedargs.cuda and torch.cuda.is_available()\n",
    "torch.manual_seed(fedargs.seed)\n",
    "device = torch.device(\"cuda\" if use_cuda else \"cpu\")\n",
    "kwargs = {\"num_workers\": 1, \"pin_memory\": True} if use_cuda else {}"
   ]
  },
  {
   "cell_type": "code",
   "execution_count": 14,
   "id": "633631c4",
   "metadata": {},
   "outputs": [],
   "source": [
    "# Initialize Global and Client models\n",
    "fedargs.model = hdc.HDC(fedargs.one_d_len, fedargs.hdc_proj_len, len(fedargs.labels), device)\n",
    "hdc_model = copy.deepcopy(fedargs.model)\n",
    "# Load Data to clients\n",
    "train_data, test_data = data.load_dataset(fedargs.dataset, only_to_tensor = True)\n",
    "train_data = data.random_split(train_data, 0.5)[0]\n",
    "train_data = data.random_split(train_data, 0.5)[0]\n",
    "train_data = data.random_split(train_data, 0.5)[0]"
   ]
  },
  {
   "cell_type": "code",
   "execution_count": 15,
   "id": "8f964ddf",
   "metadata": {},
   "outputs": [],
   "source": [
    "train_loader = torch.utils.data.DataLoader(train_data, batch_size=len(train_data), shuffle=True, num_workers=4, pin_memory=True)\n",
    "test_loader = torch.utils.data.DataLoader(test_data, batch_size=len(test_data), shuffle=True, num_workers=4, pin_memory=True)"
   ]
  },
  {
   "cell_type": "code",
   "execution_count": 16,
   "id": "f81fabd3",
   "metadata": {},
   "outputs": [
    {
     "name": "stderr",
     "output_type": "stream",
     "text": [
      "2022-05-30 12:24:33,703 - <timed exec>::<module>(l:2) : \n",
      "              precision    recall  f1-score   support\n",
      "\n",
      "           0       0.70      0.80      0.74       787\n",
      "           1       0.98      0.91      0.94       791\n",
      "           2       0.55      0.63      0.59       770\n",
      "           3       0.69      0.84      0.76       724\n",
      "           4       0.51      0.52      0.52       747\n",
      "           5       0.51      0.22      0.31       745\n",
      "           6       0.39      0.25      0.30       738\n",
      "           7       0.63      0.84      0.72       714\n",
      "           8       0.92      0.83      0.87       712\n",
      "           9       0.68      0.84      0.75       772\n",
      "\n",
      "    accuracy                           0.67      7500\n",
      "   macro avg       0.66      0.67      0.65      7500\n",
      "weighted avg       0.66      0.67      0.65      7500\n",
      " [MainProcess : MainThread (INFO)]\n"
     ]
    },
    {
     "name": "stdout",
     "output_type": "stream",
     "text": [
      "CPU times: user 18.3 s, sys: 17 s, total: 35.4 s\n",
      "Wall time: 3.47 s\n"
     ]
    }
   ],
   "source": [
    "%%time\n",
    "train_report = hdc_model.train(train_loader, device)\n",
    "log.info(\"\\n\"+train_report)"
   ]
  },
  {
   "cell_type": "code",
   "execution_count": 17,
   "id": "6630d155",
   "metadata": {},
   "outputs": [
    {
     "name": "stderr",
     "output_type": "stream",
     "text": [
      "2022-05-30 12:24:36,488 - <timed exec>::<module>(l:2) : \n",
      "              precision    recall  f1-score   support\n",
      "\n",
      "           0       0.67      0.77      0.72      1000\n",
      "           1       0.99      0.86      0.92      1000\n",
      "           2       0.53      0.61      0.57      1000\n",
      "           3       0.70      0.82      0.76      1000\n",
      "           4       0.50      0.51      0.50      1000\n",
      "           5       0.50      0.21      0.30      1000\n",
      "           6       0.35      0.23      0.28      1000\n",
      "           7       0.66      0.87      0.75      1000\n",
      "           8       0.89      0.84      0.87      1000\n",
      "           9       0.67      0.85      0.75      1000\n",
      "\n",
      "    accuracy                           0.66     10000\n",
      "   macro avg       0.65      0.66      0.64     10000\n",
      "weighted avg       0.65      0.66      0.64     10000\n",
      " [MainProcess : MainThread (INFO)]\n"
     ]
    },
    {
     "name": "stdout",
     "output_type": "stream",
     "text": [
      "CPU times: user 20.3 s, sys: 17.9 s, total: 38.2 s\n",
      "Wall time: 2.74 s\n"
     ]
    }
   ],
   "source": [
    "%%time\n",
    "test_report = hdc_model.test(test_loader, device)\n",
    "log.info(\"\\n\"+test_report)"
   ]
  },
  {
   "cell_type": "code",
   "execution_count": 20,
   "id": "55abd9bd",
   "metadata": {},
   "outputs": [
    {
     "name": "stdout",
     "output_type": "stream",
     "text": [
      "tensor([[0.9999, 0.9997, 0.9999,  ..., 0.9996, 0.9999, 0.9998],\n",
      "        [0.9992, 0.9990, 0.9993,  ..., 0.9996, 0.9995, 0.9995],\n",
      "        [0.9998, 0.9998, 0.9998,  ..., 0.9994, 0.9997, 0.9996],\n",
      "        ...,\n",
      "        [0.9992, 0.9990, 0.9993,  ..., 0.9993, 0.9994, 0.9995],\n",
      "        [0.9999, 0.9999, 0.9999,  ..., 0.9995, 0.9998, 0.9996],\n",
      "        [0.9995, 0.9993, 0.9995,  ..., 0.9991, 0.9995, 0.9994]])\n",
      "[tensor([0.]), tensor([0.]), tensor([0.]), tensor([0.]), tensor([0.]), tensor([0.]), tensor([0.]), tensor([0.]), tensor([0.]), tensor([0.])]\n",
      "[tensor([0.9998]), tensor([0.9999]), tensor([0.9997]), tensor([0.9999]), tensor([0.9998]), tensor([0.9994]), tensor([0.9997]), tensor([0.9993]), tensor([0.9996]), tensor([0.9995])]\n",
      "[tensor([0.9999]), tensor([0.9997]), tensor([1.0000]), tensor([0.9999]), tensor([1.0000]), tensor([0.9998]), tensor([1.0000]), tensor([0.9996]), tensor([0.9999]), tensor([0.9998])]\n",
      "[tensor([0.9999]), tensor([0.9999]), tensor([0.9999]), tensor([1.0000]), tensor([0.9999]), tensor([0.9996]), tensor([0.9999]), tensor([0.9995]), tensor([0.9998]), tensor([0.9997])]\n",
      "[tensor([0.9999]), tensor([0.9998]), tensor([0.9999]), tensor([0.9999]), tensor([1.0000]), tensor([0.9998]), tensor([0.9999]), tensor([0.9997]), tensor([0.9999]), tensor([0.9998])]\n",
      "[tensor([0.]), tensor([0.]), tensor([0.]), tensor([0.]), tensor([0.]), tensor([0.]), tensor([0.]), tensor([0.]), tensor([0.]), tensor([0.])]\n",
      "[tensor([1.0000]), tensor([0.9998]), tensor([1.0000]), tensor([0.9999]), tensor([1.0000]), tensor([0.9998]), tensor([1.0000]), tensor([0.9996]), tensor([0.9999]), tensor([0.9998])]\n",
      "[tensor([0.]), tensor([0.]), tensor([0.]), tensor([0.]), tensor([0.]), tensor([0.]), tensor([0.]), tensor([0.]), tensor([0.]), tensor([0.])]\n",
      "[tensor([0.9999]), tensor([0.9997]), tensor([1.0000]), tensor([0.9998]), tensor([1.0000]), tensor([0.9999]), tensor([1.0000]), tensor([0.9997]), tensor([1.0000]), tensor([0.9999])]\n",
      "[tensor([0.]), tensor([0.]), tensor([0.]), tensor([0.]), tensor([0.]), tensor([0.]), tensor([0.]), tensor([0.]), tensor([0.]), tensor([0.])]\n",
      "[tensor([0.9999]), tensor([0.9999]), tensor([0.9999]), tensor([0.9999]), tensor([0.9999]), tensor([0.9996]), tensor([0.9999]), tensor([0.9995]), tensor([0.9998]), tensor([0.9996])]\n",
      "[tensor([0.]), tensor([0.]), tensor([0.]), tensor([0.]), tensor([0.]), tensor([0.]), tensor([0.]), tensor([0.]), tensor([0.]), tensor([0.])]\n",
      "[tensor([0.9999]), tensor([0.9998]), tensor([1.0000]), tensor([0.9998]), tensor([1.0000]), tensor([0.9998]), tensor([1.0000]), tensor([0.9996]), tensor([0.9999]), tensor([0.9998])]\n",
      "[tensor([0.9999]), tensor([0.9999]), tensor([0.9998]), tensor([1.0000]), tensor([0.9998]), tensor([0.9996]), tensor([0.9998]), tensor([0.9994]), tensor([0.9997]), tensor([0.9996])]\n",
      "[tensor([0.]), tensor([0.]), tensor([0.]), tensor([0.]), tensor([0.]), tensor([0.]), tensor([0.]), tensor([0.]), tensor([0.]), tensor([0.])]\n",
      "[tensor([0.]), tensor([0.]), tensor([0.]), tensor([0.]), tensor([0.]), tensor([0.]), tensor([0.]), tensor([0.]), tensor([0.]), tensor([0.])]\n",
      "[tensor([0.9999]), tensor([0.9998]), tensor([0.9999]), tensor([0.9999]), tensor([0.9999]), tensor([0.9997]), tensor([0.9999]), tensor([0.9995]), tensor([0.9999]), tensor([0.9997])]\n",
      "[tensor([0.]), tensor([0.]), tensor([0.]), tensor([0.]), tensor([0.]), tensor([0.]), tensor([0.]), tensor([0.]), tensor([0.]), tensor([0.])]\n",
      "[tensor([0.]), tensor([0.]), tensor([0.]), tensor([0.]), tensor([0.]), tensor([0.]), tensor([0.]), tensor([0.]), tensor([0.]), tensor([0.])]\n",
      "[tensor([0.]), tensor([0.]), tensor([0.]), tensor([0.]), tensor([0.]), tensor([0.]), tensor([0.]), tensor([0.]), tensor([0.]), tensor([0.])]\n",
      "[tensor([1.0000]), tensor([0.9998]), tensor([1.0000]), tensor([0.9999]), tensor([1.0000]), tensor([0.9998]), tensor([1.0000]), tensor([0.9996]), tensor([0.9999]), tensor([0.9998])]\n",
      "[tensor([0.9997]), tensor([0.9998]), tensor([0.9997]), tensor([0.9997]), tensor([0.9997]), tensor([0.9993]), tensor([0.9997]), tensor([0.9992]), tensor([0.9995]), tensor([0.9994])]\n",
      "[tensor([0.]), tensor([0.]), tensor([0.]), tensor([0.]), tensor([0.]), tensor([0.]), tensor([0.]), tensor([0.]), tensor([0.]), tensor([0.])]\n",
      "[tensor([1.0000]), tensor([0.9999]), tensor([0.9999]), tensor([1.0000]), tensor([0.9999]), tensor([0.9997]), tensor([0.9999]), tensor([0.9996]), tensor([0.9998]), tensor([0.9997])]\n",
      "[tensor([0.9999]), tensor([0.9998]), tensor([1.0000]), tensor([0.9999]), tensor([1.0000]), tensor([0.9998]), tensor([1.0000]), tensor([0.9997]), tensor([0.9999]), tensor([0.9998])]\n",
      "[tensor([0.]), tensor([0.]), tensor([0.]), tensor([0.]), tensor([0.]), tensor([0.]), tensor([0.]), tensor([0.]), tensor([0.]), tensor([0.])]\n",
      "[tensor([1.0000]), tensor([0.9998]), tensor([1.0000]), tensor([0.9999]), tensor([1.0000]), tensor([0.9998]), tensor([1.0000]), tensor([0.9996]), tensor([0.9999]), tensor([0.9998])]\n",
      "[tensor([0.]), tensor([0.]), tensor([0.]), tensor([0.]), tensor([0.]), tensor([0.]), tensor([0.]), tensor([0.]), tensor([0.]), tensor([0.])]\n",
      "[tensor([0.9999]), tensor([0.9997]), tensor([1.0000]), tensor([0.9998]), tensor([0.9999]), tensor([0.9999]), tensor([0.9999]), tensor([0.9997]), tensor([1.0000]), tensor([0.9999])]\n",
      "[tensor([0.]), tensor([0.]), tensor([0.]), tensor([0.]), tensor([0.]), tensor([0.]), tensor([0.]), tensor([0.]), tensor([0.]), tensor([0.])]\n",
      "[tensor([1.0000]), tensor([0.9999]), tensor([0.9999]), tensor([1.0000]), tensor([0.9999]), tensor([0.9997]), tensor([1.0000]), tensor([0.9995]), tensor([0.9999]), tensor([0.9997])]\n",
      "[tensor([0.9998]), tensor([1.0000]), tensor([0.9998]), tensor([0.9999]), tensor([0.9998]), tensor([0.9995]), tensor([0.9998]), tensor([0.9994]), tensor([0.9996]), tensor([0.9995])]\n",
      "[tensor([1.0000]), tensor([0.9998]), tensor([1.0000]), tensor([0.9999]), tensor([1.0000]), tensor([0.9998]), tensor([1.0000]), tensor([0.9996]), tensor([0.9999]), tensor([0.9998])]\n",
      "[tensor([0.]), tensor([0.]), tensor([0.]), tensor([0.]), tensor([0.]), tensor([0.]), tensor([0.]), tensor([0.]), tensor([0.]), tensor([0.])]\n",
      "[tensor([0.9999]), tensor([0.9999]), tensor([1.0000]), tensor([0.9999]), tensor([1.0000]), tensor([0.9997]), tensor([1.0000]), tensor([0.9996]), tensor([0.9999]), tensor([0.9998])]\n",
      "[tensor([0.]), tensor([0.]), tensor([0.]), tensor([0.]), tensor([0.]), tensor([0.]), tensor([0.]), tensor([0.]), tensor([0.]), tensor([0.])]\n",
      "[tensor([1.0000]), tensor([0.9998]), tensor([1.0000]), tensor([0.9999]), tensor([1.0000]), tensor([0.9998]), tensor([1.0000]), tensor([0.9996]), tensor([0.9999]), tensor([0.9998])]\n",
      "[tensor([0.]), tensor([0.]), tensor([0.]), tensor([0.]), tensor([0.]), tensor([0.]), tensor([0.]), tensor([0.]), tensor([0.]), tensor([0.])]\n",
      "[tensor([0.9999]), tensor([0.9997]), tensor([0.9999]), tensor([0.9998]), tensor([0.9999]), tensor([0.9998]), tensor([0.9999]), tensor([0.9997]), tensor([0.9999]), tensor([0.9998])]\n",
      "[tensor([0.]), tensor([0.]), tensor([0.]), tensor([0.]), tensor([0.]), tensor([0.]), tensor([0.]), tensor([0.]), tensor([0.]), tensor([0.])]\n",
      "[tensor([1.0000]), tensor([0.9999]), tensor([0.9999]), tensor([0.9999]), tensor([0.9999]), tensor([0.9997]), tensor([0.9999]), tensor([0.9995]), tensor([0.9998]), tensor([0.9997])]\n",
      "[tensor([0.9998]), tensor([0.9999]), tensor([0.9998]), tensor([0.9999]), tensor([0.9998]), tensor([0.9996]), tensor([0.9998]), tensor([0.9995]), tensor([0.9997]), tensor([0.9996])]\n",
      "[tensor([0.9999]), tensor([0.9998]), tensor([1.0000]), tensor([0.9999]), tensor([1.0000]), tensor([0.9998]), tensor([1.0000]), tensor([0.9996]), tensor([0.9999]), tensor([0.9998])]\n",
      "[tensor([0.9999]), tensor([0.9999]), tensor([0.9999]), tensor([1.0000]), tensor([0.9999]), tensor([0.9997]), tensor([0.9999]), tensor([0.9995]), tensor([0.9998]), tensor([0.9997])]\n",
      "[tensor([0.]), tensor([0.]), tensor([0.]), tensor([0.]), tensor([0.]), tensor([0.]), tensor([0.]), tensor([0.]), tensor([0.]), tensor([0.])]\n",
      "[tensor([0.]), tensor([0.]), tensor([0.]), tensor([0.]), tensor([0.]), tensor([0.]), tensor([0.]), tensor([0.]), tensor([0.]), tensor([0.])]\n",
      "[tensor([1.0000]), tensor([0.9998]), tensor([1.0000]), tensor([0.9999]), tensor([1.0000]), tensor([0.9998]), tensor([1.0000]), tensor([0.9996]), tensor([0.9999]), tensor([0.9998])]\n",
      "[tensor([0.]), tensor([0.]), tensor([0.]), tensor([0.]), tensor([0.]), tensor([0.]), tensor([0.]), tensor([0.]), tensor([0.]), tensor([0.])]\n",
      "[tensor([0.]), tensor([0.]), tensor([0.]), tensor([0.]), tensor([0.]), tensor([0.]), tensor([0.]), tensor([0.]), tensor([0.]), tensor([0.])]\n",
      "[tensor([0.]), tensor([0.]), tensor([0.]), tensor([0.]), tensor([0.]), tensor([0.]), tensor([0.]), tensor([0.]), tensor([0.]), tensor([0.])]\n",
      "[tensor([0.9997]), tensor([0.9996]), tensor([0.9997]), tensor([0.9997]), tensor([0.9997]), tensor([0.9997]), tensor([0.9997]), tensor([0.9995]), tensor([0.9997]), tensor([0.9997])]\n",
      "[tensor([0.]), tensor([0.]), tensor([0.]), tensor([0.]), tensor([0.]), tensor([0.]), tensor([0.]), tensor([0.]), tensor([0.]), tensor([0.])]\n",
      "[tensor([0.9996]), tensor([0.9995]), tensor([0.9997]), tensor([0.9996]), tensor([0.9997]), tensor([0.9996]), tensor([0.9997]), tensor([0.9994]), tensor([0.9996]), tensor([0.9996])]\n",
      "[tensor([0.]), tensor([0.]), tensor([0.]), tensor([0.]), tensor([0.]), tensor([0.]), tensor([0.]), tensor([0.]), tensor([0.]), tensor([0.])]\n",
      "[tensor([0.9997]), tensor([0.9995]), tensor([0.9997]), tensor([0.9996]), tensor([0.9997]), tensor([0.9996]), tensor([0.9997]), tensor([0.9994]), tensor([0.9996]), tensor([0.9996])]\n",
      "[tensor([0.]), tensor([0.]), tensor([0.]), tensor([0.]), tensor([0.]), tensor([0.]), tensor([0.]), tensor([0.]), tensor([0.]), tensor([0.])]\n",
      "[tensor([0.9997]), tensor([0.9995]), tensor([0.9997]), tensor([0.9996]), tensor([0.9997]), tensor([0.9996]), tensor([0.9997]), tensor([0.9994]), tensor([0.9996]), tensor([0.9996])]\n",
      "[tensor([0.9995]), tensor([0.9993]), tensor([0.9996]), tensor([0.9994]), tensor([0.9996]), tensor([0.9999]), tensor([0.9996]), tensor([0.9999]), tensor([0.9997]), tensor([0.9997])]\n",
      "[tensor([0.9998]), tensor([0.9996]), tensor([0.9999]), tensor([0.9998]), tensor([0.9999]), tensor([0.9999]), tensor([0.9999]), tensor([0.9998]), tensor([1.0000]), tensor([0.9999])]\n",
      "[tensor([0.9997]), tensor([0.9995]), tensor([0.9998]), tensor([0.9996]), tensor([0.9998]), tensor([0.9999]), tensor([0.9998]), tensor([0.9998]), tensor([0.9999]), tensor([0.9999])]\n",
      "[tensor([1.0000]), tensor([0.9998]), tensor([1.0000]), tensor([0.9999]), tensor([1.0000]), tensor([0.9997]), tensor([1.0000]), tensor([0.9995]), tensor([0.9999]), tensor([0.9997])]\n",
      "[tensor([0.9997]), tensor([0.9999]), tensor([0.9997]), tensor([0.9997]), tensor([0.9997]), tensor([0.9993]), tensor([0.9997]), tensor([0.9992]), tensor([0.9995]), tensor([0.9994])]\n",
      "[tensor([0.9999]), tensor([0.9997]), tensor([1.0000]), tensor([0.9999]), tensor([1.0000]), tensor([0.9998]), tensor([1.0000]), tensor([0.9996]), tensor([0.9999]), tensor([0.9998])]\n",
      "[tensor([0.9999]), tensor([0.9999]), tensor([0.9999]), tensor([1.0000]), tensor([0.9999]), tensor([0.9996]), tensor([0.9999]), tensor([0.9995]), tensor([0.9998]), tensor([0.9997])]\n",
      "[tensor([0.9999]), tensor([0.9998]), tensor([1.0000]), tensor([0.9999]), tensor([1.0000]), tensor([0.9998]), tensor([1.0000]), tensor([0.9996]), tensor([0.9999]), tensor([0.9998])]\n",
      "[tensor([0.]), tensor([0.]), tensor([0.]), tensor([0.]), tensor([0.]), tensor([0.]), tensor([0.]), tensor([0.]), tensor([0.]), tensor([0.])]\n",
      "[tensor([0.]), tensor([0.]), tensor([0.]), tensor([0.]), tensor([0.]), tensor([0.]), tensor([0.]), tensor([0.]), tensor([0.]), tensor([0.])]\n",
      "[tensor([0.]), tensor([0.]), tensor([0.]), tensor([0.]), tensor([0.]), tensor([0.]), tensor([0.]), tensor([0.]), tensor([0.]), tensor([0.])]\n",
      "[tensor([0.9999]), tensor([0.9997]), tensor([1.0000]), tensor([0.9998]), tensor([1.0000]), tensor([0.9999]), tensor([1.0000]), tensor([0.9997]), tensor([1.0000]), tensor([0.9999])]\n",
      "[tensor([0.]), tensor([0.]), tensor([0.]), tensor([0.]), tensor([0.]), tensor([0.]), tensor([0.]), tensor([0.]), tensor([0.]), tensor([0.])]\n",
      "[tensor([0.]), tensor([0.]), tensor([0.]), tensor([0.]), tensor([0.]), tensor([0.]), tensor([0.]), tensor([0.]), tensor([0.]), tensor([0.])]\n",
      "[tensor([0.]), tensor([0.]), tensor([0.]), tensor([0.]), tensor([0.]), tensor([0.]), tensor([0.]), tensor([0.]), tensor([0.]), tensor([0.])]\n",
      "[tensor([0.]), tensor([0.]), tensor([0.]), tensor([0.]), tensor([0.]), tensor([0.]), tensor([0.]), tensor([0.]), tensor([0.]), tensor([0.])]\n",
      "[tensor([0.]), tensor([0.]), tensor([0.]), tensor([0.]), tensor([0.]), tensor([0.]), tensor([0.]), tensor([0.]), tensor([0.]), tensor([0.])]\n",
      "[tensor([0.]), tensor([0.]), tensor([0.]), tensor([0.]), tensor([0.]), tensor([0.]), tensor([0.]), tensor([0.]), tensor([0.]), tensor([0.])]\n",
      "[tensor([0.9996]), tensor([0.9994]), tensor([0.9997]), tensor([0.9995]), tensor([0.9997]), tensor([0.9999]), tensor([0.9997]), tensor([0.9999]), tensor([0.9998]), tensor([0.9999])]\n",
      "[tensor([0.]), tensor([0.]), tensor([0.]), tensor([0.]), tensor([0.]), tensor([0.]), tensor([0.]), tensor([0.]), tensor([0.]), tensor([0.])]\n",
      "[tensor([0.]), tensor([0.]), tensor([0.]), tensor([0.]), tensor([0.]), tensor([0.]), tensor([0.]), tensor([0.]), tensor([0.]), tensor([0.])]\n",
      "[tensor([0.]), tensor([0.]), tensor([0.]), tensor([0.]), tensor([0.]), tensor([0.]), tensor([0.]), tensor([0.]), tensor([0.]), tensor([0.])]\n",
      "[tensor([0.9997]), tensor([0.9995]), tensor([0.9997]), tensor([0.9996]), tensor([0.9997]), tensor([0.9999]), tensor([0.9997]), tensor([0.9999]), tensor([0.9999]), tensor([1.0000])]\n",
      "[tensor([0.9999]), tensor([0.9998]), tensor([0.9999]), tensor([0.9999]), tensor([0.9999]), tensor([0.9997]), tensor([0.9999]), tensor([0.9996]), tensor([0.9999]), tensor([0.9997])]\n",
      "[tensor([0.]), tensor([0.]), tensor([0.]), tensor([0.]), tensor([0.]), tensor([0.]), tensor([0.]), tensor([0.]), tensor([0.]), tensor([0.])]\n",
      "[tensor([0.9999]), tensor([0.9997]), tensor([1.0000]), tensor([0.9998]), tensor([1.0000]), tensor([0.9998]), tensor([1.0000]), tensor([0.9997]), tensor([0.9999]), tensor([0.9998])]\n",
      "[tensor([0.9998]), tensor([0.9997]), tensor([0.9997]), tensor([0.9998]), tensor([0.9997]), tensor([0.9996]), tensor([0.9997]), tensor([0.9994]), tensor([0.9998]), tensor([0.9996])]\n",
      "[tensor([0.9999]), tensor([0.9997]), tensor([1.0000]), tensor([0.9999]), tensor([1.0000]), tensor([0.9998]), tensor([1.0000]), tensor([0.9997]), tensor([0.9999]), tensor([0.9998])]\n",
      "[tensor([0.9997]), tensor([0.9994]), tensor([0.9997]), tensor([0.9996]), tensor([0.9997]), tensor([0.9999]), tensor([0.9997]), tensor([0.9999]), tensor([0.9999]), tensor([0.9998])]\n",
      "[tensor([1.0000]), tensor([0.9998]), tensor([1.0000]), tensor([0.9999]), tensor([1.0000]), tensor([0.9998]), tensor([1.0000]), tensor([0.9997]), tensor([0.9999]), tensor([0.9998])]\n",
      "[tensor([0.9995]), tensor([0.9993]), tensor([0.9996]), tensor([0.9994]), tensor([0.9996]), tensor([0.9998]), tensor([0.9996]), tensor([0.9998]), tensor([0.9997]), tensor([0.9996])]\n",
      "[tensor([0.]), tensor([0.]), tensor([0.]), tensor([0.]), tensor([0.]), tensor([0.]), tensor([0.]), tensor([0.]), tensor([0.]), tensor([0.])]\n",
      "[tensor([0.]), tensor([0.]), tensor([0.]), tensor([0.]), tensor([0.]), tensor([0.]), tensor([0.]), tensor([0.]), tensor([0.]), tensor([0.])]\n",
      "[tensor([0.]), tensor([0.]), tensor([0.]), tensor([0.]), tensor([0.]), tensor([0.]), tensor([0.]), tensor([0.]), tensor([0.]), tensor([0.])]\n",
      "[tensor([0.]), tensor([0.]), tensor([0.]), tensor([0.]), tensor([0.]), tensor([0.]), tensor([0.]), tensor([0.]), tensor([0.]), tensor([0.])]\n",
      "[tensor([0.9998]), tensor([0.9997]), tensor([0.9998]), tensor([0.9998]), tensor([0.9998]), tensor([0.9997]), tensor([0.9998]), tensor([0.9996]), tensor([0.9998]), tensor([0.9998])]\n",
      "[tensor([0.9997]), tensor([0.9996]), tensor([0.9996]), tensor([0.9997]), tensor([0.9997]), tensor([0.9995]), tensor([0.9997]), tensor([0.9995]), tensor([0.9996]), tensor([0.9997])]\n",
      "[tensor([0.9998]), tensor([0.9997]), tensor([0.9998]), tensor([0.9998]), tensor([0.9998]), tensor([0.9997]), tensor([0.9998]), tensor([0.9995]), tensor([0.9997]), tensor([0.9997])]\n",
      "[tensor([0.9997]), tensor([0.9995]), tensor([0.9997]), tensor([0.9996]), tensor([0.9997]), tensor([0.9999]), tensor([0.9997]), tensor([0.9999]), tensor([0.9999]), tensor([0.9999])]\n",
      "[tensor([0.9999]), tensor([0.9997]), tensor([0.9999]), tensor([0.9999]), tensor([0.9999]), tensor([0.9998]), tensor([0.9999]), tensor([0.9997]), tensor([0.9999]), tensor([0.9999])]\n"
     ]
    },
    {
     "name": "stdout",
     "output_type": "stream",
     "text": [
      "[tensor([0.9995]), tensor([0.9993]), tensor([0.9996]), tensor([0.9995]), tensor([0.9996]), tensor([0.9999]), tensor([0.9996]), tensor([0.9999]), tensor([0.9998]), tensor([0.9999])]\n",
      "[tensor([0.]), tensor([0.]), tensor([0.]), tensor([0.]), tensor([0.]), tensor([0.]), tensor([0.]), tensor([0.]), tensor([0.]), tensor([0.])]\n",
      "[tensor([0.]), tensor([0.]), tensor([0.]), tensor([0.]), tensor([0.]), tensor([0.]), tensor([0.]), tensor([0.]), tensor([0.]), tensor([0.])]\n"
     ]
    },
    {
     "name": "stderr",
     "output_type": "stream",
     "text": [
      "2022-05-30 12:27:29,429 - <ipython-input-20-12bad473728f>::<module>(l:4) : \n",
      "              precision    recall  f1-score   support\n",
      "\n",
      "           0       0.67      0.81      0.73      1000\n",
      "           1       0.96      0.90      0.93      1000\n",
      "           2       0.62      0.73      0.67      1000\n",
      "           3       0.77      0.81      0.79      1000\n",
      "           4       0.62      0.73      0.67      1000\n",
      "           5       0.89      0.62      0.73      1000\n",
      "           6       0.57      0.27      0.36      1000\n",
      "           7       0.79      0.89      0.83      1000\n",
      "           8       0.87      0.88      0.88      1000\n",
      "           9       0.78      0.90      0.83      1000\n",
      "\n",
      "    accuracy                           0.75     10000\n",
      "   macro avg       0.75      0.75      0.74     10000\n",
      "weighted avg       0.75      0.75      0.74     10000\n",
      " [MainProcess : MainThread (INFO)]\n"
     ]
    },
    {
     "name": "stdout",
     "output_type": "stream",
     "text": [
      "tensor([[0.9991, 0.9989, 0.9991,  ..., 0.9997, 0.9993, 0.9993],\n",
      "        [0.9994, 0.9992, 0.9995,  ..., 0.9998, 0.9996, 0.9997],\n",
      "        [0.9989, 0.9991, 0.9989,  ..., 0.9983, 0.9987, 0.9985],\n",
      "        ...,\n",
      "        [0.9999, 0.9998, 1.0000,  ..., 0.9996, 0.9999, 0.9998],\n",
      "        [0.9999, 0.9997, 1.0000,  ..., 0.9996, 0.9999, 0.9998],\n",
      "        [0.9997, 0.9999, 0.9997,  ..., 0.9993, 0.9995, 0.9995]])\n",
      "[tensor([0.]), tensor([0.]), tensor([0.]), tensor([0.]), tensor([0.]), tensor([0.]), tensor([0.]), tensor([0.]), tensor([0.]), tensor([0.])]\n",
      "[tensor([0.9999]), tensor([0.9999]), tensor([0.9998]), tensor([0.9999]), tensor([0.9998]), tensor([0.9995]), tensor([0.9998]), tensor([0.9994]), tensor([0.9997]), tensor([0.9996])]\n",
      "[tensor([1.0000]), tensor([0.9998]), tensor([1.0000]), tensor([0.9999]), tensor([1.0000]), tensor([0.9998]), tensor([1.0000]), tensor([0.9996]), tensor([0.9999]), tensor([0.9998])]\n",
      "[tensor([0.9999]), tensor([0.9999]), tensor([0.9999]), tensor([1.0000]), tensor([0.9999]), tensor([0.9996]), tensor([0.9999]), tensor([0.9995]), tensor([0.9998]), tensor([0.9997])]\n",
      "[tensor([0.9999]), tensor([0.9998]), tensor([0.9999]), tensor([0.9999]), tensor([1.0000]), tensor([0.9998]), tensor([0.9999]), tensor([0.9997]), tensor([0.9999]), tensor([0.9998])]\n",
      "[tensor([0.]), tensor([0.]), tensor([0.]), tensor([0.]), tensor([0.]), tensor([0.]), tensor([0.]), tensor([0.]), tensor([0.]), tensor([0.])]\n",
      "[tensor([1.0000]), tensor([0.9998]), tensor([1.0000]), tensor([0.9999]), tensor([1.0000]), tensor([0.9998]), tensor([1.0000]), tensor([0.9997]), tensor([0.9999]), tensor([0.9998])]\n",
      "[tensor([0.]), tensor([0.]), tensor([0.]), tensor([0.]), tensor([0.]), tensor([0.]), tensor([0.]), tensor([0.]), tensor([0.]), tensor([0.])]\n",
      "[tensor([0.9999]), tensor([0.9997]), tensor([1.0000]), tensor([0.9998]), tensor([1.0000]), tensor([0.9999]), tensor([1.0000]), tensor([0.9997]), tensor([1.0000]), tensor([0.9999])]\n",
      "[tensor([0.]), tensor([0.]), tensor([0.]), tensor([0.]), tensor([0.]), tensor([0.]), tensor([0.]), tensor([0.]), tensor([0.]), tensor([0.])]\n",
      "[tensor([0.9999]), tensor([0.9999]), tensor([0.9999]), tensor([0.9999]), tensor([0.9999]), tensor([0.9996]), tensor([0.9999]), tensor([0.9995]), tensor([0.9998]), tensor([0.9997])]\n",
      "[tensor([0.]), tensor([0.]), tensor([0.]), tensor([0.]), tensor([0.]), tensor([0.]), tensor([0.]), tensor([0.]), tensor([0.]), tensor([0.])]\n",
      "[tensor([0.9999]), tensor([0.9998]), tensor([1.0000]), tensor([0.9998]), tensor([1.0000]), tensor([0.9998]), tensor([1.0000]), tensor([0.9996]), tensor([0.9999]), tensor([0.9998])]\n",
      "[tensor([0.9999]), tensor([0.9999]), tensor([0.9998]), tensor([1.0000]), tensor([0.9998]), tensor([0.9996]), tensor([0.9998]), tensor([0.9995]), tensor([0.9997]), tensor([0.9996])]\n",
      "[tensor([0.9999]), tensor([0.9998]), tensor([0.9999]), tensor([0.9998]), tensor([0.9999]), tensor([0.9996]), tensor([0.9999]), tensor([0.9995]), tensor([0.9998]), tensor([0.9996])]\n",
      "[tensor([0.]), tensor([0.]), tensor([0.]), tensor([0.]), tensor([0.]), tensor([0.]), tensor([0.]), tensor([0.]), tensor([0.]), tensor([0.])]\n",
      "[tensor([0.9999]), tensor([0.9998]), tensor([0.9999]), tensor([0.9999]), tensor([0.9999]), tensor([0.9997]), tensor([0.9999]), tensor([0.9995]), tensor([0.9998]), tensor([0.9997])]\n",
      "[tensor([0.]), tensor([0.]), tensor([0.]), tensor([0.]), tensor([0.]), tensor([0.]), tensor([0.]), tensor([0.]), tensor([0.]), tensor([0.])]\n",
      "[tensor([0.]), tensor([0.]), tensor([0.]), tensor([0.]), tensor([0.]), tensor([0.]), tensor([0.]), tensor([0.]), tensor([0.]), tensor([0.])]\n",
      "[tensor([0.]), tensor([0.]), tensor([0.]), tensor([0.]), tensor([0.]), tensor([0.]), tensor([0.]), tensor([0.]), tensor([0.]), tensor([0.])]\n",
      "[tensor([0.9999]), tensor([0.9997]), tensor([0.9999]), tensor([0.9999]), tensor([0.9999]), tensor([0.9998]), tensor([0.9999]), tensor([0.9996]), tensor([0.9999]), tensor([0.9998])]\n",
      "[tensor([0.9997]), tensor([0.9998]), tensor([0.9997]), tensor([0.9997]), tensor([0.9997]), tensor([0.9993]), tensor([0.9997]), tensor([0.9992]), tensor([0.9995]), tensor([0.9994])]\n",
      "[tensor([0.]), tensor([0.]), tensor([0.]), tensor([0.]), tensor([0.]), tensor([0.]), tensor([0.]), tensor([0.]), tensor([0.]), tensor([0.])]\n",
      "[tensor([1.0000]), tensor([0.9999]), tensor([0.9999]), tensor([1.0000]), tensor([0.9999]), tensor([0.9997]), tensor([0.9999]), tensor([0.9996]), tensor([0.9999]), tensor([0.9997])]\n",
      "[tensor([0.9999]), tensor([0.9998]), tensor([1.0000]), tensor([0.9999]), tensor([1.0000]), tensor([0.9998]), tensor([1.0000]), tensor([0.9996]), tensor([0.9999]), tensor([0.9998])]\n",
      "[tensor([0.]), tensor([0.]), tensor([0.]), tensor([0.]), tensor([0.]), tensor([0.]), tensor([0.]), tensor([0.]), tensor([0.]), tensor([0.])]\n",
      "[tensor([1.0000]), tensor([0.9998]), tensor([1.0000]), tensor([0.9999]), tensor([1.0000]), tensor([0.9998]), tensor([1.0000]), tensor([0.9996]), tensor([0.9999]), tensor([0.9998])]\n",
      "[tensor([0.]), tensor([0.]), tensor([0.]), tensor([0.]), tensor([0.]), tensor([0.]), tensor([0.]), tensor([0.]), tensor([0.]), tensor([0.])]\n",
      "[tensor([0.9999]), tensor([0.9997]), tensor([0.9999]), tensor([0.9998]), tensor([0.9999]), tensor([0.9999]), tensor([0.9999]), tensor([0.9997]), tensor([1.0000]), tensor([0.9999])]\n",
      "[tensor([0.]), tensor([0.]), tensor([0.]), tensor([0.]), tensor([0.]), tensor([0.]), tensor([0.]), tensor([0.]), tensor([0.]), tensor([0.])]\n",
      "[tensor([1.0000]), tensor([0.9999]), tensor([0.9999]), tensor([1.0000]), tensor([0.9999]), tensor([0.9997]), tensor([0.9999]), tensor([0.9996]), tensor([0.9999]), tensor([0.9997])]\n",
      "[tensor([0.9998]), tensor([0.9999]), tensor([0.9998]), tensor([0.9999]), tensor([0.9998]), tensor([0.9995]), tensor([0.9998]), tensor([0.9994]), tensor([0.9997]), tensor([0.9996])]\n",
      "[tensor([1.0000]), tensor([0.9998]), tensor([1.0000]), tensor([0.9999]), tensor([1.0000]), tensor([0.9998]), tensor([1.0000]), tensor([0.9996]), tensor([0.9999]), tensor([0.9998])]\n",
      "[tensor([0.]), tensor([0.]), tensor([0.]), tensor([0.]), tensor([0.]), tensor([0.]), tensor([0.]), tensor([0.]), tensor([0.]), tensor([0.])]\n",
      "[tensor([0.9999]), tensor([0.9999]), tensor([1.0000]), tensor([0.9999]), tensor([1.0000]), tensor([0.9998]), tensor([1.0000]), tensor([0.9996]), tensor([0.9999]), tensor([0.9998])]\n",
      "[tensor([0.]), tensor([0.]), tensor([0.]), tensor([0.]), tensor([0.]), tensor([0.]), tensor([0.]), tensor([0.]), tensor([0.]), tensor([0.])]\n",
      "[tensor([1.0000]), tensor([0.9998]), tensor([1.0000]), tensor([1.0000]), tensor([1.0000]), tensor([0.9997]), tensor([1.0000]), tensor([0.9996]), tensor([0.9999]), tensor([0.9998])]\n",
      "[tensor([0.]), tensor([0.]), tensor([0.]), tensor([0.]), tensor([0.]), tensor([0.]), tensor([0.]), tensor([0.]), tensor([0.]), tensor([0.])]\n",
      "[tensor([0.9999]), tensor([0.9997]), tensor([0.9999]), tensor([0.9998]), tensor([0.9999]), tensor([0.9998]), tensor([0.9999]), tensor([0.9997]), tensor([0.9999]), tensor([0.9998])]\n",
      "[tensor([0.]), tensor([0.]), tensor([0.]), tensor([0.]), tensor([0.]), tensor([0.]), tensor([0.]), tensor([0.]), tensor([0.]), tensor([0.])]\n",
      "[tensor([1.0000]), tensor([0.9999]), tensor([0.9999]), tensor([0.9999]), tensor([0.9999]), tensor([0.9997]), tensor([0.9999]), tensor([0.9996]), tensor([0.9998]), tensor([0.9997])]\n",
      "[tensor([0.9999]), tensor([0.9999]), tensor([0.9998]), tensor([0.9999]), tensor([0.9998]), tensor([0.9996]), tensor([0.9998]), tensor([0.9995]), tensor([0.9997]), tensor([0.9996])]\n",
      "[tensor([0.9999]), tensor([0.9998]), tensor([1.0000]), tensor([0.9999]), tensor([1.0000]), tensor([0.9998]), tensor([1.0000]), tensor([0.9997]), tensor([0.9999]), tensor([0.9998])]\n",
      "[tensor([0.9999]), tensor([0.9999]), tensor([0.9999]), tensor([1.0000]), tensor([0.9999]), tensor([0.9997]), tensor([0.9999]), tensor([0.9996]), tensor([0.9998]), tensor([0.9997])]\n",
      "[tensor([0.]), tensor([0.]), tensor([0.]), tensor([0.]), tensor([0.]), tensor([0.]), tensor([0.]), tensor([0.]), tensor([0.]), tensor([0.])]\n",
      "[tensor([0.]), tensor([0.]), tensor([0.]), tensor([0.]), tensor([0.]), tensor([0.]), tensor([0.]), tensor([0.]), tensor([0.]), tensor([0.])]\n",
      "[tensor([1.0000]), tensor([0.9998]), tensor([1.0000]), tensor([0.9999]), tensor([1.0000]), tensor([0.9998]), tensor([1.0000]), tensor([0.9996]), tensor([0.9999]), tensor([0.9998])]\n",
      "[tensor([0.]), tensor([0.]), tensor([0.]), tensor([0.]), tensor([0.]), tensor([0.]), tensor([0.]), tensor([0.]), tensor([0.]), tensor([0.])]\n",
      "[tensor([0.9998]), tensor([0.9996]), tensor([0.9999]), tensor([0.9998]), tensor([0.9999]), tensor([0.9998]), tensor([0.9999]), tensor([0.9997]), tensor([0.9999]), tensor([0.9998])]\n",
      "[tensor([0.]), tensor([0.]), tensor([0.]), tensor([0.]), tensor([0.]), tensor([0.]), tensor([0.]), tensor([0.]), tensor([0.]), tensor([0.])]\n",
      "[tensor([0.9997]), tensor([0.9996]), tensor([0.9997]), tensor([0.9997]), tensor([0.9997]), tensor([0.9997]), tensor([0.9997]), tensor([0.9995]), tensor([0.9997]), tensor([0.9997])]\n",
      "[tensor([0.]), tensor([0.]), tensor([0.]), tensor([0.]), tensor([0.]), tensor([0.]), tensor([0.]), tensor([0.]), tensor([0.]), tensor([0.])]\n",
      "[tensor([0.9997]), tensor([0.9995]), tensor([0.9998]), tensor([0.9997]), tensor([0.9997]), tensor([0.9997]), tensor([0.9997]), tensor([0.9995]), tensor([0.9997]), tensor([0.9997])]\n",
      "[tensor([0.]), tensor([0.]), tensor([0.]), tensor([0.]), tensor([0.]), tensor([0.]), tensor([0.]), tensor([0.]), tensor([0.]), tensor([0.])]\n",
      "[tensor([0.9997]), tensor([0.9995]), tensor([0.9997]), tensor([0.9996]), tensor([0.9997]), tensor([0.9996]), tensor([0.9997]), tensor([0.9994]), tensor([0.9996]), tensor([0.9996])]\n",
      "[tensor([0.]), tensor([0.]), tensor([0.]), tensor([0.]), tensor([0.]), tensor([0.]), tensor([0.]), tensor([0.]), tensor([0.]), tensor([0.])]\n",
      "[tensor([0.]), tensor([0.]), tensor([0.]), tensor([0.]), tensor([0.]), tensor([0.]), tensor([0.]), tensor([0.]), tensor([0.]), tensor([0.])]\n",
      "[tensor([0.9995]), tensor([0.9993]), tensor([0.9996]), tensor([0.9994]), tensor([0.9996]), tensor([0.9999]), tensor([0.9996]), tensor([0.9999]), tensor([0.9997]), tensor([0.9998])]\n",
      "[tensor([0.9998]), tensor([0.9996]), tensor([0.9999]), tensor([0.9998]), tensor([0.9999]), tensor([0.9999]), tensor([0.9999]), tensor([0.9998]), tensor([0.9999]), tensor([0.9999])]\n",
      "[tensor([0.9998]), tensor([0.9995]), tensor([0.9998]), tensor([0.9997]), tensor([0.9998]), tensor([0.9999]), tensor([0.9998]), tensor([0.9998]), tensor([0.9999]), tensor([1.0000])]\n",
      "[tensor([1.0000]), tensor([0.9998]), tensor([1.0000]), tensor([0.9999]), tensor([1.0000]), tensor([0.9997]), tensor([1.0000]), tensor([0.9996]), tensor([0.9999]), tensor([0.9997])]\n",
      "[tensor([0.9998]), tensor([0.9999]), tensor([0.9998]), tensor([0.9999]), tensor([0.9998]), tensor([0.9995]), tensor([0.9998]), tensor([0.9994]), tensor([0.9997]), tensor([0.9995])]\n",
      "[tensor([0.9999]), tensor([0.9997]), tensor([1.0000]), tensor([0.9999]), tensor([1.0000]), tensor([0.9998]), tensor([1.0000]), tensor([0.9997]), tensor([0.9999]), tensor([0.9998])]\n",
      "[tensor([0.9999]), tensor([0.9999]), tensor([0.9999]), tensor([1.0000]), tensor([0.9999]), tensor([0.9996]), tensor([0.9999]), tensor([0.9995]), tensor([0.9998]), tensor([0.9997])]\n",
      "[tensor([0.9999]), tensor([0.9998]), tensor([1.0000]), tensor([0.9999]), tensor([1.0000]), tensor([0.9998]), tensor([1.0000]), tensor([0.9996]), tensor([0.9999]), tensor([0.9998])]\n",
      "[tensor([0.]), tensor([0.]), tensor([0.]), tensor([0.]), tensor([0.]), tensor([0.]), tensor([0.]), tensor([0.]), tensor([0.]), tensor([0.])]\n",
      "[tensor([0.]), tensor([0.]), tensor([0.]), tensor([0.]), tensor([0.]), tensor([0.]), tensor([0.]), tensor([0.]), tensor([0.]), tensor([0.])]\n",
      "[tensor([0.]), tensor([0.]), tensor([0.]), tensor([0.]), tensor([0.]), tensor([0.]), tensor([0.]), tensor([0.]), tensor([0.]), tensor([0.])]\n",
      "[tensor([0.9999]), tensor([0.9997]), tensor([1.0000]), tensor([0.9998]), tensor([1.0000]), tensor([0.9999]), tensor([1.0000]), tensor([0.9997]), tensor([1.0000]), tensor([0.9999])]\n",
      "[tensor([0.]), tensor([0.]), tensor([0.]), tensor([0.]), tensor([0.]), tensor([0.]), tensor([0.]), tensor([0.]), tensor([0.]), tensor([0.])]\n",
      "[tensor([0.]), tensor([0.]), tensor([0.]), tensor([0.]), tensor([0.]), tensor([0.]), tensor([0.]), tensor([0.]), tensor([0.]), tensor([0.])]\n",
      "[tensor([0.]), tensor([0.]), tensor([0.]), tensor([0.]), tensor([0.]), tensor([0.]), tensor([0.]), tensor([0.]), tensor([0.]), tensor([0.])]\n",
      "[tensor([0.]), tensor([0.]), tensor([0.]), tensor([0.]), tensor([0.]), tensor([0.]), tensor([0.]), tensor([0.]), tensor([0.]), tensor([0.])]\n",
      "[tensor([0.]), tensor([0.]), tensor([0.]), tensor([0.]), tensor([0.]), tensor([0.]), tensor([0.]), tensor([0.]), tensor([0.]), tensor([0.])]\n",
      "[tensor([0.]), tensor([0.]), tensor([0.]), tensor([0.]), tensor([0.]), tensor([0.]), tensor([0.]), tensor([0.]), tensor([0.]), tensor([0.])]\n",
      "[tensor([0.9996]), tensor([0.9994]), tensor([0.9997]), tensor([0.9995]), tensor([0.9997]), tensor([0.9999]), tensor([0.9997]), tensor([0.9999]), tensor([0.9998]), tensor([0.9998])]\n",
      "[tensor([0.]), tensor([0.]), tensor([0.]), tensor([0.]), tensor([0.]), tensor([0.]), tensor([0.]), tensor([0.]), tensor([0.]), tensor([0.])]\n",
      "[tensor([0.]), tensor([0.]), tensor([0.]), tensor([0.]), tensor([0.]), tensor([0.]), tensor([0.]), tensor([0.]), tensor([0.]), tensor([0.])]\n",
      "[tensor([0.]), tensor([0.]), tensor([0.]), tensor([0.]), tensor([0.]), tensor([0.]), tensor([0.]), tensor([0.]), tensor([0.]), tensor([0.])]\n",
      "[tensor([0.9997]), tensor([0.9995]), tensor([0.9997]), tensor([0.9996]), tensor([0.9997]), tensor([0.9999]), tensor([0.9997]), tensor([0.9999]), tensor([0.9999]), tensor([1.0000])]\n",
      "[tensor([1.0000]), tensor([0.9998]), tensor([0.9999]), tensor([0.9999]), tensor([0.9999]), tensor([0.9997]), tensor([0.9999]), tensor([0.9996]), tensor([0.9999]), tensor([0.9998])]\n",
      "[tensor([0.9996]), tensor([0.9996]), tensor([0.9995]), tensor([0.9996]), tensor([0.9995]), tensor([0.9994]), tensor([0.9995]), tensor([0.9994]), tensor([0.9995]), tensor([0.9995])]\n",
      "[tensor([0.9999]), tensor([0.9997]), tensor([1.0000]), tensor([0.9999]), tensor([1.0000]), tensor([0.9999]), tensor([1.0000]), tensor([0.9997]), tensor([0.9999]), tensor([0.9998])]\n",
      "[tensor([0.9998]), tensor([0.9997]), tensor([0.9997]), tensor([0.9998]), tensor([0.9997]), tensor([0.9995]), tensor([0.9997]), tensor([0.9994]), tensor([0.9997]), tensor([0.9996])]\n",
      "[tensor([0.9999]), tensor([0.9998]), tensor([0.9999]), tensor([0.9999]), tensor([1.0000]), tensor([0.9998]), tensor([0.9999]), tensor([0.9997]), tensor([0.9999]), tensor([0.9998])]\n",
      "[tensor([0.9997]), tensor([0.9995]), tensor([0.9997]), tensor([0.9996]), tensor([0.9997]), tensor([0.9999]), tensor([0.9997]), tensor([0.9998]), tensor([0.9999]), tensor([0.9998])]\n",
      "[tensor([1.0000]), tensor([0.9998]), tensor([1.0000]), tensor([0.9999]), tensor([1.0000]), tensor([0.9998]), tensor([1.0000]), tensor([0.9997]), tensor([0.9999]), tensor([0.9998])]\n",
      "[tensor([0.9994]), tensor([0.9992]), tensor([0.9995]), tensor([0.9994]), tensor([0.9995]), tensor([0.9997]), tensor([0.9995]), tensor([0.9997]), tensor([0.9996]), tensor([0.9996])]\n",
      "[tensor([0.]), tensor([0.]), tensor([0.]), tensor([0.]), tensor([0.]), tensor([0.]), tensor([0.]), tensor([0.]), tensor([0.]), tensor([0.])]\n",
      "[tensor([0.]), tensor([0.]), tensor([0.]), tensor([0.]), tensor([0.]), tensor([0.]), tensor([0.]), tensor([0.]), tensor([0.]), tensor([0.])]\n",
      "[tensor([0.]), tensor([0.]), tensor([0.]), tensor([0.]), tensor([0.]), tensor([0.]), tensor([0.]), tensor([0.]), tensor([0.]), tensor([0.])]\n",
      "[tensor([0.]), tensor([0.]), tensor([0.]), tensor([0.]), tensor([0.]), tensor([0.]), tensor([0.]), tensor([0.]), tensor([0.]), tensor([0.])]\n",
      "[tensor([0.9999]), tensor([0.9997]), tensor([0.9999]), tensor([0.9998]), tensor([0.9999]), tensor([0.9998]), tensor([0.9999]), tensor([0.9997]), tensor([0.9999]), tensor([0.9999])]\n",
      "[tensor([0.9997]), tensor([0.9996]), tensor([0.9997]), tensor([0.9997]), tensor([0.9997]), tensor([0.9996]), tensor([0.9997]), tensor([0.9995]), tensor([0.9996]), tensor([0.9997])]\n",
      "[tensor([0.9999]), tensor([0.9998]), tensor([0.9999]), tensor([0.9999]), tensor([0.9999]), tensor([0.9997]), tensor([0.9999]), tensor([0.9996]), tensor([0.9998]), tensor([0.9998])]\n",
      "[tensor([0.9997]), tensor([0.9995]), tensor([0.9997]), tensor([0.9996]), tensor([0.9997]), tensor([0.9999]), tensor([0.9997]), tensor([0.9999]), tensor([0.9999]), tensor([0.9999])]\n",
      "[tensor([0.9999]), tensor([0.9997]), tensor([0.9999]), tensor([0.9998]), tensor([0.9999]), tensor([0.9998]), tensor([0.9999]), tensor([0.9997]), tensor([0.9998]), tensor([0.9999])]\n"
     ]
    },
    {
     "name": "stdout",
     "output_type": "stream",
     "text": [
      "[tensor([0.9995]), tensor([0.9993]), tensor([0.9996]), tensor([0.9995]), tensor([0.9996]), tensor([0.9999]), tensor([0.9996]), tensor([0.9999]), tensor([0.9998]), tensor([0.9999])]\n",
      "[tensor([0.]), tensor([0.]), tensor([0.]), tensor([0.]), tensor([0.]), tensor([0.]), tensor([0.]), tensor([0.]), tensor([0.]), tensor([0.])]\n",
      "[tensor([0.]), tensor([0.]), tensor([0.]), tensor([0.]), tensor([0.]), tensor([0.]), tensor([0.]), tensor([0.]), tensor([0.]), tensor([0.])]\n"
     ]
    },
    {
     "name": "stderr",
     "output_type": "stream",
     "text": [
      "2022-05-30 12:28:08,422 - <ipython-input-20-12bad473728f>::<module>(l:4) : \n",
      "              precision    recall  f1-score   support\n",
      "\n",
      "           0       0.69      0.81      0.74      1000\n",
      "           1       0.94      0.91      0.93      1000\n",
      "           2       0.52      0.57      0.54      1000\n",
      "           3       0.80      0.80      0.80      1000\n",
      "           4       0.65      0.51      0.57      1000\n",
      "           5       0.87      0.71      0.78      1000\n",
      "           6       0.43      0.42      0.43      1000\n",
      "           7       0.83      0.86      0.84      1000\n",
      "           8       0.87      0.89      0.88      1000\n",
      "           9       0.80      0.91      0.85      1000\n",
      "\n",
      "    accuracy                           0.74     10000\n",
      "   macro avg       0.74      0.74      0.74     10000\n",
      "weighted avg       0.74      0.74      0.74     10000\n",
      " [MainProcess : MainThread (INFO)]\n"
     ]
    }
   ],
   "source": [
    "for epoch in range(fedargs.epochs):\n",
    "    train_report = hdc_model.re_train(train_loader, device)\n",
    "    test_report = hdc_model.test(test_loader, device)\n",
    "    log.info(\"\\n\"+test_report)"
   ]
  },
  {
   "cell_type": "code",
   "execution_count": 19,
   "id": "a88f4a46",
   "metadata": {},
   "outputs": [
    {
     "data": {
      "text/plain": [
       "[1, 2, 3]"
      ]
     },
     "execution_count": 19,
     "metadata": {},
     "output_type": "execute_result"
    }
   ],
   "source": [
    "a = torch.tensor([1,2,3])\n",
    "a.tolist()"
   ]
  },
  {
   "cell_type": "code",
   "execution_count": null,
   "id": "668e76de",
   "metadata": {},
   "outputs": [],
   "source": []
  }
 ],
 "metadata": {
  "kernelspec": {
   "display_name": "Python [conda env:syft]",
   "language": "python",
   "name": "conda-env-syft-py"
  },
  "language_info": {
   "codemirror_mode": {
    "name": "ipython",
    "version": 3
   },
   "file_extension": ".py",
   "mimetype": "text/x-python",
   "name": "python",
   "nbconvert_exporter": "python",
   "pygments_lexer": "ipython3",
   "version": "3.9.5"
  }
 },
 "nbformat": 4,
 "nbformat_minor": 5
}
