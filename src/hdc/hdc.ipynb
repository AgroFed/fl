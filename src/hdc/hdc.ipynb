{
 "cells": [
  {
   "cell_type": "code",
   "execution_count": 31,
   "id": "46de111e",
   "metadata": {},
   "outputs": [
    {
     "name": "stdout",
     "output_type": "stream",
     "text": [
      "The autoreload extension is already loaded. To reload it, use:\n",
      "  %reload_ext autoreload\n"
     ]
    }
   ],
   "source": [
    "%load_ext autoreload\n",
    "%autoreload 2\n",
    "\n",
    "import asyncio, copy, os, socket, sys, time\n",
    "from functools import partial\n",
    "from multiprocessing import Pool, Process\n",
    "from pathlib import Path\n",
    "from tqdm import tqdm\n",
    "\n",
    "import torch\n",
    "from torch import optim\n",
    "from torch.utils.tensorboard import SummaryWriter\n",
    "\n",
    "sys.path.insert(0, os.path.abspath(os.path.join(os.getcwd(), \"../../\")))\n",
    "from libs import agg, data, fl, hdc, log, nn, plot, poison, resnet, sim, wandb\n",
    "from libs.distributed import *\n",
    "from cfgs.fedargs import *"
   ]
  },
  {
   "cell_type": "code",
   "execution_count": 32,
   "id": "dc035659",
   "metadata": {},
   "outputs": [
    {
     "data": {
      "text/html": [
       "Finishing last run (ID:3m2nf9i5) before initializing another..."
      ],
      "text/plain": [
       "<IPython.core.display.HTML object>"
      ]
     },
     "metadata": {},
     "output_type": "display_data"
    },
    {
     "data": {
      "text/html": [
       "<br/>Waiting for W&B process to finish, PID 178440... <strong style=\"color:green\">(success).</strong>"
      ],
      "text/plain": [
       "<IPython.core.display.HTML object>"
      ]
     },
     "metadata": {},
     "output_type": "display_data"
    },
    {
     "data": {
      "application/vnd.jupyter.widget-view+json": {
       "model_id": "",
       "version_major": 2,
       "version_minor": 0
      },
      "text/plain": [
       "VBox(children=(Label(value=' 0.00MB of 0.00MB uploaded (0.00MB deduped)\\r'), FloatProgress(value=1.0, max=1.0)…"
      ]
     },
     "metadata": {},
     "output_type": "display_data"
    },
    {
     "data": {
      "text/html": [
       "<style>\n",
       "    table.wandb td:nth-child(1) { padding: 0 10px; text-align: right }\n",
       "    .wandb-row { display: flex; flex-direction: row; flex-wrap: wrap; width: 100% }\n",
       "    .wandb-col { display: flex; flex-direction: column; flex-basis: 100%; flex: 1; padding: 10px; }\n",
       "    </style>\n",
       "<div class=\"wandb-row\"><div class=\"wandb-col\">\n",
       "</div><div class=\"wandb-col\">\n",
       "</div></div>\n",
       "Synced 6 W&B file(s), 0 media file(s), 0 artifact file(s) and 0 other file(s)\n",
       "<br/>Synced <strong style=\"color:#cdcd00\">mnist</strong>: <a href=\"https://wandb.ai/kasyah/fl-hdc/runs/3m2nf9i5\" target=\"_blank\">https://wandb.ai/kasyah/fl-hdc/runs/3m2nf9i5</a><br/>\n",
       "Find logs at: <code>/home/harsh_1921cs01/hub/AgroFed/main/fl/libs/../out/wandb/run-20220510_094503-3m2nf9i5/logs</code><br/>\n"
      ],
      "text/plain": [
       "<IPython.core.display.HTML object>"
      ]
     },
     "metadata": {},
     "output_type": "display_data"
    },
    {
     "data": {
      "text/html": [
       "Successfully finished last run (ID:3m2nf9i5). Initializing new run:<br/>"
      ],
      "text/plain": [
       "<IPython.core.display.HTML object>"
      ]
     },
     "metadata": {},
     "output_type": "display_data"
    },
    {
     "name": "stderr",
     "output_type": "stream",
     "text": [
      "\u001b[34m\u001b[1mwandb\u001b[0m: wandb version 0.12.16 is available!  To upgrade, please run:\n",
      "\u001b[34m\u001b[1mwandb\u001b[0m:  $ pip install wandb --upgrade\n"
     ]
    },
    {
     "data": {
      "text/html": [
       "\n",
       "                    Syncing run <strong><a href=\"https://wandb.ai/kasyah/fl-hdc/runs/3fcewtqr\" target=\"_blank\">mnist</a></strong> to <a href=\"https://wandb.ai/kasyah/fl-hdc\" target=\"_blank\">Weights & Biases</a> (<a href=\"https://docs.wandb.com/integrations/jupyter.html\" target=\"_blank\">docs</a>).<br/>\n",
       "\n",
       "                "
      ],
      "text/plain": [
       "<IPython.core.display.HTML object>"
      ]
     },
     "metadata": {},
     "output_type": "display_data"
    }
   ],
   "source": [
    "project = 'fl-hdc'\n",
    "name = 'mnist'\n",
    "\n",
    "#Define Custom CFGs\n",
    "fedargs.epochs = 10\n",
    "\n",
    "# Save Logs To File (info | debug | warning | error | critical) [optional]\n",
    "log.init(\"info\")\n",
    "wb = wandb.init(name, project)"
   ]
  },
  {
   "cell_type": "code",
   "execution_count": 33,
   "id": "547560db",
   "metadata": {},
   "outputs": [],
   "source": [
    "use_cuda = fedargs.cuda and torch.cuda.is_available()\n",
    "torch.manual_seed(fedargs.seed)\n",
    "device = torch.device(\"cuda\" if use_cuda else \"cpu\")\n",
    "kwargs = {\"num_workers\": 1, \"pin_memory\": True} if use_cuda else {}"
   ]
  },
  {
   "cell_type": "code",
   "execution_count": 34,
   "id": "633631c4",
   "metadata": {},
   "outputs": [],
   "source": [
    "# Initialize Global and Client models\n",
    "fedargs.model = hdc.HDC(fedargs.one_d_len, fedargs.hdc_proj_len, len(fedargs.labels), device)\n",
    "hdc_model = copy.deepcopy(fedargs.model)\n",
    "# Load Data to clients\n",
    "train_data, test_data = data.load_dataset(fedargs.dataset, only_to_tensor = True)"
   ]
  },
  {
   "cell_type": "code",
   "execution_count": 35,
   "id": "8f964ddf",
   "metadata": {},
   "outputs": [],
   "source": [
    "train_loader = torch.utils.data.DataLoader(train_data, batch_size=len(train_data), shuffle=True, num_workers=4, pin_memory=True)\n",
    "test_loader = torch.utils.data.DataLoader(test_data, batch_size=len(test_data), shuffle=True, num_workers=4, pin_memory=True)"
   ]
  },
  {
   "cell_type": "code",
   "execution_count": 36,
   "id": "f81fabd3",
   "metadata": {},
   "outputs": [
    {
     "name": "stderr",
     "output_type": "stream",
     "text": [
      "2022-05-16 06:36:15,693 - <timed exec>::<module>(l:2) :               precision    recall  f1-score   support\n",
      "\n",
      "           0       0.87      0.90      0.89      5923\n",
      "           1       0.89      0.91      0.90      6742\n",
      "           2       0.82      0.80      0.81      5958\n",
      "           3       0.73      0.81      0.76      6131\n",
      "           4       0.82      0.79      0.81      5842\n",
      "           5       0.79      0.65      0.71      5421\n",
      "           6       0.87      0.88      0.88      5918\n",
      "           7       0.91      0.83      0.87      6265\n",
      "           8       0.70      0.76      0.73      5851\n",
      "           9       0.73      0.78      0.75      5949\n",
      "\n",
      "    accuracy                           0.81     60000\n",
      "   macro avg       0.81      0.81      0.81     60000\n",
      "weighted avg       0.82      0.81      0.81     60000\n",
      " [MainProcess : MainThread (INFO)]\n"
     ]
    },
    {
     "name": "stdout",
     "output_type": "stream",
     "text": [
      "CPU times: user 1min 36s, sys: 55.6 s, total: 2min 32s\n",
      "Wall time: 18.3 s\n"
     ]
    }
   ],
   "source": [
    "%%time\n",
    "train_report = hdc_model.train(train_loader, device)\n",
    "log.info(train_report)"
   ]
  },
  {
   "cell_type": "code",
   "execution_count": 29,
   "id": "6630d155",
   "metadata": {},
   "outputs": [
    {
     "name": "stdout",
     "output_type": "stream",
     "text": [
      "              precision    recall  f1-score   support\n",
      "\n",
      "           0       0.86      0.92      0.89       980\n",
      "           1       0.92      0.91      0.92      1135\n",
      "           2       0.85      0.79      0.82      1032\n",
      "           3       0.74      0.84      0.79      1010\n",
      "           4       0.83      0.81      0.82       982\n",
      "           5       0.80      0.65      0.72       892\n",
      "           6       0.86      0.87      0.87       958\n",
      "           7       0.92      0.83      0.87      1028\n",
      "           8       0.70      0.78      0.73       974\n",
      "           9       0.76      0.80      0.78      1009\n",
      "\n",
      "    accuracy                           0.82     10000\n",
      "   macro avg       0.82      0.82      0.82     10000\n",
      "weighted avg       0.83      0.82      0.82     10000\n",
      "\n",
      "CPU times: user 18.1 s, sys: 8.1 s, total: 26.2 s\n",
      "Wall time: 1.74 s\n"
     ]
    }
   ],
   "source": [
    "%%time\n",
    "test_report = hdc_model.test(test_loader, device)\n",
    "print(test_report)"
   ]
  },
  {
   "cell_type": "code",
   "execution_count": 30,
   "id": "55abd9bd",
   "metadata": {},
   "outputs": [
    {
     "name": "stdout",
     "output_type": "stream",
     "text": [
      "1\n",
      "2\n",
      "3\n",
      "3\n",
      "3\n",
      "3\n",
      "3\n",
      "3\n",
      "3\n",
      "3\n",
      "3\n",
      "3\n",
      "              precision    recall  f1-score   support\n",
      "\n",
      "           0       0.87      0.94      0.90       980\n",
      "           1       0.92      0.93      0.93      1135\n",
      "           2       0.84      0.81      0.82      1032\n",
      "           3       0.83      0.83      0.83      1010\n",
      "           4       0.87      0.87      0.87       982\n",
      "           5       0.82      0.73      0.77       892\n",
      "           6       0.87      0.88      0.88       958\n",
      "           7       0.90      0.85      0.87      1028\n",
      "           8       0.76      0.82      0.79       974\n",
      "           9       0.82      0.83      0.83      1009\n",
      "\n",
      "    accuracy                           0.85     10000\n",
      "   macro avg       0.85      0.85      0.85     10000\n",
      "weighted avg       0.85      0.85      0.85     10000\n",
      "\n",
      "1\n",
      "2\n",
      "3\n",
      "3\n",
      "3\n",
      "3\n",
      "3\n",
      "3\n",
      "3\n",
      "3\n",
      "3\n",
      "3\n",
      "              precision    recall  f1-score   support\n",
      "\n",
      "           0       0.87      0.94      0.91       980\n",
      "           1       0.92      0.94      0.93      1135\n",
      "           2       0.86      0.82      0.84      1032\n",
      "           3       0.85      0.85      0.85      1010\n",
      "           4       0.87      0.89      0.88       982\n",
      "           5       0.84      0.75      0.79       892\n",
      "           6       0.88      0.90      0.89       958\n",
      "           7       0.91      0.86      0.88      1028\n",
      "           8       0.78      0.83      0.80       974\n",
      "           9       0.84      0.83      0.83      1009\n",
      "\n",
      "    accuracy                           0.86     10000\n",
      "   macro avg       0.86      0.86      0.86     10000\n",
      "weighted avg       0.86      0.86      0.86     10000\n",
      "\n",
      "1\n",
      "2\n",
      "3\n",
      "3\n",
      "3\n",
      "3\n",
      "3\n",
      "3\n",
      "3\n",
      "3\n",
      "3\n",
      "3\n",
      "              precision    recall  f1-score   support\n",
      "\n",
      "           0       0.88      0.95      0.91       980\n",
      "           1       0.92      0.94      0.93      1135\n",
      "           2       0.87      0.83      0.85      1032\n",
      "           3       0.86      0.87      0.86      1010\n",
      "           4       0.87      0.90      0.88       982\n",
      "           5       0.85      0.76      0.80       892\n",
      "           6       0.88      0.90      0.89       958\n",
      "           7       0.90      0.86      0.88      1028\n",
      "           8       0.79      0.83      0.81       974\n",
      "           9       0.85      0.82      0.84      1009\n",
      "\n",
      "    accuracy                           0.87     10000\n",
      "   macro avg       0.87      0.87      0.87     10000\n",
      "weighted avg       0.87      0.87      0.87     10000\n",
      "\n",
      "1\n",
      "2\n",
      "3\n",
      "3\n",
      "3\n",
      "3\n",
      "3\n",
      "3\n",
      "3\n",
      "3\n",
      "3\n",
      "3\n",
      "              precision    recall  f1-score   support\n",
      "\n",
      "           0       0.89      0.96      0.92       980\n",
      "           1       0.93      0.94      0.94      1135\n",
      "           2       0.88      0.83      0.85      1032\n",
      "           3       0.86      0.87      0.87      1010\n",
      "           4       0.86      0.91      0.89       982\n",
      "           5       0.85      0.77      0.81       892\n",
      "           6       0.89      0.91      0.90       958\n",
      "           7       0.91      0.87      0.89      1028\n",
      "           8       0.80      0.84      0.82       974\n",
      "           9       0.86      0.83      0.84      1009\n",
      "\n",
      "    accuracy                           0.87     10000\n",
      "   macro avg       0.87      0.87      0.87     10000\n",
      "weighted avg       0.87      0.87      0.87     10000\n",
      "\n",
      "1\n",
      "2\n",
      "3\n",
      "3\n",
      "3\n",
      "3\n",
      "3\n",
      "3\n",
      "3\n",
      "3\n",
      "3\n",
      "3\n",
      "              precision    recall  f1-score   support\n",
      "\n",
      "           0       0.90      0.96      0.93       980\n",
      "           1       0.93      0.95      0.94      1135\n",
      "           2       0.89      0.84      0.86      1032\n",
      "           3       0.87      0.88      0.88      1010\n",
      "           4       0.86      0.92      0.89       982\n",
      "           5       0.86      0.78      0.82       892\n",
      "           6       0.89      0.91      0.90       958\n",
      "           7       0.90      0.88      0.89      1028\n",
      "           8       0.81      0.84      0.82       974\n",
      "           9       0.87      0.83      0.85      1009\n",
      "\n",
      "    accuracy                           0.88     10000\n",
      "   macro avg       0.88      0.88      0.88     10000\n",
      "weighted avg       0.88      0.88      0.88     10000\n",
      "\n",
      "1\n",
      "2\n",
      "3\n",
      "3\n",
      "3\n",
      "3\n",
      "3\n",
      "3\n",
      "3\n",
      "3\n",
      "3\n",
      "3\n",
      "              precision    recall  f1-score   support\n",
      "\n",
      "           0       0.91      0.96      0.93       980\n",
      "           1       0.93      0.95      0.94      1135\n",
      "           2       0.89      0.84      0.86      1032\n",
      "           3       0.87      0.88      0.88      1010\n",
      "           4       0.85      0.92      0.88       982\n",
      "           5       0.87      0.78      0.82       892\n",
      "           6       0.89      0.91      0.90       958\n",
      "           7       0.90      0.88      0.89      1028\n",
      "           8       0.81      0.84      0.83       974\n",
      "           9       0.87      0.83      0.85      1009\n",
      "\n",
      "    accuracy                           0.88     10000\n",
      "   macro avg       0.88      0.88      0.88     10000\n",
      "weighted avg       0.88      0.88      0.88     10000\n",
      "\n",
      "1\n",
      "2\n",
      "3\n",
      "3\n",
      "3\n",
      "3\n",
      "3\n",
      "3\n",
      "3\n",
      "3\n",
      "3\n",
      "3\n",
      "              precision    recall  f1-score   support\n",
      "\n",
      "           0       0.91      0.97      0.94       980\n",
      "           1       0.93      0.95      0.94      1135\n",
      "           2       0.89      0.84      0.86      1032\n",
      "           3       0.87      0.89      0.88      1010\n",
      "           4       0.85      0.92      0.89       982\n",
      "           5       0.87      0.78      0.82       892\n",
      "           6       0.90      0.91      0.91       958\n",
      "           7       0.90      0.89      0.89      1028\n",
      "           8       0.82      0.84      0.83       974\n",
      "           9       0.88      0.83      0.85      1009\n",
      "\n",
      "    accuracy                           0.88     10000\n",
      "   macro avg       0.88      0.88      0.88     10000\n",
      "weighted avg       0.88      0.88      0.88     10000\n",
      "\n",
      "1\n",
      "2\n",
      "3\n",
      "3\n",
      "3\n",
      "3\n",
      "3\n",
      "3\n",
      "3\n",
      "3\n",
      "3\n",
      "3\n",
      "              precision    recall  f1-score   support\n",
      "\n",
      "           0       0.91      0.97      0.94       980\n",
      "           1       0.94      0.96      0.95      1135\n",
      "           2       0.89      0.84      0.87      1032\n",
      "           3       0.88      0.89      0.88      1010\n",
      "           4       0.85      0.92      0.89       982\n",
      "           5       0.87      0.79      0.83       892\n",
      "           6       0.91      0.92      0.91       958\n",
      "           7       0.89      0.89      0.89      1028\n",
      "           8       0.83      0.84      0.84       974\n",
      "           9       0.88      0.83      0.86      1009\n",
      "\n",
      "    accuracy                           0.89     10000\n",
      "   macro avg       0.89      0.88      0.88     10000\n",
      "weighted avg       0.89      0.89      0.89     10000\n",
      "\n",
      "1\n",
      "2\n",
      "3\n",
      "3\n",
      "3\n",
      "3\n",
      "3\n",
      "3\n",
      "3\n",
      "3\n",
      "3\n",
      "3\n",
      "              precision    recall  f1-score   support\n",
      "\n",
      "           0       0.91      0.97      0.94       980\n",
      "           1       0.94      0.96      0.95      1135\n",
      "           2       0.90      0.84      0.87      1032\n",
      "           3       0.88      0.89      0.88      1010\n",
      "           4       0.86      0.92      0.89       982\n",
      "           5       0.87      0.79      0.83       892\n",
      "           6       0.91      0.92      0.91       958\n",
      "           7       0.89      0.89      0.89      1028\n",
      "           8       0.84      0.84      0.84       974\n",
      "           9       0.88      0.83      0.85      1009\n",
      "\n",
      "    accuracy                           0.89     10000\n",
      "   macro avg       0.89      0.89      0.89     10000\n",
      "weighted avg       0.89      0.89      0.89     10000\n",
      "\n",
      "1\n",
      "2\n",
      "3\n",
      "3\n",
      "3\n",
      "3\n",
      "3\n",
      "3\n",
      "3\n",
      "3\n",
      "3\n",
      "3\n",
      "              precision    recall  f1-score   support\n",
      "\n",
      "           0       0.91      0.97      0.94       980\n",
      "           1       0.94      0.96      0.95      1135\n",
      "           2       0.89      0.85      0.87      1032\n",
      "           3       0.87      0.89      0.88      1010\n",
      "           4       0.86      0.92      0.89       982\n",
      "           5       0.87      0.79      0.83       892\n",
      "           6       0.91      0.92      0.92       958\n",
      "           7       0.89      0.89      0.89      1028\n",
      "           8       0.84      0.84      0.84       974\n",
      "           9       0.88      0.84      0.86      1009\n",
      "\n",
      "    accuracy                           0.89     10000\n",
      "   macro avg       0.89      0.89      0.89     10000\n",
      "weighted avg       0.89      0.89      0.89     10000\n",
      "\n"
     ]
    }
   ],
   "source": [
    "for epoch in range(fedargs.epochs):\n",
    "    train_report = hdc_model.re_train(train_loader, device)\n",
    "    test_report = hdc_model.test(test_loader, device)\n",
    "    print(test_report)"
   ]
  },
  {
   "cell_type": "code",
   "execution_count": null,
   "id": "a88f4a46",
   "metadata": {},
   "outputs": [],
   "source": []
  }
 ],
 "metadata": {
  "kernelspec": {
   "display_name": "Python [conda env:syft]",
   "language": "python",
   "name": "conda-env-syft-py"
  },
  "language_info": {
   "codemirror_mode": {
    "name": "ipython",
    "version": 3
   },
   "file_extension": ".py",
   "mimetype": "text/x-python",
   "name": "python",
   "nbconvert_exporter": "python",
   "pygments_lexer": "ipython3",
   "version": "3.9.5"
  }
 },
 "nbformat": 4,
 "nbformat_minor": 5
}
