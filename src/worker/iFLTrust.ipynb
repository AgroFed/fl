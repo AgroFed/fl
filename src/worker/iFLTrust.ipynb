{
 "cells": [
  {
   "cell_type": "code",
   "execution_count": 117,
   "id": "dd9a9ad3",
   "metadata": {},
   "outputs": [
    {
     "name": "stdout",
     "output_type": "stream",
     "text": [
      "The autoreload extension is already loaded. To reload it, use:\n",
      "  %reload_ext autoreload\n"
     ]
    }
   ],
   "source": [
    "%load_ext autoreload\n",
    "%autoreload 2\n",
    "\n",
    "import os, sys\n",
    "import copy\n",
    "import socket\n",
    "from tqdm import tqdm\n",
    "import torch\n",
    "import pickle\n",
    "from torch import optim\n",
    "from pathlib import Path\n",
    "from torch.utils.tensorboard import SummaryWriter\n",
    "\n",
    "sys.path.insert(0, os.path.abspath(os.path.join(os.getcwd(), \"../../\")))\n",
    "from libs import fl, nn, agg, data, poison, log, sim"
   ]
  },
  {
   "cell_type": "code",
   "execution_count": 118,
   "id": "2963613b",
   "metadata": {},
   "outputs": [],
   "source": [
    "class FedArgs():\n",
    "    def __init__(self):\n",
    "        self.num_clients = 50\n",
    "        self.epochs = 10\n",
    "        self.local_rounds = 1\n",
    "        self.client_batch_size = 32\n",
    "        self.test_batch_size = 128\n",
    "        self.learning_rate = 1e-4\n",
    "        self.weight_decay = 1e-5\n",
    "        self.cuda = False\n",
    "        self.seed = 1\n",
    "        self.tb = SummaryWriter('../../out/runs/federated/FLTrust', comment=\"Mnist Centralized Federated training\")\n",
    "\n",
    "fedargs = FedArgs()"
   ]
  },
  {
   "cell_type": "code",
   "execution_count": 119,
   "id": "c6f15977",
   "metadata": {},
   "outputs": [],
   "source": [
    "use_cuda = fedargs.cuda and torch.cuda.is_available()\n",
    "torch.manual_seed(fedargs.seed)\n",
    "device = torch.device(\"cuda\" if use_cuda else \"cpu\")\n",
    "kwargs = {\"num_workers\": 1, \"pin_memory\": True} if use_cuda else {}"
   ]
  },
  {
   "cell_type": "code",
   "execution_count": 120,
   "id": "c0a13fe5",
   "metadata": {},
   "outputs": [],
   "source": [
    "host = socket.gethostname()\n",
    "clients = [host + \"(\" + str(client + 1) + \")\" for client in range(fedargs.num_clients)]"
   ]
  },
  {
   "cell_type": "code",
   "execution_count": 121,
   "id": "7c3f4ff8",
   "metadata": {},
   "outputs": [],
   "source": [
    "#Initialize Global and Client models\n",
    "global_model = nn.ModelMNIST()\n",
    "client_models = {client: copy.deepcopy(global_model) for client in clients}\n",
    "\n",
    "# Function for training\n",
    "def train_model(model, train_loader, fedargs):\n",
    "    model, loss = fl.client_update(model,\n",
    "                                train_loader,\n",
    "                                fedargs.learning_rate,\n",
    "                                fedargs.weight_decay,\n",
    "                                fedargs.local_rounds,\n",
    "                                device)\n",
    "    return model, loss"
   ]
  },
  {
   "cell_type": "code",
   "execution_count": 122,
   "id": "4dc4d3fc",
   "metadata": {},
   "outputs": [],
   "source": [
    "# Load MNIST Data to clients\n",
    "train_data, test_data = data.load_dataset(\"mnist\")"
   ]
  },
  {
   "cell_type": "code",
   "execution_count": 123,
   "id": "a96e19a0",
   "metadata": {},
   "outputs": [],
   "source": [
    "# For FLTrust\n",
    "#############Skip this section for running other averaging\n",
    "FLTrust = True\n",
    "root_ratio = 0.01\n",
    "train_data, root_data = torch.utils.data.random_split(train_data, [int(len(train_data) * (1-root_ratio)), \n",
    "                                                              int(len(train_data) * root_ratio)])\n",
    "root_loader = torch.utils.data.DataLoader(root_data, batch_size=fedargs.client_batch_size, shuffle=True, **kwargs)\n",
    "\n",
    "#global_model, _ = train_model(global_model, root_loader, fedargs)\n",
    "#client_models = {client: copy.deepcopy(global_model) for client in clients}\n",
    "#############"
   ]
  },
  {
   "cell_type": "code",
   "execution_count": 124,
   "id": "4895dc56",
   "metadata": {},
   "outputs": [],
   "source": [
    "clients_data = data.split_data(train_data, clients)"
   ]
  },
  {
   "cell_type": "code",
   "execution_count": 125,
   "id": "cf4f7c20",
   "metadata": {},
   "outputs": [],
   "source": [
    "# Poison a client\n",
    "################Skip this section for running without poison\n",
    "for client in range(10):\n",
    "    clients_data[clients[client]] = poison.label_flip(clients_data[clients[client]], 4, 9, poison_percent = -1)\n",
    "    \n",
    "#clients_data[clients[0]] = poison.label_flip(clients_data[clients[0]], 6, 2, poison_percent = 1)\n",
    "#clients_data[clients[0]] = poison.label_flip(clients_data[clients[0]], 3, 8, poison_percent = 1)\n",
    "#clients_data[clients[0]] = poison.label_flip(clients_data[clients[0]], 1, 5, poison_percent = 1)"
   ]
  },
  {
   "cell_type": "code",
   "execution_count": 126,
   "id": "76ccf606",
   "metadata": {},
   "outputs": [],
   "source": [
    "client_train_loaders, _ = data.load_client_data(clients_data, fedargs.client_batch_size, None, **kwargs)\n",
    "test_loader = torch.utils.data.DataLoader(test_data, batch_size=fedargs.test_batch_size, shuffle=True, **kwargs)\n",
    "\n",
    "clients_info = {\n",
    "        client: {\"train_loader\": client_train_loaders[client]}\n",
    "        for client in clients\n",
    "    }"
   ]
  },
  {
   "cell_type": "code",
   "execution_count": 127,
   "id": "75af4c69",
   "metadata": {},
   "outputs": [],
   "source": [
    "def get_model_diff(base, model):\n",
    "    params1 = model.state_dict().copy()\n",
    "    params2 = base.state_dict().copy()\n",
    "    with torch.no_grad():\n",
    "        for name1 in params1:\n",
    "            if name1 in params2:\n",
    "                params1[name1] = params1[name1] - params2[name1]\n",
    "    _model = copy.deepcopy(model)\n",
    "    _model.load_state_dict(params1, strict=False)\n",
    "    return _model\n",
    "\n",
    "base_model = nn.ModelMNIST()\n",
    "_base_model = copy.deepcopy(base_model)\n",
    "\n",
    "_A1 = copy.deepcopy(base_model)\n",
    "_A2 = copy.deepcopy(base_model)\n",
    "\n",
    "_C3 = copy.deepcopy(base_model)\n",
    "_C4 = copy.deepcopy(base_model)\n",
    "_C5 = copy.deepcopy(base_model)\n",
    "\n",
    "for i in range(3):\n",
    "    _base_model, _ = train_model(_base_model, root_loader, fedargs)\n",
    "    _A1, _ = train_model(_A1, clients_info[clients[0]]['train_loader'], fedargs)\n",
    "    _A2, _ = train_model(_A2, clients_info[clients[1]]['train_loader'], fedargs)\n",
    "\n",
    "    _C3, _ = train_model(_C3, clients_info[clients[20]]['train_loader'], fedargs)\n",
    "    _C4, _ = train_model(_C4, clients_info[clients[21]]['train_loader'], fedargs)\n",
    "    _C5, _ = train_model(_C4, clients_info[clients[22]]['train_loader'], fedargs)\n",
    "    \n",
    "    client_models = {0: _A1, 1: _A2, 2: _C3, 3: _C4, 4: _C5}\n",
    "    \n",
    "    #global_model = fl.federated_avg(client_models, _base_model, agg.Rule.FLTrust)\n",
    "    \n",
    "_base_model = get_model_diff(base_model, _base_model)\n",
    "_A1 = get_model_diff(base_model, _A1)\n",
    "_A2 = get_model_diff(base_model, _A2)\n",
    "_C3 = get_model_diff(base_model, _C3)\n",
    "_C4 = get_model_diff(base_model, _C4)\n",
    "_C5 = get_model_diff(base_model, _C5)"
   ]
  },
  {
   "cell_type": "code",
   "execution_count": 130,
   "id": "c18965d5",
   "metadata": {},
   "outputs": [
    {
     "name": "stdout",
     "output_type": "stream",
     "text": [
      "10.66\n",
      "###############\n",
      "0.3191995\n",
      "10.09\n",
      "###############\n",
      "0.3230263\n",
      "10.09\n",
      "###############\n",
      "0.5237853\n",
      "32.31\n",
      "###############\n",
      "0.5836278\n",
      "30.080000000000002\n",
      "###############\n",
      "0.563691\n",
      "39.910000000000004\n",
      "###############\n",
      "0.007604853\n"
     ]
    }
   ],
   "source": [
    "print(fl.eval(global_model, test_loader, device, 4, 9)['accuracy'])\n",
    "\n",
    "print(\"###############\")\n",
    "\n",
    "print(sim.grad_cosine_similarity(_base_model, _A1))\n",
    "print(fl.eval(_A1, test_loader, device, 4, 9)['accuracy'])\n",
    "\n",
    "print(\"###############\")\n",
    "\n",
    "print(sim.grad_cosine_similarity(_base_model, _A2))\n",
    "print(fl.eval(_A2, test_loader, device, 4, 9)['accuracy'])\n",
    "\n",
    "print(\"###############\")\n",
    "\n",
    "print(sim.grad_cosine_similarity(_base_model, _C3))\n",
    "print(fl.eval(_C3, test_loader, device, 4, 9)['accuracy'])\n",
    "\n",
    "print(\"###############\")\n",
    "\n",
    "print(sim.grad_cosine_similarity(_base_model, _C4))\n",
    "print(fl.eval(_C4, test_loader, device, 4, 9)['accuracy'])\n",
    "\n",
    "print(\"###############\")\n",
    "\n",
    "print(sim.grad_cosine_similarity(_base_model, _C5))\n",
    "print(fl.eval(_C5, test_loader, device, 4, 9)['accuracy'])\n",
    "\n",
    "print(\"###############\")\n",
    "\n",
    "print(sim.grad_cosine_similarity(nn.ModelMNIST(), nn.ModelMNIST()))"
   ]
  },
  {
   "cell_type": "code",
   "execution_count": 131,
   "id": "c75f4c66",
   "metadata": {},
   "outputs": [
    {
     "name": "stdout",
     "output_type": "stream",
     "text": [
      "2.2304773 0.9644073 0.9594911 3.625153 3.5358863 4.0946817\n"
     ]
    }
   ],
   "source": [
    "print(sim.grad_norm(_base_model), sim.grad_norm(_A1), sim.grad_norm(_A2), sim.grad_norm(_C3), sim.grad_norm(_C4), sim.grad_norm(_C5))"
   ]
  },
  {
   "cell_type": "code",
   "execution_count": null,
   "id": "8d553243",
   "metadata": {},
   "outputs": [],
   "source": []
  }
 ],
 "metadata": {
  "kernelspec": {
   "display_name": "Python [conda env:syft]",
   "language": "python",
   "name": "conda-env-syft-py"
  },
  "language_info": {
   "codemirror_mode": {
    "name": "ipython",
    "version": 3
   },
   "file_extension": ".py",
   "mimetype": "text/x-python",
   "name": "python",
   "nbconvert_exporter": "python",
   "pygments_lexer": "ipython3",
   "version": "3.9.5"
  }
 },
 "nbformat": 4,
 "nbformat_minor": 5
}
