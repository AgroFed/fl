{
 "cells": [
  {
   "cell_type": "code",
   "execution_count": 1,
   "id": "70a77f9c",
   "metadata": {},
   "outputs": [],
   "source": [
    "%load_ext autoreload\n",
    "%autoreload 2\n",
    "\n",
    "import asyncio, copy, os, pickle, socket, sys, time\n",
    "from functools import partial\n",
    "from multiprocessing import Pool, Process\n",
    "import networkx as nx\n",
    "import numpy as np\n",
    "from pathlib import Path\n",
    "from tqdm import tqdm\n",
    "\n",
    "import torch\n",
    "from torch import optim\n",
    "from torch.utils.tensorboard import SummaryWriter\n",
    "\n",
    "sys.path.insert(0, os.path.abspath(os.path.join(os.getcwd(), \"../\")))\n",
    "from libs import agg, data, fl, log, nn, plot, poison, resnet, sim, wandb\n",
    "from libs.distributed import *\n",
    "from cfgs.fedargs import *"
   ]
  },
  {
   "cell_type": "code",
   "execution_count": 2,
   "id": "8c9749cd",
   "metadata": {},
   "outputs": [
    {
     "name": "stderr",
     "output_type": "stream",
     "text": [
      "\u001b[34m\u001b[1mwandb\u001b[0m: Currently logged in as: \u001b[33mkasyah\u001b[0m (use `wandb login --relogin` to force relogin)\n",
      "\u001b[34m\u001b[1mwandb\u001b[0m: wandb version 0.12.5 is available!  To upgrade, please run:\n",
      "\u001b[34m\u001b[1mwandb\u001b[0m:  $ pip install wandb --upgrade\n"
     ]
    },
    {
     "data": {
      "text/html": [
       "\n",
       "                    Syncing run <strong><a href=\"https://wandb.ai/kasyah/fl-kafka/runs/2iixxjgp\" target=\"_blank\">fedavg-cnn-mnist-na</a></strong> to <a href=\"https://wandb.ai/kasyah/fl-kafka\" target=\"_blank\">Weights & Biases</a> (<a href=\"https://docs.wandb.com/integrations/jupyter.html\" target=\"_blank\">docs</a>).<br/>\n",
       "\n",
       "                "
      ],
      "text/plain": [
       "<IPython.core.display.HTML object>"
      ]
     },
     "metadata": {},
     "output_type": "display_data"
    }
   ],
   "source": [
    "project = 'fl-kafka'\n",
    "name = 'fedavg-cnn-mnist-na'\n",
    "\n",
    "# Save Logs To File (info | debug | warning | error | critical) [optional]\n",
    "log.init(\"info\")\n",
    "#log.init(\"info\", name)\n",
    "#log.init(\"debug\", name)\n",
    "\n",
    "fedargs.tb = SummaryWriter('../out/runs/' + project + '/' + name, comment=\"fl\")\n",
    "plot = plot.init(name, project)\n",
    "wb = wandb.init(name, project)"
   ]
  },
  {
   "cell_type": "code",
   "execution_count": 3,
   "id": "401483bb",
   "metadata": {},
   "outputs": [],
   "source": [
    "# Kafka topic to publish and subscribe\n",
    "fedargs.topic = 'pyflx'\n",
    "fedargs.num_clients = 10"
   ]
  },
  {
   "cell_type": "code",
   "execution_count": 4,
   "id": "6a3022ee",
   "metadata": {},
   "outputs": [],
   "source": [
    "use_cuda = fedargs.cuda and torch.cuda.is_available()\n",
    "torch.manual_seed(fedargs.seed)\n",
    "device = torch.device(\"cuda\" if use_cuda else \"cpu\")\n",
    "kwargs = {\"num_workers\": 1, \"pin_memory\": True} if use_cuda else {}"
   ]
  },
  {
   "cell_type": "code",
   "execution_count": 5,
   "id": "3e8de969",
   "metadata": {},
   "outputs": [],
   "source": [
    "host = socket.gethostname()\n",
    "clients = [host + \"(\" + str(client + 1) + \")\" for client in range(fedargs.num_clients)]"
   ]
  },
  {
   "cell_type": "code",
   "execution_count": 6,
   "id": "618dc172",
   "metadata": {},
   "outputs": [],
   "source": [
    "# Distributed topology\n",
    "dt = Distributed(clients)"
   ]
  },
  {
   "cell_type": "code",
   "execution_count": 7,
   "id": "e8a71374",
   "metadata": {},
   "outputs": [],
   "source": [
    "# Initialize Global and Client models\n",
    "global_model = copy.deepcopy(fedargs.model)\n",
    "# Load Data to clients\n",
    "train_data, test_data = data.load_dataset(fedargs.dataset)"
   ]
  },
  {
   "cell_type": "code",
   "execution_count": 8,
   "id": "da8c00ba",
   "metadata": {},
   "outputs": [],
   "source": [
    "clients_data = data.split_data(train_data, clients)"
   ]
  },
  {
   "cell_type": "code",
   "execution_count": 9,
   "id": "b7283a3b",
   "metadata": {},
   "outputs": [],
   "source": [
    "client_train_loaders, client_test_loaders = data.load_client_data(clients_data, fedargs.client_batch_size, 0.2, **kwargs)\n",
    "test_loader = torch.utils.data.DataLoader(test_data, batch_size=fedargs.test_batch_size, shuffle=True, **kwargs)\n",
    "\n",
    "client_details = {\n",
    "        client: {\"train_loader\": client_train_loaders[client],\n",
    "                 \"test_loader\": client_test_loaders[client],\n",
    "                 \"model\": copy.deepcopy(global_model),\n",
    "                 \"model_update\": None}\n",
    "        for client in clients\n",
    "    }"
   ]
  },
  {
   "cell_type": "code",
   "execution_count": 10,
   "id": "280fc803",
   "metadata": {},
   "outputs": [],
   "source": [
    "def background(f):\n",
    "    def wrapped(*args, **kwargs):\n",
    "        return asyncio.get_event_loop().run_in_executor(None, f, *args, **kwargs)\n",
    "\n",
    "    return wrapped\n",
    "\n",
    "@background\n",
    "def process(client, epoch, dt, model, train_loader, test_loader, fedargs, device):\n",
    "    log.info(\"Epoch: {}, Processing Client {}\".format(epoch, client))\n",
    "    \n",
    "    # Consume and Average, epoch passed is actually prev epoch, for which we want to consume updates\n",
    "    client_model_updates = dt.consume_model(client, fedargs.topic, model, epoch)\n",
    "    \n",
    "    # Pop one's own update\n",
    "    if client in client_model_updates:\n",
    "        client_model_updates.pop(client)\n",
    "\n",
    "    log.info(\"Epoch: {}, Client {} received {} model update(s) from {}\".format(epoch, client, \n",
    "                                                                               len(client_model_updates), \n",
    "                                                                               list(client_model_updates.keys())))\n",
    "    \n",
    "    if len(client_model_updates) != 0:\n",
    "        model = fl.federated_avg(client_model_updates, model)\n",
    "\n",
    "    # Train    \n",
    "    model_update, model, loss = fedargs.train_func(model, train_loader, \n",
    "                                                   fedargs.learning_rate,\n",
    "                                                   fedargs.weight_decay,\n",
    "                                                   fedargs.local_rounds, device)\n",
    "\n",
    "    # Publish\n",
    "    epoch = epoch + 1\n",
    "    dt.produce_model(client, fedargs.topic, model_update, epoch)\n",
    "\n",
    "    log.jsondebug(loss, \"Epoch {} : Federated Training loss, Client {}\".format(epoch, client))\n",
    "    log.modeldebug(model, \"Epoch {}: Client {} Update\".format(epoch, client))\n",
    "\n",
    "    # Test, Plot and Log\n",
    "    test_output = fedargs.eval_func(model, test_loader, device)\n",
    "    fedargs.tb.add_scalar(\"Accuracy/\" + client, test_output[\"accuracy\"], epoch)\n",
    "    fedargs.tb.add_scalar(\"Test Loss/\" + client, test_output[\"test_loss\"], epoch)\n",
    "    plot.alog(client, {epoch: {\"time\": time.time(), \"acc\": test_output[\"accuracy\"], \"loss\": test_output[\"test_loss\"]}})\n",
    "    wb.log({client: {\"epoch\": epoch, \"time\": time.time(), \"acc\": test_output[\"accuracy\"], \"loss\": test_output[\"test_loss\"]}})\n",
    "    log.jsoninfo(test_output, \"Test Outut after Epoch {} of {} for Client {}\".format(epoch, fedargs.epochs, client))\n",
    "\n",
    "    return model"
   ]
  },
  {
   "cell_type": "code",
   "execution_count": null,
   "id": "fc40c00d",
   "metadata": {},
   "outputs": [
    {
     "name": "stderr",
     "output_type": "stream",
     "text": [
      "  0%|          | 0/51 [00:00<?, ?it/s]2021-10-26 16:09:29,199 - <ipython-input-11-d06f8893748b>::<module>(l:6) : Federated Training Epoch 0 of 51 [MainProcess : MainThread (INFO)]\n",
      "2021-10-26 16:09:29,272 - <ipython-input-10-988a6d4ae51a>::process(l:9) : Epoch: 0, Processing Client bladecluster.iitp.org(4) [MainProcess : asyncio_3 (INFO)]\n",
      "2021-10-26 16:09:29,279 - <ipython-input-10-988a6d4ae51a>::process(l:9) : Epoch: 0, Processing Client bladecluster.iitp.org(5) [MainProcess : asyncio_4 (INFO)]\n",
      "2021-10-26 16:09:29,292 - <ipython-input-10-988a6d4ae51a>::process(l:9) : Epoch: 0, Processing Client bladecluster.iitp.org(1) [MainProcess : asyncio_0 (INFO)]\n",
      "2021-10-26 16:09:29,300 - <ipython-input-10-988a6d4ae51a>::process(l:9) : Epoch: 0, Processing Client bladecluster.iitp.org(7) [MainProcess : asyncio_6 (INFO)]\n",
      "2021-10-26 16:09:29,301 - <ipython-input-10-988a6d4ae51a>::process(l:9) : Epoch: 0, Processing Client bladecluster.iitp.org(3) [MainProcess : asyncio_2 (INFO)]\n",
      "2021-10-26 16:09:29,301 - <ipython-input-10-988a6d4ae51a>::process(l:9) : Epoch: 0, Processing Client bladecluster.iitp.org(2) [MainProcess : asyncio_1 (INFO)]\n",
      "2021-10-26 16:09:29,302 - <ipython-input-10-988a6d4ae51a>::process(l:9) : Epoch: 0, Processing Client bladecluster.iitp.org(6) [MainProcess : asyncio_5 (INFO)]\n",
      "2021-10-26 16:09:29,315 - <ipython-input-10-988a6d4ae51a>::process(l:9) : Epoch: 0, Processing Client bladecluster.iitp.org(9) [MainProcess : asyncio_8 (INFO)]\n",
      "2021-10-26 16:09:29,328 - <ipython-input-10-988a6d4ae51a>::process(l:9) : Epoch: 0, Processing Client bladecluster.iitp.org(8) [MainProcess : asyncio_7 (INFO)]\n",
      "2021-10-26 16:09:29,341 - <ipython-input-10-988a6d4ae51a>::process(l:9) : Epoch: 0, Processing Client bladecluster.iitp.org(10) [MainProcess : asyncio_9 (INFO)]\n",
      "2021-10-26 16:09:49,345 - <ipython-input-10-988a6d4ae51a>::process(l:18) : Epoch: 0, Client bladecluster.iitp.org(4) received 0 model update(s) from [] [MainProcess : asyncio_3 (INFO)]\n",
      "2021-10-26 16:09:49,410 - <ipython-input-10-988a6d4ae51a>::process(l:18) : Epoch: 0, Client bladecluster.iitp.org(1) received 0 model update(s) from [] [MainProcess : asyncio_0 (INFO)]\n",
      "2021-10-26 16:09:49,521 - <ipython-input-10-988a6d4ae51a>::process(l:18) : Epoch: 0, Client bladecluster.iitp.org(8) received 0 model update(s) from [] [MainProcess : asyncio_7 (INFO)]\n",
      "2021-10-26 16:09:49,529 - <ipython-input-10-988a6d4ae51a>::process(l:18) : Epoch: 0, Client bladecluster.iitp.org(7) received 0 model update(s) from [] [MainProcess : asyncio_6 (INFO)]\n",
      "2021-10-26 16:09:49,530 - <ipython-input-10-988a6d4ae51a>::process(l:18) : Epoch: 0, Client bladecluster.iitp.org(2) received 0 model update(s) from [] [MainProcess : asyncio_1 (INFO)]\n",
      "2021-10-26 16:09:49,534 - <ipython-input-10-988a6d4ae51a>::process(l:18) : Epoch: 0, Client bladecluster.iitp.org(5) received 0 model update(s) from [] [MainProcess : asyncio_4 (INFO)]\n",
      "2021-10-26 16:09:49,537 - <ipython-input-10-988a6d4ae51a>::process(l:18) : Epoch: 0, Client bladecluster.iitp.org(6) received 0 model update(s) from [] [MainProcess : asyncio_5 (INFO)]\n",
      "2021-10-26 16:09:49,557 - <ipython-input-10-988a6d4ae51a>::process(l:18) : Epoch: 0, Client bladecluster.iitp.org(3) received 0 model update(s) from [] [MainProcess : asyncio_2 (INFO)]\n",
      "2021-10-26 16:09:49,575 - <ipython-input-10-988a6d4ae51a>::process(l:18) : Epoch: 0, Client bladecluster.iitp.org(9) received 0 model update(s) from [] [MainProcess : asyncio_8 (INFO)]\n",
      "2021-10-26 16:09:49,575 - <ipython-input-10-988a6d4ae51a>::process(l:18) : Epoch: 0, Client bladecluster.iitp.org(10) received 0 model update(s) from [] [MainProcess : asyncio_9 (INFO)]\n",
      "2021-10-26 16:10:56,340 - /home/harsh_1921cs01/hub/AgroFed/fl/libs/protobuf_producer.py::produce(l:56) : Producing user records to topic pyflx. ^C to exit. [MainProcess : asyncio_6 (INFO)]\n",
      "2021-10-26 16:10:57,507 - /home/harsh_1921cs01/hub/AgroFed/fl/libs/protobuf_producer.py::produce(l:66) : Flushing records... [MainProcess : asyncio_6 (INFO)]\n",
      "2021-10-26 16:10:57,903 - /home/harsh_1921cs01/hub/AgroFed/fl/libs/protobuf_producer.py::delivery_report(l:50) : User record b'bladecluster.iitp.org(7)' successfully produced to pyflx [0] at offset 835 [MainProcess : asyncio_6 (INFO)]\n",
      "2021-10-26 16:11:00,043 - /home/harsh_1921cs01/hub/AgroFed/fl/libs/protobuf_producer.py::produce(l:56) : Producing user records to topic pyflx. ^C to exit. [MainProcess : asyncio_4 (INFO)]\n",
      "2021-10-26 16:11:00,050 - /home/harsh_1921cs01/hub/AgroFed/fl/libs/protobuf_producer.py::produce(l:56) : Producing user records to topic pyflx. ^C to exit. [MainProcess : asyncio_7 (INFO)]\n",
      "2021-10-26 16:11:00,388 - /home/harsh_1921cs01/hub/AgroFed/fl/libs/protobuf_producer.py::produce(l:66) : Flushing records... [MainProcess : asyncio_4 (INFO)]\n",
      "2021-10-26 16:11:00,443 - /home/harsh_1921cs01/hub/AgroFed/fl/libs/protobuf_producer.py::produce(l:66) : Flushing records... [MainProcess : asyncio_7 (INFO)]\n",
      "2021-10-26 16:11:01,452 - /home/harsh_1921cs01/hub/AgroFed/fl/libs/protobuf_producer.py::delivery_report(l:50) : User record b'bladecluster.iitp.org(8)' successfully produced to pyflx [0] at offset 836 [MainProcess : asyncio_7 (INFO)]\n",
      "2021-10-26 16:11:01,481 - /home/harsh_1921cs01/hub/AgroFed/fl/libs/protobuf_producer.py::delivery_report(l:50) : User record b'bladecluster.iitp.org(5)' successfully produced to pyflx [0] at offset 837 [MainProcess : asyncio_4 (INFO)]\n",
      "2021-10-26 16:11:01,486 - /home/harsh_1921cs01/hub/AgroFed/fl/libs/protobuf_producer.py::produce(l:56) : Producing user records to topic pyflx. ^C to exit. [MainProcess : asyncio_1 (INFO)]\n",
      "2021-10-26 16:11:02,660 - /home/harsh_1921cs01/hub/AgroFed/fl/libs/protobuf_producer.py::produce(l:66) : Flushing records... [MainProcess : asyncio_1 (INFO)]\n",
      "2021-10-26 16:11:03,650 - /home/harsh_1921cs01/hub/AgroFed/fl/libs/protobuf_producer.py::produce(l:56) : Producing user records to topic pyflx. ^C to exit. [MainProcess : asyncio_8 (INFO)]\n",
      "2021-10-26 16:11:03,653 - /home/harsh_1921cs01/hub/AgroFed/fl/libs/protobuf_producer.py::delivery_report(l:50) : User record b'bladecluster.iitp.org(2)' successfully produced to pyflx [0] at offset 838 [MainProcess : asyncio_1 (INFO)]\n",
      "2021-10-26 16:11:04,564 - /home/harsh_1921cs01/hub/AgroFed/fl/libs/protobuf_producer.py::produce(l:56) : Producing user records to topic pyflx. ^C to exit. [MainProcess : asyncio_5 (INFO)]\n",
      "2021-10-26 16:11:04,845 - /home/harsh_1921cs01/hub/AgroFed/fl/libs/protobuf_producer.py::produce(l:66) : Flushing records... [MainProcess : asyncio_8 (INFO)]\n",
      "2021-10-26 16:11:05,853 - /home/harsh_1921cs01/hub/AgroFed/fl/libs/protobuf_producer.py::produce(l:66) : Flushing records... [MainProcess : asyncio_5 (INFO)]\n",
      "2021-10-26 16:11:05,868 - /home/harsh_1921cs01/hub/AgroFed/fl/libs/protobuf_producer.py::delivery_report(l:50) : User record b'bladecluster.iitp.org(9)' successfully produced to pyflx [0] at offset 839 [MainProcess : asyncio_8 (INFO)]\n",
      "2021-10-26 16:11:05,895 - /home/harsh_1921cs01/hub/AgroFed/fl/libs/protobuf_producer.py::produce(l:56) : Producing user records to topic pyflx. ^C to exit. [MainProcess : asyncio_2 (INFO)]\n",
      "2021-10-26 16:11:06,615 - /home/harsh_1921cs01/hub/AgroFed/fl/libs/protobuf_producer.py::delivery_report(l:50) : User record b'bladecluster.iitp.org(6)' successfully produced to pyflx [0] at offset 840 [MainProcess : asyncio_5 (INFO)]\n",
      "2021-10-26 16:11:06,694 - /home/harsh_1921cs01/hub/AgroFed/fl/libs/protobuf_producer.py::produce(l:66) : Flushing records... [MainProcess : asyncio_2 (INFO)]\n",
      "2021-10-26 16:11:06,953 - /home/harsh_1921cs01/hub/AgroFed/fl/libs/protobuf_producer.py::delivery_report(l:50) : User record b'bladecluster.iitp.org(3)' successfully produced to pyflx [0] at offset 841 [MainProcess : asyncio_2 (INFO)]\n",
      "2021-10-26 16:11:07,806 - /home/harsh_1921cs01/hub/AgroFed/fl/libs/protobuf_producer.py::produce(l:56) : Producing user records to topic pyflx. ^C to exit. [MainProcess : asyncio_9 (INFO)]\n",
      "2021-10-26 16:11:08,756 - /home/harsh_1921cs01/hub/AgroFed/fl/libs/protobuf_producer.py::produce(l:66) : Flushing records... [MainProcess : asyncio_9 (INFO)]\n",
      "2021-10-26 16:11:08,893 - /home/harsh_1921cs01/hub/AgroFed/fl/libs/protobuf_producer.py::delivery_report(l:50) : User record b'bladecluster.iitp.org(10)' successfully produced to pyflx [0] at offset 842 [MainProcess : asyncio_9 (INFO)]\n"
     ]
    },
    {
     "name": "stderr",
     "output_type": "stream",
     "text": [
      "2021-10-26 16:11:09,579 - <ipython-input-10-988a6d4ae51a>::process(l:44) : Test Outut after Epoch 1 of 51 for Client bladecluster.iitp.org(7) {\n",
      "    \"accuracy\": 86.91666666666666,\n",
      "    \"correct\": 1043,\n",
      "    \"test_loss\": 0.46456432978312173\n",
      "} [MainProcess : asyncio_6 (INFO)]\n",
      "2021-10-26 16:11:10,492 - /home/harsh_1921cs01/hub/AgroFed/fl/libs/protobuf_producer.py::produce(l:56) : Producing user records to topic pyflx. ^C to exit. [MainProcess : asyncio_0 (INFO)]\n",
      "2021-10-26 16:11:10,902 - <ipython-input-10-988a6d4ae51a>::process(l:44) : Test Outut after Epoch 1 of 51 for Client bladecluster.iitp.org(8) {\n",
      "    \"accuracy\": 87.75,\n",
      "    \"correct\": 1053,\n",
      "    \"test_loss\": 0.47700483838717145\n",
      "} [MainProcess : asyncio_7 (INFO)]\n",
      "2021-10-26 16:11:11,012 - /home/harsh_1921cs01/hub/AgroFed/fl/libs/protobuf_producer.py::produce(l:66) : Flushing records... [MainProcess : asyncio_0 (INFO)]\n",
      "2021-10-26 16:11:11,217 - <ipython-input-10-988a6d4ae51a>::process(l:44) : Test Outut after Epoch 1 of 51 for Client bladecluster.iitp.org(5) {\n",
      "    \"accuracy\": 87.08333333333333,\n",
      "    \"correct\": 1045,\n",
      "    \"test_loss\": 0.4629969169696172\n",
      "} [MainProcess : asyncio_4 (INFO)]\n",
      "2021-10-26 16:11:11,966 - /home/harsh_1921cs01/hub/AgroFed/fl/libs/protobuf_producer.py::delivery_report(l:50) : User record b'bladecluster.iitp.org(1)' successfully produced to pyflx [0] at offset 843 [MainProcess : asyncio_0 (INFO)]\n",
      "2021-10-26 16:11:12,108 - /home/harsh_1921cs01/hub/AgroFed/fl/libs/protobuf_producer.py::produce(l:56) : Producing user records to topic pyflx. ^C to exit. [MainProcess : asyncio_3 (INFO)]\n",
      "2021-10-26 16:11:12,526 - /home/harsh_1921cs01/hub/AgroFed/fl/libs/protobuf_producer.py::produce(l:66) : Flushing records... [MainProcess : asyncio_3 (INFO)]\n",
      "2021-10-26 16:11:12,905 - <ipython-input-10-988a6d4ae51a>::process(l:44) : Test Outut after Epoch 1 of 51 for Client bladecluster.iitp.org(2) {\n",
      "    \"accuracy\": 87.91666666666667,\n",
      "    \"correct\": 1055,\n",
      "    \"test_loss\": 0.42723613818486533\n",
      "} [MainProcess : asyncio_1 (INFO)]\n",
      "2021-10-26 16:11:13,174 - /home/harsh_1921cs01/hub/AgroFed/fl/libs/protobuf_producer.py::delivery_report(l:50) : User record b'bladecluster.iitp.org(4)' successfully produced to pyflx [0] at offset 844 [MainProcess : asyncio_3 (INFO)]\n",
      "2021-10-26 16:11:13,680 - <ipython-input-10-988a6d4ae51a>::process(l:44) : Test Outut after Epoch 1 of 51 for Client bladecluster.iitp.org(9) {\n",
      "    \"accuracy\": 86.66666666666667,\n",
      "    \"correct\": 1040,\n",
      "    \"test_loss\": 0.46891141176223755\n",
      "} [MainProcess : asyncio_8 (INFO)]\n",
      "2021-10-26 16:11:14,087 - <ipython-input-10-988a6d4ae51a>::process(l:44) : Test Outut after Epoch 1 of 51 for Client bladecluster.iitp.org(6) {\n",
      "    \"accuracy\": 86.91666666666666,\n",
      "    \"correct\": 1043,\n",
      "    \"test_loss\": 0.4565728863080343\n",
      "} [MainProcess : asyncio_5 (INFO)]\n",
      "2021-10-26 16:11:14,274 - <ipython-input-10-988a6d4ae51a>::process(l:44) : Test Outut after Epoch 1 of 51 for Client bladecluster.iitp.org(3) {\n",
      "    \"accuracy\": 87.83333333333333,\n",
      "    \"correct\": 1054,\n",
      "    \"test_loss\": 0.5051699431737264\n",
      "} [MainProcess : asyncio_2 (INFO)]\n",
      "2021-10-26 16:11:14,718 - <ipython-input-10-988a6d4ae51a>::process(l:44) : Test Outut after Epoch 1 of 51 for Client bladecluster.iitp.org(10) {\n",
      "    \"accuracy\": 88.16666666666667,\n",
      "    \"correct\": 1058,\n",
      "    \"test_loss\": 0.4580042310555776\n",
      "} [MainProcess : asyncio_9 (INFO)]\n",
      "2021-10-26 16:11:15,265 - <ipython-input-10-988a6d4ae51a>::process(l:44) : Test Outut after Epoch 1 of 51 for Client bladecluster.iitp.org(1) {\n",
      "    \"accuracy\": 87.0,\n",
      "    \"correct\": 1044,\n",
      "    \"test_loss\": 0.4716558114687602\n",
      "} [MainProcess : asyncio_0 (INFO)]\n",
      "2021-10-26 16:11:15,417 - <ipython-input-10-988a6d4ae51a>::process(l:44) : Test Outut after Epoch 1 of 51 for Client bladecluster.iitp.org(4) {\n",
      "    \"accuracy\": 88.41666666666667,\n",
      "    \"correct\": 1061,\n",
      "    \"test_loss\": 0.43875196218490603\n",
      "} [MainProcess : asyncio_3 (INFO)]\n",
      "  2%|▏         | 1/51 [01:46<1:28:52, 106.65s/it]2021-10-26 16:11:15,448 - <ipython-input-11-d06f8893748b>::<module>(l:6) : Federated Training Epoch 1 of 51 [MainProcess : MainThread (INFO)]\n",
      "2021-10-26 16:11:15,472 - <ipython-input-10-988a6d4ae51a>::process(l:9) : Epoch: 1, Processing Client bladecluster.iitp.org(1) [MainProcess : asyncio_6 (INFO)]\n",
      "2021-10-26 16:11:15,505 - <ipython-input-10-988a6d4ae51a>::process(l:9) : Epoch: 1, Processing Client bladecluster.iitp.org(5) [MainProcess : asyncio_8 (INFO)]\n",
      "2021-10-26 16:11:15,580 - <ipython-input-10-988a6d4ae51a>::process(l:9) : Epoch: 1, Processing Client bladecluster.iitp.org(8) [MainProcess : asyncio_9 (INFO)]\n",
      "2021-10-26 16:11:15,580 - <ipython-input-10-988a6d4ae51a>::process(l:9) : Epoch: 1, Processing Client bladecluster.iitp.org(6) [MainProcess : asyncio_5 (INFO)]\n",
      "2021-10-26 16:11:15,599 - <ipython-input-10-988a6d4ae51a>::process(l:9) : Epoch: 1, Processing Client bladecluster.iitp.org(3) [MainProcess : asyncio_4 (INFO)]\n",
      "2021-10-26 16:11:15,630 - <ipython-input-10-988a6d4ae51a>::process(l:9) : Epoch: 1, Processing Client bladecluster.iitp.org(7) [MainProcess : asyncio_2 (INFO)]\n",
      "2021-10-26 16:11:15,637 - <ipython-input-10-988a6d4ae51a>::process(l:9) : Epoch: 1, Processing Client bladecluster.iitp.org(2) [MainProcess : asyncio_7 (INFO)]\n",
      "2021-10-26 16:11:15,638 - <ipython-input-10-988a6d4ae51a>::process(l:9) : Epoch: 1, Processing Client bladecluster.iitp.org(4) [MainProcess : asyncio_1 (INFO)]\n",
      "2021-10-26 16:11:15,668 - <ipython-input-10-988a6d4ae51a>::process(l:9) : Epoch: 1, Processing Client bladecluster.iitp.org(9) [MainProcess : asyncio_0 (INFO)]\n",
      "2021-10-26 16:11:15,951 - <ipython-input-10-988a6d4ae51a>::process(l:9) : Epoch: 1, Processing Client bladecluster.iitp.org(10) [MainProcess : asyncio_3 (INFO)]\n",
      "2021-10-26 16:11:35,601 - <ipython-input-10-988a6d4ae51a>::process(l:18) : Epoch: 1, Client bladecluster.iitp.org(1) received 9 model update(s) from ['bladecluster.iitp.org(7)', 'bladecluster.iitp.org(8)', 'bladecluster.iitp.org(5)', 'bladecluster.iitp.org(2)', 'bladecluster.iitp.org(9)', 'bladecluster.iitp.org(6)', 'bladecluster.iitp.org(3)', 'bladecluster.iitp.org(10)', 'bladecluster.iitp.org(4)'] [MainProcess : asyncio_6 (INFO)]\n",
      "2021-10-26 16:11:35,693 - <ipython-input-10-988a6d4ae51a>::process(l:18) : Epoch: 1, Client bladecluster.iitp.org(5) received 9 model update(s) from ['bladecluster.iitp.org(7)', 'bladecluster.iitp.org(8)', 'bladecluster.iitp.org(2)', 'bladecluster.iitp.org(9)', 'bladecluster.iitp.org(6)', 'bladecluster.iitp.org(3)', 'bladecluster.iitp.org(10)', 'bladecluster.iitp.org(1)', 'bladecluster.iitp.org(4)'] [MainProcess : asyncio_8 (INFO)]\n",
      "2021-10-26 16:11:35,744 - <ipython-input-10-988a6d4ae51a>::process(l:18) : Epoch: 1, Client bladecluster.iitp.org(8) received 9 model update(s) from ['bladecluster.iitp.org(7)', 'bladecluster.iitp.org(5)', 'bladecluster.iitp.org(2)', 'bladecluster.iitp.org(9)', 'bladecluster.iitp.org(6)', 'bladecluster.iitp.org(3)', 'bladecluster.iitp.org(10)', 'bladecluster.iitp.org(1)', 'bladecluster.iitp.org(4)'] [MainProcess : asyncio_9 (INFO)]\n",
      "2021-10-26 16:11:35,805 - <ipython-input-10-988a6d4ae51a>::process(l:18) : Epoch: 1, Client bladecluster.iitp.org(6) received 9 model update(s) from ['bladecluster.iitp.org(7)', 'bladecluster.iitp.org(8)', 'bladecluster.iitp.org(5)', 'bladecluster.iitp.org(2)', 'bladecluster.iitp.org(9)', 'bladecluster.iitp.org(3)', 'bladecluster.iitp.org(10)', 'bladecluster.iitp.org(1)', 'bladecluster.iitp.org(4)'] [MainProcess : asyncio_5 (INFO)]\n",
      "2021-10-26 16:11:36,012 - <ipython-input-10-988a6d4ae51a>::process(l:18) : Epoch: 1, Client bladecluster.iitp.org(3) received 9 model update(s) from ['bladecluster.iitp.org(7)', 'bladecluster.iitp.org(8)', 'bladecluster.iitp.org(5)', 'bladecluster.iitp.org(2)', 'bladecluster.iitp.org(9)', 'bladecluster.iitp.org(6)', 'bladecluster.iitp.org(10)', 'bladecluster.iitp.org(1)', 'bladecluster.iitp.org(4)'] [MainProcess : asyncio_4 (INFO)]\n",
      "2021-10-26 16:11:36,059 - <ipython-input-10-988a6d4ae51a>::process(l:18) : Epoch: 1, Client bladecluster.iitp.org(7) received 9 model update(s) from ['bladecluster.iitp.org(8)', 'bladecluster.iitp.org(5)', 'bladecluster.iitp.org(2)', 'bladecluster.iitp.org(9)', 'bladecluster.iitp.org(6)', 'bladecluster.iitp.org(3)', 'bladecluster.iitp.org(10)', 'bladecluster.iitp.org(1)', 'bladecluster.iitp.org(4)'] [MainProcess : asyncio_2 (INFO)]\n"
     ]
    },
    {
     "name": "stderr",
     "output_type": "stream",
     "text": [
      "2021-10-26 16:11:36,116 - <ipython-input-10-988a6d4ae51a>::process(l:18) : Epoch: 1, Client bladecluster.iitp.org(2) received 9 model update(s) from ['bladecluster.iitp.org(7)', 'bladecluster.iitp.org(8)', 'bladecluster.iitp.org(5)', 'bladecluster.iitp.org(9)', 'bladecluster.iitp.org(6)', 'bladecluster.iitp.org(3)', 'bladecluster.iitp.org(10)', 'bladecluster.iitp.org(1)', 'bladecluster.iitp.org(4)'] [MainProcess : asyncio_7 (INFO)]\n",
      "2021-10-26 16:11:36,323 - <ipython-input-10-988a6d4ae51a>::process(l:18) : Epoch: 1, Client bladecluster.iitp.org(4) received 9 model update(s) from ['bladecluster.iitp.org(7)', 'bladecluster.iitp.org(8)', 'bladecluster.iitp.org(5)', 'bladecluster.iitp.org(2)', 'bladecluster.iitp.org(9)', 'bladecluster.iitp.org(6)', 'bladecluster.iitp.org(3)', 'bladecluster.iitp.org(10)', 'bladecluster.iitp.org(1)'] [MainProcess : asyncio_1 (INFO)]\n",
      "2021-10-26 16:11:36,545 - <ipython-input-10-988a6d4ae51a>::process(l:18) : Epoch: 1, Client bladecluster.iitp.org(9) received 9 model update(s) from ['bladecluster.iitp.org(7)', 'bladecluster.iitp.org(8)', 'bladecluster.iitp.org(5)', 'bladecluster.iitp.org(2)', 'bladecluster.iitp.org(6)', 'bladecluster.iitp.org(3)', 'bladecluster.iitp.org(10)', 'bladecluster.iitp.org(1)', 'bladecluster.iitp.org(4)'] [MainProcess : asyncio_0 (INFO)]\n",
      "2021-10-26 16:11:36,674 - <ipython-input-10-988a6d4ae51a>::process(l:18) : Epoch: 1, Client bladecluster.iitp.org(10) received 9 model update(s) from ['bladecluster.iitp.org(7)', 'bladecluster.iitp.org(8)', 'bladecluster.iitp.org(5)', 'bladecluster.iitp.org(2)', 'bladecluster.iitp.org(9)', 'bladecluster.iitp.org(6)', 'bladecluster.iitp.org(3)', 'bladecluster.iitp.org(1)', 'bladecluster.iitp.org(4)'] [MainProcess : asyncio_3 (INFO)]\n",
      "2021-10-26 16:12:34,569 - /home/harsh_1921cs01/hub/AgroFed/fl/libs/protobuf_producer.py::produce(l:56) : Producing user records to topic pyflx. ^C to exit. [MainProcess : asyncio_6 (INFO)]\n",
      "2021-10-26 16:12:34,614 - /home/harsh_1921cs01/hub/AgroFed/fl/libs/protobuf_producer.py::produce(l:56) : Producing user records to topic pyflx. ^C to exit. [MainProcess : asyncio_1 (INFO)]\n",
      "2021-10-26 16:12:35,625 - /home/harsh_1921cs01/hub/AgroFed/fl/libs/protobuf_producer.py::produce(l:66) : Flushing records... [MainProcess : asyncio_1 (INFO)]\n",
      "2021-10-26 16:12:35,627 - /home/harsh_1921cs01/hub/AgroFed/fl/libs/protobuf_producer.py::produce(l:66) : Flushing records... [MainProcess : asyncio_6 (INFO)]\n",
      "2021-10-26 16:12:35,797 - /home/harsh_1921cs01/hub/AgroFed/fl/libs/protobuf_producer.py::delivery_report(l:50) : User record b'bladecluster.iitp.org(4)' successfully produced to pyflx [0] at offset 845 [MainProcess : asyncio_1 (INFO)]\n",
      "2021-10-26 16:12:36,582 - /home/harsh_1921cs01/hub/AgroFed/fl/libs/protobuf_producer.py::delivery_report(l:50) : User record b'bladecluster.iitp.org(1)' successfully produced to pyflx [0] at offset 846 [MainProcess : asyncio_6 (INFO)]\n",
      "2021-10-26 16:12:42,111 - /home/harsh_1921cs01/hub/AgroFed/fl/libs/protobuf_producer.py::produce(l:56) : Producing user records to topic pyflx. ^C to exit. [MainProcess : asyncio_0 (INFO)]\n",
      "2021-10-26 16:12:42,878 - <ipython-input-10-988a6d4ae51a>::process(l:44) : Test Outut after Epoch 2 of 51 for Client bladecluster.iitp.org(4) {\n",
      "    \"accuracy\": 76.0,\n",
      "    \"correct\": 912,\n",
      "    \"test_loss\": 0.8122401611010234\n",
      "} [MainProcess : asyncio_1 (INFO)]\n",
      "2021-10-26 16:12:43,040 - /home/harsh_1921cs01/hub/AgroFed/fl/libs/protobuf_producer.py::produce(l:66) : Flushing records... [MainProcess : asyncio_0 (INFO)]\n",
      "2021-10-26 16:12:43,533 - <ipython-input-10-988a6d4ae51a>::process(l:44) : Test Outut after Epoch 2 of 51 for Client bladecluster.iitp.org(1) {\n",
      "    \"accuracy\": 73.0,\n",
      "    \"correct\": 876,\n",
      "    \"test_loss\": 0.8585663414001465\n",
      "} [MainProcess : asyncio_6 (INFO)]\n",
      "2021-10-26 16:12:43,684 - /home/harsh_1921cs01/hub/AgroFed/fl/libs/protobuf_producer.py::delivery_report(l:50) : User record b'bladecluster.iitp.org(9)' successfully produced to pyflx [0] at offset 847 [MainProcess : asyncio_0 (INFO)]\n"
     ]
    }
   ],
   "source": [
    "import time\n",
    "start_time = time.time()\n",
    "\n",
    "# Federated Training\n",
    "for epoch in tqdm(range(fedargs.epochs)):\n",
    "    log.info(\"Federated Training Epoch {} of {}\".format(epoch, fedargs.epochs))\n",
    "\n",
    "    # Clients  \n",
    "    tasks = [process(client, epoch, dt, client_details[client]['model'],\n",
    "                     client_details[client]['train_loader'],\n",
    "                     client_details[client]['test_loader'],\n",
    "                     fedargs, device) for client in clients]\n",
    "    try:\n",
    "        updates = fedargs.loop.run_until_complete(asyncio.gather(*tasks))\n",
    "    except KeyboardInterrupt as e:\n",
    "        log.error(\"Caught keyboard interrupt. Canceling tasks...\")\n",
    "        tasks.cancel()\n",
    "        fedargs.loop.run_forever()\n",
    "        tasks.exception()\n",
    "    \n",
    "    for client, update in zip(clients, updates):\n",
    "        client_details[client]['model'] = update\n",
    "    \n",
    "print(time.time() - start_time)"
   ]
  },
  {
   "cell_type": "markdown",
   "id": "41c8617e",
   "metadata": {
    "deletable": false,
    "editable": false
   },
   "source": [
    "<h1> End </h1>"
   ]
  }
 ],
 "metadata": {
  "kernelspec": {
   "display_name": "Python [conda env:syft]",
   "language": "python",
   "name": "conda-env-syft-py"
  },
  "language_info": {
   "codemirror_mode": {
    "name": "ipython",
    "version": 3
   },
   "file_extension": ".py",
   "mimetype": "text/x-python",
   "name": "python",
   "nbconvert_exporter": "python",
   "pygments_lexer": "ipython3",
   "version": "3.9.5"
  }
 },
 "nbformat": 4,
 "nbformat_minor": 5
}
