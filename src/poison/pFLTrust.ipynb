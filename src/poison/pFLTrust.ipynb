{
 "cells": [
  {
   "cell_type": "code",
   "execution_count": 1,
   "id": "232564c2",
   "metadata": {},
   "outputs": [],
   "source": [
    "%load_ext autoreload\n",
    "%autoreload 2\n",
    "\n",
    "import asyncio, copy, os, pickle, socket, sys, time\n",
    "from functools import partial\n",
    "from multiprocessing import Pool, Process\n",
    "from pathlib import Path\n",
    "from tqdm import tqdm\n",
    "\n",
    "import torch\n",
    "from torch import optim\n",
    "from torch.utils.tensorboard import SummaryWriter\n",
    "\n",
    "sys.path.insert(0, os.path.abspath(os.path.join(os.getcwd(), \"../../\")))\n",
    "from libs import agg, data, fl, log, nn, poison, resnet, sim"
   ]
  },
  {
   "cell_type": "code",
   "execution_count": 2,
   "id": "8787d638",
   "metadata": {},
   "outputs": [],
   "source": [
    "# Save Logs To File (info | debug | warning | error | critical) [optional]\n",
    "log.init(\"info\")\n",
    "#log.init(\"info\", \"federated.log\")\n",
    "#log.init(\"debug\", \"flkafka.log\")"
   ]
  },
  {
   "cell_type": "code",
   "execution_count": 3,
   "id": "220fa492",
   "metadata": {},
   "outputs": [],
   "source": [
    "class FedArgs():\n",
    "    def __init__(self):\n",
    "        self.num_clients = 50\n",
    "        self.epochs = 25\n",
    "        self.local_rounds = 1\n",
    "        self.client_batch_size = 32\n",
    "        self.test_batch_size = 128\n",
    "        self.learning_rate = 1e-4\n",
    "        self.weight_decay = 1e-5\n",
    "        self.cuda = False\n",
    "        self.seed = 1\n",
    "        self.loop = asyncio.get_event_loop()\n",
    "        self.tb = SummaryWriter('../../out/runs/federated/FLTrust/mn-sine-100-dot-2(1)', comment=\"Centralized Federated training\")\n",
    "\n",
    "fedargs = FedArgs()"
   ]
  },
  {
   "cell_type": "code",
   "execution_count": 4,
   "id": "00c959a0",
   "metadata": {},
   "outputs": [],
   "source": [
    "use_cuda = fedargs.cuda and torch.cuda.is_available()\n",
    "torch.manual_seed(fedargs.seed)\n",
    "device = torch.device(\"cuda\" if use_cuda else \"cpu\")\n",
    "kwargs = {\"num_workers\": 1, \"pin_memory\": True} if use_cuda else {}"
   ]
  },
  {
   "cell_type": "code",
   "execution_count": 5,
   "id": "a548fb46",
   "metadata": {},
   "outputs": [],
   "source": [
    "host = socket.gethostname()\n",
    "clients = [host + \"(\" + str(client + 1) + \")\" for client in range(fedargs.num_clients)]"
   ]
  },
  {
   "cell_type": "code",
   "execution_count": 6,
   "id": "62e7ad58",
   "metadata": {},
   "outputs": [],
   "source": [
    "# Initialize Global and Client models\n",
    "#init_model = resnet.ResNet18() #For cifar\n",
    "init_model = nn.ModelMNIST() #For mnist and f-mnist\n",
    "global_model = copy.deepcopy(init_model)\n",
    "\n",
    "# Function for training\n",
    "def train_model(_model, train_loader, fedargs, device):\n",
    "    model, loss = fl.client_update(_model,\n",
    "                                train_loader,\n",
    "                                fedargs.learning_rate,\n",
    "                                fedargs.weight_decay,\n",
    "                                fedargs.local_rounds,\n",
    "                                device)\n",
    "    model_update = agg.sub_model(_model, model)\n",
    "    return model_update, model, loss"
   ]
  },
  {
   "cell_type": "code",
   "execution_count": 7,
   "id": "983f5187",
   "metadata": {},
   "outputs": [],
   "source": [
    "# Load MNIST Data to clients\n",
    "train_data, test_data = data.load_dataset(\"mnist\")\n",
    "classes = [label + 1 for label in range(10)]"
   ]
  },
  {
   "cell_type": "markdown",
   "id": "1b6df59a",
   "metadata": {},
   "source": [
    "<h2>Set right parameters for poisoning here before proceeding, else make all False!</h2>"
   ]
  },
  {
   "cell_type": "code",
   "execution_count": 8,
   "id": "510951bb",
   "metadata": {},
   "outputs": [],
   "source": [
    "# FLTrust\n",
    "FLTrust = {\"is\": True,\n",
    "           \"ratio\": 0.003,\n",
    "           \"data\": None,\n",
    "           \"loader\": None,\n",
    "           \"proxy\": {\"is\": False,\n",
    "                     \"ratio\": 0.5,\n",
    "                     \"data\": None,\n",
    "                     \"loader\": None}}\n",
    "\n",
    "# No of malicious clients\n",
    "mal_clients = [c for c in range(24)]\n",
    "corrupt = {\"is\": False,\n",
    "           \"ratio\": 0.006,\n",
    "           \"data\": None,\n",
    "           \"loader\": None}\n",
    "\n",
    "# Label Flip\n",
    "label_flip_attack = {\"is\": False}\n",
    "label_flip_attack[\"source_label\"] = 4 if label_flip_attack[\"is\"] else None\n",
    "label_flip_attack[\"target_label\"] = 6 if label_flip_attack[\"is\"] else None\n",
    "\n",
    "# Layer replacement attack\n",
    "layer_replacement_attack = {\"is\": False}\n",
    "\n",
    "# Cosine attack\n",
    "cosine_attack = {\"is\": True,\n",
    "                 \"args\": {\"poison_percent\": 1, \n",
    "                          \"scale_dot\": 2, \n",
    "                          \"scale_norm\": 100}}\n",
    "\n",
    "# Sybil attack, for sending same update as base\n",
    "sybil_attack = {\"is\": False}"
   ]
  },
  {
   "cell_type": "markdown",
   "id": "88a7068e",
   "metadata": {},
   "source": [
    "<h2>Prepare a corrupted Model</h2>"
   ]
  },
  {
   "cell_type": "code",
   "execution_count": 9,
   "id": "61cc1cc9",
   "metadata": {},
   "outputs": [],
   "source": [
    "# Flip all the labels to next label\n",
    "def poison_labels_to_next(data, classes, poison_percent = 1):\n",
    "    for index, label in enumerate(classes):\n",
    "        corrupt_data = poison.label_flip(data, label, classes[(index + 1) % len(classes)], poison_percent)\n",
    "        \n",
    "    return corrupt_data\n",
    "    \n",
    "\n",
    "if corrupt[\"is\"]:\n",
    "    train_data, corrupt[\"data\"] = data.random_split(train_data, corrupt[\"ratio\"])\n",
    "    corrupt[\"data\"] = poison_labels_to_next(corrupt[\"data\"], classes)\n",
    "    corrupt[\"loader\"] = torch.utils.data.DataLoader(corrupt[\"data\"], batch_size=fedargs.client_batch_size, shuffle=True, **kwargs)\n"
   ]
  },
  {
   "cell_type": "markdown",
   "id": "e30c2041",
   "metadata": {},
   "source": [
    "<h2>FLTrust</h2>"
   ]
  },
  {
   "cell_type": "code",
   "execution_count": 10,
   "id": "f2b8b967",
   "metadata": {},
   "outputs": [
    {
     "name": "stderr",
     "output_type": "stream",
     "text": [
      "<>:6: SyntaxWarning: list indices must be integers or slices, not str; perhaps you missed a comma?\n",
      "<>:8: SyntaxWarning: list indices must be integers or slices, not str; perhaps you missed a comma?\n",
      "<>:6: SyntaxWarning: list indices must be integers or slices, not str; perhaps you missed a comma?\n",
      "<>:8: SyntaxWarning: list indices must be integers or slices, not str; perhaps you missed a comma?\n",
      "<ipython-input-10-5199794e1f00>:6: SyntaxWarning: list indices must be integers or slices, not str; perhaps you missed a comma?\n",
      "  FLTrust[\"data\"], FLTrust[\"proxy\"][\"data\"] = data.random_split(FLTrust[\"data\"], [\"proxy\"][\"ratio\"])\n",
      "<ipython-input-10-5199794e1f00>:8: SyntaxWarning: list indices must be integers or slices, not str; perhaps you missed a comma?\n",
      "  FLTrust[\"proxy\"][\"loader\"] = torch.utils.data.DataLoader([\"proxy\"][\"data\"], batch_size=fedargs.client_batch_size, shuffle=True, **kwargs)\n"
     ]
    }
   ],
   "source": [
    "if FLTrust[\"is\"]:\n",
    "    train_data, FLTrust[\"data\"] = data.random_split(train_data, FLTrust[\"ratio\"])\n",
    "    FLTrust[\"loader\"] = torch.utils.data.DataLoader(FLTrust[\"data\"], batch_size=fedargs.client_batch_size, shuffle=True, **kwargs)\n",
    "    \n",
    "    if FLTrust[\"proxy\"][\"is\"]:\n",
    "        FLTrust[\"data\"], FLTrust[\"proxy\"][\"data\"] = data.random_split(FLTrust[\"data\"], [\"proxy\"][\"ratio\"])\n",
    "        FLTrust[\"loader\"] = torch.utils.data.DataLoader(FLTrust[\"data\"], batch_size=fedargs.client_batch_size, shuffle=True, **kwargs)\n",
    "        FLTrust[\"proxy\"][\"loader\"] = torch.utils.data.DataLoader([\"proxy\"][\"data\"], batch_size=fedargs.client_batch_size, shuffle=True, **kwargs)"
   ]
  },
  {
   "cell_type": "code",
   "execution_count": 11,
   "id": "6251a3fe",
   "metadata": {},
   "outputs": [],
   "source": [
    "# Load client's data\n",
    "clients_data = data.split_data(train_data, clients)"
   ]
  },
  {
   "cell_type": "markdown",
   "id": "6a463ad5",
   "metadata": {},
   "source": [
    "<h2>Label Flip Attack</h2>"
   ]
  },
  {
   "cell_type": "code",
   "execution_count": 12,
   "id": "54367b7c",
   "metadata": {},
   "outputs": [],
   "source": [
    "if label_flip_attack[\"is\"]:\n",
    "    for client in mal_clients:\n",
    "        clients_data[clients[client]] = poison.label_flip(clients_data[clients[client]],\n",
    "                                                          label_flip_attack[\"source_label\"],\n",
    "                                                          label_flip_attack[\"target_label\"], -1)\n",
    "\n",
    "        for index, label in enumerate(classes):\n",
    "            pass#clients_data[clients[client]] = poison_labels_to_next(clients_data[clients[client]], classes, 1)"
   ]
  },
  {
   "cell_type": "code",
   "execution_count": 13,
   "id": "24ccdbde",
   "metadata": {},
   "outputs": [],
   "source": [
    "client_train_loaders, _ = data.load_client_data(clients_data, fedargs.client_batch_size, None, **kwargs)\n",
    "test_loader = torch.utils.data.DataLoader(test_data, batch_size=fedargs.test_batch_size, shuffle=True, **kwargs)\n",
    "\n",
    "client_details = {\n",
    "        client: {\"train_loader\": client_train_loaders[client],\n",
    "                 \"model\":  copy.deepcopy(global_model),\n",
    "                 \"model_update\": None}\n",
    "        for client in clients\n",
    "    }"
   ]
  },
  {
   "cell_type": "code",
   "execution_count": 14,
   "id": "a9e82171",
   "metadata": {},
   "outputs": [],
   "source": [
    "def background(f):\n",
    "    def wrapped(*args, **kwargs):\n",
    "        return asyncio.get_event_loop().run_in_executor(None, f, *args, **kwargs)\n",
    "\n",
    "    return wrapped\n",
    "\n",
    "@background\n",
    "def process(client, epoch, model, train_loader, fedargs, device):\n",
    "    # Train\n",
    "    model_update, model, loss = train_model(model, train_loader, fedargs, device)\n",
    "\n",
    "    log.jsondebug(loss, \"Epoch {} of {} : Federated Training loss, Client {}\".format(epoch, fedargs.epochs, client))\n",
    "    log.modeldebug(model_update, \"Epoch {} of {} : Client {} Update\".format(epoch, fedargs.epochs, client))\n",
    "    \n",
    "    return model_update"
   ]
  },
  {
   "cell_type": "code",
   "execution_count": null,
   "id": "274d1e11",
   "metadata": {},
   "outputs": [
    {
     "name": "stderr",
     "output_type": "stream",
     "text": [
      "  0%|          | 0/25 [00:00<?, ?it/s]2021-09-09 09:07:13,096 - <ipython-input-15-33fdf907db9d>::<module>(l:8) : Federated Training Epoch 1 of 25 [MainProcess : MainThread (INFO)]\n",
      "  4%|▍         | 1/25 [01:59<47:39, 119.14s/it]2021-09-09 09:09:12,051 - <ipython-input-15-33fdf907db9d>::<module>(l:8) : Federated Training Epoch 2 of 25 [MainProcess : MainThread (INFO)]\n",
      "/home/harsh_1921cs01/hub/F3IA/fl/libs/sim.py:92: VisibleDeprecationWarning: Creating an ndarray from ragged nested sequences (which is a list-or-tuple of lists-or-tuples-or ndarrays with different lengths or shapes) is deprecated. If you meant to do this, you must specify 'dtype=object' when creating the ndarray\n",
      "  _param_list = nd.array(param_list).squeeze()\n",
      "2021-09-09 09:09:17,223 - /home/harsh_1921cs01/hub/F3IA/fl/libs/agg.py::FLTrust(l:96) : Cosine Score [0.6721449, 0.68157136, 0.70089835, 0.6594348, 0.7095276, 0.6925321, 0.6912152, 0.66207516, 0.67786455, 0.6817634, 0.6927642, 0.68671393, 0.6834974, 0.6950217, 0.7147739, 0.6611587, 0.72831374, 0.6624277, 0.68413055, 0.7093728, 0.7214065, 0.68210715, 0.6808541, 0.6790846, 0.38370776, 0.40818074, 0.39491832, 0.38232654, 0.38605985, 0.35280907, 0.38773057, 0.39939177, 0.38830814, 0.38936836, 0.36232498, 0.3783207, 0.3870968, 0.36501306, 0.3940915, 0.3896178, 0.40201053, 0.3630707, 0.38987872, 0.38042724, 0.3857228, 0.3867276, 0.39370984, 0.3673825, 0.4071545, 0.36498612] [MainProcess : MainThread (INFO)]\n",
      "2021-09-09 09:09:17,242 - /home/harsh_1921cs01/hub/F3IA/fl/libs/agg.py::FLTrust(l:97) : FLTrust Score [0.034137167, 0.035433494, 0.04424327, 0.026973702, 0.04956228, 0.041231945, 0.040470853, 0.027222471, 0.034541667, 0.035617117, 0.03600465, 0.036794, 0.036685504, 0.039494783, 0.04653578, 0.031632144, 0.056347407, 0.030772392, 0.03959984, 0.051219646, 0.051390357, 0.03729263, 0.036744513, 0.033831008, 0.103658676, 0.11171154, 0.10811204, 0.10589723, 0.106245965, 0.10081883, 0.10815211, 0.10996266, 0.10774654, 0.10868241, 0.10288975, 0.1085782, 0.11067801, 0.10135516, 0.10779164, 0.10768559, 0.11335577, 0.10267934, 0.10722915, 0.10754371, 0.107811324, 0.10955703, 0.107351534, 0.10368273, 0.11480727, 0.09994674] [MainProcess : MainThread (INFO)]\n",
      "2021-09-09 09:09:23,239 - <ipython-input-15-33fdf907db9d>::<module>(l:29) : Global Test Outut after Epoch 2 of 25 {\n",
      "    \"accuracy\": 33.15,\n",
      "    \"correct\": 3315,\n",
      "    \"test_loss\": 2.2377919467926026\n",
      "} [MainProcess : MainThread (INFO)]\n",
      "  8%|▊         | 2/25 [04:12<48:52, 127.51s/it]2021-09-09 09:11:25,425 - <ipython-input-15-33fdf907db9d>::<module>(l:8) : Federated Training Epoch 3 of 25 [MainProcess : MainThread (INFO)]\n",
      "2021-09-09 09:11:30,601 - /home/harsh_1921cs01/hub/F3IA/fl/libs/agg.py::FLTrust(l:96) : Cosine Score [0.7843883, 0.8019651, 0.80204767, 0.7979021, 0.8014401, 0.7970541, 0.787905, 0.8038133, 0.8031777, 0.80069196, 0.7970739, 0.8035626, 0.7894724, 0.79890996, 0.8026954, 0.80196464, 0.7947472, 0.797446, 0.8005696, 0.7986296, 0.798769, 0.7971643, 0.79212654, 0.7864435, 0.5156323, 0.5292522, 0.5000545, 0.51585597, 0.5274053, 0.5429629, 0.5299203, 0.55285233, 0.5229203, 0.54535955, 0.51976925, 0.5238222, 0.5278346, 0.5219245, 0.5475731, 0.5469991, 0.5258896, 0.5233454, 0.5254049, 0.5528992, 0.54972714, 0.52511466, 0.5477782, 0.5517025, 0.5479789, 0.5287822] [MainProcess : MainThread (INFO)]\n",
      "2021-09-09 09:11:30,619 - /home/harsh_1921cs01/hub/F3IA/fl/libs/agg.py::FLTrust(l:97) : FLTrust Score [0.08655088, 0.09924105, 0.106807835, 0.09845726, 0.10298368, 0.0995885, 0.08579614, 0.102791555, 0.10043675, 0.098461166, 0.09389142, 0.10421473, 0.087500736, 0.099678785, 0.098588385, 0.101941794, 0.09545573, 0.099808745, 0.099871755, 0.09582265, 0.09693922, 0.09936071, 0.093295, 0.08338724, 0.13014805, 0.1369872, 0.12816967, 0.12924197, 0.13349754, 0.13063864, 0.13710804, 0.13434014, 0.13331833, 0.13595758, 0.13213675, 0.13180816, 0.13455999, 0.13454965, 0.13687053, 0.13401055, 0.13538237, 0.13207835, 0.13364893, 0.13646014, 0.14020763, 0.13486606, 0.13618265, 0.13805628, 0.1380271, 0.13229327] [MainProcess : MainThread (INFO)]\n",
      "2021-09-09 09:11:36,692 - <ipython-input-15-33fdf907db9d>::<module>(l:29) : Global Test Outut after Epoch 3 of 25 {\n",
      "    \"accuracy\": 39.1,\n",
      "    \"correct\": 3910,\n",
      "    \"test_loss\": 2.1539778442382813\n",
      "} [MainProcess : MainThread (INFO)]\n",
      " 12%|█▏        | 3/25 [06:24<47:30, 129.55s/it]2021-09-09 09:13:37,398 - <ipython-input-15-33fdf907db9d>::<module>(l:8) : Federated Training Epoch 4 of 25 [MainProcess : MainThread (INFO)]\n",
      "2021-09-09 09:13:42,375 - /home/harsh_1921cs01/hub/F3IA/fl/libs/agg.py::FLTrust(l:96) : Cosine Score [0.8112765, 0.7964481, 0.8104767, 0.8073793, 0.8094359, 0.8077172, 0.8089385, 0.81168777, 0.8127713, 0.79958326, 0.808267, 0.7980742, 0.79814196, 0.81249744, 0.8106852, 0.80569184, 0.8148388, 0.80772567, 0.8094635, 0.80330384, 0.8120595, 0.81074905, 0.81402093, 0.8036096, 0.58291274, 0.5893348, 0.60432583, 0.5730179, 0.5870092, 0.60135955, 0.5640237, 0.58764225, 0.60164565, 0.6056125, 0.5803469, 0.5861222, 0.5696394, 0.5876896, 0.5983154, 0.5633101, 0.58204854, 0.6013557, 0.6022441, 0.60050124, 0.5948342, 0.60682833, 0.61005294, 0.60165066, 0.5866093, 0.5792358] [MainProcess : MainThread (INFO)]\n",
      "2021-09-09 09:13:42,390 - /home/harsh_1921cs01/hub/F3IA/fl/libs/agg.py::FLTrust(l:97) : FLTrust Score [0.12629391, 0.13248178, 0.12288034, 0.12296706, 0.1191511, 0.12125416, 0.11267316, 0.11787287, 0.12092308, 0.13045901, 0.1258082, 0.1313088, 0.12982152, 0.120976426, 0.11649647, 0.12903467, 0.12384963, 0.123735785, 0.11779712, 0.13258308, 0.12004651, 0.12287932, 0.11442297, 0.12286307, 0.13884687, 0.14410146, 0.14424334, 0.14187492, 0.13884316, 0.14231086, 0.14275213, 0.14137647, 0.14356901, 0.1426457, 0.14254661, 0.14221376, 0.14061219, 0.14534795, 0.14453258, 0.14251351, 0.14317857, 0.14584722, 0.14438786, 0.14322007, 0.14294654, 0.145601, 0.144602, 0.14658749, 0.140895, 0.14235422] [MainProcess : MainThread (INFO)]\n",
      "2021-09-09 09:13:48,641 - <ipython-input-15-33fdf907db9d>::<module>(l:29) : Global Test Outut after Epoch 4 of 25 {\n",
      "    \"accuracy\": 49.0,\n",
      "    \"correct\": 4900,\n",
      "    \"test_loss\": 2.064369886016846\n",
      "} [MainProcess : MainThread (INFO)]\n"
     ]
    }
   ],
   "source": [
    "import time\n",
    "start_time = time.time()\n",
    "    \n",
    "# Federated Training\n",
    "for _epoch in tqdm(range(fedargs.epochs)):\n",
    "\n",
    "    epoch = _epoch + 1\n",
    "    log.info(\"Federated Training Epoch {} of {}\".format(epoch, fedargs.epochs))\n",
    "\n",
    "    # Gloabal Model Update\n",
    "    if epoch > 1:\n",
    "        # For Tmean and FLTrust, not impacts others as of now\n",
    "        avgargs = {\"beta\": 10, \n",
    "                   \"base_update\": global_model_update if FLTrust[\"is\"] else None,\n",
    "                   \"base_norm\": True}\n",
    "        \n",
    "        # Average\n",
    "        client_model_updates = {client: details[\"model_update\"] for client, details in client_details.items()}\n",
    "        global_model = fl.federated_avg(client_model_updates, global_model, agg.Rule.FLTrust, **avgargs)\n",
    "        log.modeldebug(global_model, \"Epoch {} of {} : Server Update\".format(epoch, fedargs.epochs))\n",
    "\n",
    "        # Test\n",
    "        global_test_output = fl.eval(global_model, test_loader, device,\n",
    "                                     label_flip_attack[\"source_label\"],\n",
    "                                     label_flip_attack[\"target_label\"])\n",
    "        fedargs.tb.add_scalar(\"Gloabl Accuracy/\", global_test_output[\"accuracy\"], epoch)\n",
    "        if label_flip_attack[\"is\"]:\n",
    "            fedargs.tb.add_scalar(\"Attack Success Rate/\", global_test_output[\"attack\"][\"attack_success_rate\"], epoch)\n",
    "        log.jsoninfo(global_test_output, \"Global Test Outut after Epoch {} of {}\".format(epoch, fedargs.epochs))\n",
    "    \n",
    "        # Update client models\n",
    "        for client in clients:\n",
    "            client_details[client]['model'] = copy.deepcopy(global_model)\n",
    "\n",
    "    # Clients\n",
    "    tasks = [process(client, epoch, client_details[client]['model'],\n",
    "                     client_details[client]['train_loader'],\n",
    "                     fedargs, device) for client in clients]\n",
    "    try:\n",
    "        updates = fedargs.loop.run_until_complete(asyncio.gather(*tasks))\n",
    "    except KeyboardInterrupt as e:\n",
    "        print(\"Caught keyboard interrupt. Canceling tasks...\")\n",
    "        tasks.cancel()\n",
    "        fedargs.loop.run_forever()\n",
    "        tasks.exception()\n",
    "\n",
    "    for client, update in zip(clients, updates):\n",
    "        client_details[client]['model_update'] = update\n",
    "    \n",
    "    if FLTrust[\"is\"]:\n",
    "        global_model_update, _, _ = train_model(global_model, FLTrust[\"loader\"], fedargs, device)\n",
    "\n",
    "        # For Attacks related to FLTrust\n",
    "        base_model_update = global_model_update\n",
    "        if FLTrust[\"proxy\"][\"is\"]:\n",
    "            base_model_update, _, _ = train_model(global_model, FLTrust[\"proxy\"][\"loader\"], fedargs, device)\n",
    "            \n",
    "        if layer_replacement_attack[\"is\"]:\n",
    "            if corrupt[\"is\"]:\n",
    "                corrupt_model_update, _, _ = train_model(global_model, corrupt[\"loader\"], fedargs, device)\n",
    "            for client in mal_clients:\n",
    "                client_details[clients[client]]['model_update'] = poison.layer_replacement_attack(base_model_update,\n",
    "                                                                                        corrupt_model_update \n",
    "                                                                                                  if corrupt[\"is\"] \n",
    "                                                                                                  else client_details[clients[client]]['model_update'],\n",
    "                                                                                        ['conv1.weight'])\n",
    "\n",
    "        # For cosine attack, Malicious Clients\n",
    "        if cosine_attack[\"is\"]:\n",
    "            b_arr, b_list = sim.get_net_arr(base_model_update)\n",
    "\n",
    "            with Pool(len(mal_clients)) as p:\n",
    "                func = partial(poison.model_poison_cosine_coord, b_arr, cosine_attack[\"args\"])\n",
    "                p_models = p.map(func, [sim.get_net_arr(client_details[clients[client]]['model_update'])[0]\n",
    "                                        for client in mal_clients])\n",
    "                p.close()\n",
    "                p.join()\n",
    "\n",
    "\n",
    "            for client, (p_arr, _) in zip(mal_clients, p_models):\n",
    "                client_details[clients[client]]['model_update'] = sim.get_arr_net(client_details[clients[client]]['model_update'],\n",
    "                                                                        p_arr, b_list)\n",
    "                \n",
    "            #plot params changed for only one client\n",
    "            fedargs.tb.add_scalar(\"Params Changed for Cosine Attack/\", p_models[0][1], epoch)\n",
    "\n",
    "        # For sybil attack, Malicious Clients\n",
    "        if sybil_attack[\"is\"]:\n",
    "            for client in mal_clients:\n",
    "                client_details[clients[client]]['model_update'] = base_model_update\n",
    "\n",
    "print(time.time() - start_time)"
   ]
  },
  {
   "cell_type": "code",
   "execution_count": null,
   "id": "4149f300",
   "metadata": {},
   "outputs": [],
   "source": [
    "nn.ModelMNIST()"
   ]
  },
  {
   "cell_type": "code",
   "execution_count": null,
   "id": "8dec049c",
   "metadata": {},
   "outputs": [],
   "source": []
  }
 ],
 "metadata": {
  "kernelspec": {
   "display_name": "Python [conda env:syft]",
   "language": "python",
   "name": "conda-env-syft-py"
  },
  "language_info": {
   "codemirror_mode": {
    "name": "ipython",
    "version": 3
   },
   "file_extension": ".py",
   "mimetype": "text/x-python",
   "name": "python",
   "nbconvert_exporter": "python",
   "pygments_lexer": "ipython3",
   "version": "3.9.5"
  }
 },
 "nbformat": 4,
 "nbformat_minor": 5
}
