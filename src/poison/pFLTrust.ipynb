{
 "cells": [
  {
   "cell_type": "code",
   "execution_count": 1,
   "id": "232564c2",
   "metadata": {},
   "outputs": [],
   "source": [
    "%load_ext autoreload\n",
    "%autoreload 2\n",
    "\n",
    "import asyncio, copy, os, pickle, socket, sys, time\n",
    "from functools import partial\n",
    "from multiprocessing import Pool, Process\n",
    "from pathlib import Path\n",
    "from tqdm import tqdm\n",
    "\n",
    "import torch\n",
    "from torch import optim\n",
    "from torch.utils.tensorboard import SummaryWriter\n",
    "\n",
    "sys.path.insert(0, os.path.abspath(os.path.join(os.getcwd(), \"../../\")))\n",
    "from libs import agg, data, fl, log, nn, poison, resnet, sim\n",
    "from cfgs.fedargs import *"
   ]
  },
  {
   "cell_type": "code",
   "execution_count": 2,
   "id": "8787d638",
   "metadata": {},
   "outputs": [],
   "source": [
    "# Save Logs To File (info | debug | warning | error | critical) [optional]\n",
    "log.init(\"info\")\n",
    "#log.init(\"info\", \"poison.log\")\n",
    "#log.init(\"debug\", \"poison.log\")"
   ]
  },
  {
   "cell_type": "code",
   "execution_count": 3,
   "id": "220fa492",
   "metadata": {},
   "outputs": [],
   "source": [
    "# Make changes as required by looking at the cfgs/fedargs\n",
    "fedargs.tb = SummaryWriter('../../out/runs/federated/FLTC/mn-lfa-attack', comment=\"posion\")\n",
    "fedargs.agg_rule = agg.Rule.FLTC\n",
    "#fedargs.dataset = \"fmnist\" # for cifar-10,\"fmnist\" for fmnist\n",
    "#fedargs.model = resnet.ResNet18() # for cifar10\n",
    "mal_clients = [c for c in range(10)]\n",
    "FLTrust[\"is\"] = True\n",
    "FLTrust[\"proxy\"][\"is\"] = False\n",
    "label_flip_attack[\"is\"] = True\n",
    "label_flip_attack[\"func\"] = poison.label_flip_next\n",
    "set_lfa_labels()\n",
    "backdoor_attack[\"is\"] = False\n",
    "layer_replacement_attack[\"is\"] = False\n",
    "cosine_attack[\"is\"] = False\n",
    "#cosine_attack[\"kn\"] = poison.Knowledge.FN\n",
    "#cosine_attack[\"kn\"] = poison.Knowledge.PN\n",
    "fang_attack[\"is\"] = False\n",
    "#fang_attack[\"kn\"] = poison.Knowledge.FN\n",
    "lie_attack[\"is\"] = False\n",
    "#lie_attack[\"kn\"] = poison.Knowledge.FN\n",
    "sota_attack[\"is\"] = False\n",
    "#sota_attack[\"kn\"] = poison.Knowledge.FN\n",
    "#dev_type: unit_vec\n",
    "#sota_attack[\"dev_type\"] = \"sign\"\n",
    "#sota_attack[\"dev_type\"] = \"std\"\n",
    "#func: sota_agnostic_min_max\n",
    "#sota_attack[\"func\"] = poison.sota_agnostic_min_sum\n",
    "#sota_attack[\"func\"] = poison.sota_agr_tailored_trmean\n",
    "sybil_attack[\"is\"] = False"
   ]
  },
  {
   "cell_type": "code",
   "execution_count": 4,
   "id": "00c959a0",
   "metadata": {},
   "outputs": [],
   "source": [
    "# Device settings\n",
    "use_cuda = fedargs.cuda and torch.cuda.is_available()\n",
    "torch.manual_seed(fedargs.seed)\n",
    "device = torch.device(\"cuda\" if use_cuda else \"cpu\")\n",
    "kwargs = {\"num_workers\": 1, \"pin_memory\": True} if use_cuda else {}"
   ]
  },
  {
   "cell_type": "code",
   "execution_count": 5,
   "id": "a548fb46",
   "metadata": {},
   "outputs": [],
   "source": [
    "# Prepare clients\n",
    "host = socket.gethostname()\n",
    "clients = [host + \"(\" + str(client + 1) + \")\" for client in range(fedargs.num_clients)]"
   ]
  },
  {
   "cell_type": "code",
   "execution_count": 6,
   "id": "62e7ad58",
   "metadata": {},
   "outputs": [],
   "source": [
    "# Initialize Global and Client models\n",
    "global_model = copy.deepcopy(fedargs.model)\n",
    "# Load Data to clients\n",
    "train_data, test_data = data.load_dataset(fedargs.dataset)"
   ]
  },
  {
   "cell_type": "markdown",
   "id": "e30c2041",
   "metadata": {},
   "source": [
    "<h2>FLTrust</h2>"
   ]
  },
  {
   "cell_type": "code",
   "execution_count": 7,
   "id": "f2b8b967",
   "metadata": {},
   "outputs": [],
   "source": [
    "if FLTrust[\"is\"]:\n",
    "    train_data, FLTrust[\"data\"] = data.random_split(train_data, FLTrust[\"ratio\"])\n",
    "    FLTrust[\"loader\"] = torch.utils.data.DataLoader(FLTrust[\"data\"], batch_size=fedargs.client_batch_size, shuffle=True, **kwargs)\n",
    "    \n",
    "    if FLTrust[\"proxy\"][\"is\"]:\n",
    "        FLTrust[\"data\"], FLTrust[\"proxy\"][\"data\"] = data.random_split(FLTrust[\"data\"], FLTrust[\"proxy\"][\"ratio\"])\n",
    "        FLTrust[\"loader\"] = torch.utils.data.DataLoader(FLTrust[\"data\"], batch_size=fedargs.client_batch_size, shuffle=True, **kwargs)\n",
    "        FLTrust[\"proxy\"][\"loader\"] = torch.utils.data.DataLoader(FLTrust[\"proxy\"][\"data\"], batch_size=fedargs.client_batch_size, shuffle=True, **kwargs)"
   ]
  },
  {
   "cell_type": "markdown",
   "id": "a64f39ac",
   "metadata": {},
   "source": [
    "<h2>Prepare a backdoored loader for test</h2>"
   ]
  },
  {
   "cell_type": "code",
   "execution_count": 8,
   "id": "4118be28",
   "metadata": {},
   "outputs": [],
   "source": [
    "if backdoor_attack[\"is\"]:\n",
    "    train_data, backdoor_attack[\"data\"] = data.random_split(train_data, backdoor_attack[\"ratio\"])\n",
    "    backdoor_attack[\"data\"] = poison.insert_trojan(backdoor_attack[\"data\"],\n",
    "                                                   backdoor_attack[\"target_label\"],\n",
    "                                                   backdoor_attack[\"trojan_func\"], 1)\n",
    "    backdoor_attack[\"loader\"] = torch.utils.data.DataLoader(backdoor_attack[\"data\"], batch_size=fedargs.client_batch_size, shuffle=True, **kwargs)"
   ]
  },
  {
   "cell_type": "markdown",
   "id": "28c3b884",
   "metadata": {},
   "source": [
    "<h2>Load client's data</h2>"
   ]
  },
  {
   "cell_type": "code",
   "execution_count": 9,
   "id": "6251a3fe",
   "metadata": {},
   "outputs": [],
   "source": [
    "clients_data = data.split_data(train_data, clients)"
   ]
  },
  {
   "cell_type": "markdown",
   "id": "932ce3b5",
   "metadata": {},
   "source": [
    "<h2>Label Flip Attack</h2>"
   ]
  },
  {
   "cell_type": "code",
   "execution_count": 10,
   "id": "54367b7c",
   "metadata": {},
   "outputs": [],
   "source": [
    "if label_flip_attack[\"is\"]:\n",
    "    for client in mal_clients:\n",
    "        clients_data[clients[client]] = label_flip_attack[\"func\"](clients_data[clients[client]],\n",
    "                                                                  label_flip_attack[\"labels\"],\n",
    "                                                                  label_flip_attack[\"percent\"])"
   ]
  },
  {
   "cell_type": "markdown",
   "id": "2701bd1b",
   "metadata": {},
   "source": [
    "<h2>Backdoor Attack</h2>"
   ]
  },
  {
   "cell_type": "code",
   "execution_count": 11,
   "id": "154887e5",
   "metadata": {},
   "outputs": [],
   "source": [
    "if backdoor_attack[\"is\"]:\n",
    "    for client in mal_clients:\n",
    "        clients_data[clients[client]] = poison.insert_trojan(clients_data[clients[client]],\n",
    "                                                             backdoor_attack[\"target_label\"],\n",
    "                                                             backdoor_attack[\"trojan_func\"], 0.5)"
   ]
  },
  {
   "cell_type": "code",
   "execution_count": 12,
   "id": "24ccdbde",
   "metadata": {},
   "outputs": [],
   "source": [
    "client_train_loaders, _ = data.load_client_data(clients_data, fedargs.client_batch_size, None, **kwargs)\n",
    "test_loader = torch.utils.data.DataLoader(test_data, batch_size=fedargs.test_batch_size, shuffle=True, **kwargs)\n",
    "\n",
    "client_details = {\n",
    "        client: {\"train_loader\": client_train_loaders[client],\n",
    "                 \"model\":  copy.deepcopy(global_model),\n",
    "                 \"model_update\": None}\n",
    "        for client in clients\n",
    "    }"
   ]
  },
  {
   "cell_type": "code",
   "execution_count": 13,
   "id": "a9e82171",
   "metadata": {},
   "outputs": [],
   "source": [
    "def background(f):\n",
    "    def wrapped(*args, **kwargs):\n",
    "        return asyncio.get_event_loop().run_in_executor(None, f, *args, **kwargs)\n",
    "\n",
    "    return wrapped\n",
    "\n",
    "@background\n",
    "def process(client, epoch, model, train_loader, fedargs, device):\n",
    "    # Train\n",
    "    model_update, model, loss = fl.train_model(model, train_loader, \n",
    "                                            fedargs.learning_rate,\n",
    "                                            fedargs.weight_decay,\n",
    "                                            fedargs.local_rounds, device)\n",
    "\n",
    "    log.jsondebug(loss, \"Epoch {} of {} : Federated Training loss, Client {}\".format(epoch, fedargs.epochs, client))\n",
    "    log.modeldebug(model_update, \"Epoch {} of {} : Client {} Update\".format(epoch, fedargs.epochs, client))\n",
    "    \n",
    "    return model_update"
   ]
  },
  {
   "cell_type": "code",
   "execution_count": null,
   "id": "274d1e11",
   "metadata": {},
   "outputs": [
    {
     "name": "stderr",
     "output_type": "stream",
     "text": [
      "  0%|          | 0/50 [00:00<?, ?it/s]2021-09-27 07:38:17,313 - <ipython-input-14-3128db248a86>::<module>(l:8) : Federated Training Epoch 1 of 50 [MainProcess : MainThread (INFO)]\n",
      "  2%|▏         | 1/50 [00:30<24:39, 30.20s/it]2021-09-27 07:38:47,309 - <ipython-input-14-3128db248a86>::<module>(l:8) : Federated Training Epoch 2 of 50 [MainProcess : MainThread (INFO)]\n",
      "2021-09-27 07:39:14,658 - /home/harsh_1921cs01/hub/F3IA/fl/libs/agg.py::FLTC(l:162) : FLTC Score [0.27391848 0.26949645 0.26865456 0.27156046 0.2699288  0.279191\n",
      " 0.27118616 0.27330336 0.26531572 0.2753694  0.38387945 0.3839391\n",
      " 0.37834425 0.38794504 0.38755273 0.37403253 0.3898974  0.38487049\n",
      " 0.37811892 0.38553827 0.38624238 0.38495852 0.38657936 0.39081052\n",
      " 0.37934598 0.38702705 0.38042472 0.38687787 0.39956319 0.39296723\n",
      " 0.39050233 0.38652984 0.38074111 0.38809042 0.38454625 0.39455452\n",
      " 0.38546438 0.3801379  0.39453177 0.37424139 0.37915698 0.39125885\n",
      " 0.38467184 0.38868277 0.3814768  0.3851767  0.38823726 0.37897703\n",
      " 0.38634837 0.39130916] [MainProcess : MainThread (INFO)]\n",
      "2021-09-27 07:39:20,626 - <ipython-input-14-3128db248a86>::<module>(l:35) : Global Test Outut after Epoch 2 of 50 {\n",
      "    \"accuracy\": 74.33999999999999,\n",
      "    \"attack\": {\n",
      "        \"attack_success_count\": 150,\n",
      "        \"attack_success_rate\": 1.5,\n",
      "        \"instances\": 10000,\n",
      "        \"misclassification_rate\": 25.66,\n",
      "        \"misclassifications\": 2566\n",
      "    },\n",
      "    \"correct\": 7434,\n",
      "    \"test_loss\": 1.2601889406204223\n",
      "} [MainProcess : MainThread (INFO)]\n",
      "  4%|▍         | 2/50 [01:33<39:36, 49.51s/it]2021-09-27 07:39:50,332 - <ipython-input-14-3128db248a86>::<module>(l:8) : Federated Training Epoch 3 of 50 [MainProcess : MainThread (INFO)]\n",
      "2021-09-27 07:40:18,025 - /home/harsh_1921cs01/hub/F3IA/fl/libs/agg.py::FLTC(l:162) : FLTC Score [0.2703184  0.27043189 0.26515882 0.27366259 0.26812163 0.26468982\n",
      " 0.26874938 0.26777564 0.26101614 0.26395598 0.3933945  0.39236071\n",
      " 0.39711527 0.39725076 0.40010427 0.39252776 0.40202782 0.39746205\n",
      " 0.39098181 0.39734169 0.39886202 0.3942989  0.39145538 0.39635745\n",
      " 0.39368707 0.40196695 0.39440587 0.39401994 0.39598645 0.39622279\n",
      " 0.39765666 0.39431409 0.39745766 0.39149543 0.39304449 0.39983332\n",
      " 0.39450458 0.39212503 0.39597002 0.40080708 0.39672379 0.3998158\n",
      " 0.39551391 0.39889648 0.39731537 0.39611991 0.39566496 0.39878605\n",
      " 0.39163002 0.39464336] [MainProcess : MainThread (INFO)]\n",
      "2021-09-27 07:40:25,079 - <ipython-input-14-3128db248a86>::<module>(l:35) : Global Test Outut after Epoch 3 of 50 {\n",
      "    \"accuracy\": 85.8,\n",
      "    \"attack\": {\n",
      "        \"attack_success_count\": 110,\n",
      "        \"attack_success_rate\": 1.0999999999999999,\n",
      "        \"instances\": 10000,\n",
      "        \"misclassification_rate\": 14.2,\n",
      "        \"misclassifications\": 1420\n",
      "    },\n",
      "    \"correct\": 8580,\n",
      "    \"test_loss\": 0.5894993991851807\n",
      "} [MainProcess : MainThread (INFO)]\n",
      "  6%|▌         | 3/50 [02:36<43:33, 55.61s/it]2021-09-27 07:40:53,206 - <ipython-input-14-3128db248a86>::<module>(l:8) : Federated Training Epoch 4 of 50 [MainProcess : MainThread (INFO)]\n",
      "2021-09-27 07:41:21,570 - /home/harsh_1921cs01/hub/F3IA/fl/libs/agg.py::FLTC(l:162) : FLTC Score [0.30530034 0.30727555 0.31008372 0.30696147 0.31041663 0.3079685\n",
      " 0.30869906 0.30594908 0.30667546 0.30686962 0.37698822 0.37141365\n",
      " 0.38156835 0.37571674 0.37207079 0.37631072 0.37601814 0.37631843\n",
      " 0.38216035 0.3741466  0.38276513 0.3798381  0.37551661 0.37655688\n",
      " 0.38331765 0.38159678 0.382564   0.37564528 0.38237916 0.37011934\n",
      " 0.3837216  0.37160458 0.37326167 0.37540135 0.37561898 0.37535982\n",
      " 0.37930925 0.37017204 0.377425   0.37446325 0.37828382 0.38350073\n",
      " 0.37682093 0.37675562 0.37793356 0.38046838 0.37183089 0.3725141\n",
      " 0.37639402 0.37970057] [MainProcess : MainThread (INFO)]\n",
      "2021-09-27 07:41:27,930 - <ipython-input-14-3128db248a86>::<module>(l:35) : Global Test Outut after Epoch 4 of 50 {\n",
      "    \"accuracy\": 89.18,\n",
      "    \"attack\": {\n",
      "        \"attack_success_count\": 112,\n",
      "        \"attack_success_rate\": 1.1199999999999999,\n",
      "        \"instances\": 10000,\n",
      "        \"misclassification_rate\": 10.82,\n",
      "        \"misclassifications\": 1082\n",
      "    },\n",
      "    \"correct\": 8918,\n",
      "    \"test_loss\": 0.44071903171539306\n",
      "} [MainProcess : MainThread (INFO)]\n"
     ]
    }
   ],
   "source": [
    "import time\n",
    "start_time = time.time()\n",
    "    \n",
    "# Federated Training\n",
    "for _epoch in tqdm(range(fedargs.epochs)):\n",
    "\n",
    "    epoch = _epoch + 1\n",
    "    log.info(\"Federated Training Epoch {} of {}\".format(epoch, fedargs.epochs))\n",
    "\n",
    "    # Gloabal Model Update\n",
    "    if epoch > 1:\n",
    "        # For Tmean and FLTrust, not impacts others as of now\n",
    "        avgargs = {\"beta\": len(mal_clients), \n",
    "                   \"base_model_update\": global_model_update if FLTrust[\"is\"] else None,\n",
    "                   \"base_norm\": True}\n",
    "        \n",
    "        # Average\n",
    "        global_model = fl.federated_avg(client_model_updates, global_model, fedargs.agg_rule, **avgargs)\n",
    "        log.modeldebug(global_model, \"Epoch {} of {} : Server Update\".format(epoch, fedargs.epochs))\n",
    "\n",
    "        # Test\n",
    "        global_test_output = fl.evaluate(global_model, test_loader, device, label_flip_attack[\"labels\"])\n",
    "        fedargs.tb.add_scalar(\"Gloabl Accuracy/\", global_test_output[\"accuracy\"], epoch)\n",
    "        fedargs.tb.add_scalar(\"Gloabl Test Loss/\", global_test_output[\"test_loss\"], epoch)\n",
    "        if \"attack\" in global_test_output:\n",
    "            if \"attack_success_rate\" in global_test_output[\"attack\"]:\n",
    "                fedargs.tb.add_scalar(\"Attack Success Rate/\", global_test_output[\"attack\"][\"attack_success_rate\"], epoch)\n",
    "            if \"misclassification_rate\" in global_test_output[\"attack\"]:\n",
    "                fedargs.tb.add_scalar(\"Misclassification Rate/\", global_test_output[\"attack\"][\"misclassification_rate\"], epoch)\n",
    "        if backdoor_attack[\"is\"]:\n",
    "            backdoor_test_output = fl.backdoor_test(global_model, backdoor_attack[\"loader\"], device,\n",
    "                                                                backdoor_attack[\"target_label\"])\n",
    "            fedargs.tb.add_scalar(\"Backdoor Success Rate/\", backdoor_test_output[\"accuracy\"], epoch)\n",
    "            log.jsoninfo(backdoor_test_output, \"Backdoor Test Outut after Epoch {} of {}\".format(epoch, fedargs.epochs))\n",
    "        log.jsoninfo(global_test_output, \"Global Test Outut after Epoch {} of {}\".format(epoch, fedargs.epochs))\n",
    "    \n",
    "        # Update client models\n",
    "        for client in clients:\n",
    "            client_details[client]['model'] = copy.deepcopy(global_model)\n",
    "\n",
    "    # Clients\n",
    "    tasks = [process(client, epoch, client_details[client]['model'],\n",
    "                     client_details[client]['train_loader'],\n",
    "                     fedargs, device) for client in clients]\n",
    "    try:\n",
    "        updates = fedargs.loop.run_until_complete(asyncio.gather(*tasks))\n",
    "    except KeyboardInterrupt as e:\n",
    "        print(\"Caught keyboard interrupt. Canceling tasks...\")\n",
    "        tasks.cancel()\n",
    "        fedargs.loop.run_forever()\n",
    "        tasks.exception()\n",
    "\n",
    "    for client, update in zip(clients, updates):\n",
    "        client_details[client]['model_update'] = update\n",
    "    client_model_updates = {client: details[\"model_update\"] for client, details in client_details.items()}\n",
    "    \n",
    "    # Fang attack\n",
    "    if fang_attack[\"is\"]:\n",
    "        client_model_updates = fang_attack[\"func\"](client_model_updates, len(mal_clients), fang_attack[\"kn\"])\n",
    "        \n",
    "    # LIE attack\n",
    "    if lie_attack[\"is\"]:\n",
    "        client_model_updates = lie_attack[\"func\"](client_model_updates, len(mal_clients), lie_attack[\"kn\"])\n",
    "        \n",
    "    # SOTA attack\n",
    "    if sota_attack[\"is\"]:\n",
    "        client_model_updates = sota_attack[\"func\"](client_model_updates, len(mal_clients), \n",
    "                                                   sota_attack[\"kn\"], sota_attack[\"dev_type\"])    \n",
    "    \n",
    "    if FLTrust[\"is\"]:\n",
    "        global_model_update, _, _ = fl.train_model(global_model, FLTrust[\"loader\"],\n",
    "                                                fedargs.learning_rate,\n",
    "                                                fedargs.weight_decay,\n",
    "                                                fedargs.local_rounds, device)\n",
    "\n",
    "        # For Attacks related to FLTrust\n",
    "        base_model_update = global_model_update\n",
    "        if FLTrust[\"proxy\"][\"is\"]:\n",
    "            base_model_update, _, _ = fl.train_model(global_model, FLTrust[\"proxy\"][\"loader\"],\n",
    "                                                  fedargs.learning_rate,\n",
    "                                                  fedargs.weight_decay,\n",
    "                                                  fedargs.local_rounds, device)\n",
    "            \n",
    "        if layer_replacement_attack[\"is\"]:\n",
    "            for client in mal_clients:\n",
    "                client_details[clients[client]]['model_update'] = layer_replacement_attack[\"func\"](base_model_update,\n",
    "                                                                                                   client_details[clients[client]]['model_update'],\n",
    "                                                                                                   layer_replacement_attack[\"layers\"])\n",
    "\n",
    "        # For cosine attack, Malicious Clients\n",
    "        if cosine_attack[\"is\"]:\n",
    "            p_models, params_changed = cosine_attack[\"func\"](base_model_update, cosine_attack[\"args\"], epoch,\n",
    "                                                             client_model_updates, len(mal_clients), cosine_attack[\"kn\"])\n",
    "            \n",
    "            for client, p_model in enumerate(p_models):\n",
    "                client_details[clients[client]]['model_update'] = p_model \n",
    "\n",
    "            #plot params changed for only one client\n",
    "            fedargs.tb.add_scalar(\"Params Changed for Cosine Attack/\", params_changed, epoch)\n",
    "\n",
    "        # For sybil attack, Malicious Clients\n",
    "        if sybil_attack[\"is\"]:\n",
    "            for client in mal_clients:\n",
    "                client_details[clients[client]]['model_update'] = base_model_update\n",
    "                \n",
    "        # again pair, as changed during attack\n",
    "        client_model_updates = {client: details[\"model_update\"] for client, details in client_details.items()}\n",
    "\n",
    "print(time.time() - start_time)"
   ]
  },
  {
   "cell_type": "markdown",
   "id": "dac74b2a",
   "metadata": {
    "deletable": false,
    "editable": false
   },
   "source": [
    "<h1> End </h1>"
   ]
  }
 ],
 "metadata": {
  "kernelspec": {
   "display_name": "Python [conda env:syft]",
   "language": "python",
   "name": "conda-env-syft-py"
  },
  "language_info": {
   "codemirror_mode": {
    "name": "ipython",
    "version": 3
   },
   "file_extension": ".py",
   "mimetype": "text/x-python",
   "name": "python",
   "nbconvert_exporter": "python",
   "pygments_lexer": "ipython3",
   "version": "3.9.5"
  }
 },
 "nbformat": 4,
 "nbformat_minor": 5
}
