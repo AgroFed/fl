{
 "cells": [
  {
   "cell_type": "code",
   "execution_count": 46,
   "id": "232564c2",
   "metadata": {},
   "outputs": [
    {
     "name": "stdout",
     "output_type": "stream",
     "text": [
      "The autoreload extension is already loaded. To reload it, use:\n",
      "  %reload_ext autoreload\n"
     ]
    }
   ],
   "source": [
    "%load_ext autoreload\n",
    "%autoreload 2\n",
    "\n",
    "import asyncio, copy, os, pickle, socket, sys, time\n",
    "from pathlib import Path\n",
    "from tqdm import tqdm\n",
    "\n",
    "import torch\n",
    "from torch import optim\n",
    "from torch.utils.tensorboard import SummaryWriter\n",
    "\n",
    "sys.path.insert(0, os.path.abspath(os.path.join(os.getcwd(), \"../../\")))\n",
    "from libs import fl, nn, agg, data, poison, log"
   ]
  },
  {
   "cell_type": "code",
   "execution_count": 47,
   "id": "8787d638",
   "metadata": {},
   "outputs": [],
   "source": [
    "# Save Logs To File (info | debug | warning | error | critical) [optional]\n",
    "log.init(\"info\")\n",
    "#log.init(\"info\", \"federated.log\")\n",
    "#log.init(\"debug\", \"flkafka.log\")"
   ]
  },
  {
   "cell_type": "code",
   "execution_count": 48,
   "id": "220fa492",
   "metadata": {},
   "outputs": [],
   "source": [
    "class FedArgs():\n",
    "    def __init__(self):\n",
    "        self.num_clients = 50\n",
    "        self.epochs = 25\n",
    "        self.local_rounds = 1\n",
    "        self.client_batch_size = 32\n",
    "        self.test_batch_size = 128\n",
    "        self.learning_rate = 1e-4\n",
    "        self.weight_decay = 1e-5\n",
    "        self.cuda = False\n",
    "        self.seed = 1\n",
    "        self.loop = asyncio.get_event_loop()\n",
    "        self.tb = SummaryWriter('../../out/runs/federated/FLTrust(Attack)', comment=\"Mnist Centralized Federated training\")\n",
    "\n",
    "fedargs = FedArgs()"
   ]
  },
  {
   "cell_type": "code",
   "execution_count": 49,
   "id": "00c959a0",
   "metadata": {},
   "outputs": [],
   "source": [
    "use_cuda = fedargs.cuda and torch.cuda.is_available()\n",
    "torch.manual_seed(fedargs.seed)\n",
    "device = torch.device(\"cuda\" if use_cuda else \"cpu\")\n",
    "kwargs = {\"num_workers\": 1, \"pin_memory\": True} if use_cuda else {}"
   ]
  },
  {
   "cell_type": "code",
   "execution_count": 50,
   "id": "a548fb46",
   "metadata": {},
   "outputs": [],
   "source": [
    "host = socket.gethostname()\n",
    "clients = [host + \"(\" + str(client + 1) + \")\" for client in range(fedargs.num_clients)]"
   ]
  },
  {
   "cell_type": "code",
   "execution_count": 51,
   "id": "62e7ad58",
   "metadata": {},
   "outputs": [],
   "source": [
    "#Initialize Global and Client models\n",
    "global_model = nn.ModelMNIST()\n",
    "client_models = {client: copy.deepcopy(global_model) for client in clients}\n",
    "\n",
    "# Function for training\n",
    "def train_model(_model, train_loader, fedargs, device):\n",
    "    model, loss = fl.client_update(_model,\n",
    "                                train_loader,\n",
    "                                fedargs.learning_rate,\n",
    "                                fedargs.weight_decay,\n",
    "                                fedargs.local_rounds,\n",
    "                                device)\n",
    "    model_update = agg.sub_model(_model, model)\n",
    "    return model_update, model, loss"
   ]
  },
  {
   "cell_type": "code",
   "execution_count": 52,
   "id": "983f5187",
   "metadata": {},
   "outputs": [],
   "source": [
    "# Load MNIST Data to clients\n",
    "train_data, test_data = data.load_dataset(\"mnist\")"
   ]
  },
  {
   "cell_type": "code",
   "execution_count": 53,
   "id": "510951bb",
   "metadata": {},
   "outputs": [],
   "source": [
    "# For securing if the next cell execution is skipped\n",
    "FLTrust = None\n",
    "FLTrust_cosine_attack = None"
   ]
  },
  {
   "cell_type": "markdown",
   "id": "e30c2041",
   "metadata": {},
   "source": [
    "<h1>FLTrust: Skip section below for any other averaging than FLTrust.</h1>"
   ]
  },
  {
   "cell_type": "code",
   "execution_count": 54,
   "id": "f2b8b967",
   "metadata": {},
   "outputs": [],
   "source": [
    "FLTrust = True\n",
    "root_ratio = 0.01\n",
    "train_data, root_data = torch.utils.data.random_split(train_data, [int(len(train_data) * (1-root_ratio)), \n",
    "                                                              int(len(train_data) * root_ratio)])\n",
    "root_loader = torch.utils.data.DataLoader(root_data, batch_size=fedargs.client_batch_size, shuffle=True, **kwargs)"
   ]
  },
  {
   "cell_type": "markdown",
   "id": "a1378ffa",
   "metadata": {},
   "source": [
    "<h2>Resume</h2>"
   ]
  },
  {
   "cell_type": "code",
   "execution_count": 55,
   "id": "6251a3fe",
   "metadata": {},
   "outputs": [],
   "source": [
    "clients_data = data.split_data(train_data, clients)"
   ]
  },
  {
   "cell_type": "markdown",
   "id": "78cef4fa",
   "metadata": {},
   "source": [
    "<h1>Poison: Skip section(s) below to run normal, modify if required.</h1>"
   ]
  },
  {
   "cell_type": "code",
   "execution_count": 56,
   "id": "ee467ef2",
   "metadata": {},
   "outputs": [],
   "source": [
    "mal_clients = [c for c in range(20)]"
   ]
  },
  {
   "cell_type": "markdown",
   "id": "8bdd73d2",
   "metadata": {},
   "source": [
    "<h2>Label Flipping attack, Skip if not required</h2>"
   ]
  },
  {
   "cell_type": "code",
   "execution_count": 12,
   "id": "54367b7c",
   "metadata": {},
   "outputs": [],
   "source": [
    "for client in mal_clients:\n",
    "    clients_data[clients[client]] = poison.label_flip(clients_data[clients[client]], 4, 9, poison_percent = -1)\n",
    "    \n",
    "#clients_data[clients[0]] = poison.label_flip(clients_data[clients[0]], 6, 2, poison_percent = 1)\n",
    "#clients_data[clients[0]] = poison.label_flip(clients_data[clients[0]], 3, 8, poison_percent = 1)\n",
    "#clients_data[clients[0]] = poison.label_flip(clients_data[clients[0]], 1, 5, poison_percent = 1)"
   ]
  },
  {
   "cell_type": "markdown",
   "id": "6ce9ee73",
   "metadata": {},
   "source": [
    "<h2>FLTrust: Sine Attack, Skip if not required</h2>"
   ]
  },
  {
   "cell_type": "code",
   "execution_count": 57,
   "id": "e688bae6",
   "metadata": {},
   "outputs": [],
   "source": [
    "FLTrust_cosine_attack = True"
   ]
  },
  {
   "cell_type": "markdown",
   "id": "80861b32",
   "metadata": {},
   "source": [
    "<h2>Resume</h2>"
   ]
  },
  {
   "cell_type": "code",
   "execution_count": 58,
   "id": "24ccdbde",
   "metadata": {},
   "outputs": [],
   "source": [
    "client_train_loaders, _ = data.load_client_data(clients_data, fedargs.client_batch_size, None, **kwargs)\n",
    "test_loader = torch.utils.data.DataLoader(test_data, batch_size=fedargs.test_batch_size, shuffle=True, **kwargs)\n",
    "\n",
    "clients_info = {\n",
    "        client: {\"train_loader\": client_train_loaders[client]}\n",
    "        for client in clients\n",
    "    }"
   ]
  },
  {
   "cell_type": "code",
   "execution_count": 59,
   "id": "a9e82171",
   "metadata": {},
   "outputs": [],
   "source": [
    "def background(f):\n",
    "    def wrapped(*args, **kwargs):\n",
    "        return asyncio.get_event_loop().run_in_executor(None, f, *args, **kwargs)\n",
    "\n",
    "    return wrapped\n",
    "\n",
    "@background\n",
    "def process(client, epoch, model, train_loader, fedargs, device):\n",
    "    # Train\n",
    "    model_update, model, loss = train_model(model, train_loader, fedargs, device)\n",
    "\n",
    "    #Plot and Log\n",
    "    for local_epoch, loss in enumerate(list(loss.values())):\n",
    "        fedargs.tb.add_scalars(\"Training Loss/\" + client, {str(epoch): loss}, str(local_epoch + 1))\n",
    "\n",
    "    log.jsondebug(loss, \"Epoch {} of {} : Federated Training loss, Client {}\".format(epoch, fedargs.epochs, client))\n",
    "    log.modeldebug(model_update, \"Epoch {} of {} : Client {} Update\".format(epoch, fedargs.epochs, client))\n",
    "    \n",
    "    return model_update"
   ]
  },
  {
   "cell_type": "code",
   "execution_count": 60,
   "id": "274d1e11",
   "metadata": {},
   "outputs": [
    {
     "name": "stderr",
     "output_type": "stream",
     "text": [
      "  0%|          | 0/25 [00:00<?, ?it/s]2021-08-29 10:15:18,499 - <ipython-input-60-71be6837b00a>::<module>(l:8) : Federated Training Epoch 1 of 25 [MainProcess : MainThread (INFO)]\n",
      "  4%|▍         | 1/25 [01:31<36:31, 91.30s/it]2021-08-29 10:16:49,807 - <ipython-input-60-71be6837b00a>::<module>(l:8) : Federated Training Epoch 2 of 25 [MainProcess : MainThread (INFO)]\n",
      "2021-08-29 10:16:55,054 - /home/harsh_1921cs01/hub/F3IA/fl/libs/agg.py::FLTrust(l:90) : FLTrust Score [0.27, 0.244, 0.265, 0.247, 0.267, 0.238, 0.278, 0.258, 0.262, 0.247, 0.295, 0.3, 0.238, 0.246, 0.312, 0.287, 0.29, 0.274, 0.277, 0.329, 0.514, 0.513, 0.521, 0.512, 0.529, 0.516, 0.535, 0.526, 0.517, 0.51, 0.547, 0.558, 0.504, 0.51, 0.551, 0.539, 0.548, 0.545, 0.534, 0.574, 0.521, 0.481, 0.506, 0.55, 0.529, 0.528, 0.538, 0.526, 0.5, 0.503] [MainProcess : MainThread (INFO)]\n",
      "2021-08-29 10:17:01,478 - <ipython-input-60-71be6837b00a>::<module>(l:28) : Global Test Outut after Epoch 2 of 25 {\n",
      "    \"accuracy\": 72.74000000000001,\n",
      "    \"correct\": 7274,\n",
      "    \"test_loss\": 1.9197923336029052\n",
      "} [MainProcess : MainThread (INFO)]\n",
      "  8%|▊         | 2/25 [03:17<38:19, 99.97s/it]2021-08-29 10:18:35,841 - <ipython-input-60-71be6837b00a>::<module>(l:8) : Federated Training Epoch 3 of 25 [MainProcess : MainThread (INFO)]\n",
      "2021-08-29 10:18:41,305 - /home/harsh_1921cs01/hub/F3IA/fl/libs/agg.py::FLTrust(l:90) : FLTrust Score [0.455, 0.478, 0.43, 0.491, 0.429, 0.476, 0.467, 0.451, 0.474, 0.47, 0.436, 0.498, 0.484, 0.415, 0.457, 0.46, 0.479, 0.47, 0.444, 0.463, 0.697, 0.706, 0.678, 0.711, 0.672, 0.701, 0.703, 0.685, 0.699, 0.696, 0.687, 0.715, 0.718, 0.666, 0.694, 0.692, 0.705, 0.705, 0.686, 0.69, 0.685, 0.68, 0.694, 0.681, 0.702, 0.689, 0.676, 0.681, 0.688, 0.68] [MainProcess : MainThread (INFO)]\n",
      "2021-08-29 10:18:47,492 - <ipython-input-60-71be6837b00a>::<module>(l:28) : Global Test Outut after Epoch 3 of 25 {\n",
      "    \"accuracy\": 82.19999999999999,\n",
      "    \"correct\": 8220,\n",
      "    \"test_loss\": 1.2716933401107788\n",
      "} [MainProcess : MainThread (INFO)]\n",
      " 12%|█▏        | 3/25 [05:02<37:31, 102.34s/it]2021-08-29 10:20:21,000 - <ipython-input-60-71be6837b00a>::<module>(l:8) : Federated Training Epoch 4 of 25 [MainProcess : MainThread (INFO)]\n",
      "2021-08-29 10:20:26,251 - /home/harsh_1921cs01/hub/F3IA/fl/libs/agg.py::FLTrust(l:90) : FLTrust Score [0.428, 0.458, 0.438, 0.459, 0.428, 0.451, 0.431, 0.426, 0.449, 0.422, 0.398, 0.432, 0.449, 0.416, 0.41, 0.442, 0.456, 0.448, 0.442, 0.447, 0.678, 0.696, 0.685, 0.699, 0.676, 0.695, 0.678, 0.679, 0.694, 0.669, 0.656, 0.679, 0.687, 0.669, 0.667, 0.686, 0.697, 0.691, 0.686, 0.69, 0.688, 0.686, 0.683, 0.687, 0.677, 0.682, 0.688, 0.663, 0.68, 0.676] [MainProcess : MainThread (INFO)]\n",
      "2021-08-29 10:20:32,426 - <ipython-input-60-71be6837b00a>::<module>(l:28) : Global Test Outut after Epoch 4 of 25 {\n",
      "    \"accuracy\": 85.71,\n",
      "    \"correct\": 8571,\n",
      "    \"test_loss\": 0.8315477684020997\n",
      "} [MainProcess : MainThread (INFO)]\n",
      " 16%|█▌        | 4/25 [06:48<36:21, 103.86s/it]2021-08-29 10:22:07,200 - <ipython-input-60-71be6837b00a>::<module>(l:8) : Federated Training Epoch 5 of 25 [MainProcess : MainThread (INFO)]\n",
      "2021-08-29 10:22:12,581 - /home/harsh_1921cs01/hub/F3IA/fl/libs/agg.py::FLTrust(l:90) : FLTrust Score [0.301, 0.323, 0.32, 0.315, 0.311, 0.326, 0.315, 0.302, 0.306, 0.294, 0.317, 0.329, 0.318, 0.327, 0.319, 0.31, 0.307, 0.309, 0.311, 0.325, 0.575, 0.593, 0.592, 0.586, 0.579, 0.591, 0.591, 0.575, 0.584, 0.57, 0.593, 0.595, 0.589, 0.599, 0.59, 0.585, 0.582, 0.584, 0.584, 0.592, 0.582, 0.574, 0.585, 0.587, 0.594, 0.585, 0.588, 0.598, 0.594, 0.579] [MainProcess : MainThread (INFO)]\n",
      "2021-08-29 10:22:19,070 - <ipython-input-60-71be6837b00a>::<module>(l:28) : Global Test Outut after Epoch 5 of 25 {\n",
      "    \"accuracy\": 87.48,\n",
      "    \"correct\": 8748,\n",
      "    \"test_loss\": 0.6013137148857117\n",
      "} [MainProcess : MainThread (INFO)]\n",
      " 20%|██        | 5/25 [08:31<34:32, 103.64s/it]2021-08-29 10:23:50,432 - <ipython-input-60-71be6837b00a>::<module>(l:8) : Federated Training Epoch 6 of 25 [MainProcess : MainThread (INFO)]\n",
      "2021-08-29 10:23:55,637 - /home/harsh_1921cs01/hub/F3IA/fl/libs/agg.py::FLTrust(l:90) : FLTrust Score [0.118, 0.146, 0.139, 0.144, 0.143, 0.141, 0.132, 0.125, 0.117, 0.122, 0.122, 0.148, 0.124, 0.148, 0.132, 0.121, 0.12, 0.13, 0.122, 0.127, 0.446, 0.469, 0.462, 0.461, 0.465, 0.466, 0.457, 0.454, 0.447, 0.449, 0.45, 0.466, 0.452, 0.473, 0.456, 0.446, 0.45, 0.454, 0.448, 0.457, 0.435, 0.452, 0.458, 0.462, 0.461, 0.451, 0.469, 0.471, 0.463, 0.463] [MainProcess : MainThread (INFO)]\n",
      "2021-08-29 10:24:01,904 - <ipython-input-60-71be6837b00a>::<module>(l:28) : Global Test Outut after Epoch 6 of 25 {\n",
      "    \"accuracy\": 89.02,\n",
      "    \"correct\": 8902,\n",
      "    \"test_loss\": 0.4735937627792358\n",
      "} [MainProcess : MainThread (INFO)]\n",
      " 24%|██▍       | 6/25 [10:16<32:56, 104.04s/it]2021-08-29 10:25:35,250 - <ipython-input-60-71be6837b00a>::<module>(l:8) : Federated Training Epoch 7 of 25 [MainProcess : MainThread (INFO)]\n",
      "2021-08-29 10:25:40,736 - /home/harsh_1921cs01/hub/F3IA/fl/libs/agg.py::FLTrust(l:90) : FLTrust Score [0.0, 0.009, 0, 0.002, 0, 0, 0, 0, 0, 0, 0.004, 0.012, 0, 0.002, 0, 0, 0, 0, 0, 0, 0.318, 0.325, 0.316, 0.32, 0.315, 0.315, 0.311, 0.316, 0.319, 0.307, 0.33, 0.338, 0.305, 0.333, 0.319, 0.32, 0.313, 0.32, 0.322, 0.303, 0.3, 0.297, 0.337, 0.336, 0.315, 0.319, 0.326, 0.327, 0.331, 0.33] [MainProcess : MainThread (INFO)]\n",
      "2021-08-29 10:25:46,985 - <ipython-input-60-71be6837b00a>::<module>(l:28) : Global Test Outut after Epoch 7 of 25 {\n",
      "    \"accuracy\": 89.89,\n",
      "    \"correct\": 8989,\n",
      "    \"test_loss\": 0.3980600979804993\n",
      "} [MainProcess : MainThread (INFO)]\n",
      " 24%|██▍       | 6/25 [11:11<35:25, 111.87s/it]\n"
     ]
    },
    {
     "ename": "KeyboardInterrupt",
     "evalue": "",
     "output_type": "error",
     "traceback": [
      "\u001b[0;31m---------------------------------------------------------------------------\u001b[0m",
      "\u001b[0;31mKeyboardInterrupt\u001b[0m                         Traceback (most recent call last)",
      "\u001b[0;32m<ipython-input-60-71be6837b00a>\u001b[0m in \u001b[0;36m<module>\u001b[0;34m\u001b[0m\n\u001b[1;32m     50\u001b[0m         \u001b[0mglobal_model_update\u001b[0m\u001b[0;34m,\u001b[0m \u001b[0m_\u001b[0m\u001b[0;34m,\u001b[0m \u001b[0m_\u001b[0m \u001b[0;34m=\u001b[0m \u001b[0mtrain_model\u001b[0m\u001b[0;34m(\u001b[0m\u001b[0mglobal_model\u001b[0m\u001b[0;34m,\u001b[0m \u001b[0mroot_loader\u001b[0m\u001b[0;34m,\u001b[0m \u001b[0mfedargs\u001b[0m\u001b[0;34m,\u001b[0m \u001b[0mdevice\u001b[0m\u001b[0;34m)\u001b[0m\u001b[0;34m\u001b[0m\u001b[0;34m\u001b[0m\u001b[0m\n\u001b[1;32m     51\u001b[0m         \u001b[0;32mfor\u001b[0m \u001b[0mclient\u001b[0m \u001b[0;32min\u001b[0m \u001b[0mmal_clients\u001b[0m\u001b[0;34m:\u001b[0m\u001b[0;34m\u001b[0m\u001b[0;34m\u001b[0m\u001b[0m\n\u001b[0;32m---> 52\u001b[0;31m             \u001b[0mclient_model_updates\u001b[0m\u001b[0;34m[\u001b[0m\u001b[0mclients\u001b[0m\u001b[0;34m[\u001b[0m\u001b[0mclient\u001b[0m\u001b[0;34m]\u001b[0m\u001b[0;34m]\u001b[0m \u001b[0;34m=\u001b[0m \u001b[0mpoison\u001b[0m\u001b[0;34m.\u001b[0m\u001b[0mmodel_poison_cosine_imp\u001b[0m\u001b[0;34m(\u001b[0m\u001b[0mglobal_model_update\u001b[0m\u001b[0;34m,\u001b[0m \u001b[0mclient_model_updates\u001b[0m\u001b[0;34m[\u001b[0m\u001b[0mclients\u001b[0m\u001b[0;34m[\u001b[0m\u001b[0mclient\u001b[0m\u001b[0;34m]\u001b[0m\u001b[0;34m]\u001b[0m\u001b[0;34m,\u001b[0m \u001b[0;36m0.1\u001b[0m\u001b[0;34m,\u001b[0m \u001b[0mclient_model_updates\u001b[0m\u001b[0;34m[\u001b[0m\u001b[0mclients\u001b[0m\u001b[0;34m[\u001b[0m\u001b[0mclient\u001b[0m \u001b[0;34m+\u001b[0m \u001b[0;36m20\u001b[0m\u001b[0;34m]\u001b[0m\u001b[0;34m]\u001b[0m\u001b[0;34m)\u001b[0m\u001b[0;34m\u001b[0m\u001b[0;34m\u001b[0m\u001b[0m\n\u001b[0m\u001b[1;32m     53\u001b[0m \u001b[0;34m\u001b[0m\u001b[0m\n\u001b[1;32m     54\u001b[0m \u001b[0mprint\u001b[0m\u001b[0;34m(\u001b[0m\u001b[0mtime\u001b[0m\u001b[0;34m.\u001b[0m\u001b[0mtime\u001b[0m\u001b[0;34m(\u001b[0m\u001b[0;34m)\u001b[0m \u001b[0;34m-\u001b[0m \u001b[0mstart_time\u001b[0m\u001b[0;34m)\u001b[0m\u001b[0;34m\u001b[0m\u001b[0;34m\u001b[0m\u001b[0m\n",
      "\u001b[0;32m~/hub/F3IA/fl/libs/poison.py\u001b[0m in \u001b[0;36mmodel_poison_cosine_imp\u001b[0;34m(base_model_update, good_model_update, poison_percent, good_client_update)\u001b[0m\n\u001b[1;32m     24\u001b[0m     \u001b[0mnpd\u001b[0m \u001b[0;34m=\u001b[0m \u001b[0mc_arr\u001b[0m \u001b[0;34m-\u001b[0m \u001b[0mb_arr\u001b[0m\u001b[0;34m\u001b[0m\u001b[0;34m\u001b[0m\u001b[0m\n\u001b[1;32m     25\u001b[0m     \u001b[0mp_arr\u001b[0m \u001b[0;34m=\u001b[0m \u001b[0mc_arr\u001b[0m\u001b[0;34m\u001b[0m\u001b[0;34m\u001b[0m\u001b[0m\n\u001b[0;32m---> 26\u001b[0;31m     \u001b[0;32mfor\u001b[0m \u001b[0mindex\u001b[0m \u001b[0;32min\u001b[0m \u001b[0mheapq\u001b[0m\u001b[0;34m.\u001b[0m\u001b[0mnlargest\u001b[0m\u001b[0;34m(\u001b[0m\u001b[0mint\u001b[0m\u001b[0;34m(\u001b[0m\u001b[0mlen\u001b[0m\u001b[0;34m(\u001b[0m\u001b[0mnpd\u001b[0m\u001b[0;34m)\u001b[0m \u001b[0;34m*\u001b[0m \u001b[0mpoison_percent\u001b[0m\u001b[0;34m)\u001b[0m\u001b[0;34m,\u001b[0m \u001b[0mrange\u001b[0m\u001b[0;34m(\u001b[0m\u001b[0mlen\u001b[0m\u001b[0;34m(\u001b[0m\u001b[0mnpd\u001b[0m\u001b[0;34m)\u001b[0m\u001b[0;34m)\u001b[0m\u001b[0;34m,\u001b[0m \u001b[0mnpd\u001b[0m\u001b[0;34m.\u001b[0m\u001b[0mtake\u001b[0m\u001b[0;34m)\u001b[0m\u001b[0;34m:\u001b[0m\u001b[0;34m\u001b[0m\u001b[0;34m\u001b[0m\u001b[0m\n\u001b[0m\u001b[1;32m     27\u001b[0m         \u001b[0mp_arr\u001b[0m\u001b[0;34m[\u001b[0m\u001b[0mindex\u001b[0m\u001b[0;34m]\u001b[0m \u001b[0;34m=\u001b[0m \u001b[0mp_arr\u001b[0m\u001b[0;34m[\u001b[0m\u001b[0mindex\u001b[0m\u001b[0;34m]\u001b[0m \u001b[0;34m+\u001b[0m \u001b[0;34m(\u001b[0m\u001b[0;36m2\u001b[0m\u001b[0;34m*\u001b[0m \u001b[0mnpd\u001b[0m\u001b[0;34m[\u001b[0m\u001b[0mindex\u001b[0m\u001b[0;34m]\u001b[0m\u001b[0;34m)\u001b[0m\u001b[0;34m\u001b[0m\u001b[0;34m\u001b[0m\u001b[0m\n\u001b[1;32m     28\u001b[0m \u001b[0;34m\u001b[0m\u001b[0m\n",
      "\u001b[0;32m~/anaconda3/envs/syft/lib/python3.9/heapq.py\u001b[0m in \u001b[0;36mnlargest\u001b[0;34m(n, iterable, key)\u001b[0m\n\u001b[1;32m    569\u001b[0m     \u001b[0m_heapreplace\u001b[0m \u001b[0;34m=\u001b[0m \u001b[0mheapreplace\u001b[0m\u001b[0;34m\u001b[0m\u001b[0;34m\u001b[0m\u001b[0m\n\u001b[1;32m    570\u001b[0m     \u001b[0;32mfor\u001b[0m \u001b[0melem\u001b[0m \u001b[0;32min\u001b[0m \u001b[0mit\u001b[0m\u001b[0;34m:\u001b[0m\u001b[0;34m\u001b[0m\u001b[0;34m\u001b[0m\u001b[0m\n\u001b[0;32m--> 571\u001b[0;31m         \u001b[0mk\u001b[0m \u001b[0;34m=\u001b[0m \u001b[0mkey\u001b[0m\u001b[0;34m(\u001b[0m\u001b[0melem\u001b[0m\u001b[0;34m)\u001b[0m\u001b[0;34m\u001b[0m\u001b[0;34m\u001b[0m\u001b[0m\n\u001b[0m\u001b[1;32m    572\u001b[0m         \u001b[0;32mif\u001b[0m \u001b[0mtop\u001b[0m \u001b[0;34m<\u001b[0m \u001b[0mk\u001b[0m\u001b[0;34m:\u001b[0m\u001b[0;34m\u001b[0m\u001b[0;34m\u001b[0m\u001b[0m\n\u001b[1;32m    573\u001b[0m             \u001b[0m_heapreplace\u001b[0m\u001b[0;34m(\u001b[0m\u001b[0mresult\u001b[0m\u001b[0;34m,\u001b[0m \u001b[0;34m(\u001b[0m\u001b[0mk\u001b[0m\u001b[0;34m,\u001b[0m \u001b[0morder\u001b[0m\u001b[0;34m,\u001b[0m \u001b[0melem\u001b[0m\u001b[0;34m)\u001b[0m\u001b[0;34m)\u001b[0m\u001b[0;34m\u001b[0m\u001b[0;34m\u001b[0m\u001b[0m\n",
      "\u001b[0;31mKeyboardInterrupt\u001b[0m: "
     ]
    }
   ],
   "source": [
    "import time\n",
    "start_time = time.time()\n",
    "    \n",
    "# Federated Training\n",
    "for _epoch in tqdm(range(fedargs.epochs)):\n",
    "\n",
    "    epoch = _epoch + 1\n",
    "    log.info(\"Federated Training Epoch {} of {}\".format(epoch, fedargs.epochs))\n",
    "\n",
    "    # Gloabal Model Update\n",
    "    if epoch > 1:\n",
    "        # For Tmean, not impacts others as of now\n",
    "        avgargs = {\"beta\": 10}\n",
    "        \n",
    "        # For FLTrust, if FLTrust section is skipped, this piece of code will be ignored automatically\n",
    "        if FLTrust:\n",
    "            if FLTrust_cosine_attack is None:\n",
    "                global_model_update, _, _ = train_model(global_model, root_loader, fedargs, device)\n",
    "            avgargs[\"base_update\"] = global_model_update\n",
    "        \n",
    "        # Average\n",
    "        global_model = fl.federated_avg(client_model_updates, global_model, agg.Rule.FLTrust, **avgargs)\n",
    "        log.modeldebug(global_model, \"Epoch {} of {} : Server Update\".format(epoch, fedargs.epochs))\n",
    "\n",
    "        # Test\n",
    "        global_test_output = fl.eval(global_model, test_loader, device)\n",
    "        fedargs.tb.add_scalar(\"Gloabl Accuracy/\", global_test_output[\"accuracy\"], epoch)\n",
    "        log.jsoninfo(global_test_output, \"Global Test Outut after Epoch {} of {}\".format(epoch, fedargs.epochs))\n",
    "    \n",
    "        # Update client models\n",
    "        client_models = {client: copy.deepcopy(global_model) for client in clients}\n",
    "\n",
    "    # Clients\n",
    "\n",
    "    tasks = [process(client, epoch, client_models[client],\n",
    "                     clients_info[client]['train_loader'],\n",
    "                     fedargs, device) for client in clients]\n",
    "    try:\n",
    "        updates = fedargs.loop.run_until_complete(asyncio.gather(*tasks))\n",
    "    except KeyboardInterrupt as e:\n",
    "        print(\"Caught keyboard interrupt. Canceling tasks...\")\n",
    "        tasks.cancel()\n",
    "        fedargs.loop.run_forever()\n",
    "        tasks.exception()\n",
    "    \n",
    "    client_model_updates = {client: update for client, update in zip(clients, updates)}\n",
    "    \n",
    "    # For FLTrust cosine attack, Malicious Clients\n",
    "    if FLTrust_cosine_attack:\n",
    "        global_model_update, _, _ = train_model(global_model, root_loader, fedargs, device)\n",
    "        for client in mal_clients:\n",
    "            client_model_updates[clients[client]] = poison.model_poison_cosine_coord(global_model_update, client_model_updates[clients[client]], 0.001, client_model_updates[clients[client + 20]])\n",
    "    \n",
    "print(time.time() - start_time)"
   ]
  },
  {
   "cell_type": "code",
   "execution_count": null,
   "id": "6f4f02ab",
   "metadata": {},
   "outputs": [],
   "source": []
  },
  {
   "cell_type": "code",
   "execution_count": null,
   "id": "1b4f7c3a",
   "metadata": {},
   "outputs": [],
   "source": []
  }
 ],
 "metadata": {
  "kernelspec": {
   "display_name": "Python [conda env:syft]",
   "language": "python",
   "name": "conda-env-syft-py"
  },
  "language_info": {
   "codemirror_mode": {
    "name": "ipython",
    "version": 3
   },
   "file_extension": ".py",
   "mimetype": "text/x-python",
   "name": "python",
   "nbconvert_exporter": "python",
   "pygments_lexer": "ipython3",
   "version": "3.9.5"
  }
 },
 "nbformat": 4,
 "nbformat_minor": 5
}
