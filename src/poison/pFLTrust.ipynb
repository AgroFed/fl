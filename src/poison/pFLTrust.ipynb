{
 "cells": [
  {
   "cell_type": "code",
   "execution_count": 1,
   "id": "232564c2",
   "metadata": {},
   "outputs": [],
   "source": [
    "%load_ext autoreload\n",
    "%autoreload 2\n",
    "\n",
    "import asyncio, copy, os, pickle, socket, sys, time\n",
    "from pathlib import Path\n",
    "from tqdm import tqdm\n",
    "\n",
    "import torch\n",
    "from torch import optim\n",
    "from torch.utils.tensorboard import SummaryWriter\n",
    "\n",
    "sys.path.insert(0, os.path.abspath(os.path.join(os.getcwd(), \"../../\")))\n",
    "from libs import fl, nn, agg, data, poison, log"
   ]
  },
  {
   "cell_type": "code",
   "execution_count": 2,
   "id": "8787d638",
   "metadata": {},
   "outputs": [],
   "source": [
    "# Save Logs To File (info | debug | warning | error | critical) [optional]\n",
    "log.init(\"info\")\n",
    "#log.init(\"info\", \"federated.log\")\n",
    "#log.init(\"debug\", \"flkafka.log\")"
   ]
  },
  {
   "cell_type": "code",
   "execution_count": 3,
   "id": "220fa492",
   "metadata": {},
   "outputs": [],
   "source": [
    "class FedArgs():\n",
    "    def __init__(self):\n",
    "        self.num_clients = 50\n",
    "        self.epochs = 25\n",
    "        self.local_rounds = 1\n",
    "        self.client_batch_size = 32\n",
    "        self.test_batch_size = 128\n",
    "        self.learning_rate = 1e-4\n",
    "        self.weight_decay = 1e-5\n",
    "        self.cuda = False\n",
    "        self.seed = 1\n",
    "        self.loop = asyncio.get_event_loop()\n",
    "        self.tb = SummaryWriter('../../out/runs/federated/FLTrust(Attack)', comment=\"Mnist Centralized Federated training\")\n",
    "\n",
    "fedargs = FedArgs()"
   ]
  },
  {
   "cell_type": "code",
   "execution_count": 4,
   "id": "00c959a0",
   "metadata": {},
   "outputs": [],
   "source": [
    "use_cuda = fedargs.cuda and torch.cuda.is_available()\n",
    "torch.manual_seed(fedargs.seed)\n",
    "device = torch.device(\"cuda\" if use_cuda else \"cpu\")\n",
    "kwargs = {\"num_workers\": 1, \"pin_memory\": True} if use_cuda else {}"
   ]
  },
  {
   "cell_type": "code",
   "execution_count": 5,
   "id": "a548fb46",
   "metadata": {},
   "outputs": [],
   "source": [
    "host = socket.gethostname()\n",
    "clients = [host + \"(\" + str(client + 1) + \")\" for client in range(fedargs.num_clients)]"
   ]
  },
  {
   "cell_type": "code",
   "execution_count": 6,
   "id": "62e7ad58",
   "metadata": {},
   "outputs": [],
   "source": [
    "#Initialize Global and Client models\n",
    "global_model = nn.ModelMNIST()\n",
    "client_models = {client: copy.deepcopy(global_model) for client in clients}\n",
    "\n",
    "# Function for training\n",
    "def train_model(_model, train_loader, fedargs, device):\n",
    "    model, loss = fl.client_update(_model,\n",
    "                                train_loader,\n",
    "                                fedargs.learning_rate,\n",
    "                                fedargs.weight_decay,\n",
    "                                fedargs.local_rounds,\n",
    "                                device)\n",
    "    model_update = agg.sub_model(_model, model)\n",
    "    return model_update, model, loss"
   ]
  },
  {
   "cell_type": "code",
   "execution_count": 7,
   "id": "983f5187",
   "metadata": {},
   "outputs": [],
   "source": [
    "# Load MNIST Data to clients\n",
    "train_data, test_data = data.load_dataset(\"mnist\")"
   ]
  },
  {
   "cell_type": "code",
   "execution_count": 8,
   "id": "510951bb",
   "metadata": {},
   "outputs": [],
   "source": [
    "# For securing if the next cell execution is skipped\n",
    "FLTrust = None\n",
    "FLTrust_attack = None"
   ]
  },
  {
   "cell_type": "markdown",
   "id": "e30c2041",
   "metadata": {},
   "source": [
    "<h1>FLTrust: Skip section below for any other averaging than FLTrust.</h1>"
   ]
  },
  {
   "cell_type": "code",
   "execution_count": 9,
   "id": "f2b8b967",
   "metadata": {},
   "outputs": [],
   "source": [
    "FLTrust = True\n",
    "root_ratio = 0.01\n",
    "train_data, root_data = torch.utils.data.random_split(train_data, [int(len(train_data) * (1-root_ratio)), \n",
    "                                                              int(len(train_data) * root_ratio)])\n",
    "root_loader = torch.utils.data.DataLoader(root_data, batch_size=fedargs.client_batch_size, shuffle=True, **kwargs)"
   ]
  },
  {
   "cell_type": "markdown",
   "id": "a1378ffa",
   "metadata": {},
   "source": [
    "<h2>Resume</h2>"
   ]
  },
  {
   "cell_type": "code",
   "execution_count": 10,
   "id": "6251a3fe",
   "metadata": {},
   "outputs": [],
   "source": [
    "clients_data = data.split_data(train_data, clients)"
   ]
  },
  {
   "cell_type": "markdown",
   "id": "78cef4fa",
   "metadata": {},
   "source": [
    "<h1>Poison: Skip section(s) below to run normal, modify if required.</h1>"
   ]
  },
  {
   "cell_type": "code",
   "execution_count": 11,
   "id": "ee467ef2",
   "metadata": {},
   "outputs": [],
   "source": [
    "mal_clients = [c for c in range(20)]"
   ]
  },
  {
   "cell_type": "markdown",
   "id": "8bdd73d2",
   "metadata": {},
   "source": [
    "<h2>Label Flipping attack, Skip if not required</h2>"
   ]
  },
  {
   "cell_type": "code",
   "execution_count": 28,
   "id": "54367b7c",
   "metadata": {},
   "outputs": [],
   "source": [
    "for client in mal_clients:\n",
    "    clients_data[clients[client]] = poison.label_flip(clients_data[clients[client]], 4, 9, poison_percent = -1)\n",
    "    \n",
    "#clients_data[clients[0]] = poison.label_flip(clients_data[clients[0]], 6, 2, poison_percent = 1)\n",
    "#clients_data[clients[0]] = poison.label_flip(clients_data[clients[0]], 3, 8, poison_percent = 1)\n",
    "#clients_data[clients[0]] = poison.label_flip(clients_data[clients[0]], 1, 5, poison_percent = 1)"
   ]
  },
  {
   "cell_type": "markdown",
   "id": "6ce9ee73",
   "metadata": {},
   "source": [
    "<h2>FLTrust: Sine Attack, Skip if not required</h2>"
   ]
  },
  {
   "cell_type": "code",
   "execution_count": 12,
   "id": "e688bae6",
   "metadata": {},
   "outputs": [],
   "source": [
    "FLTrust_attack = True"
   ]
  },
  {
   "cell_type": "markdown",
   "id": "80861b32",
   "metadata": {},
   "source": [
    "<h2>Resume</h2>"
   ]
  },
  {
   "cell_type": "code",
   "execution_count": 13,
   "id": "24ccdbde",
   "metadata": {},
   "outputs": [],
   "source": [
    "client_train_loaders, _ = data.load_client_data(clients_data, fedargs.client_batch_size, None, **kwargs)\n",
    "test_loader = torch.utils.data.DataLoader(test_data, batch_size=fedargs.test_batch_size, shuffle=True, **kwargs)\n",
    "\n",
    "clients_info = {\n",
    "        client: {\"train_loader\": client_train_loaders[client]}\n",
    "        for client in clients\n",
    "    }"
   ]
  },
  {
   "cell_type": "code",
   "execution_count": 14,
   "id": "a9e82171",
   "metadata": {},
   "outputs": [],
   "source": [
    "def background(f):\n",
    "    def wrapped(*args, **kwargs):\n",
    "        return asyncio.get_event_loop().run_in_executor(None, f, *args, **kwargs)\n",
    "\n",
    "    return wrapped\n",
    "\n",
    "@background\n",
    "def process(client, epoch, model, train_loader, fedargs, device):\n",
    "    # Train\n",
    "    model_update, model, loss = train_model(model, train_loader, fedargs, device)\n",
    "\n",
    "    #Plot and Log\n",
    "    for local_epoch, loss in enumerate(list(loss.values())):\n",
    "        fedargs.tb.add_scalars(\"Training Loss/\" + client, {str(epoch): loss}, str(local_epoch + 1))\n",
    "\n",
    "    log.jsondebug(loss, \"Epoch {} of {} : Federated Training loss, Client {}\".format(epoch, fedargs.epochs, client))\n",
    "    log.modeldebug(model_update, \"Epoch {} of {} : Client {} Update\".format(epoch, fedargs.epochs, client))\n",
    "    \n",
    "    return model_update"
   ]
  },
  {
   "cell_type": "code",
   "execution_count": null,
   "id": "274d1e11",
   "metadata": {},
   "outputs": [
    {
     "name": "stderr",
     "output_type": "stream",
     "text": [
      "  0%|          | 0/25 [00:00<?, ?it/s]2021-08-25 17:33:36,687 - <ipython-input-15-b885986b40c0>::<module>(l:8) : Federated Training Epoch 1 of 25 [MainProcess : MainThread (INFO)]\n",
      "  4%|▍         | 1/25 [00:41<16:24, 41.03s/it]2021-08-25 17:34:17,470 - <ipython-input-15-b885986b40c0>::<module>(l:8) : Federated Training Epoch 2 of 25 [MainProcess : MainThread (INFO)]\n",
      "/home/harsh_1921cs01/hub/F3IA/fl/libs/sim.py:48: VisibleDeprecationWarning: Creating an ndarray from ragged nested sequences (which is a list-or-tuple of lists-or-tuples-or ndarrays with different lengths or shapes) is deprecated. If you meant to do this, you must specify 'dtype=object' when creating the ndarray\n",
      "  _param_list = nd.array(param_list).squeeze()\n",
      "2021-08-25 17:34:25,310 - /home/harsh_1921cs01/hub/F3IA/fl/libs/agg.py::FLTrust(l:90) : FLTrust Score [0.537, 0.544, 0.535, 0.551, 0.493, 0.511, 0.546, 0.51, 0.524, 0.515, 0.535, 0.532, 0.517, 0.512, 0.532, 0.514, 0.526, 0.529, 0.533, 0.528, 0.523, 0.574, 0.517, 0.535, 0.531, 0.502, 0.521, 0.53, 0.54, 0.53, 0.552, 0.558, 0.534, 0.512, 0.513, 0.498, 0.518, 0.522, 0.514, 0.557, 0.534, 0.466, 0.514, 0.531, 0.552, 0.521, 0.515, 0.501, 0.511, 0.55] [MainProcess : MainThread (INFO)]\n",
      "2021-08-25 17:34:31,274 - <ipython-input-15-b885986b40c0>::<module>(l:27) : Global Test Outut after Epoch 2 of 25 {\n",
      "    \"accuracy\": 72.28,\n",
      "    \"correct\": 7228,\n",
      "    \"test_loss\": 1.8516937257766724\n",
      "} [MainProcess : MainThread (INFO)]\n",
      "  8%|▊         | 2/25 [01:35<18:45, 48.95s/it]2021-08-25 17:35:11,967 - <ipython-input-15-b885986b40c0>::<module>(l:8) : Federated Training Epoch 3 of 25 [MainProcess : MainThread (INFO)]\n",
      "2021-08-25 17:35:18,396 - /home/harsh_1921cs01/hub/F3IA/fl/libs/agg.py::FLTrust(l:90) : FLTrust Score [0.285, 0.289, 0.288, 0.289, 0.289, 0.277, 0.29, 0.286, 0.279, 0.288, 0.288, 0.29, 0.287, 0.29, 0.283, 0.289, 0.285, 0.281, 0.291, 0.289, 0.672, 0.667, 0.659, 0.681, 0.652, 0.681, 0.671, 0.664, 0.675, 0.686, 0.663, 0.647, 0.684, 0.674, 0.687, 0.659, 0.664, 0.677, 0.655, 0.662, 0.646, 0.666, 0.676, 0.684, 0.67, 0.659, 0.669, 0.682, 0.681, 0.676] [MainProcess : MainThread (INFO)]\n",
      "2021-08-25 17:35:24,271 - <ipython-input-15-b885986b40c0>::<module>(l:27) : Global Test Outut after Epoch 3 of 25 {\n",
      "    \"accuracy\": 81.02000000000001,\n",
      "    \"correct\": 8102,\n",
      "    \"test_loss\": 1.2303289001464843\n",
      "} [MainProcess : MainThread (INFO)]\n",
      " 12%|█▏        | 3/25 [02:28<18:34, 50.65s/it]2021-08-25 17:36:04,636 - <ipython-input-15-b885986b40c0>::<module>(l:8) : Federated Training Epoch 4 of 25 [MainProcess : MainThread (INFO)]\n",
      "2021-08-25 17:36:09,950 - /home/harsh_1921cs01/hub/F3IA/fl/libs/agg.py::FLTrust(l:90) : FLTrust Score [0.402, 0.403, 0.406, 0.399, 0.405, 0.41, 0.407, 0.402, 0.398, 0.408, 0.401, 0.402, 0.405, 0.401, 0.405, 0.406, 0.4, 0.405, 0.4, 0.409, 0.642, 0.662, 0.651, 0.645, 0.629, 0.646, 0.653, 0.632, 0.653, 0.651, 0.646, 0.662, 0.653, 0.647, 0.654, 0.64, 0.631, 0.634, 0.652, 0.63, 0.629, 0.626, 0.651, 0.646, 0.659, 0.645, 0.637, 0.637, 0.655, 0.644] [MainProcess : MainThread (INFO)]\n",
      "2021-08-25 17:36:16,112 - <ipython-input-15-b885986b40c0>::<module>(l:27) : Global Test Outut after Epoch 4 of 25 {\n",
      "    \"accuracy\": 84.07,\n",
      "    \"correct\": 8407,\n",
      "    \"test_loss\": 0.8173304720878601\n",
      "} [MainProcess : MainThread (INFO)]\n",
      " 16%|█▌        | 4/25 [03:19<17:51, 51.01s/it]2021-08-25 17:36:56,207 - <ipython-input-15-b885986b40c0>::<module>(l:8) : Federated Training Epoch 5 of 25 [MainProcess : MainThread (INFO)]\n",
      "2021-08-25 17:37:02,426 - /home/harsh_1921cs01/hub/F3IA/fl/libs/agg.py::FLTrust(l:90) : FLTrust Score [0.375, 0.378, 0.375, 0.371, 0.371, 0.379, 0.372, 0.374, 0.372, 0.375, 0.378, 0.376, 0.376, 0.375, 0.377, 0.378, 0.373, 0.374, 0.38, 0.375, 0.542, 0.546, 0.551, 0.546, 0.545, 0.539, 0.543, 0.537, 0.553, 0.536, 0.541, 0.535, 0.539, 0.539, 0.532, 0.542, 0.531, 0.542, 0.535, 0.541, 0.534, 0.53, 0.54, 0.544, 0.547, 0.548, 0.538, 0.552, 0.562, 0.536] [MainProcess : MainThread (INFO)]\n",
      "2021-08-25 17:37:08,669 - <ipython-input-15-b885986b40c0>::<module>(l:27) : Global Test Outut after Epoch 5 of 25 {\n",
      "    \"accuracy\": 86.26,\n",
      "    \"correct\": 8626,\n",
      "    \"test_loss\": 0.6044669182777405\n",
      "} [MainProcess : MainThread (INFO)]\n",
      " 20%|██        | 5/25 [04:14<17:24, 52.20s/it]2021-08-25 17:37:50,512 - <ipython-input-15-b885986b40c0>::<module>(l:8) : Federated Training Epoch 6 of 25 [MainProcess : MainThread (INFO)]\n",
      "2021-08-25 17:37:56,754 - /home/harsh_1921cs01/hub/F3IA/fl/libs/agg.py::FLTrust(l:90) : FLTrust Score [0.299, 0.296, 0.29, 0.291, 0.294, 0.3, 0.296, 0.292, 0.296, 0.294, 0.294, 0.292, 0.296, 0.295, 0.295, 0.298, 0.294, 0.295, 0.29, 0.297, 0.434, 0.429, 0.429, 0.423, 0.422, 0.444, 0.424, 0.414, 0.419, 0.416, 0.43, 0.442, 0.429, 0.426, 0.429, 0.424, 0.407, 0.424, 0.431, 0.421, 0.419, 0.419, 0.416, 0.417, 0.431, 0.415, 0.432, 0.429, 0.444, 0.422] [MainProcess : MainThread (INFO)]\n",
      "2021-08-25 17:38:02,683 - <ipython-input-15-b885986b40c0>::<module>(l:27) : Global Test Outut after Epoch 6 of 25 {\n",
      "    \"accuracy\": 88.03,\n",
      "    \"correct\": 8803,\n",
      "    \"test_loss\": 0.4939821858406067\n",
      "} [MainProcess : MainThread (INFO)]\n",
      " 24%|██▍       | 6/25 [05:07<16:38, 52.54s/it]2021-08-25 17:38:43,712 - <ipython-input-15-b885986b40c0>::<module>(l:8) : Federated Training Epoch 7 of 25 [MainProcess : MainThread (INFO)]\n",
      "2021-08-25 17:38:49,765 - /home/harsh_1921cs01/hub/F3IA/fl/libs/agg.py::FLTrust(l:90) : FLTrust Score [0.235, 0.228, 0.228, 0.229, 0.229, 0.231, 0.225, 0.228, 0.229, 0.23, 0.228, 0.23, 0.23, 0.232, 0.228, 0.231, 0.227, 0.229, 0.231, 0.231, 0.323, 0.315, 0.31, 0.335, 0.322, 0.329, 0.308, 0.313, 0.311, 0.324, 0.314, 0.326, 0.324, 0.325, 0.329, 0.311, 0.319, 0.313, 0.337, 0.316, 0.296, 0.306, 0.32, 0.307, 0.315, 0.318, 0.331, 0.316, 0.329, 0.321] [MainProcess : MainThread (INFO)]\n",
      "2021-08-25 17:38:55,981 - <ipython-input-15-b885986b40c0>::<module>(l:27) : Global Test Outut after Epoch 7 of 25 {\n",
      "    \"accuracy\": 89.17,\n",
      "    \"correct\": 8917,\n",
      "    \"test_loss\": 0.4272982715129852\n",
      "} [MainProcess : MainThread (INFO)]\n",
      " 28%|██▊       | 7/25 [06:01<15:54, 53.04s/it]2021-08-25 17:39:37,776 - <ipython-input-15-b885986b40c0>::<module>(l:8) : Federated Training Epoch 8 of 25 [MainProcess : MainThread (INFO)]\n",
      "2021-08-25 17:39:44,030 - /home/harsh_1921cs01/hub/F3IA/fl/libs/agg.py::FLTrust(l:90) : FLTrust Score [0.163, 0.163, 0.163, 0.161, 0.163, 0.163, 0.166, 0.16, 0.167, 0.164, 0.164, 0.165, 0.165, 0.163, 0.163, 0.167, 0.165, 0.162, 0.164, 0.163, 0.218, 0.225, 0.226, 0.225, 0.221, 0.237, 0.222, 0.205, 0.209, 0.226, 0.234, 0.25, 0.21, 0.236, 0.213, 0.238, 0.214, 0.229, 0.237, 0.236, 0.224, 0.218, 0.22, 0.217, 0.236, 0.215, 0.225, 0.228, 0.242, 0.224] [MainProcess : MainThread (INFO)]\n",
      "2021-08-25 17:39:50,007 - <ipython-input-15-b885986b40c0>::<module>(l:27) : Global Test Outut after Epoch 8 of 25 {\n",
      "    \"accuracy\": 90.05,\n",
      "    \"correct\": 9005,\n",
      "    \"test_loss\": 0.3858402674674988\n",
      "} [MainProcess : MainThread (INFO)]\n",
      " 32%|███▏      | 8/25 [06:55<15:06, 53.33s/it]2021-08-25 17:40:31,735 - <ipython-input-15-b885986b40c0>::<module>(l:8) : Federated Training Epoch 9 of 25 [MainProcess : MainThread (INFO)]\n",
      "2021-08-25 17:40:37,779 - /home/harsh_1921cs01/hub/F3IA/fl/libs/agg.py::FLTrust(l:90) : FLTrust Score [0.127, 0.125, 0.129, 0.126, 0.126, 0.127, 0.126, 0.126, 0.126, 0.125, 0.126, 0.128, 0.127, 0.128, 0.125, 0.124, 0.125, 0.126, 0.127, 0.127, 0.173, 0.195, 0.181, 0.174, 0.176, 0.184, 0.173, 0.175, 0.159, 0.162, 0.179, 0.184, 0.168, 0.181, 0.184, 0.182, 0.178, 0.161, 0.186, 0.187, 0.158, 0.163, 0.168, 0.176, 0.199, 0.169, 0.188, 0.184, 0.173, 0.173] [MainProcess : MainThread (INFO)]\n",
      "2021-08-25 17:40:43,985 - <ipython-input-15-b885986b40c0>::<module>(l:27) : Global Test Outut after Epoch 9 of 25 {\n",
      "    \"accuracy\": 90.53999999999999,\n",
      "    \"correct\": 9054,\n",
      "    \"test_loss\": 0.35700098237991335\n",
      "} [MainProcess : MainThread (INFO)]\n",
      " 36%|███▌      | 9/25 [07:47<14:06, 52.90s/it]2021-08-25 17:41:23,677 - <ipython-input-15-b885986b40c0>::<module>(l:8) : Federated Training Epoch 10 of 25 [MainProcess : MainThread (INFO)]\n",
      "2021-08-25 17:41:29,760 - /home/harsh_1921cs01/hub/F3IA/fl/libs/agg.py::FLTrust(l:90) : FLTrust Score [0.121, 0.121, 0.12, 0.119, 0.119, 0.121, 0.122, 0.12, 0.12, 0.118, 0.118, 0.121, 0.12, 0.122, 0.12, 0.118, 0.117, 0.121, 0.118, 0.12, 0.147, 0.13, 0.157, 0.134, 0.136, 0.138, 0.125, 0.146, 0.139, 0.132, 0.147, 0.147, 0.16, 0.132, 0.142, 0.152, 0.144, 0.144, 0.141, 0.129, 0.132, 0.124, 0.143, 0.167, 0.145, 0.14, 0.136, 0.165, 0.148, 0.149] [MainProcess : MainThread (INFO)]\n"
     ]
    },
    {
     "name": "stderr",
     "output_type": "stream",
     "text": [
      "2021-08-25 17:41:35,834 - <ipython-input-15-b885986b40c0>::<module>(l:27) : Global Test Outut after Epoch 10 of 25 {\n",
      "    \"accuracy\": 91.09,\n",
      "    \"correct\": 9109,\n",
      "    \"test_loss\": 0.3330233331441879\n",
      "} [MainProcess : MainThread (INFO)]\n",
      " 40%|████      | 10/25 [08:42<13:23, 53.58s/it]2021-08-25 17:42:18,799 - <ipython-input-15-b885986b40c0>::<module>(l:8) : Federated Training Epoch 11 of 25 [MainProcess : MainThread (INFO)]\n",
      "2021-08-25 17:42:24,998 - /home/harsh_1921cs01/hub/F3IA/fl/libs/agg.py::FLTrust(l:90) : FLTrust Score [0.105, 0.108, 0.103, 0.107, 0.104, 0.106, 0.102, 0.102, 0.104, 0.108, 0.104, 0.104, 0.104, 0.103, 0.105, 0.105, 0.103, 0.104, 0.102, 0.104, 0.135, 0.14, 0.149, 0.158, 0.12, 0.129, 0.122, 0.124, 0.132, 0.129, 0.138, 0.132, 0.122, 0.14, 0.121, 0.135, 0.143, 0.126, 0.111, 0.102, 0.113, 0.141, 0.135, 0.135, 0.136, 0.135, 0.142, 0.133, 0.142, 0.124] [MainProcess : MainThread (INFO)]\n",
      "2021-08-25 17:42:31,088 - <ipython-input-15-b885986b40c0>::<module>(l:27) : Global Test Outut after Epoch 11 of 25 {\n",
      "    \"accuracy\": 91.58,\n",
      "    \"correct\": 9158,\n",
      "    \"test_loss\": 0.3145106423377991\n",
      "} [MainProcess : MainThread (INFO)]\n",
      " 44%|████▍     | 11/25 [09:36<12:31, 53.70s/it]2021-08-25 17:43:12,750 - <ipython-input-15-b885986b40c0>::<module>(l:8) : Federated Training Epoch 12 of 25 [MainProcess : MainThread (INFO)]\n",
      "2021-08-25 17:43:18,427 - /home/harsh_1921cs01/hub/F3IA/fl/libs/agg.py::FLTrust(l:90) : FLTrust Score [0.105, 0.107, 0.104, 0.106, 0.105, 0.105, 0.106, 0.106, 0.107, 0.107, 0.104, 0.106, 0.106, 0.105, 0.106, 0.105, 0.105, 0.105, 0.106, 0.107, 0.103, 0.125, 0.118, 0.091, 0.117, 0.132, 0.125, 0.119, 0.1, 0.126, 0.14, 0.124, 0.128, 0.132, 0.128, 0.128, 0.125, 0.118, 0.121, 0.132, 0.122, 0.104, 0.117, 0.121, 0.115, 0.117, 0.115, 0.112, 0.099, 0.12] [MainProcess : MainThread (INFO)]\n",
      "2021-08-25 17:43:24,280 - <ipython-input-15-b885986b40c0>::<module>(l:27) : Global Test Outut after Epoch 12 of 25 {\n",
      "    \"accuracy\": 91.9,\n",
      "    \"correct\": 9190,\n",
      "    \"test_loss\": 0.2994864102602005\n",
      "} [MainProcess : MainThread (INFO)]\n",
      " 48%|████▊     | 12/25 [10:24<11:14, 51.89s/it]2021-08-25 17:44:00,526 - <ipython-input-15-b885986b40c0>::<module>(l:8) : Federated Training Epoch 13 of 25 [MainProcess : MainThread (INFO)]\n",
      "2021-08-25 17:44:06,480 - /home/harsh_1921cs01/hub/F3IA/fl/libs/agg.py::FLTrust(l:90) : FLTrust Score [0.107, 0.102, 0.101, 0.102, 0.105, 0.105, 0.102, 0.102, 0.104, 0.105, 0.103, 0.104, 0.11, 0.103, 0.106, 0.106, 0.104, 0.105, 0.103, 0.103, 0.123, 0.119, 0.119, 0.129, 0.115, 0.132, 0.098, 0.114, 0.117, 0.098, 0.111, 0.103, 0.109, 0.112, 0.123, 0.128, 0.095, 0.085, 0.08, 0.113, 0.093, 0.099, 0.107, 0.122, 0.105, 0.101, 0.095, 0.095, 0.115, 0.114] [MainProcess : MainThread (INFO)]\n",
      "2021-08-25 17:44:12,292 - <ipython-input-15-b885986b40c0>::<module>(l:27) : Global Test Outut after Epoch 13 of 25 {\n",
      "    \"accuracy\": 92.02,\n",
      "    \"correct\": 9202,\n",
      "    \"test_loss\": 0.2875691212654114\n",
      "} [MainProcess : MainThread (INFO)]\n",
      " 52%|█████▏    | 13/25 [11:13<10:12, 51.02s/it]2021-08-25 17:44:49,545 - <ipython-input-15-b885986b40c0>::<module>(l:8) : Federated Training Epoch 14 of 25 [MainProcess : MainThread (INFO)]\n",
      "2021-08-25 17:44:54,980 - /home/harsh_1921cs01/hub/F3IA/fl/libs/agg.py::FLTrust(l:90) : FLTrust Score [0.096, 0.093, 0.091, 0.092, 0.092, 0.093, 0.091, 0.093, 0.097, 0.094, 0.092, 0.093, 0.097, 0.096, 0.097, 0.093, 0.091, 0.092, 0.096, 0.095, 0.096, 0.097, 0.105, 0.126, 0.079, 0.123, 0.07, 0.077, 0.092, 0.08, 0.12, 0.094, 0.117, 0.116, 0.108, 0.107, 0.102, 0.091, 0.083, 0.086, 0.091, 0.124, 0.083, 0.08, 0.103, 0.07, 0.089, 0.11, 0.087, 0.101] [MainProcess : MainThread (INFO)]\n",
      "2021-08-25 17:45:00,254 - <ipython-input-15-b885986b40c0>::<module>(l:27) : Global Test Outut after Epoch 14 of 25 {\n",
      "    \"accuracy\": 92.25,\n",
      "    \"correct\": 9225,\n",
      "    \"test_loss\": 0.27661636973619463\n",
      "} [MainProcess : MainThread (INFO)]\n",
      " 56%|█████▌    | 14/25 [12:06<09:29, 51.76s/it]2021-08-25 17:45:43,002 - <ipython-input-15-b885986b40c0>::<module>(l:8) : Federated Training Epoch 15 of 25 [MainProcess : MainThread (INFO)]\n",
      "2021-08-25 17:45:47,818 - /home/harsh_1921cs01/hub/F3IA/fl/libs/agg.py::FLTrust(l:90) : FLTrust Score [0.102, 0.1, 0.1, 0.098, 0.096, 0.099, 0.1, 0.1, 0.1, 0.099, 0.097, 0.1, 0.098, 0.099, 0.1, 0.099, 0.094, 0.098, 0.099, 0.098, 0.084, 0.093, 0.083, 0.103, 0.112, 0.084, 0.075, 0.069, 0.095, 0.101, 0.091, 0.11, 0.092, 0.095, 0.076, 0.1, 0.085, 0.074, 0.09, 0.128, 0.091, 0.067, 0.087, 0.094, 0.096, 0.077, 0.092, 0.085, 0.088, 0.081] [MainProcess : MainThread (INFO)]\n",
      "2021-08-25 17:45:53,661 - <ipython-input-15-b885986b40c0>::<module>(l:27) : Global Test Outut after Epoch 15 of 25 {\n",
      "    \"accuracy\": 92.43,\n",
      "    \"correct\": 9243,\n",
      "    \"test_loss\": 0.26816257095336915\n",
      "} [MainProcess : MainThread (INFO)]\n",
      " 60%|██████    | 15/25 [12:58<08:37, 51.70s/it]2021-08-25 17:46:34,570 - <ipython-input-15-b885986b40c0>::<module>(l:8) : Federated Training Epoch 16 of 25 [MainProcess : MainThread (INFO)]\n",
      "2021-08-25 17:46:40,344 - /home/harsh_1921cs01/hub/F3IA/fl/libs/agg.py::FLTrust(l:90) : FLTrust Score [0.098, 0.098, 0.095, 0.097, 0.094, 0.097, 0.096, 0.094, 0.094, 0.094, 0.094, 0.095, 0.097, 0.092, 0.097, 0.093, 0.096, 0.097, 0.095, 0.099, 0.082, 0.09, 0.09, 0.09, 0.085, 0.095, 0.061, 0.083, 0.093, 0.099, 0.089, 0.089, 0.073, 0.083, 0.074, 0.082, 0.099, 0.087, 0.105, 0.08, 0.089, 0.086, 0.072, 0.107, 0.069, 0.087, 0.093, 0.106, 0.092, 0.088] [MainProcess : MainThread (INFO)]\n",
      "2021-08-25 17:46:46,604 - <ipython-input-15-b885986b40c0>::<module>(l:27) : Global Test Outut after Epoch 16 of 25 {\n",
      "    \"accuracy\": 92.65,\n",
      "    \"correct\": 9265,\n",
      "    \"test_loss\": 0.26071760420799256\n",
      "} [MainProcess : MainThread (INFO)]\n",
      " 64%|██████▍   | 16/25 [13:51<07:50, 52.23s/it]2021-08-25 17:47:28,026 - <ipython-input-15-b885986b40c0>::<module>(l:8) : Federated Training Epoch 17 of 25 [MainProcess : MainThread (INFO)]\n",
      "2021-08-25 17:47:33,926 - /home/harsh_1921cs01/hub/F3IA/fl/libs/agg.py::FLTrust(l:90) : FLTrust Score [0.093, 0.091, 0.091, 0.092, 0.088, 0.093, 0.091, 0.091, 0.091, 0.091, 0.092, 0.09, 0.093, 0.091, 0.093, 0.091, 0.091, 0.092, 0.093, 0.092, 0.088, 0.083, 0.09, 0.103, 0.086, 0.067, 0.078, 0.083, 0.087, 0.07, 0.101, 0.091, 0.069, 0.103, 0.068, 0.099, 0.084, 0.081, 0.069, 0.058, 0.073, 0.08, 0.066, 0.102, 0.092, 0.068, 0.105, 0.098, 0.108, 0.096] [MainProcess : MainThread (INFO)]\n"
     ]
    }
   ],
   "source": [
    "import time\n",
    "start_time = time.time()\n",
    "    \n",
    "# Federated Training\n",
    "for _epoch in tqdm(range(fedargs.epochs)):\n",
    "\n",
    "    epoch = _epoch + 1\n",
    "    log.info(\"Federated Training Epoch {} of {}\".format(epoch, fedargs.epochs))\n",
    "\n",
    "    # Gloabal Model Update\n",
    "    if epoch > 1:\n",
    "        # For Tmean, not impacts others as of now\n",
    "        avgargs = {\"beta\": 10}\n",
    "        \n",
    "        # For FLTrust, if FLTrust section is skipped, this piece of code will be ignored automatically\n",
    "        if FLTrust:\n",
    "            global_model_update, _, _ = train_model(global_model, root_loader, fedargs, device)\n",
    "            avgargs[\"base_update\"] = global_model_update\n",
    "        \n",
    "        # Average\n",
    "        global_model = fl.federated_avg(client_model_updates, global_model, agg.Rule.FLTrust, **avgargs)\n",
    "        log.modeldebug(global_model, \"Epoch {} of {} : Server Update\".format(epoch, fedargs.epochs))\n",
    "\n",
    "        # Test\n",
    "        global_test_output = fl.eval(global_model, test_loader, device)\n",
    "        fedargs.tb.add_scalar(\"Gloabl Accuracy/\", global_test_output[\"accuracy\"], epoch)\n",
    "        log.jsoninfo(global_test_output, \"Global Test Outut after Epoch {} of {}\".format(epoch, fedargs.epochs))\n",
    "    \n",
    "        # Update client models\n",
    "        client_models = {client: copy.deepcopy(global_model) for client in clients}\n",
    "\n",
    "    # Clients\n",
    "\n",
    "    tasks = [process(client, epoch, client_models[client],\n",
    "                     clients_info[client]['train_loader'],\n",
    "                     fedargs, device) for client in clients]\n",
    "    try:\n",
    "        updates = fedargs.loop.run_until_complete(asyncio.gather(*tasks))\n",
    "    except KeyboardInterrupt as e:\n",
    "        print(\"Caught keyboard interrupt. Canceling tasks...\")\n",
    "        tasks.cancel()\n",
    "        fedargs.loop.run_forever()\n",
    "        tasks.exception()\n",
    "    \n",
    "    client_model_updates = {client: update for client, update in zip(clients, updates)}\n",
    "    \n",
    "    # For FLTrust, Malicious Clients\n",
    "    if epoch > 1 and FLTrust_attack:\n",
    "        for client in mal_clients:\n",
    "            # using existing global_model_update, however client can also calculate it by preserving the previous one.\n",
    "            client_model_updates[clients[client]] = poison.model_poison_cosine(global_model_update, client_model_updates[clients[client]])\n",
    "    \n",
    "print(time.time() - start_time)"
   ]
  },
  {
   "cell_type": "code",
   "execution_count": null,
   "id": "1a242341",
   "metadata": {},
   "outputs": [],
   "source": [
    "fedargs.loop.close()"
   ]
  },
  {
   "cell_type": "code",
   "execution_count": null,
   "id": "d7df035f",
   "metadata": {},
   "outputs": [],
   "source": []
  }
 ],
 "metadata": {
  "kernelspec": {
   "display_name": "Python [conda env:syft]",
   "language": "python",
   "name": "conda-env-syft-py"
  },
  "language_info": {
   "codemirror_mode": {
    "name": "ipython",
    "version": 3
   },
   "file_extension": ".py",
   "mimetype": "text/x-python",
   "name": "python",
   "nbconvert_exporter": "python",
   "pygments_lexer": "ipython3",
   "version": "3.9.5"
  }
 },
 "nbformat": 4,
 "nbformat_minor": 5
}
