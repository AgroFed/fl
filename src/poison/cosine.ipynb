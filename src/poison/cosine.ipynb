{
 "cells": [
  {
   "cell_type": "code",
   "execution_count": 17,
   "metadata": {},
   "outputs": [
    {
     "name": "stdout",
     "output_type": "stream",
     "text": [
      "The autoreload extension is already loaded. To reload it, use:\n",
      "  %reload_ext autoreload\n"
     ]
    }
   ],
   "source": [
    "%load_ext autoreload\n",
    "%autoreload 2\n",
    "\n",
    "import os, sys\n",
    "import copy\n",
    "import socket\n",
    "from tqdm import tqdm\n",
    "import torch\n",
    "import pickle\n",
    "from torch import optim\n",
    "from pathlib import Path\n",
    "from torch.utils.tensorboard import SummaryWriter\n",
    "\n",
    "sys.path.insert(0, os.path.abspath(os.path.join(os.getcwd(), \"../../\")))\n",
    "from libs import fl, nn, agg, data, poison, log, sim"
   ]
  },
  {
   "cell_type": "code",
   "execution_count": 18,
   "metadata": {},
   "outputs": [],
   "source": [
    "# Save Logs To File (info | debug | warning | error | critical) [optional]\n",
    "log.init(\"debug\")\n",
    "#log.init(\"info\", \"federated.log\")\n",
    "#log.init(\"debug\", \"flkafka.log\")"
   ]
  },
  {
   "cell_type": "code",
   "execution_count": 19,
   "metadata": {},
   "outputs": [],
   "source": [
    "class FedArgs():\n",
    "    def __init__(self):\n",
    "        self.num_clients = 50\n",
    "        self.epochs = 10\n",
    "        self.local_rounds = 1\n",
    "        self.client_batch_size = 32\n",
    "        self.test_batch_size = 128\n",
    "        self.learning_rate = 1e-4\n",
    "        self.weight_decay = 1e-5\n",
    "        self.cuda = True\n",
    "        self.seed = 1\n",
    "        self.tb = SummaryWriter('../../out/runs/federated/FLTrust', comment=\"Mnist Centralized Federated training\")\n",
    "\n",
    "fedargs = FedArgs()"
   ]
  },
  {
   "cell_type": "code",
   "execution_count": 20,
   "metadata": {},
   "outputs": [],
   "source": [
    "use_cuda = fedargs.cuda and torch.cuda.is_available()\n",
    "torch.manual_seed(fedargs.seed)\n",
    "device = torch.device(\"cuda\" if use_cuda else \"cpu\")\n",
    "kwargs = {\"num_workers\": 1, \"pin_memory\": True} if use_cuda else {}"
   ]
  },
  {
   "cell_type": "code",
   "execution_count": 21,
   "metadata": {},
   "outputs": [
    {
     "name": "stdout",
     "output_type": "stream",
     "text": [
      "False\n"
     ]
    }
   ],
   "source": [
    "print(torch.cuda.is_available())"
   ]
  },
  {
   "cell_type": "code",
   "execution_count": 22,
   "metadata": {},
   "outputs": [],
   "source": [
    "host = socket.gethostname()\n",
    "clients = [host + \"(\" + str(client + 1) + \")\" for client in range(fedargs.num_clients)]"
   ]
  },
  {
   "cell_type": "code",
   "execution_count": 23,
   "metadata": {},
   "outputs": [],
   "source": [
    "#Initialize Global and Client models\n",
    "global_model = nn.ModelMNIST()\n",
    "client_models = {client: copy.deepcopy(global_model) for client in clients}\n",
    "\n",
    "# Function for training\n",
    "def train_model(_model, train_loader, fedargs, device):\n",
    "    model, loss = fl.client_update(_model,\n",
    "                                train_loader,\n",
    "                                fedargs.learning_rate,\n",
    "                                fedargs.weight_decay,\n",
    "                                fedargs.local_rounds,\n",
    "                                device)\n",
    "    model_update = agg.sub_model(_model, model)\n",
    "    return model_update, model, loss"
   ]
  },
  {
   "cell_type": "code",
   "execution_count": 24,
   "metadata": {},
   "outputs": [],
   "source": [
    "# Load MNIST Data to clients\n",
    "train_data, test_data = data.load_dataset(\"mnist\")"
   ]
  },
  {
   "cell_type": "code",
   "execution_count": 25,
   "metadata": {},
   "outputs": [],
   "source": [
    "# For FLTrust\n",
    "#############Skip this section for running other averaging\n",
    "FLTrust = True\n",
    "root_ratio = 0.01\n",
    "train_data, root_data = torch.utils.data.random_split(train_data, [int(len(train_data) * (1-root_ratio)), \n",
    "                                                              int(len(train_data) * root_ratio)])\n",
    "root_loader = torch.utils.data.DataLoader(root_data, batch_size=fedargs.client_batch_size, shuffle=True, **kwargs)\n",
    "\n",
    "#global_model, _ = train_model(global_model, root_loader, fedargs, device)\n",
    "#client_models = {client: copy.deepcopy(global_model) for client in clients}\n",
    "#############"
   ]
  },
  {
   "cell_type": "code",
   "execution_count": 26,
   "metadata": {},
   "outputs": [],
   "source": [
    "clients_data = data.split_data(train_data, clients)"
   ]
  },
  {
   "cell_type": "code",
   "execution_count": 27,
   "metadata": {},
   "outputs": [],
   "source": [
    "# Poison a client\n",
    "################Skip this section for running without poison\n",
    "for client in range(10):\n",
    "    clients_data[clients[client]] = poison.label_flip(clients_data[clients[client]], 4, 9, poison_percent = -1)\n",
    "    \n",
    "#clients_data[clients[0]] = poison.label_flip(clients_data[clients[0]], 6, 2, poison_percent = 1)\n",
    "#clients_data[clients[0]] = poison.label_flip(clients_data[clients[0]], 3, 8, poison_percent = 1)\n",
    "#clients_data[clients[0]] = poison.label_flip(clients_data[clients[0]], 1, 5, poison_percent = 1)"
   ]
  },
  {
   "cell_type": "code",
   "execution_count": 28,
   "metadata": {},
   "outputs": [],
   "source": [
    "client_train_loaders, _ = data.load_client_data(clients_data, fedargs.client_batch_size, None, **kwargs)\n",
    "test_loader = torch.utils.data.DataLoader(test_data, batch_size=fedargs.test_batch_size, shuffle=True, **kwargs)\n",
    "\n",
    "clients_info = {\n",
    "        client: {\"train_loader\": client_train_loaders[client]}\n",
    "        for client in clients\n",
    "    }"
   ]
  },
  {
   "cell_type": "code",
   "execution_count": 29,
   "metadata": {},
   "outputs": [],
   "source": [
    "B1 = copy.deepcopy(global_model)\n",
    "\n",
    "C1 = copy.deepcopy(global_model)\n",
    "C2 = copy.deepcopy(global_model)\n",
    "\n",
    "C3 = copy.deepcopy(global_model)\n",
    "C4 = copy.deepcopy(global_model)\n",
    "C5 = copy.deepcopy(global_model)\n",
    "\n",
    "#for i in range(3):\n",
    "_B1, B1, _ = train_model(B1, root_loader, fedargs, device)\n",
    "\n",
    "_C3, C3, _ = train_model(C3, clients_info[list(clients_info.keys())[21]]['train_loader'], fedargs, device)\n",
    "_C4, C4, _ = train_model(C4, clients_info[list(clients_info.keys())[22]]['train_loader'], fedargs, device)\n",
    "_C5, C5, _ = train_model(C5, clients_info[list(clients_info.keys())[23]]['train_loader'], fedargs, device)"
   ]
  },
  {
   "cell_type": "code",
   "execution_count": 30,
   "metadata": {},
   "outputs": [
    {
     "name": "stdout",
     "output_type": "stream",
     "text": [
      "0.10440989\n",
      "[array(0.2412346, dtype=float32), array(0.04032703, dtype=float32), array(0.10411308, dtype=float32), array(0.19308697, dtype=float32)]\n",
      "0.1446904195472598\n",
      "###################################\n",
      "0.08757467\n",
      "[array(0.07569773, dtype=float32), array(0.03305557, dtype=float32), array(0.09019449, dtype=float32), array(0.20181842, dtype=float32)]\n",
      "0.10019155219197273\n",
      "###################################\n",
      "0.52985364\n",
      "[array(0.56426746, dtype=float32), array(0.53212994, dtype=float32), array(0.5289358, dtype=float32), array(0.55863565, dtype=float32)]\n",
      "0.5459922105073929\n",
      "###################################\n",
      "0.5682737\n",
      "[array(0.55328256, dtype=float32), array(0.5155681, dtype=float32), array(0.5624943, dtype=float32), array(0.53804237, dtype=float32)]\n",
      "0.5423468202352524\n",
      "###################################\n",
      "0.53900015\n",
      "[array(0.54823333, dtype=float32), array(0.52675956, dtype=float32), array(0.54156226, dtype=float32), array(0.5195679, dtype=float32)]\n",
      "0.5340307652950287\n"
     ]
    }
   ],
   "source": [
    "#for j in range(20):\n",
    "_C1, C1, _ = train_model(C1, clients_info[list(clients_info.keys())[1]]['train_loader'], fedargs, device)\n",
    "_C2, C2, _ = train_model(C2, clients_info[list(clients_info.keys())[2]]['train_loader'], fedargs, device)\n",
    "\n",
    "print(sim.grad_cosine_similarity(_B1, _C1))\n",
    "print(sim._grad_cosine_similarity(_B1, _C1))\n",
    "\n",
    "print(\"###################################\")\n",
    "\n",
    "print(sim.grad_cosine_similarity(_B1, _C2))\n",
    "print(sim._grad_cosine_similarity(_B1, _C2))\n",
    "\n",
    "print(\"###################################\")\n",
    "\n",
    "print(sim.grad_cosine_similarity(_B1, _C3))\n",
    "print(sim._grad_cosine_similarity(_B1, _C3))\n",
    "\n",
    "print(\"###################################\")\n",
    "\n",
    "print(sim.grad_cosine_similarity(_B1, _C4))\n",
    "print(sim._grad_cosine_similarity(_B1, _C4))\n",
    "\n",
    "print(\"###################################\")\n",
    "\n",
    "print(sim.grad_cosine_similarity(_B1, _C5))\n",
    "print(sim._grad_cosine_similarity(_B1, _C5))"
   ]
  },
  {
   "cell_type": "code",
   "execution_count": 31,
   "metadata": {},
   "outputs": [
    {
     "data": {
      "text/plain": [
       "'\\ndef sub_model(model1, model2):\\n    params1 = model1.state_dict().copy()\\n    params2 = model2.state_dict().copy()\\n    \\n    params1[\\'conv1.weight\\'] = params2[\\'conv1.weight\\']\\n    #params1[\\'fc1.weight\\'] = params2[\\'fc1.weight\\']\\n    \\n    model = copy.deepcopy(model1)\\n    model.load_state_dict(params1, strict=False)\\n    return model\\n\\n_C1_ = copy.deepcopy(_C1)\\n_C1_ = sub_model(_B1, _C1_)\\n\\n_C2_ = copy.deepcopy(_C2)\\n_C2_ = sub_model(_B1, _C2_)\\n\\n#print(sim.grad_cosine_similarity(_B1, _C1_))\\n#print(sim._grad_cosine_similarity(_B1, _C1_))\\n\\navgargs = {\"base_update\": _B1}\\nt1 = fl.federated_avg({\\'a\\': _C1, \\'b\\': _C2, \\'c\\': _C3, \\'d\\': _C4, \\'e\\': _C5}, B1, agg.Rule.FLTrust, **avgargs)\\nt2 = fl.federated_avg({\\'a\\': _C1_, \\'b\\': _C2_, \\'c\\': _C3, \\'d\\': _C4, \\'e\\': _C5}, B1, agg.Rule.FLTrust, **avgargs)\\n\\nprint(fl.eval(t1, test_loader, device))\\nprint(fl.eval(t2, test_loader, device))\\n'"
      ]
     },
     "execution_count": 31,
     "metadata": {},
     "output_type": "execute_result"
    }
   ],
   "source": [
    "'''\n",
    "def sub_model(model1, model2):\n",
    "    params1 = model1.state_dict().copy()\n",
    "    params2 = model2.state_dict().copy()\n",
    "    \n",
    "    params1['conv1.weight'] = params2['conv1.weight']\n",
    "    #params1['fc1.weight'] = params2['fc1.weight']\n",
    "    \n",
    "    model = copy.deepcopy(model1)\n",
    "    model.load_state_dict(params1, strict=False)\n",
    "    return model\n",
    "\n",
    "_C1_ = copy.deepcopy(_C1)\n",
    "_C1_ = sub_model(_B1, _C1_)\n",
    "\n",
    "_C2_ = copy.deepcopy(_C2)\n",
    "_C2_ = sub_model(_B1, _C2_)\n",
    "\n",
    "#print(sim.grad_cosine_similarity(_B1, _C1_))\n",
    "#print(sim._grad_cosine_similarity(_B1, _C1_))\n",
    "\n",
    "avgargs = {\"base_update\": _B1}\n",
    "t1 = fl.federated_avg({'a': _C1, 'b': _C2, 'c': _C3, 'd': _C4, 'e': _C5}, B1, agg.Rule.FLTrust, **avgargs)\n",
    "t2 = fl.federated_avg({'a': _C1_, 'b': _C2_, 'c': _C3, 'd': _C4, 'e': _C5}, B1, agg.Rule.FLTrust, **avgargs)\n",
    "\n",
    "print(fl.eval(t1, test_loader, device))\n",
    "print(fl.eval(t2, test_loader, device))\n",
    "'''"
   ]
  },
  {
   "cell_type": "code",
   "execution_count": 32,
   "metadata": {},
   "outputs": [
    {
     "name": "stdout",
     "output_type": "stream",
     "text": [
      "1199882\n"
     ]
    }
   ],
   "source": [
    "import numpy as np\n",
    "\n",
    "from mxnet import nd as mnd\n",
    "\n",
    "fb1, bslist = sim.get_net_arr(_B1)\n",
    "fc1, cslist = sim.get_net_arr(_C1)\n",
    "fc5, cslist = sim.get_net_arr(_C5)\n",
    "#print(sim.grad_cosine_similarity(_B1, _C1))\n",
    "#print(sim.grad_cosine_similarity(_B1, _C5))\n",
    "\n",
    "#print(bslist)\n",
    "\n",
    "#print(fb1.shape)\n",
    "\n",
    "cs1 = mnd.dot(mnd.array(fb1), mnd.array(fc1)) / (mnd.norm(mnd.array(fb1)) + 1e-9) / (mnd.norm(mnd.array(fc1)) + 1e-9)\n",
    "cs5 = mnd.dot(mnd.array(fb1), mnd.array(fc5)) / (mnd.norm(mnd.array(fb1)) + 1e-9) / (mnd.norm(mnd.array(fc5)) + 1e-9)\n",
    "\n",
    "#print(cs1, cs5)\n",
    "_T1 = sim.get_arr_net(_C1, fc1, cslist)\n",
    "_T5 = sim.get_arr_net(_C5, fc5, cslist)\n",
    "#print(sim.grad_cosine_similarity(_B1, _T1))\n",
    "#print(sim.grad_cosine_similarity(_B1, _T5))\n",
    "\n",
    "ft1, cslist = sim.get_net_arr(_T1)\n",
    "print(len(np.where(fc1==ft1)[0]))"
   ]
  },
  {
   "cell_type": "code",
   "execution_count": 33,
   "metadata": {},
   "outputs": [
    {
     "name": "stdout",
     "output_type": "stream",
     "text": [
      "1199882\n",
      "1199882\n"
     ]
    },
    {
     "name": "stderr",
     "output_type": "stream",
     "text": [
      "2021-08-25 12:18:11,234 - matplotlib data path: /home/harsh_1921cs01/anaconda3/envs/syft/lib/python3.9/site-packages/matplotlib/mpl-data [MainProcess : MainThread (DEBUG)]\n",
      "2021-08-25 12:18:11,242 - CONFIGDIR=/home/harsh_1921cs01/.config/matplotlib [MainProcess : MainThread (DEBUG)]\n",
      "2021-08-25 12:18:11,245 - matplotlib version 3.4.2 [MainProcess : MainThread (DEBUG)]\n",
      "2021-08-25 12:18:11,245 - interactive is False [MainProcess : MainThread (DEBUG)]\n",
      "2021-08-25 12:18:11,246 - platform is linux [MainProcess : MainThread (DEBUG)]\n",
      "2021-08-25 12:18:11,247 - loaded modules: ['sys', 'builtins', '_frozen_importlib', '_imp', '_thread', '_warnings', '_weakref', '_io', 'marshal', 'posix', '_frozen_importlib_external', 'time', 'zipimport', '_codecs', 'codecs', 'encodings.aliases', 'encodings', 'encodings.utf_8', '_signal', 'encodings.latin_1', '_abc', 'abc', 'io', '__main__', '_stat', 'stat', '_collections_abc', 'genericpath', 'posixpath', 'os.path', 'os', '_sitebuiltins', '_locale', '_bootlocale', 'types', 'importlib._bootstrap', 'importlib._bootstrap_external', 'warnings', 'importlib', 'importlib.machinery', '_heapq', 'heapq', 'itertools', 'keyword', '_operator', 'operator', 'reprlib', '_collections', 'collections', 'collections.abc', '_functools', 'functools', 'contextlib', 'enum', '_sre', 'sre_constants', 'sre_parse', 'sre_compile', 'copyreg', 're', 'typing.io', 'typing.re', 'typing', 'importlib.abc', 'importlib.util', 'google', 'mpl_toolkits', 'site', '_weakrefset', 'weakref', 'pkgutil', 'runpy', 'ipykernel._version', '__future__', '_json', 'json.scanner', 'json.decoder', 'json.encoder', 'json', 'errno', 'signal', 'threading', 'pwd', 'grp', '_posixsubprocess', 'select', 'math', 'selectors', 'subprocess', 'IPython.core', 'IPython.core.getipython', 'IPython.core.release', 'atexit', 'copy', 'fnmatch', 'glob', 'token', 'tokenize', 'linecache', 'traceback', '_string', 'string', 'logging', 'zlib', '_compression', '_bz2', 'bz2', '_lzma', 'lzma', 'shutil', '_ast', 'ast', '_opcode', 'opcode', 'dis', 'inspect', 'traitlets.utils', 'traitlets.utils.getargspec', 'traitlets.utils.importstring', 'traitlets.utils.sentinel', 'traitlets.utils.bunch', 'traitlets.utils.descriptions', 'traitlets.traitlets', 'traitlets.utils.decorators', 'traitlets._version', 'traitlets', 'pprint', 'gettext', 'argparse', 'ipython_genutils._version', 'ipython_genutils', '_bisect', 'bisect', '_random', '_sha512', 'random', 'locale', 'ipython_genutils.encoding', 'platform', 'ipython_genutils.py3compat', 'ipython_genutils.path', 'traitlets.config.loader', 'textwrap', 'ipython_genutils.text', 'traitlets.config.configurable', 'traitlets.config.application', 'traitlets.config', 'sysconfig', 'urllib', 'urllib.parse', '_sysconfigdata__linux_x86_64-linux-gnu', 'pydoc', 'bdb', 'IPython.utils', 'IPython.utils.ipstruct', 'IPython.utils.coloransi', 'pygments', 'IPython.utils.colorable', 'IPython.utils.PyColorize', 'IPython.utils.encoding', 'IPython.utils.py3compat', 'IPython.core.excolors', 'IPython.testing', 'IPython.testing.skipdoctest', 'cmd', 'codeop', 'code', 'pdb', 'IPython.core.debugger', 'IPython.core.display_trap', 'pexpect.exceptions', 'pexpect.utils', 'pexpect.expect', 'termios', 'tty', 'pty', 'fcntl', 'resource', '_struct', 'struct', 'ptyprocess.util', 'ptyprocess.ptyprocess', 'ptyprocess', 'pexpect.spawnbase', 'pexpect.pty_spawn', 'pexpect.run', 'pexpect', 'shlex', 'IPython.utils._process_common', 'IPython.utils._process_posix', 'IPython.utils.process', 'IPython.utils.decorators', 'IPython.utils.path', 'IPython.utils.data', 'IPython.utils.terminal', 'IPython.core.ultratb', 'IPython.utils._sysinfo', 'IPython.utils.sysinfo', 'IPython.core.crashhandler', 'tempfile', 'IPython.utils.importstring', 'IPython.paths', 'IPython.core.profiledir', 'IPython.core.application', 'IPython.terminal', '_hashlib', '_blake2', 'hashlib', 'IPython.core.compilerop', 'IPython.core.error', 'ntpath', 'pathlib', 'IPython.utils.text', 'IPython.core.magic_arguments', 'getopt', 'binascii', 'mimetypes', 'IPython.core.display', 'IPython.core.page', 'getpass', 'IPython.lib.security', 'IPython.lib', '_datetime', 'datetime', 'IPython.lib.pretty', 'IPython.utils.openpy', 'IPython.utils.dir2', 'IPython.utils.wildcard', 'pygments.lexers._mapping', 'pygments.modeline', 'pygments.plugin', 'pygments.util', 'pygments.lexers', 'pygments.filter', 'pygments.token', 'pygments.filters', 'pygments.regexopt', 'pygments.lexer', 'pygments.unistring', 'pygments.lexers.python', 'pygments.formatters._mapping', 'pygments.formatters', 'pygments.styles', 'pygments.formatter', 'pygments.formatters.html', 'IPython.core.oinspect', 'IPython.core.inputtransformer2', 'decorator', 'IPython.core.magic', '_compat_pickle', '_pickle', 'pickle', 'pickleshare', 'IPython.core.autocall', 'IPython.core.macro', 'IPython.core.splitinput', 'IPython.core.prefilter', 'IPython.core.alias', 'IPython.core.builtin_trap', 'backcall.backcall', 'backcall', 'IPython.core.events', 'IPython.core.displayhook', 'IPython.core.displaypub', 'IPython.core.extensions', 'IPython.utils.sentinel', 'IPython.core.formatters', '_sqlite3', 'sqlite3.dbapi2', 'sqlite3', 'IPython.core.history', 'IPython.core.logger', 'IPython.core.payload', 'IPython.core.usage', 'html.entities', 'html', 'IPython.lib.display', 'IPython.display', 'IPython.utils.capture', 'IPython.utils.io', 'IPython.core.hooks', 'IPython.utils.strdispatch', 'IPython.utils.syspathcontext', 'IPython.utils.tempdir', 'IPython.utils.contexts', 'IPython.core.async_helpers', 'IPython.core.interactiveshell', 'concurrent', 'concurrent.futures._base', 'concurrent.futures', '_socket', 'array', 'socket', '_ssl', 'base64', 'ssl', 'asyncio.constants', 'asyncio.format_helpers', 'asyncio.base_futures', 'asyncio.log', 'asyncio.coroutines', '_contextvars', 'contextvars', 'asyncio.exceptions', 'asyncio.base_tasks', '_asyncio', 'asyncio.events', 'asyncio.futures', 'asyncio.protocols', 'asyncio.transports', 'asyncio.sslproto', 'asyncio.locks', 'asyncio.tasks', 'asyncio.staggered', 'asyncio.trsock', 'asyncio.base_events', 'asyncio.runners', 'asyncio.queues', 'asyncio.streams', 'asyncio.subprocess', 'asyncio.threads', 'asyncio.base_subprocess', 'asyncio.selector_events', 'asyncio.unix_events', 'asyncio', 'prompt_toolkit.application.current', 'prompt_toolkit.eventloop.utils', 'prompt_toolkit.eventloop.async_generator', 'wcwidth.table_wide', 'wcwidth.table_zero', 'wcwidth.unicode_versions', 'wcwidth.wcwidth', 'wcwidth', 'prompt_toolkit.utils', 'prompt_toolkit.eventloop.inputhook', 'prompt_toolkit.eventloop', 'prompt_toolkit.application.run_in_terminal', 'prompt_toolkit.selection', 'prompt_toolkit.clipboard.base', 'prompt_toolkit.clipboard.in_memory', 'prompt_toolkit.clipboard', 'prompt_toolkit.cache', 'prompt_toolkit.enums', 'prompt_toolkit.filters.base', 'prompt_toolkit.filters.app', 'prompt_toolkit.filters.cli', 'prompt_toolkit.filters.utils', 'prompt_toolkit.filters', 'prompt_toolkit.document', 'prompt_toolkit.auto_suggest', 'prompt_toolkit.data_structures', 'prompt_toolkit.styles.base', 'prompt_toolkit.styles.named_colors', 'prompt_toolkit.styles.style', 'prompt_toolkit.styles.defaults', 'prompt_toolkit.styles.pygments', 'colorsys', 'prompt_toolkit.styles.style_transformation', 'prompt_toolkit.styles', 'prompt_toolkit.output.color_depth', 'prompt_toolkit.output.base', 'prompt_toolkit.output.defaults', 'prompt_toolkit.output', 'prompt_toolkit.output.vt100', 'prompt_toolkit.mouse_events', 'prompt_toolkit.formatted_text.base', 'prompt_toolkit.formatted_text.ansi', 'xml', 'xml.dom.domreg', 'xml.dom', 'xml.dom.minicompat', 'xml.dom.NodeFilter', 'xml.dom.xmlbuilder', 'xml.dom.minidom', 'prompt_toolkit.formatted_text.html', 'prompt_toolkit.formatted_text.pygments', 'prompt_toolkit.formatted_text.utils', 'prompt_toolkit.formatted_text', 'prompt_toolkit.completion.base', 'prompt_toolkit.completion.deduplicate', 'prompt_toolkit.completion.filesystem', 'prompt_toolkit.completion.word_completer', 'prompt_toolkit.completion.fuzzy_completer', 'prompt_toolkit.completion.nested', 'prompt_toolkit.completion', 'prompt_toolkit.history', 'prompt_toolkit.keys', 'prompt_toolkit.key_binding.key_bindings', 'prompt_toolkit.key_binding.key_processor', 'prompt_toolkit.key_binding', 'prompt_toolkit.key_binding.vi_state', 'prompt_toolkit.search', 'prompt_toolkit.validation', 'prompt_toolkit.buffer', 'prompt_toolkit.input.base', 'prompt_toolkit.input.defaults', 'prompt_toolkit.input', 'prompt_toolkit.input.typeahead', 'prompt_toolkit.key_binding.bindings', 'prompt_toolkit.key_binding.bindings.scroll', 'prompt_toolkit.key_binding.bindings.page_navigation', 'prompt_toolkit.lexers.base', 'prompt_toolkit.lexers.pygments', 'prompt_toolkit.lexers', 'prompt_toolkit.layout.utils', 'prompt_toolkit.layout.processors', 'prompt_toolkit.layout.controls', 'prompt_toolkit.layout.dimension', 'prompt_toolkit.layout.margins', 'prompt_toolkit.layout.mouse_handlers', 'prompt_toolkit.layout.screen', 'prompt_toolkit.layout.containers', 'prompt_toolkit.layout.layout', 'prompt_toolkit.layout.menus', 'prompt_toolkit.layout.scrollable_pane', 'prompt_toolkit.layout', 'prompt_toolkit.key_binding.bindings.completion', 'prompt_toolkit.key_binding.bindings.named_commands', 'prompt_toolkit.key_binding.bindings.basic', 'prompt_toolkit.key_binding.bindings.cpr', 'prompt_toolkit.key_binding.bindings.emacs', 'prompt_toolkit.key_binding.bindings.mouse', 'prompt_toolkit.input.ansi_escape_sequences', 'prompt_toolkit.input.vt100_parser', 'prompt_toolkit.key_binding.digraphs', 'prompt_toolkit.key_binding.bindings.vi', 'prompt_toolkit.key_binding.defaults', 'prompt_toolkit.key_binding.emacs_state', 'prompt_toolkit.layout.dummy', 'prompt_toolkit.renderer', 'prompt_toolkit.application.application', 'prompt_toolkit.application.dummy', 'prompt_toolkit.application', 'prompt_toolkit.key_binding.bindings.focus', 'prompt_toolkit.widgets.toolbars', 'prompt_toolkit.widgets.base', 'prompt_toolkit.widgets.dialogs', 'prompt_toolkit.widgets.menus', 'prompt_toolkit.widgets', 'prompt_toolkit.shortcuts.dialogs', 'prompt_toolkit.shortcuts.progress_bar.formatters', 'prompt_toolkit.shortcuts.progress_bar.base', 'prompt_toolkit.shortcuts.progress_bar', 'prompt_toolkit.key_binding.bindings.auto_suggest', 'prompt_toolkit.key_binding.bindings.open_in_editor', 'prompt_toolkit.shortcuts.prompt', 'prompt_toolkit.shortcuts.utils', 'prompt_toolkit.shortcuts', 'prompt_toolkit', '_queue', 'queue', 'prompt_toolkit.patch_stdout', 'pygments.style', 'unicodedata', 'IPython.core.latex_symbols', 'IPython.utils.generics', 'parso._compatibility', 'parso.utils', 'parso.tree', 'parso.python', 'parso.python.token', 'parso.python.tokenize', 'parso.pgen2.grammar_parser', 'parso.pgen2.generator', 'parso.pgen2', 'parso.parser', 'difflib', 'parso.python.prefix', 'parso.python.tree', 'parso.python.parser', 'parso.python.diff', 'gc', 'parso.cache', 'parso.normalizer', 'parso.python.errors', 'parso.python.pep8', 'parso.file_io', 'parso.grammar', 'parso', 'jedi.file_io', 'jedi._compatibility', 'jedi.parser_utils', 'jedi.debug', 'jedi.settings', 'jedi.cache', 'jedi.inference.cache', 'jedi.inference.helpers', 'jedi.inference.utils', 'jedi.inference.base_value', 'jedi.common', 'jedi.inference.sys_path', 'jedi.inference.recursion', 'jedi.inference.flow_analysis', 'jedi.inference.lazy_value', 'jedi.inference.docstrings', 'jedi.plugins', 'jedi.inference.names', 'jedi.inference.filters', 'jedi.inference.compiled.getattr_static', 'jedi.inference.compiled.access', 'jedi.inference.signature', 'jedi.inference.context', 'jedi.inference.compiled.value', 'jedi.inference.compiled', 'jedi.inference.analysis', 'jedi.inference.gradual', 'jedi.inference.value.module', 'jedi.inference.value.dynamic_arrays', 'jedi.inference.value.iterable', 'jedi.inference.arguments', 'jedi.inference.parser_cache', 'jedi.inference.gradual.generics', 'jedi.inference.value.function', 'jedi.inference.value.klass', 'jedi.inference.value.instance', 'jedi.inference.value', 'jedi.inference.gradual.base', 'jedi.inference.gradual.type_var', 'jedi.inference.gradual.typing', 'jedi.inference.gradual.stub_value', 'jedi.inference.gradual.typeshed', 'jedi.inference.imports', 'jedi.inference.param', 'jedi.inference.gradual.annotation', 'jedi.inference.value.decorator', 'jedi.inference.syntax_tree', 'jedi.inference', 'jedi.inference.gradual.conversion', 'jedi.inference.compiled.mixed', 'pydoc_data', 'pydoc_data.topics', 'jedi.api.keywords', 'jedi.api.completion_cache', 'jedi.api.helpers', 'jedi.api.classes', 'jedi.api.interpreter', 'jedi.api.strings', 'jedi.api.file_name', 'jedi.api.completion', 'filecmp', 'jedi.inference.compiled.subprocess.functions', 'jedi.api.exceptions', 'jedi.inference.compiled.subprocess', 'jedi.api.environment', 'jedi.inference.references', 'jedi.api.project', 'jedi.api.errors', 'jedi.api.refactoring', 'jedi.api.refactoring.extract', 'jedi.inference.gradual.utils', 'jedi.api', 'jedi.plugins.stdlib', 'jedi.plugins.flask', 'jedi.plugins.pytest', 'jedi.plugins.django', 'jedi.plugins.registry', 'jedi', 'IPython.core.completer', 'IPython.terminal.ptutils', 'IPython.terminal.shortcuts', 'IPython.terminal.debugger', 'IPython.lib.clipboard', 'IPython.terminal.magics', 'IPython.terminal.pt_inputhooks', 'IPython.terminal.prompts', 'IPython.terminal.interactiveshell', 'IPython.core.magics.auto', 'IPython.core.magics.basic', 'email', 'http', 'email.errors', 'email.quoprimime', 'email.base64mime', 'quopri', 'email.encoders', 'email.charset', 'email.header', 'calendar', 'email._parseaddr', 'email.utils', 'email._policybase', 'email.feedparser', 'email.parser', 'uu', 'email._encoded_words', 'email.iterators', 'email.message', 'http.client', 'urllib.response', 'urllib.error', 'urllib.request', 'IPython.core.magics.code', 'IPython.core.magics.config', 'IPython.core.magics.display', 'timeit', '_lsprof', 'profile', 'cProfile', 'dataclasses', 'pstats', 'IPython.utils.module_paths', 'IPython.utils.timing', 'IPython.core.magics.execution', 'IPython.core.magics.extension', 'IPython.core.magics.history', 'IPython.core.magics.logging', 'IPython.core.magics.namespace', 'IPython.core.magics.osm', 'IPython.core.magics.packaging', 'IPython.core.pylabtools', 'IPython.core.magics.pylab', 'IPython.lib.backgroundjobs', 'IPython.core.magics.script', 'IPython.core.magics', 'IPython.core.shellapp', 'IPython.extensions', 'IPython.extensions.storemagic', 'IPython.terminal.ipapp', 'IPython.terminal.embed', 'IPython.utils.frame', 'IPython', 'jupyter_client._version', '_ctypes', 'ctypes._endian', 'ctypes', 'zmq.backend.select', 'cython_runtime', 'zmq.backend.cython.constants', '_cython_0_29_21', 'zmq.backend.cython.error', 'zmq.error', 'zmq.backend.cython.message', 'zmq.backend.cython.context', 'zmq.backend.cython.socket', 'zmq.backend.cython.utils', 'zmq.backend.cython._poll', 'zmq.backend.cython._version', 'zmq.backend.cython._device', 'zmq.backend.cython._proxy_steerable', 'zmq.backend.cython', 'zmq.backend', 'zmq.utils', 'zmq.utils.constant_names', 'zmq.sugar.constants', 'zmq.sugar.attrsettr', 'zmq.sugar.poll', 'zmq.utils.strtypes', 'zmq.utils.jsonapi', 'zmq.sugar.socket', 'zmq.sugar.context', 'zmq.sugar.frame', 'zmq.sugar.tracker', 'zmq.sugar.version', 'zmq.sugar.stopwatch', 'zmq.sugar', 'zmq', 'jupyter_client.localinterfaces', 'jupyter_core.version', 'jupyter_core', 'jupyter_core.paths', 'jupyter_client.utils', 'jupyter_client.connect', 'traitlets.log', 'jupyter_client.launcher', 'jupyter_client.channelsabc', 'jupyter_client.channels', 'jupyter_client.clientabc', 'jupyter_client.client', 'jupyter_client.kernelspec', 'jupyter_client.managerabc', 'jupyter_client.manager', 'jupyter_client.blocking.channels', 'jupyter_client.blocking.client', 'jupyter_client.blocking', 'zmq._future', 'zmq.asyncio', 'jupyter_client.asynchronous.channels', 'jupyter_client.asynchronous.client', 'jupyter_client.asynchronous', 'uuid', 'jupyter_client.multikernelmanager', 'jupyter_client', 'ipykernel.connect', 'ipykernel', 'tornado', 'numbers', 'logging.handlers', 'tornado.speedups', 'tornado.util', 'tornado.escape', '_curses', 'curses', 'tornado.log', 'tornado.concurrent', 'tornado.ioloop', 'tornado.platform', 'tornado.gen', 'tornado.platform.asyncio', 'zmq.eventloop.ioloop', 'zmq.eventloop', 'zmq.eventloop.zmqstream', 'ipython_genutils.importstring', 'imp', 'hmac', 'dateutil._version', 'dateutil', 'six', '_decimal', 'decimal', 'dateutil._common', 'dateutil.relativedelta', 'six.moves', 'dateutil.tz._common', 'dateutil.tz._factories', 'dateutil.tz.tz', 'dateutil.tz', 'dateutil.parser._parser', 'dateutil.parser.isoparser', 'dateutil.parser', '_strptime', 'jupyter_client.jsonutil', 'jupyter_client.adapter', 'jupyter_client.session', 'ipykernel.iostream', 'ipykernel.heartbeat', 'IPython.utils.tokenutil', 'tornado.locks', 'tornado.queues', 'ipykernel.jsonutil', 'ipykernel.kernelbase', 'ipykernel.comm.comm', 'ipykernel.comm.manager', 'ipykernel.comm', 'IPython.core.payloadpage', 'ipykernel.displayhook', 'ipykernel.zmqshell', 'distutils', 'distutils.version', 'ipykernel.eventloops', 'ipykernel.ipkernel', 'ipykernel.parentpoller', 'ipykernel.kernelapp', 'netifaces', 'faulthandler', 'ipykernel.codeutil', 'ipykernel.pickleutil', 'ipykernel.serialize', 'ipykernel.datapub', 'IPython.core.completerlib', 'storemagic', 'autoreload', 'tqdm._monitor', 'tqdm._tqdm_pandas', 'tqdm.utils', 'tqdm.std', 'tqdm._dist_ver', 'tqdm.version', 'tqdm.cli', 'tqdm.gui', 'tqdm', 'torch._six', 'torch._utils', 'torch._utils_internal', 'torch.version', 'torch._C._onnx', 'torch._C._jit_tree_views', 'torch._C._te', 'torch._C.cpp', 'torch._C.cpp.nn', 'numpy._globals', 'numpy.__config__', 'numpy.version', 'mkl._mklinit', 'mkl._py_mkl_service', 'mkl', 'numpy._distributor_init', 'numpy.core._multiarray_umath', 'numpy.compat._inspect', 'numpy.compat.py3k', 'numpy.compat', 'numpy.core.overrides', 'numpy.core.multiarray', 'numpy.core.umath', 'numpy.core._string_helpers', 'numpy.core._dtype', 'numpy.core._type_aliases', 'numpy.core.numerictypes', 'numpy.core._asarray', 'numpy.core._exceptions', 'numpy.core._methods', 'numpy.core.fromnumeric', 'numpy.core.shape_base', 'numpy.core._ufunc_config', 'numpy.core.arrayprint', 'numpy.core.numeric', 'numpy.core.defchararray', 'numpy.core.records', 'numpy.core.memmap', 'numpy.core.function_base', 'numpy.core.machar', 'numpy.core.getlimits', 'numpy.core.einsumfunc', 'numpy.core._multiarray_tests', 'numpy.core._add_newdocs', 'numpy.core._dtype_ctypes', 'numpy.core._internal', 'numpy._pytesttester', 'numpy.core', 'numpy.lib.mixins', 'numpy.lib.ufunclike', 'numpy.lib.type_check', 'numpy.lib.scimath', 'numpy.lib.twodim_base', 'numpy.linalg.lapack_lite', 'numpy.linalg._umath_linalg', 'numpy.linalg.linalg', 'numpy.linalg', 'numpy.matrixlib.defmatrix', 'numpy.matrixlib', 'numpy.lib.histograms', 'numpy.lib.function_base', 'numpy.lib.stride_tricks', 'numpy.lib.index_tricks', 'numpy.lib.nanfunctions', 'numpy.lib.shape_base', 'numpy.lib.polynomial', 'numpy.lib.utils', 'numpy.lib.arraysetops', 'numpy.lib.format', 'numpy.lib._datasource', 'numpy.lib._iotools', 'numpy.lib.npyio', 'numpy.lib.financial', 'numpy.lib.arrayterator', 'numpy.lib.arraypad', 'numpy.lib._version', 'numpy.lib', 'numpy.fft._pocketfft_internal', 'numpy.fft._pocketfft', 'numpy.fft.helper', 'numpy.fft', 'numpy.polynomial.polyutils', 'numpy.polynomial._polybase', 'numpy.polynomial.polynomial', 'numpy.polynomial.chebyshev', 'numpy.polynomial.legendre', 'numpy.polynomial.hermite', 'numpy.polynomial.hermite_e', 'numpy.polynomial.laguerre', 'numpy.polynomial', 'numpy.random._common', 'secrets', 'numpy.random.bit_generator', 'numpy.random._bounded_integers', 'numpy.random._mt19937', 'numpy.random.mtrand', 'numpy.random._philox', 'numpy.random._pcg64', 'numpy.random._sfc64', 'numpy.random._generator', 'numpy.random._pickle', 'numpy.random', 'numpy.ctypeslib', 'numpy.ma.core', 'numpy.ma.extras', 'numpy.ma', 'numpy', 'torch._C', 'torch._namedtensor_internals', 'torch.overrides', 'torch.utils.throughput_benchmark', 'torch.utils', 'torch.utils.hooks', 'torch.tensor', 'torch.storage', 'torch.random', 'tarfile', 'torch.types', 'torch.serialization', 'torch._tensor_str', 'torch.cuda._utils', 'torch.cuda.streams', 'torch.cuda.memory', 'torch.cuda.random', 'torch.cuda.sparse', 'torch.cuda.profiler', 'torch.cuda.nvtx', 'torch.cuda.amp.common', 'torch.cuda.amp.autocast_mode', 'torch.cuda.amp.grad_scaler', 'torch.cuda.amp', 'torch.cuda', 'torch.sparse', 'torch.nn.parameter', 'torch.nn.modules.module', 'torch._VF', 'torch._torch_docs', 'torch._C._distributed_c10d', 'torch.distributed.constants', 'torch.distributed.rendezvous', 'torch.distributed.distributed_c10d', 'torch.distributed', 'torch._C._distributed_rpc', 'torch.futures', 'torch.distributed.rpc.internal', 'torch.distributed.rpc.constants', 'torch.distributed.rpc.api', 'torch.distributed.rpc.backend_registry', 'torch.distributed.rpc.functions', 'torch.distributed.rpc.options', 'torch.autograd.variable', 'torch.autograd.function', 'torch.testing.check_kernel_launches', 'torch.testing', 'torch.utils._pytree', 'torch._vmap_internals', 'torch.autograd.gradcheck', 'torch.autograd.grad_mode', 'torch.autograd.anomaly_mode', 'torch.autograd.functional', 'torch.autograd.forward_ad', 'torch._C._autograd', 'torch.autograd.profiler', 'torch.autograd', 'torch.distributed.rpc.server_process_global_profiler', 'torch._C._distributed_autograd', 'torch.distributed.autograd', 'torch.distributed.rpc', 'torch._jit_internal', 'torch.nn._reduction', 'torch.nn.modules.utils', 'torch.nn.grad', 'torch.nn.functional', 'torch.nn.init', 'typing_extensions', 'torch.nn.modules.lazy', 'torch.nn.modules.linear', 'torch.nn.common_types', 'torch.nn.modules.conv', 'torch.nn.modules.activation', 'torch.nn.modules.distance', 'torch.nn.modules.loss', 'torch.nn.modules.container', 'torch.nn.modules.pooling', 'torch.nn.modules._functions', 'torch.nn.modules.batchnorm', 'torch.nn.modules.instancenorm', 'torch.nn.modules.normalization', 'torch.nn.modules.dropout', 'torch.nn.modules.padding', 'torch.nn.modules.sparse', 'torch.nn.utils.rnn', 'torch.nn.utils.clip_grad', 'torch.nn.utils.weight_norm', 'torch.nn.utils.convert_parameters', 'torch.nn.utils.spectral_norm', 'torch.nn.utils.fusion', 'torch.nn.utils.memory_format', 'torch.nn.utils', 'torch.nn.modules.rnn', 'torch.nn.modules.pixelshuffle', 'torch.nn.modules.upsampling', 'torch.nn.modules.fold', 'torch.nn.modules.adaptive', 'torch.nn.modules.transformer', 'torch.nn.modules.flatten', 'torch.nn.modules.channelshuffle', 'torch.nn.modules', 'torch.nn.parallel.parallel_apply', 'torch.cuda.nccl', 'torch.nn.parallel.comm', 'torch.nn.parallel.replicate', 'torch.nn.parallel._functions', 'torch.nn.parallel.scatter_gather', 'torch.nn.parallel.data_parallel', 'torch.nn.parallel.distributed', 'torch.nn.parallel', 'torch.nn', 'torch._linalg_utils', 'torch._lowrank', 'torch._autograd_functions', 'torch.functional', 'torch.fft', 'torch.nn.intrinsic.modules.fused', 'torch.nn.intrinsic.modules', 'torch.nn.intrinsic', 'torch.nn.quantizable.modules.rnn', 'torch.nn.quantizable.modules', 'torch.nn.quantizable', 'torch.nn.quantized.modules.utils', 'torch.jit._state', 'torch.jit.annotations', 'torch.jit.frontend', 'torch.backends', 'torch.backends.cudnn', 'torch.jit._builtins', 'torch.jit._recursive', 'torch.jit._fuser', 'torch.jit._script', 'torch.jit._trace', 'torch.jit._async', 'torch.jit._serialization', 'torch.jit.cuda', 'torch.jit._freeze', 'torch.jit', 'torch.nn.quantized.functional', 'torch.nn.quantized.modules.activation', 'torch.nn.quantized.modules.batchnorm', 'torch.nn.quantized.modules.normalization', 'torch.nn.qat.modules.linear', 'torch.nn.qat.modules.conv', 'torch.nn.qat.modules', 'torch.nn.qat', 'torch.nn.intrinsic.qat.modules.linear_relu', 'torch.nn.intrinsic.qat.modules.conv_fused', 'torch.nn.intrinsic.qat.modules', 'torch.nn.intrinsic.qat', 'torch._ops', 'torch.nn.quantized.modules.conv', 'torch.nn.quantized.modules.linear', 'torch.nn.quantized.modules.embedding_ops', 'torch.nn.quantized.modules.functional_modules', 'torch.nn.quantized.modules', 'torch.nn.quantized', 'torch.optim._functional', 'torch.optim.optimizer', 'torch.optim.adadelta', 'torch.optim.adagrad', 'torch.optim.adam', 'torch.optim.adamw', 'torch.optim.sparse_adam', 'torch.optim.adamax', 'torch.optim.asgd', 'torch.optim.sgd', 'torch.optim.rprop', 'torch.optim.rmsprop', 'torch.optim.lbfgs', 'torch.optim.lr_scheduler', 'torch.optim.swa_utils', 'torch.optim', 'torch.optim._multi_tensor.adam', 'torch.optim._multi_tensor.adamw', 'torch.optim._multi_tensor.sgd', 'torch.optim._multi_tensor.rmsprop', 'torch.optim._multi_tensor.rprop', 'torch.optim._multi_tensor.asgd', 'torch.optim._multi_tensor.adamax', 'torch.optim._multi_tensor.adadelta', 'torch.optim._multi_tensor', 'multiprocessing.process', 'multiprocessing.reduction', 'multiprocessing.context', '__mp_main__', 'multiprocessing', 'multiprocessing.util', 'multiprocessing.resource_sharer', 'torch.multiprocessing.reductions', '_multiprocessing', 'multiprocessing.connection', 'torch.multiprocessing.spawn', 'torch.multiprocessing', 'torch.utils.backcompat', 'torch.onnx', 'torch.linalg', 'zipfile', 'ipywidgets._version', 'ipywidgets.widgets.widget', 'ipywidgets.widgets.util', 'ipywidgets.widgets.trait_types', 'ipywidgets.widgets.widget_layout', 'ipywidgets.widgets.widget_style', 'ipywidgets.widgets.domwidget', 'ipywidgets.widgets.valuewidget', 'ipywidgets.widgets.widget_core', 'ipywidgets.widgets.widget_description', 'ipywidgets.widgets.widget_bool', 'ipywidgets.widgets.widget_button', 'ipywidgets.widgets.docutils', 'ipywidgets.widgets.widget_box', 'ipywidgets.widgets.widget_int', 'ipywidgets.widgets.widget_float', 'ipywidgets.widgets.widget_color', 'ipywidgets.widgets.widget_date', 'ipywidgets.widgets.widget_output', 'ipywidgets.widgets.widget_selection', 'ipywidgets.widgets.widget_selectioncontainer', 'ipywidgets.widgets.widget_string', 'ipywidgets.widgets.widget_controller', 'ipywidgets.widgets.interaction', 'ipywidgets.widgets.widget_link', 'ipywidgets.widgets.widget_media', 'ipywidgets.widgets.widget_templates', 'ipywidgets.widgets.widget_upload', 'ipywidgets.widgets', 'ipywidgets', 'tqdm.notebook', 'tqdm.autonotebook', 'tqdm.asyncio', 'tqdm.auto', 'torch.hub', 'torch.distributions.constraints', 'torch.distributions.utils', 'torch.distributions.distribution', 'torch.distributions.exp_family', 'torch.distributions.bernoulli', 'torch.distributions.dirichlet', 'torch.distributions.beta', 'torch.distributions.binomial', 'torch.distributions.categorical', 'torch.distributions.cauchy', 'torch.distributions.gamma', 'torch.distributions.chi2', 'torch.distributions.transforms', 'torch.distributions.constraint_registry', 'torch.distributions.continuous_bernoulli', 'torch.distributions.exponential', 'torch.distributions.fishersnedecor', 'torch.distributions.geometric', 'torch.distributions.uniform', 'torch.distributions.independent', 'torch.distributions.transformed_distribution', 'torch.distributions.gumbel', 'torch.distributions.half_cauchy', 'torch.distributions.normal', 'torch.distributions.half_normal', 'torch.distributions.laplace', 'torch.distributions.multivariate_normal', 'torch.distributions.lowrank_multivariate_normal', 'torch.distributions.one_hot_categorical', 'torch.distributions.pareto', 'torch.distributions.poisson', 'torch.distributions.kl', 'torch.distributions.kumaraswamy', 'torch.distributions.lkj_cholesky', 'torch.distributions.log_normal', 'torch.distributions.logistic_normal', 'torch.distributions.mixture_same_family', 'torch.distributions.multinomial', 'torch.distributions.negative_binomial', 'torch.distributions.relaxed_bernoulli', 'torch.distributions.relaxed_categorical', 'torch.distributions.studentT', 'torch.distributions.von_mises', 'torch.distributions.weibull', 'torch.distributions', 'torch.backends.cuda', 'torch.backends.mkl', 'torch.backends.mkldnn', 'torch.backends.openmp', 'torch.backends.quantized', 'torch.nn.intrinsic.quantized.modules.linear_relu', 'torch.nn.intrinsic.quantized.modules.conv_relu', 'torch.nn.intrinsic.quantized.modules.bn_relu', 'torch.nn.intrinsic.quantized.modules', 'torch.nn.intrinsic.quantized', 'torch.nn.quantized.dynamic.modules.linear', 'torch.nn.quantized.dynamic.modules.rnn', 'torch.nn.quantized.dynamic.modules', 'torch.nn.quantized.dynamic', 'torch.quantization.stubs', 'torch.quantization.observer', 'torch.quantization.fake_quantize', 'torch.quantization.quant_type', 'torch.quantization.utils', 'torch.quantization.quantization_mappings', 'torch.quantization.qconfig', 'torch.quantization.quantize', 'torch.quantization.fuser_method_mappings', 'torch.quantization.fuse_modules', 'torch.quantization.quantize_jit', 'torch.quantization', 'torch.utils.data.sampler', 'torch.utils.data.dataset', 'torch.utils.data.distributed', 'torch.utils.data._utils.signal_handling', 'torch.utils.data._utils.worker', 'torch.utils.data._utils.pin_memory', 'torch.utils.data._utils.collate', 'torch.utils.data._utils.fetch', 'torch.utils.data._utils', 'torch.utils.data.dataloader', 'torch.utils.data', 'torch.__config__', 'torch.__future__', 'torch.profiler.profiler', 'torch.profiler', 'torch._tensor_docs', 'torch._storage_docs', 'torch._classes', 'torch.quasirandom', 'torch.multiprocessing._atfork', 'torch._lobpcg', 'torch', 'tensorboard.lazy', 'tensorboard.version', 'tensorboard', 'tensorboard.compat', 'tensorboard.compat.proto', 'google.protobuf', 'google.protobuf.internal', 'google.protobuf.internal.enum_type_wrapper', 'google.protobuf.internal._api_implementation', 'google.protobuf.internal.api_implementation', 'google.protobuf.pyext', 'google.protobuf.internal.containers', 'google.protobuf.message', 'google.protobuf.pyext._message', 'google.protobuf.descriptor', 'google.protobuf.descriptor_database', 'google.protobuf.text_encoding', 'google.protobuf.descriptor_pool', 'google.protobuf.pyext.cpp_message', 'google.protobuf.message_factory', 'google.protobuf.symbol_database', 'google.protobuf.reflection', 'google.protobuf.internal.well_known_types', 'tensorboard.compat.proto.tensor_shape_pb2', 'tensorboard.compat.proto.types_pb2', 'tensorboard.compat.proto.resource_handle_pb2', 'tensorboard.compat.proto.tensor_pb2', 'tensorboard.compat.proto.summary_pb2', 'tensorboard.compat.proto.event_pb2', 'tensorboard.plugins', 'encodings.raw_unicode_escape', 'encodings.unicode_escape', 'google.protobuf.internal.wire_format', 'google.protobuf.internal.encoder', 'google.protobuf.internal.decoder', 'google.protobuf.internal.type_checkers', 'google.protobuf.text_format', 'tensorboard.plugins.projector.metadata', 'tensorboard.plugins.projector.projector_config_pb2', 'tensorboard.plugins.projector', 'tensorboard.plugins.audio', 'tensorboard.util', 'tensorboard.util.op_evaluator', 'tensorboard.util.encoder', 'tensorboard.plugins.audio.plugin_data_pb2', 'tensorboard.plugins.audio.metadata', 'tensorboard.util.lazy_tensor_creator', 'tensorboard.plugins.audio.summary_v2', 'tensorboard.plugins.audio.summary', 'tensorboard.plugins.custom_scalar', 'tensorboard.plugins.custom_scalar.layout_pb2', 'tensorboard.plugins.custom_scalar.metadata', 'tensorboard.plugins.custom_scalar.summary', 'tensorboard.plugins.histogram', 'tensorboard.plugins.histogram.plugin_data_pb2', 'tensorboard.plugins.histogram.metadata', 'tensorboard.compat.proto.cost_graph_pb2', 'tensorboard.compat.proto.attr_value_pb2', 'tensorboard.compat.proto.node_def_pb2', 'tensorboard.compat.proto.op_def_pb2', 'tensorboard.compat.proto.function_pb2', 'tensorboard.compat.proto.versions_pb2', 'tensorboard.compat.proto.graph_pb2', 'tensorboard.compat.proto.allocation_description_pb2', 'tensorboard.compat.proto.tensor_description_pb2', 'tensorboard.compat.proto.step_stats_pb2', 'tensorboard.compat.proto.cluster_pb2', 'tensorboard.compat.proto.debug_pb2', 'tensorboard.compat.proto.verifier_config_pb2', 'tensorboard.compat.proto.rewriter_config_pb2', 'tensorboard.compat.proto.config_pb2', 'google.protobuf.any_pb2', 'tensorboard.compat.proto.variable_pb2', 'tensorboard.compat.proto.struct_pb2', 'tensorboard.compat.proto.trackable_object_graph_pb2', 'tensorboard.compat.proto.saved_object_graph_pb2', 'tensorboard.compat.proto.saver_pb2', 'tensorboard.compat.proto.meta_graph_pb2', 'tensorboard.compat.tensorflow_stub.error_codes', 'tensorboard.compat.tensorflow_stub.errors', 'tensorboard.compat.tensorflow_stub.compat.v1', 'tensorboard.compat.tensorflow_stub.compat', 'tensorboard.compat.tensorflow_stub.io.gfile', 'tensorboard.compat.tensorflow_stub.io', 'tensorboard.compat.tensorflow_stub.pywrap_tensorflow', 'tensorboard.compat.tensorflow_stub.dtypes', 'absl', '_csv', 'csv', 'absl.flags._helpers', 'absl.flags._argument_parser', 'absl.flags._exceptions', 'absl._collections_abc', 'absl.flags._flag', 'absl.flags._validators_classes', 'absl.flags._flagvalues', 'absl.flags._validators', 'absl.flags._defines', 'absl.flags', 'tensorboard.compat.tensorflow_stub.flags', 'tensorboard.compat.tensorflow_stub.app', 'tensorboard.compat.tensorflow_stub.tensor_shape', 'tensorboard.compat.tensorflow_stub', 'tensorboard.util.tensor_util', 'tensorboard.plugins.histogram.summary_v2', 'tensorboard.plugins.histogram.summary', 'tensorboard.plugins.image', 'tensorboard.plugins.image.plugin_data_pb2', 'tensorboard.plugins.image.metadata', 'tensorboard.plugins.image.summary_v2', 'tensorboard.plugins.image.summary', 'tensorboard.plugins.pr_curve', 'tensorboard.plugins.pr_curve.plugin_data_pb2', 'tensorboard.plugins.pr_curve.metadata', 'tensorboard.plugins.pr_curve.summary', 'tensorboard.plugins.scalar', 'tensorboard.plugins.scalar.plugin_data_pb2', 'tensorboard.plugins.scalar.metadata', 'tensorboard.plugins.scalar.summary_v2', 'tensorboard.plugins.scalar.summary', 'tensorboard.plugins.text', 'tensorboard.plugins.text.plugin_data_pb2', 'tensorboard.plugins.text.metadata', 'tensorboard.plugins.text.summary_v2', 'tensorboard.plugins.text.summary', 'tensorboard.summary.v1', 'tensorboard.summary.v2', 'tensorboard.summary.writer', 'tensorboard.summary.writer.record_writer', 'tensorboard.summary.writer.event_file_writer', 'tensorboard.summary._output', 'tensorboard.summary._writer', 'tensorboard.summary', 'torch.utils.tensorboard._convert_np', 'torch.utils.tensorboard._utils', 'torch.utils.tensorboard._embedding', 'torch.utils.tensorboard._onnx_graph', 'torch.utils.tensorboard._proto_graph', 'torch.utils.tensorboard._pytorch_graph', 'google.protobuf.struct_pb2', 'torch.utils.tensorboard.summary', 'torch.utils.tensorboard.writer', 'torch.utils.tensorboard', 'libs', 'mxnet.libinfo', 'mxnet.base', 'mxnet.context', 'mxnet.engine', 'mxnet.error', 'mxnet.util', 'mxnet.contrib.symbol', 'mxnet.contrib.ndarray', 'mxnet._cy3', 'mxnet._ctypes', 'mxnet._global_var', 'mxnet._ctypes.ndarray', 'mxnet.ndarray.gen__internal', 'mxnet.ndarray._internal', 'mxnet.runtime', 'mxnet.ndarray.gen_op', 'mxnet.ndarray.op', 'mxnet.ndarray.ndarray', 'mxnet.ndarray.random', 'mxnet.random', 'mxnet.ndarray.gen_contrib', 'mxnet.ndarray.contrib', 'mxnet.ndarray.gen_linalg', 'mxnet.ndarray.linalg', 'mxnet.ndarray.gen_sparse', 'scipy._lib._testutils', 'scipy._lib', 'scipy._lib.deprecation', 'scipy.__config__', 'scipy.version', 'scipy._distributor_init', 'scipy._lib._pep440', 'scipy._lib._ccallback_c', 'scipy._lib._ccallback', 'scipy', 'scipy._lib._util', 'scipy.sparse.sputils', 'scipy.sparse.base', 'scipy.sparse._sparsetools', 'scipy.sparse.data', 'scipy.sparse.dia', 'scipy.sparse._index', 'scipy.sparse.compressed', 'scipy.sparse.csr', 'scipy.sparse.csc', 'scipy.sparse._csparsetools', 'scipy.sparse.lil', 'scipy.sparse.dok', 'scipy.sparse.coo', 'scipy.sparse.bsr', 'scipy.sparse.construct', 'scipy.sparse.extract', 'scipy.sparse._matrix_io', 'scipy.sparse.csgraph._laplacian', '_cython_0_29_23', 'scipy.sparse.csgraph._tools', 'scipy.sparse.csgraph._validation', 'scipy.sparse.csgraph._shortest_path', 'scipy.sparse.csgraph._traversal', 'scipy.sparse.csgraph._min_spanning_tree', 'scipy.sparse.csgraph._flow', 'scipy.sparse.csgraph._matching', 'scipy.sparse.csgraph._reordering', 'scipy.sparse.csgraph', 'scipy.sparse', 'mxnet.ndarray.sparse', 'mxnet.ndarray.utils', 'mxnet.ndarray.gen_image', 'mxnet.ndarray.image', 'mxnet.ndarray.numpy._internal', 'mxnet.ndarray.numpy.random', 'mxnet._ffi', 'mxnet._ffi.base', 'mxnet._ffi._cy3', 'mxnet._ffi._ctypes', 'mxnet._ffi._ctypes.types', 'mxnet._ffi._ctypes.object', 'mxnet._api_internal', 'mxnet._ffi.node_generic', 'mxnet._ffi._ctypes.function', 'mxnet._ffi.object', 'mxnet._ffi.function', 'mxnet.ndarray.numpy._api_internal', 'mxnet.ndarray.numpy._op', 'mxnet.ndarray.numpy.linalg', 'mxnet.ndarray_doc', 'mxnet.ndarray.register', 'mxnet._numpy_op_doc', 'mxnet.ndarray.numpy._register', 'mxnet.ndarray.numpy', 'mxnet.ndarray.numpy_extension._op', 'mxnet.ndarray.numpy_extension.image', 'mxnet.ndarray.numpy_extension.random', 'mxnet.ndarray.numpy_extension._register', 'mxnet.ndarray.numpy_extension', 'mxnet.ndarray', 'mxnet.contrib.autograd', 'mxnet.contrib.tensorboard', 'mxnet.contrib.text.utils', 'mxnet.contrib.text._constants', 'mxnet.contrib.text.vocab', 'mxnet.registry', 'mxnet.numpy.random', 'mxnet.numpy.fallback_linalg', 'mxnet.numpy.linalg', 'mxnet._ctypes.symbol', 'mxnet.attribute', 'mxnet.name', 'mxnet.symbol.gen__internal', 'mxnet.symbol._internal', 'mxnet.io.utils', 'mxnet.io.io', 'mxnet.io', 'mxnet.executor_manager', 'mxnet.executor', 'mxnet.symbol.gen_op', 'mxnet.symbol.op', 'mxnet.symbol.symbol', 'mxnet.symbol.random', 'mxnet.symbol.gen_contrib', 'mxnet.symbol.contrib', 'mxnet.symbol.gen_linalg', 'mxnet.symbol.linalg', 'mxnet.symbol.gen_sparse', 'mxnet.symbol.sparse', 'mxnet.symbol.gen_image', 'mxnet.symbol.image', 'mxnet.symbol.numpy._internal', 'mxnet.symbol.numpy.random', 'mxnet.symbol.numpy._op', 'mxnet.symbol.numpy._symbol', 'mxnet.symbol.numpy.linalg', 'mxnet.symbol_doc', 'mxnet.symbol.register', 'mxnet.symbol.numpy._register', 'mxnet.symbol.numpy', 'mxnet.symbol.numpy_extension._op', 'mxnet.symbol.numpy_extension.image', 'mxnet.symbol.numpy_extension.random', 'mxnet.symbol.numpy_extension._register', 'mxnet.symbol.numpy_extension', 'mxnet.symbol', 'mxnet.autograd', 'mxnet.numpy._op', 'mxnet.numpy.utils', 'mxnet.numpy.fallback', 'mxnet.numpy.multiarray', 'mxnet.numpy._register', 'mxnet.numpy.stride_tricks', 'mxnet.numpy.function_base', 'mxnet.numpy.io', 'mxnet.numpy.arrayprint', 'mxnet.numpy', 'mxnet.numpy_extension._op', 'mxnet.recordio', 'mxnet.image.image', 'mxnet.image.detection', 'mxnet.image', 'mxnet.numpy_extension.image', 'mxnet.numpy_extension.random', 'mxnet.numpy_extension._register', 'mxnet.numpy_extension.utils', 'mxnet.numpy_extension', 'mxnet.contrib.text.embedding', 'mxnet.contrib.text', 'mxnet.metric', 'mxnet.optimizer.optimizer', 'mxnet.optimizer.contrib', 'mxnet.optimizer', 'mxnet.profiler', 'mxnet.kvstore.base', 'mxnet.kvstore.kvstore', 'mxnet.kvstore.kvstore_server', 'mxnet.kvstore', 'mxnet.initializer', 'sklearn._config', 'sklearn._distributor_init', 'sklearn.__check_build._check_build', 'sklearn.__check_build', 'sklearn.utils.murmurhash', 'joblib.hashing', 'joblib.disk', 'joblib.logger', 'joblib.func_inspect', 'joblib.backports', 'joblib.compressor', 'joblib.numpy_pickle_utils', 'joblib.numpy_pickle_compat', 'joblib.numpy_pickle', 'joblib._store_backends', 'joblib.memory', 'joblib._multiprocessing_helpers', 'joblib._deprecated_my_exceptions', 'joblib.my_exceptions', 'mmap', 'joblib.externals', 'joblib.externals.loky._base', 'joblib.externals.loky.backend.compat_posix', 'joblib.externals.loky.backend.compat', 'joblib.externals.loky.backend.process', 'joblib.externals.loky.backend.context', 'multiprocessing.synchronize', 'joblib.externals.loky.backend', 'joblib.externals.loky.backend._posix_reduction', 'joblib.externals.cloudpickle.compat', 'joblib.externals.cloudpickle.cloudpickle', 'joblib.externals.cloudpickle.cloudpickle_fast', 'joblib.externals.cloudpickle', 'joblib.externals.loky.backend.reduction', 'multiprocessing.queues', 'joblib.externals.loky.backend.queues', 'joblib.externals.loky.backend.utils', 'concurrent.futures.process', 'joblib.externals.loky.process_executor', 'joblib.externals.loky.reusable_executor', 'joblib.externals.loky.cloudpickle_wrapper', 'joblib.externals.loky', 'joblib.externals.loky.backend.spawn', 'joblib.externals.loky.backend.resource_tracker', 'joblib._memmapping_reducer', 'multiprocessing.pool', 'joblib.pool', 'joblib.executor', 'joblib._parallel_backends', 'joblib.parallel', 'joblib', 'scipy.spatial.ckdtree', 'scipy.spatial.kdtree', 'scipy._lib.messagestream', 'scipy.spatial.qhull', 'scipy.spatial._voronoi', 'scipy.spatial._spherical_voronoi', 'scipy._lib.decorator', 'scipy.spatial._plotutils', 'scipy.linalg._fblas', 'scipy.linalg.blas', 'scipy.linalg._flapack', 'scipy.linalg.lapack', 'scipy.linalg.misc', 'scipy.linalg._flinalg', 'scipy.linalg.flinalg', 'scipy.linalg.decomp', 'scipy.linalg.decomp_svd', 'scipy.linalg._solve_toeplitz', 'scipy.linalg.basic', 'scipy.linalg.decomp_lu', 'scipy.linalg._decomp_ldl', 'scipy.linalg.decomp_cholesky', 'scipy.linalg.decomp_qr', 'scipy.linalg._decomp_qz', 'scipy.linalg.decomp_schur', 'scipy.linalg._decomp_polar', 'scipy.linalg.special_matrices', 'scipy.linalg._expm_frechet', 'scipy.linalg._matfuncs_sqrtm_triu', 'scipy.linalg._matfuncs_sqrtm', 'scipy.linalg.matfuncs', 'scipy.linalg._solvers', 'scipy.linalg._procrustes', 'scipy.linalg.cython_blas', 'scipy.linalg.cython_lapack', 'scipy.linalg._decomp_update', 'scipy.linalg._sketches', 'scipy.linalg._decomp_cossin', 'scipy.linalg', 'scipy.spatial._procrustes', 'scipy.spatial._distance_wrap', 'scipy.spatial._hausdorff', 'scipy.special.sf_error', 'scipy.special._ufuncs_cxx', 'scipy.special._ufuncs', 'scipy.special.specfun', 'scipy.special.orthogonal', 'scipy.special._comb', 'scipy.special._basic', 'scipy.special._logsumexp', 'scipy.special.spfun_stats', 'scipy.special._ellip_harm_2', 'scipy.special._ellip_harm', 'scipy.special._lambertw', 'scipy.special._spherical_bessel', 'scipy.special', 'scipy.spatial._distance_pybind', 'scipy.spatial.distance', 'scipy.spatial._geometric_slerp', 'scipy.constants.codata', 'scipy.constants.constants', 'scipy.constants', 'scipy.spatial.transform._rotation_groups', 'scipy.spatial.transform.rotation', 'scipy.spatial.transform._rotation_spline', 'scipy.spatial.transform', 'scipy.spatial', 'scipy.ndimage._ni_support', 'scipy.ndimage._nd_image', 'scipy._lib.doccer', 'scipy.ndimage._ni_docstrings', 'scipy.ndimage.filters', 'scipy.ndimage.fourier', 'scipy.ndimage.interpolation', '_ni_label', 'scipy.ndimage._ni_label', 'scipy.ndimage.morphology', 'scipy.ndimage.measurements', 'scipy.ndimage', 'scipy.stats._distr_params', 'scipy.optimize.minpack2', 'scipy.optimize.linesearch', 'scipy.sparse.linalg.isolve._iterative', 'scipy.sparse.linalg.interface', 'scipy.sparse.linalg.isolve.utils', 'scipy._lib._threadsafety', 'scipy.sparse.linalg.isolve.iterative', 'scipy.sparse.linalg.isolve.minres', 'scipy.sparse.linalg.isolve._gcrotmk', 'scipy.sparse.linalg.isolve.lgmres', 'scipy.sparse.linalg.isolve.lsqr', 'scipy.sparse.linalg.isolve.lsmr', 'scipy.sparse.linalg.isolve', 'scipy.sparse.linalg.dsolve._superlu', 'scipy.sparse.linalg.dsolve.linsolve', 'scipy.sparse.linalg.dsolve._add_newdocs', 'scipy.sparse.linalg.dsolve', 'scipy.sparse.linalg.eigen.arpack._arpack', 'scipy.sparse.linalg.eigen.lobpcg.lobpcg', 'scipy.sparse.linalg.eigen.lobpcg', 'scipy.sparse.linalg.eigen.arpack.arpack', 'scipy.sparse.linalg.eigen.arpack', 'scipy.sparse.linalg.eigen', 'scipy.sparse.linalg._expm_multiply', 'scipy.sparse.linalg.matfuncs', 'scipy.sparse.linalg._onenormest', 'scipy.sparse.linalg._norm', 'scipy.sparse.linalg', 'scipy.optimize._group_columns', 'scipy.optimize._numdiff', 'scipy.optimize._hessian_update_strategy', 'scipy.optimize._differentiable_functions', 'scipy.optimize.optimize', 'scipy.optimize._trustregion', 'scipy.optimize._trustregion_dogleg', 'scipy.optimize._trustregion_ncg', 'scipy.optimize._trlib._trlib', 'scipy.optimize._trlib', 'scipy.optimize._trustregion_krylov', 'scipy.optimize._trustregion_exact', 'unittest.util', 'unittest.result', 'unittest.case', 'unittest.suite', 'unittest.loader', 'unittest.signals', 'unittest.runner', 'unittest.main', 'unittest', 'numpy.testing._private', 'numpy.testing._private.utils', 'numpy.testing._private.decorators', 'numpy.testing._private.nosetester', 'numpy.testing', 'scipy.optimize._constraints', 'scipy.optimize._trustregion_constr.projections', 'scipy.optimize._trustregion_constr.qp_subproblem', 'scipy.optimize._trustregion_constr.equality_constrained_sqp', 'scipy.optimize._trustregion_constr.canonical_constraint', 'scipy.optimize._trustregion_constr.tr_interior_point', 'scipy.optimize._trustregion_constr.report', 'scipy.optimize._trustregion_constr.minimize_trustregion_constr', 'scipy.optimize._trustregion_constr', 'scipy.optimize._lbfgsb', 'scipy.optimize.lbfgsb', 'scipy.optimize.moduleTNC', 'scipy.optimize.tnc', 'scipy.optimize._cobyla', 'scipy.optimize.cobyla', 'scipy.optimize._slsqp', 'scipy.optimize.slsqp', 'scipy.optimize._minimize', 'scipy.optimize._minpack', 'scipy.optimize._lsq.common', 'scipy.optimize._lsq.trf', 'scipy.optimize._lsq.dogbox', 'scipy.optimize._lsq.least_squares', 'scipy.optimize._lsq.givens_elimination', 'scipy.optimize._lsq.trf_linear', 'scipy.optimize._lsq.bvls', 'scipy.optimize._lsq.lsq_linear', 'scipy.optimize._lsq', 'scipy.optimize.minpack', 'scipy.optimize._spectral', 'scipy.optimize.nonlin', 'scipy.optimize._root', 'scipy.optimize._zeros', 'scipy.optimize.zeros', 'scipy.optimize._root_scalar', 'scipy.optimize.__nnls', 'scipy.optimize._nnls', 'scipy.optimize._basinhopping', 'scipy.optimize._highs', 'scipy.optimize._highs.cython.src._highs_wrapper', 'scipy.optimize._highs._highs_wrapper', 'scipy.optimize._highs.cython.src._highs_constants', 'scipy.optimize._highs._highs_constants', 'scipy.optimize._linprog_highs', 'scipy.linalg._interpolative', 'scipy.linalg._interpolative_backend', 'scipy.linalg.interpolative', 'scipy.optimize._remove_redundancy', 'scipy.optimize._linprog_util', 'scipy.optimize._linprog_ip', 'scipy.optimize._linprog_simplex', 'scipy.optimize._bglu_dense', 'scipy.optimize._linprog_rs', 'scipy.optimize._linprog_doc', 'scipy.optimize._linprog', 'scipy.optimize._lsap_module', 'scipy.optimize._lsap', 'scipy.optimize._differentialevolution', 'scipy.optimize._shgo_lib', 'scipy.optimize._shgo_lib.triangulation', 'scipy.optimize._shgo', 'scipy.optimize._dual_annealing', 'scipy.optimize._qap', 'scipy.optimize', 'scipy.integrate._quadrature', 'scipy.integrate._odepack', 'scipy.integrate.odepack', 'scipy.integrate._quadpack', 'scipy.integrate.quadpack', 'scipy.integrate.vode', 'scipy.integrate._dop', 'scipy.integrate.lsoda', 'scipy.integrate._ode', 'scipy.integrate._bvp', 'scipy.integrate._ivp.common', 'scipy.integrate._ivp.base', 'scipy.integrate._ivp.bdf', 'scipy.integrate._ivp.radau', 'scipy.integrate._ivp.dop853_coefficients', 'scipy.integrate._ivp.rk', 'scipy.integrate._ivp.lsoda', 'scipy.integrate._ivp.ivp', 'scipy.integrate._ivp', 'scipy.integrate._quad_vec', 'scipy.integrate', 'scipy.misc.doccer', 'scipy.misc.common', 'scipy.misc', 'scipy.stats._constants', 'scipy.stats._distn_infrastructure', 'scipy.interpolate._fitpack', 'scipy.interpolate.dfitpack', 'scipy.interpolate._fitpack_impl', 'scipy.interpolate._bspl', 'scipy.interpolate._bsplines', 'scipy.interpolate.fitpack', 'scipy.interpolate.polyint', 'scipy.interpolate._ppoly', 'scipy.interpolate.fitpack2', 'scipy.interpolate.interpnd', 'scipy.interpolate.interpolate', 'scipy.interpolate.rbf', 'scipy.interpolate._rbfinterp_pythran', 'scipy.interpolate._rbfinterp', 'scipy.interpolate._cubic', 'scipy.interpolate.ndgriddata', 'scipy.interpolate._pade', 'scipy.interpolate', 'scipy.special.cython_special', 'scipy.stats._stats', 'scipy.stats._rvs_sampling', 'scipy.stats._tukeylambda_stats', 'scipy.stats._ksstats', 'beta_ufunc', 'scipy.stats._boost.beta_ufunc', 'binom_ufunc', 'scipy.stats._boost.binom_ufunc', 'nbinom_ufunc', 'scipy.stats._boost.nbinom_ufunc', 'scipy.stats._boost', 'scipy.stats._continuous_distns', 'scipy.stats.biasedurn', 'scipy.stats._discrete_distns', 'scipy.stats._entropy', 'scipy.stats.distributions', 'scipy._lib._bunch', 'scipy.stats._stats_mstats_common', 'scipy.stats.mstats_basic', 'scipy.stats._wilcoxon_data', 'scipy.stats._hypotests', 'scipy.stats.stats', 'scipy.stats.statlib', 'scipy.stats._common', 'scipy.stats._relative_risk', 'scipy.stats._crosstab', 'scipy.stats.contingency', 'scipy.stats.morestats', 'scipy.stats._binomtest', 'scipy.stats._binned_statistic', 'scipy.stats.mvn', 'scipy.stats.kde', 'scipy.stats.mstats_extras', 'scipy.stats.mstats', 'scipy.stats._sobol', 'scipy.stats._qmc_cy', 'scipy.stats._qmc', 'scipy.stats.qmc', 'scipy.stats._multivariate', 'scipy.stats._bootstrap', 'scipy.stats._page_trend_test', 'scipy.stats._mannwhitneyu', 'scipy.stats', 'sklearn.utils.deprecation', 'xml.parsers', 'pyexpat.errors', 'pyexpat.model', 'pyexpat', 'xml.parsers.expat.model', 'xml.parsers.expat.errors', 'xml.parsers.expat', 'plistlib', 'pkg_resources.extern', 'pkg_resources._vendor', 'pkg_resources._vendor.appdirs', 'pkg_resources.extern.appdirs', 'pkg_resources._vendor.packaging.__about__', 'pkg_resources._vendor.packaging', 'pkg_resources.extern.packaging', 'pkg_resources.extern.packaging._structures', 'pkg_resources.extern.packaging._typing', 'pkg_resources.extern.packaging.version', 'pkg_resources.extern.packaging._compat', 'pkg_resources.extern.packaging.utils', 'pkg_resources.extern.packaging.specifiers', 'pkg_resources._vendor.pyparsing', 'pkg_resources.extern.pyparsing', 'pkg_resources.extern.packaging.markers', 'pkg_resources.extern.packaging.requirements', 'pkg_resources', 'sklearn.utils.fixes', 'sklearn.exceptions', 'sklearn.utils.validation', 'sklearn.utils.class_weight', 'sklearn.utils._joblib', 'sklearn.utils._estimator_html_repr', 'sklearn.utils', 'sklearn.utils._tags', 'sklearn.base', 'sklearn.utils._openmp_helpers', 'sklearn.utils._show_versions', 'sklearn', 'mxnet.callback', 'mxnet.model', 'mxnet.module.base_module', 'mxnet.module.executor_group', 'mxnet.module.module', 'mxnet.module.bucketing_module', 'mxnet.module.sequential_module', 'mxnet.module.python_module', 'mxnet.module', 'mxnet.contrib.onnx.onnx2mx._translation_utils', 'mxnet.contrib.onnx.onnx2mx._op_translations', 'mxnet.contrib.onnx.onnx2mx._import_helper', 'mxnet.contrib.onnx.onnx2mx.import_onnx', 'mxnet.contrib.onnx.onnx2mx.import_model', 'mxnet.contrib.onnx.onnx2mx.import_to_gluon', 'mxnet.contrib.onnx.onnx2mx', 'mxnet.contrib.onnx.mx2onnx.export_onnx', 'mxnet.contrib.onnx.mx2onnx._export_helper', 'mxnet.contrib.onnx.mx2onnx.export_model', 'mxnet.contrib.onnx.mx2onnx._op_translations', 'mxnet.contrib.onnx.mx2onnx', 'mxnet.contrib.onnx', 'mxnet.contrib.io', 'mxnet.contrib.quantization', 'mxnet.contrib', 'mxnet.operator', 'mxnet.notebook', 'mxnet.visualization', 'mxnet.lr_scheduler', 'mxnet.rtc', 'mxnet.monitor', 'mxnet.torch', 'mxnet.log', 'gzip', 'urllib3.packages.ssl_match_hostname', 'urllib3.packages', 'urllib3.packages.six', 'urllib3.packages.six.moves', 'urllib3.packages.six.moves.http_client', 'urllib3.exceptions', 'urllib3._version', 'urllib3.contrib', 'urllib3.contrib._appengine_environ', 'urllib3.util.wait', 'urllib3.util.connection', '_cffi_backend', '_brotli.lib', '_brotli', 'brotli._brotli', 'brotli.brotli', 'brotli', 'urllib3.util.request', 'urllib3.util.response', 'urllib3.util.retry', 'urllib3.util.url', 'urllib3.util.ssltransport', 'urllib3.util.ssl_', 'urllib3.util.timeout', 'urllib3.util', 'urllib3.util.proxy', 'urllib3._collections', 'urllib3.connection', 'urllib3.fields', 'urllib3.filepost', 'urllib3.packages.six.moves.urllib', 'urllib3.packages.six.moves.urllib.parse', 'urllib3.request', 'urllib3.response', 'urllib3.util.queue', 'urllib3.connectionpool', 'urllib3.poolmanager', 'urllib3', 'requests.exceptions', 'charset_normalizer.constant', '_multibytecodec', 'charset_normalizer.utils', 'charset_normalizer.md', 'charset_normalizer.models', 'charset_normalizer.assets', 'charset_normalizer.cd', 'charset_normalizer.api', 'charset_normalizer.legacy', 'charset_normalizer.version', 'charset_normalizer', 'chardet.enums', 'chardet.charsetprober', 'chardet.charsetgroupprober', 'chardet.codingstatemachine', 'chardet.escsm', 'chardet.escprober', 'chardet.latin1prober', 'chardet.mbcssm', 'chardet.utf8prober', 'chardet.mbcharsetprober', 'chardet.euctwfreq', 'chardet.euckrfreq', 'chardet.gb2312freq', 'chardet.big5freq', 'chardet.jisfreq', 'chardet.chardistribution', 'chardet.jpcntx', 'chardet.sjisprober', 'chardet.eucjpprober', 'chardet.gb2312prober', 'chardet.euckrprober', 'chardet.cp949prober', 'chardet.big5prober', 'chardet.euctwprober', 'chardet.mbcsgroupprober', 'chardet.hebrewprober', 'chardet.sbcharsetprober', 'chardet.langbulgarianmodel', 'chardet.langgreekmodel', 'chardet.langhebrewmodel', 'chardet.langrussianmodel', 'chardet.langthaimodel', 'chardet.langturkishmodel', 'chardet.sbcsgroupprober', 'chardet.universaldetector', 'chardet.version', 'chardet', 'requests.__version__', 'importlib._common', 'importlib.resources', 'certifi.core', 'certifi', 'requests.certs', 'http.cookiejar', 'http.cookies', 'requests.compat', 'requests._internal_utils', 'requests.cookies', 'requests.structures', 'requests.utils', 'requests.packages.urllib3.packages.ssl_match_hostname', 'requests.packages.urllib3.packages', 'requests.packages.urllib3.packages.six', 'requests.packages.urllib3.packages.six.moves', 'requests.packages.urllib3.packages.six.moves.http_client', 'requests.packages.urllib3.exceptions', 'requests.packages.urllib3._version', 'requests.packages.urllib3.contrib', 'requests.packages.urllib3.contrib._appengine_environ', 'requests.packages.urllib3.util.wait', 'requests.packages.urllib3.util.connection', 'requests.packages.urllib3.util.request', 'requests.packages.urllib3.util.response', 'requests.packages.urllib3.util.retry', 'requests.packages.urllib3.util.url', 'requests.packages.urllib3.util.ssltransport', 'requests.packages.urllib3.util.ssl_', 'requests.packages.urllib3.util.timeout', 'requests.packages.urllib3.util', 'requests.packages.urllib3.util.proxy', 'requests.packages.urllib3._collections', 'requests.packages.urllib3.connection', 'requests.packages.urllib3.fields', 'requests.packages.urllib3.filepost', 'requests.packages.urllib3.packages.six.moves.urllib', 'requests.packages.urllib3.packages.six.moves.urllib.parse', 'requests.packages.urllib3.request', 'requests.packages.urllib3.response', 'requests.packages.urllib3.util.queue', 'requests.packages.urllib3.connectionpool', 'requests.packages.urllib3.poolmanager', 'requests.packages.urllib3', 'idna.package_data', 'idna.idnadata', 'idna.intranges', 'idna.core', 'idna', 'requests.packages.idna.package_data', 'requests.packages.idna.idnadata', 'requests.packages.idna.intranges', 'requests.packages.idna.core', 'requests.packages.idna', 'requests.packages.chardet', 'requests.packages', 'stringprep', 'encodings.idna', 'requests.hooks', 'requests.auth', 'requests.status_codes', 'requests.models', 'socks', 'urllib3.contrib.socks', 'requests.adapters', 'requests.sessions', 'requests.api', 'requests', 'mxnet.test_utils', 'mxnet.rnn.rnn_cell', 'mxnet.rnn.rnn', 'mxnet.rnn.io', 'mxnet.rnn', 'mxnet.gluon.utils', 'mxnet.gluon.parameter', 'mxnet.gluon.block', 'mxnet.gluon.nn.activations', 'mxnet.gluon.nn.basic_layers', 'mxnet.gluon.nn.conv_layers', 'mxnet.gluon.nn', 'mxnet.gluon.rnn.rnn_cell', 'mxnet.gluon.rnn.rnn_layer', 'mxnet.gluon.rnn', 'mxnet.gluon.trainer', 'mxnet.gluon.loss', 'mxnet.gluon.data.dataset', 'mxnet.gluon.data.sampler', 'mxnet.gluon.data.dataloader', 'mxnet.gluon.data.vision.datasets', 'mxnet.gluon.data.vision.transforms', 'mxnet.gluon.data.vision', 'mxnet.gluon.data', 'mxnet.gluon.model_zoo.model_store', 'mxnet.gluon.model_zoo.vision.alexnet', 'mxnet.gluon.contrib.nn.basic_layers', 'mxnet.gluon.contrib.nn', 'mxnet.gluon.contrib.rnn.conv_rnn_cell', 'mxnet.gluon.contrib.rnn.rnn_cell', 'mxnet.gluon.contrib.rnn', 'mxnet.gluon.contrib.cnn.conv_layers', 'mxnet.gluon.contrib.cnn', 'mxnet.gluon.contrib.data._constants', 'mxnet.gluon.contrib.data.text', 'mxnet.gluon.contrib.data.sampler', 'mxnet.gluon.contrib.data', 'mxnet.gluon.contrib.estimator.utils', 'mxnet.gluon.contrib.estimator.event_handler', 'mxnet.gluon.contrib.estimator.batch_processor', 'mxnet.gluon.contrib.estimator.estimator', 'mxnet.gluon.contrib.estimator', 'mxnet.gluon.contrib', 'mxnet.gluon.model_zoo.vision.densenet', 'mxnet.gluon.model_zoo.vision.inception', 'mxnet.gluon.model_zoo.vision.resnet', 'mxnet.gluon.model_zoo.vision.squeezenet', 'mxnet.gluon.model_zoo.vision.vgg', 'mxnet.gluon.model_zoo.vision.mobilenet', 'mxnet.gluon.model_zoo.vision', 'mxnet.gluon.model_zoo', 'mxnet.gluon', 'mxnet.library', 'mxnet.tvmop', 'mxnet.numpy_op_signature', 'mxnet.numpy_dispatch_protocol', 'mxnet.numpy_op_fallback', 'mxnet.api', 'mxnet', 'libs.sim', 'libs.log', 'libs.agg', 'libs.fl', 'syft.core', 'nacl', 'nacl.exceptions', '_sodium.lib', '_sodium', 'nacl._sodium', 'nacl.bindings.crypto_aead', 'nacl.bindings.crypto_box', 'nacl.bindings.crypto_core', 'nacl.bindings.crypto_generichash', 'nacl.bindings.crypto_hash', 'nacl.bindings.crypto_kx', 'nacl.bindings.crypto_pwhash', 'nacl.bindings.crypto_scalarmult', 'nacl.bindings.crypto_secretbox', 'nacl.bindings.crypto_secretstream', 'nacl.bindings.crypto_shorthash', 'nacl.bindings.crypto_sign', 'nacl.bindings.randombytes', 'nacl.bindings.sodium_core', 'nacl.bindings.utils', 'nacl.bindings', 'nacl.encoding', 'nacl.utils', 'nacl.public', 'nacl.signing', 'syft.proto', 'syft.proto.core', 'syft.proto.core.common', 'syft.proto.core.common.common_object_pb2', 'forbiddenfruit', 'loguru._defaults', 'loguru._colorama', 'loguru._filters', 'loguru._better_exceptions', 'loguru._colorizer', 'loguru._datetime', 'loguru._error_interceptor', 'loguru._string_parsers', 'loguru._ctime_functions', 'loguru._file_sink', 'loguru._get_frame', 'loguru._locks_machinery', 'loguru._handler', 'loguru._recattrs', 'loguru._simple_sinks', 'loguru._logger', 'loguru', 'syft.logger', 'syft.util', 'syft.proto.util', 'syft.proto.util.data_message_pb2', 'syft.core.common.serde.deserialize', 'syft.core.common.serde.serializable', 'syft.core.common.serde.serialize', 'syft.core.common.serde', 'syft.core.common.uid', 'syft.core.common.object', 'syft.core.io', 'syft.proto.core.io', 'syft.proto.core.io.location_pb2', 'syft.proto.core.io.address_pb2', 'syft.core.io.location.group', 'syft.core.io.location.location', 'syft.core.io.location.group.group', 'syft.core.io.location.group.registry', 'syft.core.io.location.group.subscription', 'syft.core.io.location.specific', 'syft.core.io.location', 'syft.core.io.address', 'syft.proto.core.auth', 'google.protobuf.empty_pb2', 'syft.proto.core.auth.signed_message_pb2', 'syft.core.common.message', 'syft.core.common', 'nest_asyncio', 'jupyter_core.utils', 'ipython_genutils.tempdir', 'notebook._version', 'notebook.config_manager', 'jupyter_core.application', 'notebook.extensions', 'notebook.nbextensions', 'notebook', 'packaging.__about__', 'packaging', 'packaging._structures', 'packaging.version', 'syft.core.common.environment', 'syft.core.common.event_loop', 'syft.core.node', 'syft.core.node.common', 'syft.core.node.common.service', 'syft.proto.core.node', 'syft.proto.core.node.common', 'syft.proto.core.node.common.service', 'syft.proto.core.node.common.service.repr_service_pb2', 'syft.core.node.abstract', 'syft.proto.core.store', 'syft.proto.core.store.store_object_pb2', 'syft.proto.core.store.dataset_pb2', 'syft.core.common.storeable_object', 'syft.core.store.storeable_object', 'syft.core.store.dataset', 'sqlitedict', 'syft.core.store.store_interface', 'syft.core.store.store_disk', 'syft.core.store.store_memory', 'syft.core.store', 'syft.core.node.abstract.node', 'syft.core.node.common.service.auth', 'syft.core.node.common.service.node_service', 'syft.core.node.common.service.repr_service', 'syft.proto.core.io.connection_pb2', 'syft.proto.core.io.route_pb2', 'syft.core.io.connection', 'syft.core.io.virtual', 'syft.core.io.route', 'pytz.exceptions', 'pytz.lazy', 'pytz.tzinfo', 'pytz.tzfile', 'pytz', 'pandas._typing', 'pandas._libs.tslibs.dtypes', 'pandas._libs.tslibs.base', 'pandas._libs.tslibs.np_datetime', 'pandas._libs.tslibs.nattype', 'pandas._libs.tslibs.timezones', 'pandas._libs.tslibs.ccalendar', 'pandas._libs.tslibs.tzconversion', 'pandas._config.config', 'pandas._config.dates', 'pandas._config.display', 'pandas._config', 'pandas._config.localization', 'pandas._libs.tslibs.strptime', 'pandas._libs.tslibs.fields', 'pandas._libs.tslibs.timedeltas', 'pandas._libs.tslibs.timestamps', 'dateutil.easter', 'pandas._libs.properties', 'pandas._libs.tslibs.offsets', 'pandas._libs.tslibs.parsing', 'pandas._libs.tslibs.conversion', 'pandas._libs.tslibs.period', 'pandas._libs.tslibs.vectorized', 'pandas._libs.tslibs', 'pandas._libs.ops_dispatch', 'pandas._libs.missing', 'pandas._libs.hashtable', 'pandas._libs.algos', 'pandas._libs.interval', 'pandas._libs', 'pandas.util._decorators', 'pandas.core', 'pandas.core.util', 'pandas._libs.tslib', 'pandas._libs.lib', 'pandas._libs.hashing', 'pandas.core.dtypes', 'pandas.errors', 'pandas.core.dtypes.generic', 'pandas.core.dtypes.base', 'pandas.core.dtypes.inference', 'pandas.core.dtypes.dtypes', 'pandas.core.dtypes.common', 'pandas.core.util.hashing', 'pandas.util', 'pandas.util.version', 'pandas.compat.numpy', 'pyarrow._generated_version', '_cython_0_29_22', 'pyarrow.util', 'pyarrow.lib', 'pyarrow.filesystem', 'pyarrow.hdfs', 'pyarrow.ipc', 'pyarrow.serialization', 'pyarrow.types', 'pyarrow', 'pandas.compat.pyarrow', 'pandas.compat', 'pandas.core.config_init', 'pandas.core.dtypes.missing', 'pandas.util._exceptions', 'pandas.util._validators', 'pandas.core.dtypes.cast', 'pandas.core.array_algos', 'pandas.core.common', 'pandas.core.construction', 'pandas.core.array_algos.take', 'pandas.core.indexers', 'pandas.core.algorithms', 'pandas.compat.numpy.function', 'pandas.compat._optional', 'pandas.core.missing', 'pandas.core.roperator', 'pandas._libs.ops', 'pandas.core.computation', 'pandas.core.computation.check', 'pandas.core.computation.expressions', 'pandas.core.ops.missing', 'pandas.core.ops.dispatch', 'pandas.core.ops.invalid', 'pandas.core.ops.array_ops', 'pandas.core.ops.common', 'pandas.core.ops.docstrings', 'pandas.core.ops.mask_ops', 'pandas.core.ops.methods', 'pandas.core.ops', 'pandas.core.sorting', 'pandas.core.arrays.base', 'pandas.core.nanops', 'pandas.core.array_algos.masked_reductions', 'pandas.core.arraylike', 'pandas.core.arrays.masked', 'pandas.core.arrays.boolean', 'pandas._libs.arrays', 'pandas.core.accessor', 'pandas.core.array_algos.transforms', 'pandas.core.arrays._mixins', 'pandas.core.base', 'pandas.core.strings.accessor', 'pandas.core.strings.base', 'pandas.core.strings', 'pandas.core.strings.object_array', 'pandas.io', 'pandas.io.formats', 'pandas.io.formats.console', 'pandas.core.arrays.categorical', 'pandas.tseries', 'pandas.tseries.frequencies', 'pandas.core.arrays.datetimelike', 'pandas.core.arrays._ranges', 'pandas.core.arrays.numeric', 'pandas.core.tools', 'pandas.core.tools.numeric', 'pandas.core.arrays.integer', 'pandas.tseries.offsets', 'pandas.core.arrays.datetimes', 'pandas.core.arrays.floating', 'pandas.core.indexes', 'pandas._libs.index', 'pandas._libs.join', 'pandas._libs.sparse', 'pandas.core.arrays.sparse.dtype', 'pandas.io.formats.printing', 'pandas.core.arrays.sparse.array', 'pandas.core.arrays.sparse.accessor', 'pandas.core.arrays.sparse', 'pandas.core.dtypes.concat', 'pandas.core.array_algos.putmask', 'pandas.core.indexes.frozen', 'pandas.core.indexes.base', 'pandas.core.arrays.interval', 'pandas.core.arrays.numpy_', 'pandas.core.arrays.period', 'pandas.core.arrays.string_', 'pyarrow._compute', 'pyarrow.compute', 'pandas.core.arrays.string_arrow', 'pandas.core.arrays.timedeltas', 'pandas.core.arrays', 'pandas.core.flags', 'pandas._libs.reduction', 'pandas.core.indexes.extension', 'pandas.core.indexes.category', 'pandas.core.indexes.numeric', 'pandas.core.tools.timedeltas', 'pandas.core.indexes.datetimelike', 'pandas.core.tools.times', 'pandas.core.indexes.datetimes', 'pandas.core.indexes.multi', 'pandas.core.indexes.timedeltas', 'pandas.core.indexes.interval', 'pandas.core.indexes.period', 'pandas.core.indexes.range', 'pandas.core.indexes.api', 'pandas.core.aggregation', 'pandas.core.apply', 'pandas._libs.indexing', 'pandas.core.indexing', 'pandas.core.reshape', 'pandas._libs.internals', 'pandas._libs.writers', 'pandas.core.array_algos.quantile', 'pandas.core.array_algos.replace', 'pandas.core.internals.blocks', 'pandas.core.internals.api', 'pandas.core.internals.base', 'pandas.core.internals.array_manager', 'pandas.core.internals.ops', 'pandas.core.internals.managers', 'pandas.core.internals.concat', 'pandas.core.internals', 'pandas.core.reshape.concat', 'pandas.io.common', 'pandas.io.formats.format', 'pandas.core.describe', 'pandas.core.internals.construction', 'pandas.core.shared_docs', 'pandas._libs.window', 'pandas._libs.window.aggregations', 'pandas.core.util.numba_', 'pandas.core.window.common', 'pandas.core.window.doc', 'pandas._libs.window.indexers', 'pandas.core.window.indexers', 'pandas.core.window.numba_', 'pandas.core.window.online', 'pandas.core.window.rolling', 'pandas.core.window.ewm', 'pandas.core.window.expanding', 'pandas.core.window', 'pandas.core.generic', 'pandas.core.reshape.util', 'pandas.core.reshape.melt', 'pandas._libs.reshape', 'pandas.core.indexes.accessors', 'pandas.arrays', 'pandas.core.tools.datetimes', 'pandas.plotting._core', 'pandas.plotting._misc', 'pandas.plotting', 'pandas.core.series', 'pandas.io.formats.info', 'pandas.core.frame', 'pandas.core.groupby.base', 'pandas._libs.groupby', 'pandas.core.groupby.numba_', 'pandas.core.groupby.categorical', 'pandas.core.groupby.grouper', 'pandas.core.groupby.ops', 'pandas.core.groupby.groupby', 'pandas.core.groupby.generic', 'pandas.core.groupby', 'pandas.core.api', 'pandas.tseries.api', 'pandas.core.computation.common', 'pandas.core.computation.align', 'pandas.compat.chainmap', 'pandas.core.computation.scope', 'pandas.core.computation.ops', 'pandas.core.computation.parsing', 'pandas.core.computation.expr', 'pandas.core.computation.engines', 'pandas.core.computation.eval', 'pandas.core.computation.api', 'pandas.core.reshape.merge', 'pandas.core.reshape.pivot', 'pandas.core.reshape.reshape', 'pandas.core.reshape.tile', 'pandas.core.reshape.api', 'pandas.api.extensions', 'pandas.api.indexers', 'pandas.core.dtypes.api', 'pandas.api.types', 'pandas.api', 'pandas.util._print_versions', 'pandas.io.clipboards', 'pandas._libs.parsers', 'pandas.io.excel._util', 'pandas.io.date_converters', 'pandas.io.parsers.base_parser', 'pandas.io.parsers.c_parser_wrapper', 'pandas.io.parsers.python_parser', 'pandas.io.parsers.readers', 'pandas.io.parsers', 'pandas.io.excel._odfreader', 'pandas.io.excel._openpyxl', 'pandas.io.excel._pyxlsb', 'pandas.io.excel._xlrd', 'pandas.io.excel._base', 'pandas._libs.json', 'pandas.io.formats._color_data', 'pandas.io.formats.css', 'pandas.io.formats.excel', 'pandas.io.excel._odswriter', 'pandas.io.excel._xlsxwriter', 'pandas.io.excel._xlwt', 'pandas.io.excel', 'pandas.io.feather_format', 'pandas.io.gbq', 'pandas.io.html', 'pandas.io.json._normalize', 'pandas.io.json._table_schema', 'pandas.io.json._json', 'pandas.io.json', 'pandas.io.orc', 'pandas.io.parquet', 'pandas.compat.pickle_compat', 'pandas.io.pickle', 'pandas.core.computation.pytables', 'pandas.io.pytables', 'pandas.io.sas.sasreader', 'pandas.io.sas', 'pandas.io.spss', 'pandas.io.sql', 'pandas.io.stata', 'pandas.io.xml', 'pandas.io.api', 'pandas.util._tester', 'pandas._testing._random', 'pandas._testing.contexts', 'pandas._testing._io', 'pandas._testing._warnings', 'cmath', 'pandas._libs.testing', 'pandas._testing.asserters', 'pandas._testing.compat', 'pandas._testing', 'pandas.testing', 'pandas._version', 'pandas', 'cachetools.cache', 'cachetools.keys', 'cachetools.decorators', 'cachetools.fifo', 'cachetools.lfu', 'cachetools.lru', 'cachetools.mru', 'cachetools.rr', 'cachetools.ttl', 'cachetools', 'wrapt._wrappers', 'wrapt.wrappers', 'wrapt.decorators', 'wrapt.importer', 'wrapt', 'syft.ast.attribute', 'syft.core.node.common.action', 'syft.proto.core.node.common.action', 'syft.proto.core.pointer', 'syft.proto.core.pointer.pointer_pb2', 'syft.proto.core.node.common.action.run_function_or_constructor_pb2', 'syft.core.common.pointer', 'syft.proto.core.node.common.action.get_object_pb2', 'syft.core.node.common.action.common', 'syft.core.node.common.action.get_object_action', 'syft.proto.core.node.common.service.get_repr_service_pb2', 'syft.generate_wrapper', 'syft.core.common.group', 'syft.core.node.common.service.get_repr_service', 'syft.proto.core.node.common.service.object_search_permission_update_message_pb2', 'syft.core.node.common.service.obj_search_permission_service', 'syft.core.pointer.pointer', 'syft.core.pointer', 'syft.core.node.common.util', 'syft.core.node.common.action.function_or_constructor_action', 'syft.ast.util', 'syft.ast.callable', 'syft.ast.dynamic_object', 'syft.proto.core.node.common.action.get_enum_attribute_pb2', 'syft.proto.core.node.common.action.garbage_collect_object_pb2', 'syft.proto.core.node.common.action.get_set_property_pb2', 'syft.proto.core.node.common.action.get_set_static_attribute_pb2', 'syft.proto.core.node.common.action.run_class_method_pb2', 'syft.proto.core.node.common.action.save_object_pb2', 'syft.proto.core.node.common.action.action_pb2', 'syft.proto.core.plan', 'syft.proto.core.plan.plan_pb2', 'syft.core.plan.plan', 'syft.core.plan.translation', 'syft.core.plan.translation.torchscript', 'syft_proto.proto', 'syft_proto._version', 'syft_proto', 'syft_proto.execution', 'syft_proto.execution.v1', 'syft_proto.types', 'syft_proto.types.syft', 'syft_proto.types.syft.v1', 'syft_proto.types.syft.v1.id_pb2', 'syft_proto.execution.v1.placeholder_id_pb2', 'syft_proto.generic', 'syft_proto.generic.pointers', 'syft_proto.generic.pointers.v1', 'syft_proto.types.syft.v1.shape_pb2', 'syft_proto.generic.pointers.v1.pointer_tensor_pb2', 'syft_proto.types.torch', 'syft_proto.types.torch.v1', 'syft_proto.types.torch.v1.size_pb2', 'syft_proto.types.torch.v1.tensor_data_pb2', 'syft_proto.types.torch.v1.tensor_pb2', 'syft_proto.types.torch.v1.parameter_pb2', 'syft_proto.execution.v1.placeholder_pb2', 'syft_proto.types.syft.v1.arg_pb2', 'syft_proto.execution.v1.computation_action_pb2', 'syft_proto.execution.v1.state_tensor_pb2', 'syft_proto.execution.v1.state_pb2', 'syft_proto.execution.v1.role_pb2', 'syft_proto.execution.v1.type_wrapper_pb2', 'syft_proto.execution.v1.plan_pb2', 'syft.core.plan.translation.torchscript.plan', 'syft.core.plan', 'syft.core.node.common.action.run_class_method_action', 'syft.core.node.common.action.get_enum_attribute_action', 'syft.ast.enum', 'syft.ast.module', 'syft.ast.globals', 'syft.core.node.common.action.get_or_set_property_action', 'syft.core.node.common.action.save_object_action', 'syft.proto.core.node.common.service.resolve_pointer_type_service_pb2', 'syft.core.node.common.service.resolve_pointer_type_service', 'syft.ast.klass', 'syft.ast.property', 'syft.core.node.common.action.get_or_set_static_attribute_action', 'syft.ast.static_attr', 'syft.ast', 'syft.lib.plan', 'syft.proto.lib', 'syft.proto.lib.python', 'syft.proto.lib.python.collections', 'syft.proto.lib.python.collections.ordered_dict_pb2', 'syft.lib.python.primitive_interface', 'syft.lib.python.primitive_factory', 'syft.lib.python.types', 'syft.lib.python.iterator', 'syft.lib.python.util', 'syft.lib.python.collections.ordered_dict', 'syft.lib.python.collections', 'syft.lib.misc.union', 'syft.lib.misc', 'syft.proto.lib.python.bool_pb2', 'syft.lib.python.bool', 'syft.proto.lib.python.complex_pb2', 'syft.lib.python.complex', 'syft.proto.lib.python.dict_pb2', 'syft.lib.python.dict', 'syft.proto.lib.python.float_pb2', 'syft.lib.python.float', 'syft.proto.lib.python.int_pb2', 'syft.lib.python.int', 'syft.proto.lib.python.list_pb2', 'syft.proto.lib.python.slice_pb2', 'syft.lib.python.slice', 'syft.lib.python.list', 'syft.proto.lib.python.none_pb2', 'syft.lib.python.none', 'syft.lib.python.primitive_container', 'syft.proto.lib.python.range_pb2', 'syft.lib.python.range', 'syft.proto.lib.python.set_pb2', 'syft.lib.python.set', 'syft.proto.lib.python.string_pb2', 'syft.lib.python.string', 'syft.proto.lib.python.tuple_pb2', 'syft.lib.python.tuple', 'syft.lib.python', 'syft.proto.core.remote_dataloader', 'syft.proto.core.remote_dataloader.remote_dataset_pb2', 'syft.core.remote_dataloader.remote_dataloader', 'syft.core.remote_dataloader', 'syft.lib.remote_dataloader', 'syft.proto.lib.torch', 'syft.proto.lib.torch.device_pb2', 'syft.lib.torch.device', 'syft.experimental_flags', 'syft.proto.lib.torch.tensor_pb2', 'syft.lib.torch.tensor_util', 'syft.proto.lib.torch.parameter_pb2', 'syft.lib.torch.parameter', 'syft.lib.util', 'syft.proto.lib.torch.returntypes_pb2', 'syft.lib.torch.return_types', 'syft.proto.lib.torch.size_pb2', 'syft.lib.torch.size', 'syft.lib.torch.uppercase_tensor', 'syft.lib.torch.allowlist', 'syft.lib.torch', 'torchvision.extension', 'torchvision.models.utils', 'torchvision.models.alexnet', 'torchvision.models.resnet', 'torchvision.models.vgg', 'torchvision.models.squeezenet', 'torchvision.models.inception', 'torch.utils.checkpoint', 'torchvision.models.densenet', 'torchvision.models.googlenet', 'torchvision.models.mobilenetv2', 'torchvision.models.mobilenetv3', 'torchvision.models.mobilenet', 'torchvision.models.mnasnet', 'torchvision.models.shufflenetv2', 'torchvision.models._utils', 'torchvision.models.segmentation._utils', 'torchvision.models.segmentation.deeplabv3', 'torchvision.models.segmentation.fcn', 'torchvision.models.segmentation.lraspp', 'torchvision.models.segmentation.segmentation', 'torchvision.models.segmentation', 'torchvision.ops._box_convert', 'torchvision.ops.boxes', 'torchvision.ops.deform_conv', 'torchvision.ops._utils', 'torchvision.ops.roi_align', 'torchvision.ops.roi_pool', 'torchvision.ops.ps_roi_align', 'torchvision.ops.ps_roi_pool', 'torchvision.ops.poolers', 'torchvision.ops.feature_pyramid_network', 'torchvision.ops.focal_loss', 'torchvision.ops._register_onnx_ops', 'torch.onnx.utils', 'torch.onnx.symbolic_helper', 'torch.onnx.symbolic_opset9', 'torch.onnx.symbolic_opset7', 'torch.onnx.symbolic_opset8', 'torch.onnx.symbolic_opset10', 'torch.onnx.symbolic_opset11', 'torch.onnx.symbolic_opset12', 'torch.onnx.symbolic_opset13', 'torch.onnx.symbolic_registry', 'torchvision.ops', 'torchvision.ops.misc', 'torchvision.models.detection._utils', 'torchvision.models.detection.image_list', 'torchvision.models.detection.anchor_utils', 'torchvision.models.detection.generalized_rcnn', 'torchvision.models.detection.rpn', 'torchvision.models.detection.roi_heads', 'torchvision.models.detection.transform', 'torchvision.models.detection.backbone_utils', 'torchvision.models.detection.faster_rcnn', 'torchvision.models.detection.mask_rcnn', 'torchvision.models.detection.keypoint_rcnn', 'torchvision.models.detection.retinanet', 'torchvision.models.detection', 'torchvision.models.video.resnet', 'torchvision.models.video', 'torchvision.models.quantization.utils', 'torchvision.models.quantization.mobilenetv2', 'torchvision.models.quantization.mobilenetv3', 'torchvision.models.quantization.mobilenet', 'torchvision.models.quantization.resnet', 'torchvision.models.quantization.googlenet', 'torchvision.models.quantization.inception', 'torchvision.models.quantization.shufflenetv2', 'torchvision.models.quantization', 'torchvision.models', 'torchvision.datasets.vision', 'PIL._version', 'PIL', 'defusedxml.common', 'defusedxml', 'xml.etree', 'xml.etree.ElementPath', '_elementtree', 'xml.etree.ElementTree', 'defusedxml.ElementTree', 'PIL.ImageMode', 'PIL.TiffTags', 'PIL._binary', 'PIL._util', 'PIL._imaging', 'cffi.lock', 'cffi.error', 'cffi.model', 'cffi.api', 'cffi', 'PIL.Image', 'torch.utils.model_zoo', 'torchvision.version', 'torchvision.datasets.utils', 'torchvision.datasets.lsun', 'torchvision.datasets.folder', 'torchvision.datasets.coco', 'torchvision.datasets.cifar', 'torchvision.datasets.stl10', 'torchvision.datasets.mnist', 'torchvision.datasets.svhn', 'torchvision.datasets.phototour', 'PIL.ImageColor', 'PIL.features', 'PIL._imagingft', 'PIL.ImageFont', 'PIL.ImageDraw', 'PIL.ImageOps', 'PIL.ImageFilter', 'PIL.ImageStat', 'PIL.ImageEnhance', 'torchvision.transforms.functional_pil', 'torchvision.transforms.functional_tensor', 'torchvision.transforms.functional', 'torchvision.transforms.transforms', 'torchvision.transforms.autoaugment', 'torchvision.transforms', 'torchvision.datasets.fakedata', 'torchvision.datasets.semeion', 'torchvision.datasets.omniglot', 'torchvision.datasets.sbu', '_markupbase', 'html.parser', 'torchvision.datasets.flickr', 'torchvision.datasets.voc', 'torchvision.datasets.cityscapes', 'torchvision.datasets.imagenet', 'torchvision.datasets.caltech', 'torchvision.datasets.celeba', 'torchvision.datasets.widerface', 'torchvision.datasets.sbd', 'torchvision.datasets.usps', 'fractions', 'torchvision.io._video_opt', 'av._core', 'av.logging', 'av.bytesource', 'av.buffer', 'av.audio.format', 'av.enum', 'av.error', 'av.utils', 'av.option', 'av.descriptor', 'av.dictionary', 'av.sidedata', 'av.format', 'av.deprecation', 'av.stream', 'av.container.streams', 'av.sidedata.motionvectors', 'av.sidedata.sidedata', 'av.packet', 'av.container.input', 'av.container.output', 'av.container.pyio', 'av.container.core', 'av.container', 'av.codec.context', 'av.video.format', 'av.video.reformatter', 'av.plane', 'av.video.plane', 'av.video.frame', 'av.video.stream', 'av.video', 'av.codec.codec', 'av.codec', 'av.frame', 'av.audio.layout', 'av.audio.plane', 'av.audio.frame', 'av.audio', 'av.audio.fifo', 'av.audio.resampler', 'av', 'torchvision.io.video', 'torchvision.io.image', 'torchvision.io', 'torchvision.datasets.video_utils', 'torchvision.datasets.kinetics', 'torchvision.datasets.hmdb51', 'torchvision.datasets.ucf101', 'torchvision.datasets.places365', 'torchvision.datasets', 'torchvision.utils', 'torchvision', 'syft.lib.torchvision.allowlist', 'syft.lib.torchvision', 'syft.proto.lib.PIL', 'syft.proto.lib.PIL.image_pb2', 'syft.lib.PIL.image', 'syft.lib.PIL', 'syft.proto.lib.pandas', 'syft.proto.lib.pandas.categorical_pb2', 'syft.lib.pandas.categorical', 'syft.lib.pandas.categorical_dtype', 'syft.proto.lib.pandas.frame_pb2', 'syft.lib.pandas.frame', 'syft.proto.lib.pandas.series_pb2', 'syft.lib.pandas.series', 'syft.lib.pandas', 'sklearn.utils._logistic_sigmoid', 'sklearn.utils.sparsefuncs_fast', 'sklearn.utils.extmath', 'sklearn.utils.sparsefuncs', 'sklearn.utils._random', 'sklearn.utils._seq_dataset', 'sklearn.preprocessing._function_transformer', 'sklearn.preprocessing._csr_polynomial_expansion', 'sklearn.utils._encode', 'sklearn.preprocessing._encoders', 'sklearn.preprocessing._data', 'sklearn.utils.multiclass', 'sklearn.preprocessing._label', 'sklearn.preprocessing._discretization', 'sklearn.preprocessing', 'sklearn.linear_model._base', 'sklearn.linear_model._bayes', 'sklearn.utils._cython_blas', 'sklearn.utils.arrayfuncs', 'sklearn.model_selection._split', 'sklearn.utils.metaestimators', 'sklearn.metrics._base', 'sklearn.metrics._ranking', 'sklearn.metrics._classification', 'sklearn.metrics.cluster._expected_mutual_info_fast', 'sklearn.metrics.cluster._supervised', 'sklearn.utils._mask', 'sklearn.metrics._pairwise_fast', 'sklearn.metrics.pairwise', 'sklearn.metrics.cluster._unsupervised', 'sklearn.metrics.cluster._bicluster', 'sklearn.metrics.cluster', 'sklearn._loss', 'sklearn._loss.glm_distribution', 'sklearn.utils.stats', 'sklearn.metrics._regression', 'sklearn.metrics._scorer', 'sklearn.metrics._plot', 'sklearn.metrics._plot.base', 'sklearn.metrics._plot.det_curve', 'sklearn.metrics._plot.roc_curve', 'sklearn.metrics._plot.precision_recall_curve', 'sklearn.metrics._plot.confusion_matrix', 'sklearn.metrics', 'sklearn.model_selection._validation', 'sklearn.utils.random', 'sklearn.model_selection._search', 'sklearn.model_selection', 'sklearn.linear_model._least_angle', 'sklearn.linear_model._cd_fast', 'sklearn.linear_model._coordinate_descent', 'sklearn.utils.optimize', 'sklearn.linear_model._glm.link', 'sklearn.linear_model._glm.glm', 'sklearn.linear_model._glm', 'sklearn.linear_model._huber', 'sklearn.utils._weight_vector', 'sklearn.linear_model._sgd_fast', 'sklearn.linear_model._stochastic_gradient', 'sklearn.linear_model._sag_fast', 'sklearn.linear_model._sag', 'sklearn.linear_model._ridge', 'sklearn.svm._libsvm', 'sklearn.svm._liblinear', 'sklearn.svm._libsvm_sparse', 'sklearn.svm._base', 'sklearn.svm._classes', 'sklearn.svm._bounds', 'sklearn.svm', 'sklearn.linear_model._logistic', 'sklearn.linear_model._omp', 'sklearn.linear_model._passive_aggressive', 'sklearn.linear_model._perceptron', 'sklearn.linear_model._ransac', 'sklearn.linear_model._theil_sen', 'sklearn.linear_model', 'syft.proto.lib.sklearn', 'syft.proto.lib.sklearn.logistic_model_pb2', 'syft.lib.sklearn.serializing_models', 'syft.lib.sklearn', 'syft.proto.lib.numpy', 'syft.proto.lib.numpy.array_pb2', 'syft.lib.numpy.array', 'syft.lib.numpy', 'syft.lib', 'syft.proto.core.node.common.client_pb2', 'syft.proto.core.node.common.metadata_pb2', 'syft.proto.core.node.common.service.object_search_message_pb2', 'syft.core.node.common.service.obj_search_service', 'syft.core.pointer.garbage_collection.gc_strategy', 'syft.core.pointer.garbage_collection.garbage_collection', 'syft.proto.core.node.common.action.garbage_collect_batched_pb2', 'syft.core.node.common.action.garbage_collect_batched_action', 'syft.core.pointer.garbage_collection.gc_batched', 'syft.core.node.common.action.garbage_collect_object_action', 'syft.core.pointer.garbage_collection.gc_simple', 'syft.core.pointer.garbage_collection', 'syft.proto.core.node.common.action.exception_action_pb2', 'syft.core.node.common.action.exception_action', 'syft.proto.core.node.common.service.child_node_lifecycle_service_pb2', 'syft.proto.core.node.common.service.heritage_update_service_pb2', 'syft.core.node.common.service.heritage_update_service', 'syft.core.node.common.service.child_node_lifecycle_service', 'syft.core.node.common.client', 'syft.core.node.device.client', 'syft.core.node.common.metadata', 'syft.core.node.common.service.msg_forwarding_service', 'syft.core.node.common.service.obj_action_service', 'syft.core.node.common.node', 'syft.core.node.vm.client', 'syft.core.node.vm.vm', 'syft.core.node.vm', 'syft.core.node.device.device_type', 'syft.core.node.device.device_type.specs', 'syft.core.node.device.device_type.specs.cpu', 'syft.core.node.device.device_type.specs.gpu', 'syft.core.node.device.device_type.specs.network', 'syft.core.node.device.device_type.specs.provider', 'syft.core.node.device.device_type.specs.storage', 'syft.core.node.device.device_type.device_type', 'syft.core.node.device.device_type.unknown', 'syft.core.node.device.device', 'syft.core.node.device', 'syft.proto.core.node.domain', 'syft.proto.core.node.domain.service', 'syft.proto.core.node.domain.service.request_answer_message_pb2', 'syft.proto.core.node.domain.service.request_answer_response_pb2', 'syft.proto.core.node.domain.service.request_message_pb2', 'syft.proto.core.node.domain.service.accept_or_deny_request_message_pb2', 'syft.core.node.domain.service.accept_or_deny_request_service', 'syft.core.node.domain.service.request_message', 'syft.core.node.domain.service.request_answer_message', 'syft.core.node.domain.service', 'syft.core.node.domain.client', 'syft.proto.core.node.domain.service.get_all_requests_message_pb2', 'syft.core.node.domain.service.get_all_requests_service', 'syft.proto.core.node.domain.service.request_handler_message_pb2', 'syft.core.node.domain.service.request_handler_service', 'syft.core.node.domain.domain', 'syft.core.node.domain', 'syft.core.node.network.client', 'syft.core.node.network.network', 'syft.core.node.network', 'syft.core.node.vm.plan_vm', 'syft.core.node.domain.service.vm_service', 'syft.core.plan.plan_builder', 'syft.grid', 'syft.grid.client', 'names', 'syft.grid.messages', 'syft.proto.grid', 'syft.proto.grid.messages', 'syft.proto.grid.messages.network_search_messages_pb2', 'syft.grid.messages.network_search_message', 'syft.proto.grid.messages.setup_messages_pb2', 'syft.grid.messages.setup_messages', 'syft.proto.grid.messages.transfer_messages_pb2', 'syft.grid.messages.transfer_messages', 'syft.grid.client.enums', 'syft.grid.client.exceptions', 'urllib3.contrib.appengine', 'cryptography.__about__', 'cryptography', 'cryptography.utils', 'cryptography.x509.certificate_transparency', 'cryptography.hazmat', 'cryptography.hazmat.primitives', 'cryptography.hazmat.primitives.asymmetric', 'cryptography.hazmat.backends', 'cryptography.hazmat.primitives._serialization', 'cryptography.exceptions', 'cryptography.hazmat.backends.interfaces', 'cryptography.hazmat.primitives.hashes', 'cryptography.hazmat._der', 'cryptography.hazmat.primitives.asymmetric.utils', 'cryptography.hazmat.primitives.asymmetric.dsa', 'cryptography.hazmat._oid', 'cryptography.hazmat.primitives.asymmetric.ec', 'cryptography.hazmat.primitives.asymmetric.ed25519', 'cryptography.hazmat.primitives.asymmetric.ed448', 'cryptography.hazmat.primitives._asymmetric', 'cryptography.hazmat.primitives.asymmetric.rsa', 'cryptography.hazmat._types', 'cryptography.hazmat.primitives.asymmetric.dh', 'cryptography.hazmat.primitives.serialization.base', 'cryptography.hazmat.primitives._cipheralgorithm', 'cryptography.hazmat.primitives.ciphers.modes', 'cryptography.hazmat.primitives.ciphers.base', 'cryptography.hazmat.primitives.ciphers', 'cryptography.hazmat.primitives.ciphers.algorithms', 'cryptography.hazmat.primitives.serialization.ssh', 'cryptography.hazmat.primitives.serialization', 'ipaddress', 'cryptography.hazmat.primitives.constant_time', 'cryptography.x509.oid', 'cryptography.x509.name', 'cryptography.x509.general_name', 'cryptography.x509.extensions', 'cryptography.x509.base', 'cryptography.x509', 'cryptography.hazmat.bindings', 'cryptography.hazmat.bindings.openssl', '_openssl.lib', '_openssl', 'cryptography.hazmat.bindings._openssl', 'cryptography.hazmat.bindings.openssl._conditional', 'cryptography.hazmat.bindings.openssl.binding', 'OpenSSL._util', 'OpenSSL.crypto', 'OpenSSL.SSL', 'OpenSSL.version', 'OpenSSL', 'cryptography.hazmat.backends.openssl.aead', 'cryptography.hazmat.backends.openssl.ciphers', 'cryptography.hazmat.backends.openssl.cmac', 'cryptography.hazmat.backends.openssl.decode_asn1', 'cryptography.hazmat.backends.openssl.dh', 'cryptography.hazmat.backends.openssl.utils', 'cryptography.hazmat.backends.openssl.dsa', 'cryptography.hazmat.backends.openssl.ec', 'cryptography.hazmat.backends.openssl.ed25519', 'cryptography.hazmat.backends.openssl.ed448', 'cryptography.hazmat.backends.openssl.encode_asn1', 'cryptography.hazmat.backends.openssl.hashes', 'cryptography.hazmat.backends.openssl.hmac', 'cryptography.hazmat.primitives.asymmetric.padding', 'cryptography.hazmat.backends.openssl.rsa', 'cryptography.hazmat.backends.openssl.x509', 'cryptography.x509.ocsp', 'cryptography.hazmat.backends.openssl.ocsp', 'cryptography.hazmat.backends.openssl.poly1305', 'cryptography.hazmat.primitives.asymmetric.x25519', 'cryptography.hazmat.backends.openssl.x25519', 'cryptography.hazmat.primitives.asymmetric.x448', 'cryptography.hazmat.backends.openssl.x448', 'cryptography.hazmat.primitives.kdf', 'cryptography.hazmat.primitives.kdf.scrypt', 'cryptography.hazmat.primitives.serialization.pkcs7', 'cryptography.hazmat.backends.openssl.backend', 'cryptography.hazmat.backends.openssl', 'requests.packages.urllib3.packages.backports', 'requests.packages.urllib3.packages.backports.makefile', 'requests.packages.urllib3.contrib.pyopenssl', 'requests_toolbelt._compat', 'requests_toolbelt.adapters.ssl', 'requests_toolbelt.adapters.source', 'requests_toolbelt.adapters', 'requests_toolbelt.auth', 'requests_toolbelt.auth._digest_auth_compat', 'requests_toolbelt.auth.http_proxy_digest', 'requests_toolbelt.auth.guess', 'requests_toolbelt.multipart.encoder', 'requests_toolbelt.multipart.decoder', 'requests_toolbelt.multipart', 'requests_toolbelt.streaming_iterator', 'requests_toolbelt.utils', 'requests_toolbelt.utils.user_agent', 'requests_toolbelt', 'syft.grid.connections', 'syft.grid.connections.http_connection', 'syft.grid.client.grid_connection', 'syft.grid.client.request_api', 'syft.proto.grid.messages.association_messages_pb2', 'syft.grid.messages.association_messages', 'syft.grid.client.request_api.request_api', 'syft.grid.client.request_api.association_api', 'syft.proto.grid.messages.dataset_messages_pb2', 'syft.grid.messages.dataset_messages', 'syft.grid.client.request_api.dataset_api', 'syft.proto.grid.messages.group_messages_pb2', 'syft.grid.messages.group_messages', 'syft.grid.client.request_api.group_api', 'syft.proto.grid.messages.role_messages_pb2', 'syft.grid.messages.role_messages', 'syft.grid.client.request_api.role_api', 'syft.proto.grid.messages.user_messages_pb2', 'syft.grid.messages.user_messages', 'syft.grid.client.request_api.user_api', 'syft.proto.grid.messages.infra_messages_pb2', 'syft.grid.messages.infra_messages', 'syft.grid.client.request_api.worker_api', 'syft.grid.client.client', 'syft.grid.duet.bcolors', 'syft.grid.duet.exchange_ids', 'syft.grid.services', 'syft.proto.grid.service', 'syft.proto.grid.service.signaling_service_pb2', 'syft.grid.services.signaling_service', 'syft.grid.duet.signaling_client', 'syft.grid.duet.om_signaling_client', 'syft.grid.duet.ui', 'aiortc.about', 'aiortc.exceptions', 'pyee._base', 'pyee._asyncio', 'concurrent.futures.thread', 'pyee._executor', 'pyee', 'aiortc.mediastreams', 'aiortc.rtcconfiguration', 'aiortc.rtcdatachannel', 'pylibsrtp._binding.lib', 'pylibsrtp._binding', 'pylibsrtp.about', 'pylibsrtp', 'aiortc.clock', 'aiortc.rtcrtpparameters', 'aiortc.rtp', 'aioice.about', 'aioice.candidate', 'dns.version', 'dns', 'dns.exception', 'dns.flags', 'dns._immutable_ctx', 'dns.immutable', 'dns.name', 'dns.wire', 'dns.enum', 'dns.ipv4', 'dns.ipv6', 'dns.inet', 'dns.rdataclass', 'dns.rdatatype', 'dns.ttl', 'dns.tokenizer', 'dns.rdata', 'dns.edns', 'dns.opcode', 'dns.entropy', 'dns.rcode', 'dns.set', 'dns.rdataset', 'dns.tsig', 'dns.renderer', 'dns.rrset', 'dns.rdtypes', 'dns.rdtypes.ANY', 'dns.rdtypes.ANY.OPT', 'dns.rdtypes.ANY.TSIG', 'dns.message', 'dns.node', 'dns.rdtypes.ANY.SOA', 'dns.serial', 'dns.transaction', 'dns.grange', 'dns.zonefile', 'dns.zone', 'aioice.mdns', 'aioice.utils', 'aioice.stun', 'aioice.turn', 'aioice.ice', 'aioice', 'aiortc.rtcicetransport', 'aiortc.stats', 'aiortc.rtcdtlstransport', 'google_crc32c.__config__', 'google_crc32c._crc32c_cffi.lib', 'google_crc32c._crc32c_cffi', 'google_crc32c._checksum', 'google_crc32c.cffi', 'google_crc32c', 'aiortc.utils', 'aiortc.rtcsctptransport', 'aiortc.sdp', 'aiortc.jitterbuffer', 'aiortc.codecs.base', 'audioop', 'aiortc.codecs.g711', 'aiortc.codecs.h264', 'aiortc.codecs._opus.lib', 'aiortc.codecs._opus', 'aiortc.codecs.opus', 'aiortc.codecs._vpx.lib', 'aiortc.codecs._vpx', 'aiortc.codecs.vpx', 'aiortc.codecs', 'aiortc.rate', 'aiortc.rtcrtpreceiver', 'aiortc.rtcrtpsender', 'aiortc.rtcrtptransceiver', 'aiortc.events', 'aiortc.rtcsessiondescription', 'aiortc.rtcpeerconnection', 'aiortc', 'aiortc.contrib', 'multidict._abc', 'multidict._multidict_base', 'multidict._multidict', 'multidict._compat', 'multidict', 'aiohttp.hdrs', 'attr._compat', 'attr._config', 'attr.exceptions', 'attr.setters', 'attr._make', 'attr.converters', 'attr.filters', 'attr.validators', 'attr._cmp', 'attr._funcs', 'attr._version_info', 'attr._next_gen', 'attr', 'yarl._quoting_c', 'yarl._quoting', 'yarl._url', 'yarl', 'socketserver', 'http.server', 'aiohttp.typedefs', 'aiohttp.http_exceptions', 'aiohttp.tcp_helpers', 'aiohttp.base_protocol', 'cgi', 'netrc', 'async_timeout', 'aiohttp.log', 'aiohttp._helpers', 'aiohttp.helpers', 'aiohttp.abc', 'aiohttp._http_writer', 'aiohttp.http_writer', 'aiohttp.streams', 'aiohttp._http_parser', 'aiohttp.http_parser', 'aiohttp._websocket', 'aiohttp.http_websocket', 'aiohttp.http', 'aiohttp.payload', 'aiohttp.client_exceptions', 'aiohttp.multipart', 'aiohttp.formdata', 'aiohttp.client_reqrep', 'aiohttp.client_ws', 'aiohttp.client_proto', 'aiohttp.locks', 'aiohttp.resolver', 'aiohttp.connector', 'aiohttp.cookiejar', 'aiohttp._frozenlist', 'aiohttp.frozenlist', 'aiohttp.signals', 'aiohttp.tracing', 'aiohttp.client', 'aiohttp.payload_streamer', 'aiohttp', 'aiortc.contrib.signaling', 'syft.grid.connections.webrtc', 'syft.grid.duet.webrtc_duet', 'syft.grid.duet', 'syft.proto.lib.torch.module_pb2', 'syft.lib.torch.module', 'configparser', 'importlib.metadata', 'syft', 'syft.federated', 'syft.federated.model_serialization.common', 'syft.federated.model_serialization.placeholder_id', 'syft.federated.model_serialization.placeholder', 'syft.federated.model_serialization.state', 'syft.federated.model_serialization', 'libs.nn', 'libs.data', 'libs.poison', 'matplotlib', 'matplotlib._api.deprecation', 'matplotlib._api', 'matplotlib._c_internal_utils', 'matplotlib.cbook', 'matplotlib.docstring', 'matplotlib._animation_data', 'matplotlib.animation', 'PIL.ImageChops', 'PIL.ImageFile', 'PIL.GimpGradientFile', 'PIL.GimpPaletteFile', 'PIL.PaletteFile', 'PIL.ImagePalette', 'PIL.ImageSequence', 'PIL.PngImagePlugin', 'matplotlib._path', 'matplotlib.bezier', 'matplotlib.path', 'matplotlib.transforms', 'matplotlib.ticker', 'matplotlib.scale', 'matplotlib._color_data', 'matplotlib.colors', 'pyparsing', 'matplotlib.fontconfig_pattern', 'matplotlib._enums', 'cycler', 'matplotlib.rcsetup', 'matplotlib._version', 'matplotlib.ft2font', 'kiwisolver', 'dateutil.rrule', 'matplotlib.units', 'matplotlib.dates'] [MainProcess : MainThread (DEBUG)]\n"
     ]
    },
    {
     "name": "stderr",
     "output_type": "stream",
     "text": [
      "2021-08-25 12:18:11,287 - CACHEDIR=/home/harsh_1921cs01/.cache/matplotlib [MainProcess : MainThread (DEBUG)]\n",
      "2021-08-25 12:18:11,289 - Using fontManager instance from /home/harsh_1921cs01/.cache/matplotlib/fontlist-v330.json [MainProcess : MainThread (DEBUG)]\n",
      "2021-08-25 12:18:11,389 - Loaded backend module://ipykernel.pylab.backend_inline version unknown. [MainProcess : MainThread (DEBUG)]\n",
      "2021-08-25 12:18:11,391 - Loaded backend module://ipykernel.pylab.backend_inline version unknown. [MainProcess : MainThread (DEBUG)]\n"
     ]
    },
    {
     "name": "stdout",
     "output_type": "stream",
     "text": [
      "80661\n",
      "647692\n",
      "0\n"
     ]
    },
    {
     "name": "stderr",
     "output_type": "stream",
     "text": [
      "2021-08-25 12:18:11,668 - findfont: Matching sans\\-serif:style=normal:variant=normal:weight=normal:stretch=normal:size=10.0. [MainProcess : MainThread (DEBUG)]\n",
      "2021-08-25 12:18:11,669 - findfont: score(<Font 'STIXSizeTwoSym' (STIXSizTwoSymBol.ttf) normal normal 700 normal>) = 10.335 [MainProcess : MainThread (DEBUG)]\n",
      "2021-08-25 12:18:11,670 - findfont: score(<Font 'DejaVu Serif Display' (DejaVuSerifDisplay.ttf) normal normal 400 normal>) = 10.05 [MainProcess : MainThread (DEBUG)]\n",
      "2021-08-25 12:18:11,670 - findfont: score(<Font 'STIXSizeThreeSym' (STIXSizThreeSymReg.ttf) normal normal 400 normal>) = 10.05 [MainProcess : MainThread (DEBUG)]\n",
      "2021-08-25 12:18:11,671 - findfont: score(<Font 'DejaVu Serif' (DejaVuSerif-BoldItalic.ttf) italic normal 700 normal>) = 11.335 [MainProcess : MainThread (DEBUG)]\n",
      "2021-08-25 12:18:11,672 - findfont: score(<Font 'DejaVu Serif' (DejaVuSerif-Italic.ttf) italic normal 400 normal>) = 11.05 [MainProcess : MainThread (DEBUG)]\n",
      "2021-08-25 12:18:11,673 - findfont: score(<Font 'DejaVu Sans Mono' (DejaVuSansMono-Bold.ttf) normal normal 700 normal>) = 10.335 [MainProcess : MainThread (DEBUG)]\n",
      "2021-08-25 12:18:11,673 - findfont: score(<Font 'STIXGeneral' (STIXGeneral.ttf) normal normal 400 normal>) = 10.05 [MainProcess : MainThread (DEBUG)]\n",
      "2021-08-25 12:18:11,674 - findfont: score(<Font 'STIXGeneral' (STIXGeneralItalic.ttf) italic normal 400 normal>) = 11.05 [MainProcess : MainThread (DEBUG)]\n",
      "2021-08-25 12:18:11,675 - findfont: score(<Font 'STIXNonUnicode' (STIXNonUniBolIta.ttf) italic normal 700 normal>) = 11.335 [MainProcess : MainThread (DEBUG)]\n",
      "2021-08-25 12:18:11,675 - findfont: score(<Font 'STIXSizeFourSym' (STIXSizFourSymBol.ttf) normal normal 700 normal>) = 10.335 [MainProcess : MainThread (DEBUG)]\n",
      "2021-08-25 12:18:11,676 - findfont: score(<Font 'STIXSizeThreeSym' (STIXSizThreeSymBol.ttf) normal normal 700 normal>) = 10.335 [MainProcess : MainThread (DEBUG)]\n",
      "2021-08-25 12:18:11,677 - findfont: score(<Font 'DejaVu Serif' (DejaVuSerif.ttf) normal normal 400 normal>) = 10.05 [MainProcess : MainThread (DEBUG)]\n",
      "2021-08-25 12:18:11,677 - findfont: score(<Font 'cmtt10' (cmtt10.ttf) normal normal 400 normal>) = 10.05 [MainProcess : MainThread (DEBUG)]\n",
      "2021-08-25 12:18:11,678 - findfont: score(<Font 'STIXSizeOneSym' (STIXSizOneSymBol.ttf) normal normal 700 normal>) = 10.335 [MainProcess : MainThread (DEBUG)]\n",
      "2021-08-25 12:18:11,679 - findfont: score(<Font 'DejaVu Sans Display' (DejaVuSansDisplay.ttf) normal normal 400 normal>) = 10.05 [MainProcess : MainThread (DEBUG)]\n",
      "2021-08-25 12:18:11,679 - findfont: score(<Font 'DejaVu Sans Mono' (DejaVuSansMono-BoldOblique.ttf) oblique normal 700 normal>) = 11.335 [MainProcess : MainThread (DEBUG)]\n",
      "2021-08-25 12:18:11,680 - findfont: score(<Font 'DejaVu Sans Mono' (DejaVuSansMono-Oblique.ttf) oblique normal 400 normal>) = 11.05 [MainProcess : MainThread (DEBUG)]\n",
      "2021-08-25 12:18:11,681 - findfont: score(<Font 'cmsy10' (cmsy10.ttf) normal normal 400 normal>) = 10.05 [MainProcess : MainThread (DEBUG)]\n",
      "2021-08-25 12:18:11,681 - findfont: score(<Font 'STIXNonUnicode' (STIXNonUni.ttf) normal normal 400 normal>) = 10.05 [MainProcess : MainThread (DEBUG)]\n",
      "2021-08-25 12:18:11,682 - findfont: score(<Font 'cmb10' (cmb10.ttf) normal normal 400 normal>) = 10.05 [MainProcess : MainThread (DEBUG)]\n",
      "2021-08-25 12:18:11,683 - findfont: score(<Font 'STIXGeneral' (STIXGeneralBolIta.ttf) italic normal 700 normal>) = 11.335 [MainProcess : MainThread (DEBUG)]\n",
      "2021-08-25 12:18:11,683 - findfont: score(<Font 'STIXNonUnicode' (STIXNonUniIta.ttf) italic normal 400 normal>) = 11.05 [MainProcess : MainThread (DEBUG)]\n",
      "2021-08-25 12:18:11,684 - findfont: score(<Font 'DejaVu Serif' (DejaVuSerif-Bold.ttf) normal normal 700 normal>) = 10.335 [MainProcess : MainThread (DEBUG)]\n",
      "2021-08-25 12:18:11,684 - findfont: score(<Font 'STIXSizeOneSym' (STIXSizOneSymReg.ttf) normal normal 400 normal>) = 10.05 [MainProcess : MainThread (DEBUG)]\n",
      "2021-08-25 12:18:11,685 - findfont: score(<Font 'cmss10' (cmss10.ttf) normal normal 400 normal>) = 10.05 [MainProcess : MainThread (DEBUG)]\n",
      "2021-08-25 12:18:11,686 - findfont: score(<Font 'DejaVu Sans Mono' (DejaVuSansMono.ttf) normal normal 400 normal>) = 10.05 [MainProcess : MainThread (DEBUG)]\n",
      "2021-08-25 12:18:11,686 - findfont: score(<Font 'cmmi10' (cmmi10.ttf) normal normal 400 normal>) = 10.05 [MainProcess : MainThread (DEBUG)]\n",
      "2021-08-25 12:18:11,687 - findfont: score(<Font 'STIXSizeFourSym' (STIXSizFourSymReg.ttf) normal normal 400 normal>) = 10.05 [MainProcess : MainThread (DEBUG)]\n",
      "2021-08-25 12:18:11,688 - findfont: score(<Font 'STIXSizeTwoSym' (STIXSizTwoSymReg.ttf) normal normal 400 normal>) = 10.05 [MainProcess : MainThread (DEBUG)]\n",
      "2021-08-25 12:18:11,688 - findfont: score(<Font 'cmex10' (cmex10.ttf) normal normal 400 normal>) = 10.05 [MainProcess : MainThread (DEBUG)]\n",
      "2021-08-25 12:18:11,689 - findfont: score(<Font 'STIXGeneral' (STIXGeneralBol.ttf) normal normal 700 normal>) = 10.335 [MainProcess : MainThread (DEBUG)]\n",
      "2021-08-25 12:18:11,689 - findfont: score(<Font 'cmr10' (cmr10.ttf) normal normal 400 normal>) = 10.05 [MainProcess : MainThread (DEBUG)]\n",
      "2021-08-25 12:18:11,690 - findfont: score(<Font 'STIXNonUnicode' (STIXNonUniBol.ttf) normal normal 700 normal>) = 10.335 [MainProcess : MainThread (DEBUG)]\n",
      "2021-08-25 12:18:11,691 - findfont: score(<Font 'STIXSizeFiveSym' (STIXSizFiveSymReg.ttf) normal normal 400 normal>) = 10.05 [MainProcess : MainThread (DEBUG)]\n",
      "2021-08-25 12:18:11,691 - findfont: score(<Font 'DejaVu Sans' (DejaVuSans-BoldOblique.ttf) oblique normal 700 normal>) = 1.335 [MainProcess : MainThread (DEBUG)]\n",
      "2021-08-25 12:18:11,692 - findfont: score(<Font 'DejaVu Sans' (DejaVuSans.ttf) normal normal 400 normal>) = 0.05 [MainProcess : MainThread (DEBUG)]\n",
      "2021-08-25 12:18:11,692 - findfont: score(<Font 'DejaVu Sans' (DejaVuSans-Bold.ttf) normal normal 700 normal>) = 0.33499999999999996 [MainProcess : MainThread (DEBUG)]\n",
      "2021-08-25 12:18:11,693 - findfont: score(<Font 'DejaVu Sans' (DejaVuSans-Oblique.ttf) oblique normal 400 normal>) = 1.05 [MainProcess : MainThread (DEBUG)]\n",
      "2021-08-25 12:18:11,694 - findfont: score(<Font 'LKLUG' (lklug.ttf) normal normal 400 normal>) = 10.05 [MainProcess : MainThread (DEBUG)]\n",
      "2021-08-25 12:18:11,694 - findfont: score(<Font 'DejaVu Sans' (DejaVuSans-Oblique.ttf) oblique normal 400 normal>) = 1.05 [MainProcess : MainThread (DEBUG)]\n",
      "2021-08-25 12:18:11,695 - findfont: score(<Font 'Abyssinica SIL' (AbyssinicaSIL-R.ttf) normal normal 400 normal>) = 10.05 [MainProcess : MainThread (DEBUG)]\n",
      "2021-08-25 12:18:11,695 - findfont: score(<Font 'WenQuanYi Micro Hei' (wqy-microhei.ttc) normal normal 400 normal>) = 10.05 [MainProcess : MainThread (DEBUG)]\n",
      "2021-08-25 12:18:11,696 - findfont: score(<Font 'Lohit Bengali' (Lohit-Bengali.ttf) normal normal 400 normal>) = 10.05 [MainProcess : MainThread (DEBUG)]\n",
      "2021-08-25 12:18:11,697 - findfont: score(<Font 'Caladea' (Caladea-Regular.ttf) normal normal 400 normal>) = 10.05 [MainProcess : MainThread (DEBUG)]\n",
      "2021-08-25 12:18:11,697 - findfont: score(<Font 'PT Sans' (PTS56F.ttf) italic normal 400 normal>) = 11.05 [MainProcess : MainThread (DEBUG)]\n",
      "2021-08-25 12:18:11,698 - findfont: score(<Font 'PT Sans' (PTS75F.ttf) normal normal 700 normal>) = 10.335 [MainProcess : MainThread (DEBUG)]\n",
      "2021-08-25 12:18:11,698 - findfont: score(<Font 'Overpass' (Overpass-Bold.ttf) normal normal 700 normal>) = 10.335 [MainProcess : MainThread (DEBUG)]\n",
      "2021-08-25 12:18:11,699 - findfont: score(<Font 'FreeSerif' (FreeSerifBold.ttf) normal normal 700 normal>) = 10.335 [MainProcess : MainThread (DEBUG)]\n",
      "2021-08-25 12:18:11,700 - findfont: score(<Font 'FreeSans' (FreeSansBold.ttf) normal normal 600 normal>) = 10.24 [MainProcess : MainThread (DEBUG)]\n",
      "2021-08-25 12:18:11,700 - findfont: score(<Font 'Open Sans' (OpenSans-SemiboldItalic.ttf) italic normal 600 normal>) = 11.24 [MainProcess : MainThread (DEBUG)]\n",
      "2021-08-25 12:18:11,701 - findfont: score(<Font 'Lohit Punjabi' (Lohit-Punjabi.ttf) normal normal 400 normal>) = 10.05 [MainProcess : MainThread (DEBUG)]\n",
      "2021-08-25 12:18:11,701 - findfont: score(<Font 'FreeSans' (FreeSans.ttf) normal normal 400 normal>) = 10.05 [MainProcess : MainThread (DEBUG)]\n",
      "2021-08-25 12:18:11,702 - findfont: score(<Font 'Padauk' (Padauk.ttf) normal normal 400 normal>) = 10.05 [MainProcess : MainThread (DEBUG)]\n"
     ]
    },
    {
     "name": "stderr",
     "output_type": "stream",
     "text": [
      "2021-08-25 12:18:11,702 - findfont: score(<Font 'Liberation Mono' (LiberationMono-Regular.ttf) normal normal 400 normal>) = 10.05 [MainProcess : MainThread (DEBUG)]\n",
      "2021-08-25 12:18:11,703 - findfont: score(<Font 'Open Sans' (OpenSans-ExtraBoldItalic.ttf) italic normal 800 normal>) = 11.43 [MainProcess : MainThread (DEBUG)]\n",
      "2021-08-25 12:18:11,704 - findfont: score(<Font 'Overpass' (Overpass-ExtraLight Italic.ttf) italic normal 200 normal>) = 11.24 [MainProcess : MainThread (DEBUG)]\n",
      "2021-08-25 12:18:11,704 - findfont: score(<Font 'DejaVu Serif' (DejaVuSerifCondensed-Italic.ttf) italic normal 400 condensed>) = 11.25 [MainProcess : MainThread (DEBUG)]\n",
      "2021-08-25 12:18:11,705 - findfont: score(<Font 'DejaVu Sans Mono' (DejaVuSansMono-Oblique.ttf) oblique normal 400 normal>) = 11.05 [MainProcess : MainThread (DEBUG)]\n",
      "2021-08-25 12:18:11,705 - findfont: score(<Font 'NanumGothic' (NanumGothicBold.ttf) normal normal 600 normal>) = 10.24 [MainProcess : MainThread (DEBUG)]\n",
      "2021-08-25 12:18:11,706 - findfont: score(<Font 'DejaVu Sans Mono' (DejaVuSansMono-Bold.ttf) normal normal 700 normal>) = 10.335 [MainProcess : MainThread (DEBUG)]\n",
      "2021-08-25 12:18:11,706 - findfont: score(<Font 'PT Sans' (PTS76F.ttf) italic normal 700 normal>) = 11.335 [MainProcess : MainThread (DEBUG)]\n",
      "2021-08-25 12:18:11,707 - findfont: score(<Font 'Liberation Sans' (LiberationSans-Bold.ttf) normal normal 700 normal>) = 10.335 [MainProcess : MainThread (DEBUG)]\n",
      "2021-08-25 12:18:11,708 - findfont: score(<Font 'DejaVu Sans' (DejaVuSans-BoldOblique.ttf) oblique normal 700 normal>) = 1.335 [MainProcess : MainThread (DEBUG)]\n",
      "2021-08-25 12:18:11,708 - findfont: score(<Font 'Lohit Nepali' (Lohit-Nepali.ttf) normal normal 400 normal>) = 10.05 [MainProcess : MainThread (DEBUG)]\n",
      "2021-08-25 12:18:11,709 - findfont: score(<Font 'FreeSans' (FreeSansOblique.ttf) oblique normal 400 normal>) = 11.05 [MainProcess : MainThread (DEBUG)]\n",
      "2021-08-25 12:18:11,709 - findfont: score(<Font 'Liberation Serif' (LiberationSerif-Bold.ttf) normal normal 700 normal>) = 10.335 [MainProcess : MainThread (DEBUG)]\n",
      "2021-08-25 12:18:11,710 - findfont: score(<Font 'STIX' (STIX-Regular.otf) normal normal 400 normal>) = 10.05 [MainProcess : MainThread (DEBUG)]\n",
      "2021-08-25 12:18:11,710 - findfont: score(<Font 'FreeSans' (FreeSansBoldOblique.ttf) oblique normal 600 normal>) = 11.24 [MainProcess : MainThread (DEBUG)]\n",
      "2021-08-25 12:18:11,711 - findfont: score(<Font 'Liberation Sans' (LiberationSans-Italic.ttf) italic normal 400 normal>) = 11.05 [MainProcess : MainThread (DEBUG)]\n",
      "2021-08-25 12:18:11,711 - findfont: score(<Font 'FreeMono' (FreeMonoOblique.ttf) oblique normal 400 normal>) = 11.05 [MainProcess : MainThread (DEBUG)]\n",
      "2021-08-25 12:18:11,712 - findfont: score(<Font 'Open Sans' (OpenSans-BoldItalic.ttf) italic normal 700 normal>) = 11.335 [MainProcess : MainThread (DEBUG)]\n",
      "2021-08-25 12:18:11,713 - findfont: score(<Font 'Khmer OS System' (KhmerOS_sys.ttf) normal normal 400 normal>) = 10.05 [MainProcess : MainThread (DEBUG)]\n",
      "2021-08-25 12:18:11,713 - findfont: score(<Font 'Cantarell' (Cantarell-BoldOblique.otf) oblique normal 700 normal>) = 11.335 [MainProcess : MainThread (DEBUG)]\n",
      "2021-08-25 12:18:11,714 - findfont: score(<Font 'Caladea' (Caladea-Bold.ttf) normal normal 700 normal>) = 10.335 [MainProcess : MainThread (DEBUG)]\n",
      "2021-08-25 12:18:11,714 - findfont: score(<Font 'DejaVu Sans' (DejaVuSansCondensed-BoldOblique.ttf) oblique normal 700 condensed>) = 1.535 [MainProcess : MainThread (DEBUG)]\n",
      "2021-08-25 12:18:11,715 - findfont: score(<Font 'FreeSerif' (FreeSerif.ttf) normal normal 400 normal>) = 10.05 [MainProcess : MainThread (DEBUG)]\n",
      "2021-08-25 12:18:11,715 - findfont: score(<Font 'PT Sans Narrow' (PTN77F.ttf) normal normal 700 condensed>) = 10.535 [MainProcess : MainThread (DEBUG)]\n",
      "2021-08-25 12:18:11,716 - findfont: score(<Font 'Carlito' (Carlito-Italic.ttf) italic normal 400 normal>) = 11.05 [MainProcess : MainThread (DEBUG)]\n",
      "2021-08-25 12:18:11,716 - findfont: score(<Font 'PT Sans Narrow' (PTN57F.ttf) normal normal 400 condensed>) = 10.25 [MainProcess : MainThread (DEBUG)]\n",
      "2021-08-25 12:18:11,717 - findfont: score(<Font 'Waree' (Waree.ttf) normal normal 400 normal>) = 10.05 [MainProcess : MainThread (DEBUG)]\n",
      "2021-08-25 12:18:11,717 - findfont: score(<Font 'DejaVu Sans' (DejaVuSansCondensed.ttf) normal normal 400 condensed>) = 0.25 [MainProcess : MainThread (DEBUG)]\n",
      "2021-08-25 12:18:11,718 - findfont: score(<Font 'Open Sans' (OpenSans-Semibold.ttf) normal normal 600 normal>) = 10.24 [MainProcess : MainThread (DEBUG)]\n",
      "2021-08-25 12:18:11,719 - findfont: score(<Font 'PT Sans' (PTS55F.ttf) normal normal 400 normal>) = 10.05 [MainProcess : MainThread (DEBUG)]\n",
      "2021-08-25 12:18:11,719 - findfont: score(<Font 'Liberation Mono' (LiberationMono-BoldItalic.ttf) italic normal 700 normal>) = 11.335 [MainProcess : MainThread (DEBUG)]\n",
      "2021-08-25 12:18:11,720 - findfont: score(<Font 'DejaVu Serif' (DejaVuSerifCondensed-BoldItalic.ttf) italic normal 700 condensed>) = 11.535 [MainProcess : MainThread (DEBUG)]\n",
      "2021-08-25 12:18:11,720 - findfont: score(<Font 'NanumGothic' (NanumGothic.ttf) normal normal 400 normal>) = 10.05 [MainProcess : MainThread (DEBUG)]\n",
      "2021-08-25 12:18:11,721 - findfont: score(<Font 'FreeMono' (FreeMonoBold.ttf) normal normal 700 normal>) = 10.335 [MainProcess : MainThread (DEBUG)]\n",
      "2021-08-25 12:18:11,721 - findfont: score(<Font 'Lohit Oriya' (Lohit-Oriya.ttf) normal normal 400 normal>) = 10.05 [MainProcess : MainThread (DEBUG)]\n",
      "2021-08-25 12:18:11,722 - findfont: score(<Font 'Open Sans' (OpenSans-Bold.ttf) normal normal 700 normal>) = 10.335 [MainProcess : MainThread (DEBUG)]\n",
      "2021-08-25 12:18:11,722 - findfont: score(<Font 'Liberation Mono' (LiberationMono-Bold.ttf) normal normal 700 normal>) = 10.335 [MainProcess : MainThread (DEBUG)]\n",
      "2021-08-25 12:18:11,723 - findfont: score(<Font 'Carlito' (Carlito-Bold.ttf) normal normal 700 normal>) = 10.335 [MainProcess : MainThread (DEBUG)]\n",
      "2021-08-25 12:18:11,723 - findfont: score(<Font 'Waree' (Waree-Oblique.ttf) oblique normal 400 normal>) = 11.05 [MainProcess : MainThread (DEBUG)]\n",
      "2021-08-25 12:18:11,724 - findfont: score(<Font 'Overpass' (Overpass-Regular.ttf) normal normal 400 normal>) = 10.05 [MainProcess : MainThread (DEBUG)]\n",
      "2021-08-25 12:18:11,724 - findfont: score(<Font 'Cantarell' (Cantarell-Oblique.otf) oblique normal 400 normal>) = 11.05 [MainProcess : MainThread (DEBUG)]\n",
      "2021-08-25 12:18:11,725 - findfont: score(<Font 'Khmer OS' (KhmerOS.ttf) normal normal 400 normal>) = 10.05 [MainProcess : MainThread (DEBUG)]\n",
      "2021-08-25 12:18:11,725 - findfont: score(<Font 'DejaVu Serif' (DejaVuSerif-BoldItalic.ttf) italic normal 700 normal>) = 11.335 [MainProcess : MainThread (DEBUG)]\n",
      "2021-08-25 12:18:11,726 - findfont: score(<Font 'DejaVu Serif' (DejaVuSerif-Bold.ttf) normal normal 700 normal>) = 10.335 [MainProcess : MainThread (DEBUG)]\n",
      "2021-08-25 12:18:11,727 - findfont: score(<Font 'Liberation Mono' (LiberationMono-Italic.ttf) italic normal 400 normal>) = 11.05 [MainProcess : MainThread (DEBUG)]\n",
      "2021-08-25 12:18:11,727 - findfont: score(<Font 'Lohit Malayalam' (Lohit-Malayalam.ttf) normal normal 400 normal>) = 10.05 [MainProcess : MainThread (DEBUG)]\n",
      "2021-08-25 12:18:11,728 - findfont: score(<Font 'Open Sans' (OpenSans-Light.ttf) normal normal 300 normal>) = 10.145 [MainProcess : MainThread (DEBUG)]\n",
      "2021-08-25 12:18:11,728 - findfont: score(<Font 'FreeSerif' (FreeSerifItalic.ttf) italic normal 400 normal>) = 11.05 [MainProcess : MainThread (DEBUG)]\n",
      "2021-08-25 12:18:11,729 - findfont: score(<Font 'Khmer OS Content' (KhmerOS_content.ttf) normal normal 400 normal>) = 10.05 [MainProcess : MainThread (DEBUG)]\n",
      "2021-08-25 12:18:11,729 - findfont: score(<Font 'Liberation Sans' (LiberationSans-Regular.ttf) normal normal 400 normal>) = 10.05 [MainProcess : MainThread (DEBUG)]\n",
      "2021-08-25 12:18:11,730 - findfont: score(<Font 'Nuosu SIL' (NuosuSIL.ttf) normal normal 400 normal>) = 10.05 [MainProcess : MainThread (DEBUG)]\n",
      "2021-08-25 12:18:11,730 - findfont: score(<Font 'Carlito' (Carlito-Regular.ttf) normal normal 400 normal>) = 10.05 [MainProcess : MainThread (DEBUG)]\n",
      "2021-08-25 12:18:11,731 - findfont: score(<Font 'Overpass' (Overpass-ExtraLight.ttf) normal normal 200 normal>) = 10.24 [MainProcess : MainThread (DEBUG)]\n"
     ]
    },
    {
     "name": "stderr",
     "output_type": "stream",
     "text": [
      "2021-08-25 12:18:11,731 - findfont: score(<Font 'Open Sans' (OpenSans-ExtraBold.ttf) normal normal 800 normal>) = 10.43 [MainProcess : MainThread (DEBUG)]\n",
      "2021-08-25 12:18:11,732 - findfont: score(<Font 'Cantarell' (Cantarell-Bold.otf) normal normal 700 normal>) = 10.335 [MainProcess : MainThread (DEBUG)]\n",
      "2021-08-25 12:18:11,732 - findfont: score(<Font 'DejaVu Sans' (DejaVuSans.ttf) normal normal 400 normal>) = 0.05 [MainProcess : MainThread (DEBUG)]\n",
      "2021-08-25 12:18:11,733 - findfont: score(<Font 'Carlito' (Carlito-BoldItalic.ttf) italic normal 700 normal>) = 11.335 [MainProcess : MainThread (DEBUG)]\n",
      "2021-08-25 12:18:11,733 - findfont: score(<Font 'Overpass' (Overpass-Bold-Italic.ttf) italic normal 700 normal>) = 11.335 [MainProcess : MainThread (DEBUG)]\n",
      "2021-08-25 12:18:11,734 - findfont: score(<Font 'FreeMono' (FreeMonoBoldOblique.ttf) oblique normal 700 normal>) = 11.335 [MainProcess : MainThread (DEBUG)]\n",
      "2021-08-25 12:18:11,734 - findfont: score(<Font 'DejaVu Sans' (DejaVuSans-Bold.ttf) normal normal 700 normal>) = 0.33499999999999996 [MainProcess : MainThread (DEBUG)]\n",
      "2021-08-25 12:18:11,735 - findfont: score(<Font 'STIX' (STIX-Italic.otf) italic normal 400 normal>) = 11.05 [MainProcess : MainThread (DEBUG)]\n",
      "2021-08-25 12:18:11,735 - findfont: score(<Font 'PakType Naskh Basic' (PakTypeNaskhBasic.ttf) normal normal 400 normal>) = 10.05 [MainProcess : MainThread (DEBUG)]\n",
      "2021-08-25 12:18:11,736 - findfont: score(<Font 'STIX' (STIX-Bold.otf) normal normal 700 normal>) = 10.335 [MainProcess : MainThread (DEBUG)]\n",
      "2021-08-25 12:18:11,736 - findfont: score(<Font 'DejaVu Sans' (DejaVuSansCondensed-Bold.ttf) normal normal 700 condensed>) = 0.5349999999999999 [MainProcess : MainThread (DEBUG)]\n",
      "2021-08-25 12:18:11,737 - findfont: score(<Font 'Cantarell' (Cantarell-Regular.otf) normal normal 400 normal>) = 10.05 [MainProcess : MainThread (DEBUG)]\n",
      "2021-08-25 12:18:11,737 - findfont: score(<Font 'Lohit Kannada' (Lohit-Kannada.ttf) normal normal 400 normal>) = 10.05 [MainProcess : MainThread (DEBUG)]\n"
     ]
    },
    {
     "name": "stdout",
     "output_type": "stream",
     "text": [
      "0.0021481384\n"
     ]
    },
    {
     "name": "stderr",
     "output_type": "stream",
     "text": [
      "2021-08-25 12:18:11,739 - findfont: score(<Font 'Liberation Sans' (LiberationSans-BoldItalic.ttf) italic normal 700 normal>) = 11.335 [MainProcess : MainThread (DEBUG)]\n",
      "2021-08-25 12:18:11,740 - findfont: score(<Font 'DejaVu Sans Mono' (DejaVuSansMono-BoldOblique.ttf) oblique normal 700 normal>) = 11.335 [MainProcess : MainThread (DEBUG)]\n",
      "2021-08-25 12:18:11,740 - findfont: score(<Font 'Open Sans' (OpenSans-Regular.ttf) normal normal 400 normal>) = 10.05 [MainProcess : MainThread (DEBUG)]\n",
      "2021-08-25 12:18:11,741 - findfont: score(<Font 'FreeSerif' (FreeSerifBoldItalic.ttf) italic normal 700 normal>) = 11.335 [MainProcess : MainThread (DEBUG)]\n",
      "2021-08-25 12:18:11,741 - findfont: score(<Font 'FreeMono' (FreeMono.ttf) normal normal 400 normal>) = 10.05 [MainProcess : MainThread (DEBUG)]\n",
      "2021-08-25 12:18:11,742 - findfont: score(<Font 'AR PL UMing CN' (uming.ttc) normal normal 300 normal>) = 10.145 [MainProcess : MainThread (DEBUG)]\n",
      "2021-08-25 12:18:11,742 - findfont: score(<Font 'Overpass' (Overpass-Regular-Italic.ttf) italic normal 400 normal>) = 11.05 [MainProcess : MainThread (DEBUG)]\n",
      "2021-08-25 12:18:11,742 - findfont: score(<Font 'Lohit Assamese' (Lohit-Assamese.ttf) normal normal 400 normal>) = 10.05 [MainProcess : MainThread (DEBUG)]\n",
      "2021-08-25 12:18:11,750 - findfont: score(<Font 'Waree' (Waree-BoldOblique.ttf) oblique normal 700 normal>) = 11.335 [MainProcess : MainThread (DEBUG)]\n",
      "2021-08-25 12:18:11,751 - findfont: score(<Font 'DejaVu Sans' (DejaVuSans-ExtraLight.ttf) normal normal 200 normal>) = 0.24 [MainProcess : MainThread (DEBUG)]\n",
      "2021-08-25 12:18:11,751 - findfont: score(<Font 'Lohit Tamil' (Lohit-Tamil.ttf) normal normal 400 normal>) = 10.05 [MainProcess : MainThread (DEBUG)]\n",
      "2021-08-25 12:18:11,752 - findfont: score(<Font 'STIX' (STIX-BoldItalic.otf) italic normal 700 normal>) = 11.335 [MainProcess : MainThread (DEBUG)]\n",
      "2021-08-25 12:18:11,752 - findfont: score(<Font 'DejaVu Serif' (DejaVuSerifCondensed.ttf) normal normal 400 condensed>) = 10.25 [MainProcess : MainThread (DEBUG)]\n",
      "2021-08-25 12:18:11,753 - findfont: score(<Font 'Caladea' (Caladea-Italic.ttf) italic normal 400 normal>) = 11.05 [MainProcess : MainThread (DEBUG)]\n",
      "2021-08-25 12:18:11,753 - findfont: score(<Font 'VL Gothic' (VL-Gothic-Regular.ttf) normal normal 400 normal>) = 10.05 [MainProcess : MainThread (DEBUG)]\n",
      "2021-08-25 12:18:11,753 - findfont: score(<Font 'Overpass' (Overpass-Light-Italic.ttf) italic normal 300 normal>) = 11.145 [MainProcess : MainThread (DEBUG)]\n",
      "2021-08-25 12:18:11,754 - findfont: score(<Font 'NanumGothic' (NanumGothicExtraBold.ttf) normal normal 700 normal>) = 10.335 [MainProcess : MainThread (DEBUG)]\n",
      "2021-08-25 12:18:11,756 - findfont: score(<Font 'Padauk' (Padauk-bold.ttf) normal normal 700 normal>) = 10.335 [MainProcess : MainThread (DEBUG)]\n",
      "2021-08-25 12:18:11,760 - findfont: score(<Font 'Open Sans' (OpenSans-Italic.ttf) italic normal 400 normal>) = 11.05 [MainProcess : MainThread (DEBUG)]\n",
      "2021-08-25 12:18:11,760 - findfont: score(<Font 'DejaVu Serif' (DejaVuSerifCondensed-Bold.ttf) normal normal 700 condensed>) = 10.535 [MainProcess : MainThread (DEBUG)]\n",
      "2021-08-25 12:18:11,761 - findfont: score(<Font 'Liberation Serif' (LiberationSerif-Italic.ttf) italic normal 400 normal>) = 11.05 [MainProcess : MainThread (DEBUG)]\n",
      "2021-08-25 12:18:11,761 - findfont: score(<Font 'DejaVu Sans Mono' (DejaVuSansMono.ttf) normal normal 400 normal>) = 10.05 [MainProcess : MainThread (DEBUG)]\n",
      "2021-08-25 12:18:11,761 - findfont: score(<Font 'Liberation Serif' (LiberationSerif-BoldItalic.ttf) italic normal 700 normal>) = 11.335 [MainProcess : MainThread (DEBUG)]\n",
      "2021-08-25 12:18:11,762 - findfont: score(<Font 'Lohit Devanagari' (Lohit-Devanagari.ttf) normal normal 400 normal>) = 10.05 [MainProcess : MainThread (DEBUG)]\n",
      "2021-08-25 12:18:11,762 - findfont: score(<Font 'DejaVu Sans' (DejaVuSansCondensed-Oblique.ttf) oblique normal 400 condensed>) = 1.25 [MainProcess : MainThread (DEBUG)]\n",
      "2021-08-25 12:18:11,763 - findfont: score(<Font 'Caladea' (Caladea-BoldItalic.ttf) italic normal 700 normal>) = 11.335 [MainProcess : MainThread (DEBUG)]\n",
      "2021-08-25 12:18:11,763 - findfont: score(<Font 'Waree' (Waree-Bold.ttf) normal normal 700 normal>) = 10.335 [MainProcess : MainThread (DEBUG)]\n",
      "2021-08-25 12:18:11,764 - findfont: score(<Font 'WenQuanYi Zen Hei' (wqy-zenhei.ttc) normal normal 500 normal>) = 10.145 [MainProcess : MainThread (DEBUG)]\n",
      "2021-08-25 12:18:11,764 - findfont: score(<Font 'DejaVu Serif' (DejaVuSerif-Italic.ttf) italic normal 400 normal>) = 11.05 [MainProcess : MainThread (DEBUG)]\n",
      "2021-08-25 12:18:11,765 - findfont: score(<Font 'Jomolhari' (Jomolhari-alpha3c-0605331.ttf) normal normal 400 normal>) = 10.05 [MainProcess : MainThread (DEBUG)]\n",
      "2021-08-25 12:18:11,765 - findfont: score(<Font 'Lohit Marathi' (Lohit-Marathi.ttf) normal normal 400 normal>) = 10.05 [MainProcess : MainThread (DEBUG)]\n",
      "2021-08-25 12:18:11,766 - findfont: score(<Font 'Madan2' (madan.ttf) normal normal 400 normal>) = 10.05 [MainProcess : MainThread (DEBUG)]\n",
      "2021-08-25 12:18:11,766 - findfont: score(<Font 'Lohit Gujarati' (Lohit-Gujarati.ttf) normal normal 400 normal>) = 10.05 [MainProcess : MainThread (DEBUG)]\n",
      "2021-08-25 12:18:11,767 - findfont: score(<Font 'Lohit Telugu' (Lohit-Telugu.ttf) normal normal 400 normal>) = 10.05 [MainProcess : MainThread (DEBUG)]\n",
      "2021-08-25 12:18:11,767 - findfont: score(<Font 'Meera' (Meera.ttf) normal normal 400 normal>) = 10.05 [MainProcess : MainThread (DEBUG)]\n",
      "2021-08-25 12:18:11,768 - findfont: score(<Font 'Liberation Serif' (LiberationSerif-Regular.ttf) normal normal 400 normal>) = 10.05 [MainProcess : MainThread (DEBUG)]\n",
      "2021-08-25 12:18:11,768 - findfont: score(<Font 'DejaVu Serif' (DejaVuSerif.ttf) normal normal 400 normal>) = 10.05 [MainProcess : MainThread (DEBUG)]\n",
      "2021-08-25 12:18:11,768 - findfont: score(<Font 'Overpass' (Overpass-Light.ttf) normal normal 300 normal>) = 10.145 [MainProcess : MainThread (DEBUG)]\n",
      "2021-08-25 12:18:11,769 - findfont: score(<Font 'Open Sans' (OpenSans-LightItalic.ttf) italic normal 300 normal>) = 11.145 [MainProcess : MainThread (DEBUG)]\n",
      "2021-08-25 12:18:11,769 - findfont: Matching sans\\-serif:style=normal:variant=normal:weight=normal:stretch=normal:size=10.0 to DejaVu Sans ('/home/harsh_1921cs01/anaconda3/envs/syft/lib/python3.9/site-packages/matplotlib/mpl-data/fonts/ttf/DejaVuSans.ttf') with score of 0.050000. [MainProcess : MainThread (DEBUG)]\n"
     ]
    },
    {
     "data": {
      "image/png": "[encoded data removed]",
      "text/plain": [
       "<Figure size 432x288 with 1 Axes>"
      ]
     },
     "metadata": {
      "needs_background": "light"
     },
     "output_type": "display_data"
    }
   ],
   "source": [
    "print(len(fc1))\n",
    "print(np.count_nonzero(fc1))\n",
    "print(len(np.intersect1d(fb1, fc1)))\n",
    "print(len(np.where(fc1>fb1-0.0001)[0]))\n",
    "print(len(np.where(fc1==fb1)[0]))\n",
    "\n",
    "import matplotlib.pyplot as plt\n",
    "df1 = fc1 - fb1\n",
    "unique, counts = np.unique(df1, return_counts=True)\n",
    "npc = np.asarray((unique, counts)).T\n",
    "print(np.amax(df1))\n",
    "\n",
    "plt.plot(npc)\n",
    "plt.show()"
   ]
  },
  {
   "cell_type": "code",
   "execution_count": 34,
   "metadata": {},
   "outputs": [
    {
     "name": "stdout",
     "output_type": "stream",
     "text": [
      "1199882\n",
      "1199882\n",
      "104000\n",
      "650268\n",
      "1\n",
      "0.0048349625\n"
     ]
    },
    {
     "data": {
      "image/png": "[encoded data removed]",
      "text/plain": [
       "<Figure size 432x288 with 1 Axes>"
      ]
     },
     "metadata": {
      "needs_background": "light"
     },
     "output_type": "display_data"
    }
   ],
   "source": [
    "print(len(fc5))\n",
    "print(np.count_nonzero(fc5))\n",
    "print(len(np.intersect1d(fb1, fc5)))\n",
    "print(len(np.where(fc5>fb1-0.0001)[0]))\n",
    "print(len(np.where(fc5==fb1)[0]))\n",
    "\n",
    "import matplotlib.pyplot as plt\n",
    "df5 = fc5 - fb1\n",
    "unique, counts = np.unique(df5, return_counts=True)\n",
    "npc = np.asarray((unique, counts)).T\n",
    "print(np.amax(df5))\n",
    "\n",
    "plt.plot(npc)\n",
    "plt.show()"
   ]
  },
  {
   "cell_type": "code",
   "execution_count": 35,
   "metadata": {},
   "outputs": [
    {
     "name": "stderr",
     "output_type": "stream",
     "text": [
      "/home/harsh_1921cs01/hub/F3IA/fl/libs/sim.py:48: VisibleDeprecationWarning: Creating an ndarray from ragged nested sequences (which is a list-or-tuple of lists-or-tuples-or ndarrays with different lengths or shapes) is deprecated. If you meant to do this, you must specify 'dtype=object' when creating the ndarray\n",
      "  _param_list = nd.array(param_list).squeeze()\n",
      "2021-08-25 12:18:13,561 - /home/harsh_1921cs01/hub/F3IA/fl/libs/agg.py::FLTrust(l:90) : FLTrust Score [0.104, 0.088, 0.53, 0.568, 0.539] [MainProcess : MainThread (INFO)]\n"
     ]
    },
    {
     "name": "stdout",
     "output_type": "stream",
     "text": [
      "{'test_loss': 1.5952618795394897, 'correct': 6643, 'accuracy': 66.43}\n",
      "\n",
      "[0.53900015]\n",
      "<NDArray 1 @cpu(0)>\n",
      "0.53900015\n",
      "\n",
      "[0.5752506]\n",
      "<NDArray 1 @cpu(0)>\n",
      "0.5752506\n",
      "\n",
      "[0.5763362]\n",
      "<NDArray 1 @cpu(0)>\n",
      "0.5763362\n"
     ]
    },
    {
     "name": "stderr",
     "output_type": "stream",
     "text": [
      "2021-08-25 12:18:20,522 - /home/harsh_1921cs01/hub/F3IA/fl/libs/agg.py::FLTrust(l:90) : FLTrust Score [0.575, 0.576, 0.53, 0.568, 0.539] [MainProcess : MainThread (INFO)]\n"
     ]
    },
    {
     "name": "stdout",
     "output_type": "stream",
     "text": [
      "{'test_loss': 1.6542307916641235, 'correct': 6123, 'accuracy': 61.23}\n"
     ]
    }
   ],
   "source": [
    "avgargs = {\"base_update\": _B1}\n",
    "t1 = fl.federated_avg({'a': _C1, 'b': _C2, 'c': _C3, 'd': _C4, 'e': _C5}, B1, agg.Rule.FLTrust, **avgargs)\n",
    "print(fl.eval(t1, test_loader, device))\n",
    "\n",
    "cs5 = mnd.dot(mnd.array(fb1), mnd.array(fc5)) / (mnd.norm(mnd.array(fb1)) + 1e-9) / (mnd.norm(mnd.array(fc5)) + 1e-9)\n",
    "print(cs5)\n",
    "print(sim.grad_cosine_similarity(_B1, _C5))\n",
    "\n",
    "np5 = fc5 - fb1\n",
    "np.random.shuffle(np5)\n",
    "\n",
    "#V1                       V2\n",
    "#1, 2, 3, 4.              2, 4, 6, 8\n",
    "#CS = 1\n",
    "\n",
    "#np5 = 1, 2, 3, 4\n",
    "#np5.shuffle = 3, 1, 2, 4\n",
    "\n",
    "#V3 = 4, 3, 5, 8\n",
    "#CS = .97\n",
    "\n",
    "fc11 = fb1 + np5\n",
    "#fc11 = sim.get_arr_net(_C1, fc11, cslist)\n",
    "cs11 = mnd.dot(mnd.array(fb1), mnd.array(fc11)) / (mnd.norm(mnd.array(fb1)) + 1e-9) / (mnd.norm(mnd.array(fc11)) + 1e-9)\n",
    "print(cs11)\n",
    "\n",
    "fc11 = sim.get_arr_net(_C1, fc11, cslist)\n",
    "print(sim.grad_cosine_similarity(_B1, fc11))\n",
    "\n",
    "np.random.shuffle(np5)\n",
    "\n",
    "fc22 = fb1 + np5\n",
    "#fc11 = sim.get_arr_net(_C1, fc11, cslist)\n",
    "cs22 = mnd.dot(mnd.array(fb1), mnd.array(fc22)) / (mnd.norm(mnd.array(fb1)) + 1e-9) / (mnd.norm(mnd.array(fc22)) + 1e-9)\n",
    "print(cs22)\n",
    "\n",
    "fc22 = sim.get_arr_net(_C2, fc22, cslist)\n",
    "print(sim.grad_cosine_similarity(_B1, fc22))\n",
    "\n",
    "t1 = fl.federated_avg({'a': fc11, 'b': fc22, 'c': _C3, 'd': _C4, 'e': _C5}, B1, agg.Rule.FLTrust, **avgargs)\n",
    "print(fl.eval(t1, test_loader, device))"
   ]
  },
  {
   "cell_type": "code",
   "execution_count": 36,
   "metadata": {},
   "outputs": [
    {
     "data": {
      "text/plain": [
       "'\\nmodel=nn.denoising_model().to(device)\\ncriterion=torch.nn.MSELoss()\\noptimizer=optim.SGD(model.parameters(),lr=0.5,weight_decay=1e-5)\\n\\noutput = fc1\\nmodel.train()\\nfor epcoh in range(10):\\n    optimizer.zero_grad()\\n    output = model(torch.from_numpy(fc1))\\n    cs1 = mnd.dot(mnd.array(fb1), mnd.array(output.detach().numpy())) / (mnd.norm(mnd.array(fb1)) + 1e-9) / (mnd.norm(mnd.array(output.detach().numpy())) + 1e-9)\\n    _loss = criterion(output, torch.from_numpy(fb1))\\n    _loss = _loss + (1 - cs1.asnumpy()[0])\\n    print(_loss)\\n    _loss.backward()\\n    optimizer.step()\\n'"
      ]
     },
     "execution_count": 36,
     "metadata": {},
     "output_type": "execute_result"
    }
   ],
   "source": [
    "'''\n",
    "model=nn.denoising_model().to(device)\n",
    "criterion=torch.nn.MSELoss()\n",
    "optimizer=optim.SGD(model.parameters(),lr=0.5,weight_decay=1e-5)\n",
    "\n",
    "output = fc1\n",
    "model.train()\n",
    "for epcoh in range(10):\n",
    "    optimizer.zero_grad()\n",
    "    output = model(torch.from_numpy(fc1))\n",
    "    cs1 = mnd.dot(mnd.array(fb1), mnd.array(output.detach().numpy())) / (mnd.norm(mnd.array(fb1)) + 1e-9) / (mnd.norm(mnd.array(output.detach().numpy())) + 1e-9)\n",
    "    _loss = criterion(output, torch.from_numpy(fb1))\n",
    "    _loss = _loss + (1 - cs1.asnumpy()[0])\n",
    "    print(_loss)\n",
    "    _loss.backward()\n",
    "    optimizer.step()\n",
    "'''"
   ]
  },
  {
   "cell_type": "code",
   "execution_count": null,
   "metadata": {},
   "outputs": [],
   "source": []
  }
 ],
 "metadata": {
  "kernelspec": {
   "display_name": "Python [conda env:syft]",
   "language": "python",
   "name": "conda-env-syft-py"
  }
 },
 "nbformat": 4,
 "nbformat_minor": 4
}
