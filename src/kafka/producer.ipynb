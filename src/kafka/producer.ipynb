{
 "cells": [
  {
   "cell_type": "code",
   "execution_count": 1,
   "metadata": {},
   "outputs": [],
   "source": [
    "import sys, os\n",
    "sys.path.insert(0, os.path.abspath(os.path.join(os.getcwd(), \"../../\")))\n",
    "#from libs.topology_manager import *\n",
    "from libs.protobuf_producer import *\n",
    "from libs import fl, nn, data, log\n",
    "\n",
    "#!pip install syft\n",
    "import syft as sy\n",
    "from syft.federated.model_serialization import wrap_model_params\n",
    "from syft.federated.model_serialization import State"
   ]
  },
  {
   "cell_type": "code",
   "execution_count": 2,
   "metadata": {},
   "outputs": [],
   "source": [
    "model = nn.ModelMNIST()\n",
    "pb = sy.serialize(wrap_model_params(model.parameters()))"
   ]
  },
  {
   "cell_type": "code",
   "execution_count": 3,
   "metadata": {},
   "outputs": [],
   "source": [
    "protobuf_producer = ProtobufProducer('mygroup', 'client-1', State.get_protobuf_schema())"
   ]
  },
  {
   "cell_type": "code",
   "execution_count": 4,
   "metadata": {},
   "outputs": [
    {
     "name": "stderr",
     "output_type": "stream",
     "text": [
      "/home/harsh_1921cs01/hub/AgroFed/fl/libs/protobuf_producer.py::produce(l:64) : Exception raised\n"
     ]
    }
   ],
   "source": [
    "try:\n",
    "    for val in range(20, 21):\n",
    "        protobuf_producer.produce(topic='pyflx', \n",
    "                                  _key=str(1), \n",
    "                                  _value=pb, \n",
    "                                  _headers={'iteration': str(val)})\n",
    "except Exception as se:\n",
    "    print(se)"
   ]
  },
  {
   "cell_type": "code",
   "execution_count": null,
   "metadata": {},
   "outputs": [],
   "source": []
  },
  {
   "cell_type": "code",
   "execution_count": null,
   "metadata": {},
   "outputs": [],
   "source": []
  }
 ],
 "metadata": {
  "kernelspec": {
   "display_name": "Python [conda env:syft]",
   "language": "python",
   "name": "conda-env-syft-py"
  },
  "language_info": {
   "codemirror_mode": {
    "name": "ipython",
    "version": 3
   },
   "file_extension": ".py",
   "mimetype": "text/x-python",
   "name": "python",
   "nbconvert_exporter": "python",
   "pygments_lexer": "ipython3",
   "version": "3.9.5"
  }
 },
 "nbformat": 4,
 "nbformat_minor": 4
}
