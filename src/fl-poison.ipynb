{
 "cells": [
  {
   "cell_type": "code",
   "execution_count": 1,
   "id": "4a189859",
   "metadata": {},
   "outputs": [],
   "source": [
    "%load_ext autoreload\n",
    "%autoreload 2\n",
    "\n",
    "import asyncio, copy, os, socket, sys, time\n",
    "from functools import partial\n",
    "from multiprocessing import Pool, Process\n",
    "from pathlib import Path\n",
    "from tqdm import tqdm\n",
    "\n",
    "import torch\n",
    "from torch import optim\n",
    "from torch.utils.tensorboard import SummaryWriter\n",
    "\n",
    "sys.path.insert(0, os.path.abspath(os.path.join(os.getcwd(), \"../\")))\n",
    "from libs import agg, data, fl, log, nn, poison, resnet, sim, wandb\n",
    "from cfgs.fedargs import *"
   ]
  },
  {
   "cell_type": "code",
   "execution_count": 2,
   "id": "3e7e0cae",
   "metadata": {},
   "outputs": [
    {
     "name": "stderr",
     "output_type": "stream",
     "text": [
      "\u001b[34m\u001b[1mwandb\u001b[0m: Currently logged in as: \u001b[33mkasyah\u001b[0m (use `wandb login --relogin` to force relogin)\n",
      "\u001b[34m\u001b[1mwandb\u001b[0m: wandb version 0.12.10 is available!  To upgrade, please run:\n",
      "\u001b[34m\u001b[1mwandb\u001b[0m:  $ pip install wandb --upgrade\n"
     ]
    },
    {
     "data": {
      "text/html": [
       "\n",
       "                    Syncing run <strong><a href=\"https://wandb.ai/kasyah/fl-poison/runs/392oijyv\" target=\"_blank\">fedavg-cnn-mnist-na</a></strong> to <a href=\"https://wandb.ai/kasyah/fl-poison\" target=\"_blank\">Weights & Biases</a> (<a href=\"https://docs.wandb.com/integrations/jupyter.html\" target=\"_blank\">docs</a>).<br/>\n",
       "\n",
       "                "
      ],
      "text/plain": [
       "<IPython.core.display.HTML object>"
      ]
     },
     "metadata": {},
     "output_type": "display_data"
    }
   ],
   "source": [
    "project = 'fl-poison'\n",
    "name = 'fedavg-cnn-mnist-na'\n",
    "\n",
    "#Define Custom CFFs\n",
    "\n",
    "# Save Logs To File (info | debug | warning | error | critical) [optional]\n",
    "log.init(\"info\")\n",
    "wb = wandb.init(name, project)"
   ]
  },
  {
   "cell_type": "code",
   "execution_count": 3,
   "id": "2bb399c2",
   "metadata": {},
   "outputs": [],
   "source": [
    "# Device settings\n",
    "use_cuda = fedargs.cuda and torch.cuda.is_available()\n",
    "torch.manual_seed(fedargs.seed)\n",
    "device = torch.device(\"cuda\" if use_cuda else \"cpu\")\n",
    "kwargs = {\"num_workers\": 1, \"pin_memory\": True} if use_cuda else {}"
   ]
  },
  {
   "cell_type": "code",
   "execution_count": 4,
   "id": "76542fcf",
   "metadata": {},
   "outputs": [],
   "source": [
    "# Prepare clients\n",
    "host = socket.gethostname()\n",
    "clients = [host + \"(\" + str(client + 1) + \")\" for client in range(fedargs.num_clients)]"
   ]
  },
  {
   "cell_type": "code",
   "execution_count": 5,
   "id": "402306c0",
   "metadata": {},
   "outputs": [
    {
     "name": "stdout",
     "output_type": "stream",
     "text": [
      "Downloading http://yann.lecun.com/exdb/mnist/train-images-idx3-ubyte.gz\n",
      "Downloading http://yann.lecun.com/exdb/mnist/train-images-idx3-ubyte.gz to /home/harsh_1921cs01/hub/AgroFed/fl/libs/../data/MNIST/raw/train-images-idx3-ubyte.gz\n"
     ]
    },
    {
     "data": {
      "application/vnd.jupyter.widget-view+json": {
       "model_id": "00586b61dc764f4982b9a3b917c678ee",
       "version_major": 2,
       "version_minor": 0
      },
      "text/plain": [
       "  0%|          | 0/9912422 [00:00<?, ?it/s]"
      ]
     },
     "metadata": {},
     "output_type": "display_data"
    },
    {
     "name": "stdout",
     "output_type": "stream",
     "text": [
      "Extracting /home/harsh_1921cs01/hub/AgroFed/fl/libs/../data/MNIST/raw/train-images-idx3-ubyte.gz to /home/harsh_1921cs01/hub/AgroFed/fl/libs/../data/MNIST/raw\n",
      "\n",
      "Downloading http://yann.lecun.com/exdb/mnist/train-labels-idx1-ubyte.gz\n",
      "Downloading http://yann.lecun.com/exdb/mnist/train-labels-idx1-ubyte.gz to /home/harsh_1921cs01/hub/AgroFed/fl/libs/../data/MNIST/raw/train-labels-idx1-ubyte.gz\n"
     ]
    },
    {
     "data": {
      "application/vnd.jupyter.widget-view+json": {
       "model_id": "86b3842a5cfe415fa5263be78c414c64",
       "version_major": 2,
       "version_minor": 0
      },
      "text/plain": [
       "  0%|          | 0/28881 [00:00<?, ?it/s]"
      ]
     },
     "metadata": {},
     "output_type": "display_data"
    },
    {
     "name": "stdout",
     "output_type": "stream",
     "text": [
      "Extracting /home/harsh_1921cs01/hub/AgroFed/fl/libs/../data/MNIST/raw/train-labels-idx1-ubyte.gz to /home/harsh_1921cs01/hub/AgroFed/fl/libs/../data/MNIST/raw\n",
      "\n",
      "Downloading http://yann.lecun.com/exdb/mnist/t10k-images-idx3-ubyte.gz\n",
      "Downloading http://yann.lecun.com/exdb/mnist/t10k-images-idx3-ubyte.gz to /home/harsh_1921cs01/hub/AgroFed/fl/libs/../data/MNIST/raw/t10k-images-idx3-ubyte.gz\n"
     ]
    },
    {
     "data": {
      "application/vnd.jupyter.widget-view+json": {
       "model_id": "065a6e3675244415ba3420b28d7d5c2d",
       "version_major": 2,
       "version_minor": 0
      },
      "text/plain": [
       "  0%|          | 0/1648877 [00:00<?, ?it/s]"
      ]
     },
     "metadata": {},
     "output_type": "display_data"
    },
    {
     "name": "stdout",
     "output_type": "stream",
     "text": [
      "Extracting /home/harsh_1921cs01/hub/AgroFed/fl/libs/../data/MNIST/raw/t10k-images-idx3-ubyte.gz to /home/harsh_1921cs01/hub/AgroFed/fl/libs/../data/MNIST/raw\n",
      "\n",
      "Downloading http://yann.lecun.com/exdb/mnist/t10k-labels-idx1-ubyte.gz\n",
      "Downloading http://yann.lecun.com/exdb/mnist/t10k-labels-idx1-ubyte.gz to /home/harsh_1921cs01/hub/AgroFed/fl/libs/../data/MNIST/raw/t10k-labels-idx1-ubyte.gz\n"
     ]
    },
    {
     "data": {
      "application/vnd.jupyter.widget-view+json": {
       "model_id": "660579bef35c437d95a0f4c7568816be",
       "version_major": 2,
       "version_minor": 0
      },
      "text/plain": [
       "  0%|          | 0/4542 [00:00<?, ?it/s]"
      ]
     },
     "metadata": {},
     "output_type": "display_data"
    },
    {
     "name": "stdout",
     "output_type": "stream",
     "text": [
      "Extracting /home/harsh_1921cs01/hub/AgroFed/fl/libs/../data/MNIST/raw/t10k-labels-idx1-ubyte.gz to /home/harsh_1921cs01/hub/AgroFed/fl/libs/../data/MNIST/raw\n",
      "\n",
      "Processing...\n"
     ]
    },
    {
     "name": "stderr",
     "output_type": "stream",
     "text": [
      "/home/harsh_1921cs01/anaconda3/envs/syft/lib/python3.9/site-packages/torchvision/datasets/mnist.py:502: UserWarning: The given NumPy array is not writeable, and PyTorch does not support non-writeable tensors. This means you can write to the underlying (supposedly non-writeable) NumPy array using the tensor. You may want to copy the array to protect its data or make it writeable before converting it to a tensor. This type of warning will be suppressed for the rest of this program. (Triggered internally at  /pytorch/torch/csrc/utils/tensor_numpy.cpp:143.)\n",
      "  return torch.from_numpy(parsed.astype(m[2], copy=False)).view(*s)\n"
     ]
    },
    {
     "name": "stdout",
     "output_type": "stream",
     "text": [
      "Done!\n"
     ]
    }
   ],
   "source": [
    "# Initialize Global and Client models\n",
    "global_model = copy.deepcopy(fedargs.model)\n",
    "# Load Data to clients\n",
    "train_data, test_data = data.load_dataset(fedargs.dataset)"
   ]
  },
  {
   "cell_type": "markdown",
   "id": "1ca573ed",
   "metadata": {},
   "source": [
    "<h2>FLTrust</h2>"
   ]
  },
  {
   "cell_type": "code",
   "execution_count": 6,
   "id": "bbe42e44",
   "metadata": {},
   "outputs": [],
   "source": [
    "if FLTrust[\"is\"]:\n",
    "    train_data, FLTrust[\"data\"] = data.random_split(train_data, FLTrust[\"ratio\"])\n",
    "    FLTrust[\"loader\"] = torch.utils.data.DataLoader(FLTrust[\"data\"], batch_size=fedargs.client_batch_size, shuffle=True, **kwargs)\n",
    "    \n",
    "    if FLTrust[\"proxy\"][\"is\"]:\n",
    "        FLTrust[\"data\"], FLTrust[\"proxy\"][\"data\"] = data.random_split(FLTrust[\"data\"], FLTrust[\"proxy\"][\"ratio\"])\n",
    "        FLTrust[\"loader\"] = torch.utils.data.DataLoader(FLTrust[\"data\"], batch_size=fedargs.client_batch_size, shuffle=True, **kwargs)\n",
    "        FLTrust[\"proxy\"][\"loader\"] = torch.utils.data.DataLoader(FLTrust[\"proxy\"][\"data\"], batch_size=fedargs.client_batch_size, shuffle=True, **kwargs)"
   ]
  },
  {
   "cell_type": "markdown",
   "id": "8025440b",
   "metadata": {},
   "source": [
    "<h2>Prepare a backdoored loader for test</h2>"
   ]
  },
  {
   "cell_type": "code",
   "execution_count": 7,
   "id": "769acb54",
   "metadata": {},
   "outputs": [],
   "source": [
    "if backdoor_attack[\"is\"]:\n",
    "    train_data, backdoor_attack[\"data\"] = data.random_split(train_data, backdoor_attack[\"ratio\"])\n",
    "    backdoor_attack[\"data\"] = poison.insert_trojan(backdoor_attack[\"data\"],\n",
    "                                                   backdoor_attack[\"target_label\"],\n",
    "                                                   backdoor_attack[\"trojan_func\"], 1)\n",
    "    backdoor_attack[\"loader\"] = torch.utils.data.DataLoader(backdoor_attack[\"data\"], batch_size=fedargs.client_batch_size, shuffle=True, **kwargs)"
   ]
  },
  {
   "cell_type": "markdown",
   "id": "b0f568d4",
   "metadata": {},
   "source": [
    "<h2>Load client's data</h2>"
   ]
  },
  {
   "cell_type": "code",
   "execution_count": 8,
   "id": "80508740",
   "metadata": {},
   "outputs": [],
   "source": [
    "clients_data = data.split_data(train_data, clients)"
   ]
  },
  {
   "cell_type": "markdown",
   "id": "0670c19d",
   "metadata": {},
   "source": [
    "<h2>Label Flip Attack</h2>"
   ]
  },
  {
   "cell_type": "code",
   "execution_count": 9,
   "id": "43985c8b",
   "metadata": {},
   "outputs": [],
   "source": [
    "if label_flip_attack[\"is\"]:\n",
    "    for client in mal_clients:\n",
    "        clients_data[clients[client]] = label_flip_attack[\"func\"](clients_data[clients[client]],\n",
    "                                                                  label_flip_attack[\"labels\"],\n",
    "                                                                  label_flip_attack[\"percent\"])"
   ]
  },
  {
   "cell_type": "markdown",
   "id": "3c01394f",
   "metadata": {},
   "source": [
    "<h2>Backdoor Attack</h2>"
   ]
  },
  {
   "cell_type": "code",
   "execution_count": 10,
   "id": "11198f68",
   "metadata": {},
   "outputs": [],
   "source": [
    "if backdoor_attack[\"is\"]:\n",
    "    for client in mal_clients:\n",
    "        clients_data[clients[client]] = poison.insert_trojan(clients_data[clients[client]],\n",
    "                                                             backdoor_attack[\"target_label\"],\n",
    "                                                             backdoor_attack[\"trojan_func\"], 0.5)"
   ]
  },
  {
   "cell_type": "code",
   "execution_count": 11,
   "id": "f21c1481",
   "metadata": {},
   "outputs": [],
   "source": [
    "client_train_loaders, _ = data.load_client_data(clients_data, fedargs.client_batch_size, None, **kwargs)\n",
    "test_loader = torch.utils.data.DataLoader(test_data, batch_size=fedargs.test_batch_size, shuffle=True, **kwargs)\n",
    "\n",
    "client_details = {\n",
    "        client: {\"train_loader\": client_train_loaders[client],\n",
    "                 \"model\": copy.deepcopy(global_model),\n",
    "                 \"model_update\": None}\n",
    "        for client in clients\n",
    "    }"
   ]
  },
  {
   "cell_type": "code",
   "execution_count": 12,
   "id": "af4f472f",
   "metadata": {},
   "outputs": [],
   "source": [
    "def background(f):\n",
    "    def wrapped(*args, **kwargs):\n",
    "        return asyncio.get_event_loop().run_in_executor(None, f, *args, **kwargs)\n",
    "\n",
    "    return wrapped\n",
    "\n",
    "@background\n",
    "def process(client, epoch, model, train_loader, fedargs, device):\n",
    "    # Train\n",
    "    model_update, model, loss = fedargs.train_func(model, train_loader, \n",
    "                                                   fedargs.learning_rate,\n",
    "                                                   fedargs.weight_decay,\n",
    "                                                   fedargs.local_rounds, device)\n",
    "\n",
    "    log.jsondebug(loss, \"Epoch {} of {} : Federated Training loss, Client {}\".format(epoch, fedargs.epochs, client))\n",
    "    log.modeldebug(model_update, \"Epoch {} of {} : Client {} Update\".format(epoch, fedargs.epochs, client))\n",
    "    \n",
    "    return model_update"
   ]
  },
  {
   "cell_type": "code",
   "execution_count": 13,
   "id": "b3f7f3fb",
   "metadata": {
    "scrolled": true
   },
   "outputs": [
    {
     "name": "stderr",
     "output_type": "stream",
     "text": [
      "  0%|          | 0/51 [00:00<?, ?it/s]2022-02-04 11:03:46,416 - <ipython-input-13-00521f11c043>::<module>(l:6) : Federated Training Epoch 0 of 51 [MainProcess : MainThread (INFO)]\n",
      "  2%|▏         | 1/51 [00:48<40:46, 48.92s/it]2022-02-04 11:04:35,010 - <ipython-input-13-00521f11c043>::<module>(l:6) : Federated Training Epoch 1 of 51 [MainProcess : MainThread (INFO)]\n",
      "2022-02-04 11:04:38,941 - <ipython-input-13-00521f11c043>::<module>(l:22) : Global Test Outut after Epoch 1 of 51 {\n",
      "    \"accuracy\": 69.76,\n",
      "    \"correct\": 6976,\n",
      "    \"test_loss\": 2.04204642829895\n",
      "} [MainProcess : MainThread (INFO)]\n",
      "  4%|▍         | 2/51 [01:39<40:48, 49.97s/it]2022-02-04 11:05:25,707 - <ipython-input-13-00521f11c043>::<module>(l:6) : Federated Training Epoch 2 of 51 [MainProcess : MainThread (INFO)]\n",
      "2022-02-04 11:05:29,556 - <ipython-input-13-00521f11c043>::<module>(l:22) : Global Test Outut after Epoch 2 of 51 {\n",
      "    \"accuracy\": 77.27000000000001,\n",
      "    \"correct\": 7727,\n",
      "    \"test_loss\": 1.4961984554290773\n",
      "} [MainProcess : MainThread (INFO)]\n",
      "  6%|▌         | 3/51 [02:31<40:33, 50.69s/it]2022-02-04 11:06:17,258 - <ipython-input-13-00521f11c043>::<module>(l:6) : Federated Training Epoch 3 of 51 [MainProcess : MainThread (INFO)]\n",
      "2022-02-04 11:06:20,352 - <ipython-input-13-00521f11c043>::<module>(l:22) : Global Test Outut after Epoch 3 of 51 {\n",
      "    \"accuracy\": 81.31,\n",
      "    \"correct\": 8131,\n",
      "    \"test_loss\": 1.0418628120422364\n",
      "} [MainProcess : MainThread (INFO)]\n",
      "  8%|▊         | 4/51 [03:21<39:28, 50.39s/it]2022-02-04 11:07:07,190 - <ipython-input-13-00521f11c043>::<module>(l:6) : Federated Training Epoch 4 of 51 [MainProcess : MainThread (INFO)]\n",
      "2022-02-04 11:07:10,518 - <ipython-input-13-00521f11c043>::<module>(l:22) : Global Test Outut after Epoch 4 of 51 {\n",
      "    \"accuracy\": 84.46000000000001,\n",
      "    \"correct\": 8446,\n",
      "    \"test_loss\": 0.7588971689224243\n",
      "} [MainProcess : MainThread (INFO)]\n",
      " 10%|▉         | 5/51 [04:11<38:44, 50.54s/it]2022-02-04 11:07:57,984 - <ipython-input-13-00521f11c043>::<module>(l:6) : Federated Training Epoch 5 of 51 [MainProcess : MainThread (INFO)]\n",
      "2022-02-04 11:08:01,077 - <ipython-input-13-00521f11c043>::<module>(l:22) : Global Test Outut after Epoch 5 of 51 {\n",
      "    \"accuracy\": 86.33999999999999,\n",
      "    \"correct\": 8634,\n",
      "    \"test_loss\": 0.6037447271347046\n",
      "} [MainProcess : MainThread (INFO)]\n",
      " 12%|█▏        | 6/51 [05:01<37:45, 50.34s/it]2022-02-04 11:08:47,945 - <ipython-input-13-00521f11c043>::<module>(l:6) : Federated Training Epoch 6 of 51 [MainProcess : MainThread (INFO)]\n",
      "2022-02-04 11:08:51,056 - <ipython-input-13-00521f11c043>::<module>(l:22) : Global Test Outut after Epoch 6 of 51 {\n",
      "    \"accuracy\": 87.51,\n",
      "    \"correct\": 8751,\n",
      "    \"test_loss\": 0.512535710144043\n",
      "} [MainProcess : MainThread (INFO)]\n",
      " 14%|█▎        | 7/51 [05:51<36:48, 50.19s/it]2022-02-04 11:09:37,810 - <ipython-input-13-00521f11c043>::<module>(l:6) : Federated Training Epoch 7 of 51 [MainProcess : MainThread (INFO)]\n",
      "2022-02-04 11:09:41,103 - <ipython-input-13-00521f11c043>::<module>(l:22) : Global Test Outut after Epoch 7 of 51 {\n",
      "    \"accuracy\": 88.53999999999999,\n",
      "    \"correct\": 8854,\n",
      "    \"test_loss\": 0.4540862696647644\n",
      "} [MainProcess : MainThread (INFO)]\n",
      " 16%|█▌        | 8/51 [06:41<35:55, 50.13s/it]2022-02-04 11:10:27,818 - <ipython-input-13-00521f11c043>::<module>(l:6) : Federated Training Epoch 8 of 51 [MainProcess : MainThread (INFO)]\n",
      "2022-02-04 11:10:30,909 - <ipython-input-13-00521f11c043>::<module>(l:22) : Global Test Outut after Epoch 8 of 51 {\n",
      "    \"accuracy\": 89.08,\n",
      "    \"correct\": 8908,\n",
      "    \"test_loss\": 0.4160809010505676\n",
      "} [MainProcess : MainThread (INFO)]\n",
      " 18%|█▊        | 9/51 [07:30<34:44, 49.63s/it]2022-02-04 11:11:16,352 - <ipython-input-13-00521f11c043>::<module>(l:6) : Federated Training Epoch 9 of 51 [MainProcess : MainThread (INFO)]\n",
      "2022-02-04 11:11:19,619 - <ipython-input-13-00521f11c043>::<module>(l:22) : Global Test Outut after Epoch 9 of 51 {\n",
      "    \"accuracy\": 89.64999999999999,\n",
      "    \"correct\": 8965,\n",
      "    \"test_loss\": 0.38800428833961487\n",
      "} [MainProcess : MainThread (INFO)]\n",
      " 20%|█▉        | 10/51 [08:19<33:46, 49.43s/it]2022-02-04 11:12:05,333 - <ipython-input-13-00521f11c043>::<module>(l:6) : Federated Training Epoch 10 of 51 [MainProcess : MainThread (INFO)]\n",
      "2022-02-04 11:12:08,711 - <ipython-input-13-00521f11c043>::<module>(l:22) : Global Test Outut after Epoch 10 of 51 {\n",
      "    \"accuracy\": 90.03999999999999,\n",
      "    \"correct\": 9004,\n",
      "    \"test_loss\": 0.3660619144678116\n",
      "} [MainProcess : MainThread (INFO)]\n",
      " 22%|██▏       | 11/51 [09:08<32:58, 49.47s/it]2022-02-04 11:12:54,896 - <ipython-input-13-00521f11c043>::<module>(l:6) : Federated Training Epoch 11 of 51 [MainProcess : MainThread (INFO)]\n",
      "2022-02-04 11:12:57,902 - <ipython-input-13-00521f11c043>::<module>(l:22) : Global Test Outut after Epoch 11 of 51 {\n",
      "    \"accuracy\": 90.56,\n",
      "    \"correct\": 9056,\n",
      "    \"test_loss\": 0.3475304088115692\n",
      "} [MainProcess : MainThread (INFO)]\n",
      " 24%|██▎       | 12/51 [09:57<32:05, 49.37s/it]2022-02-04 11:13:44,056 - <ipython-input-13-00521f11c043>::<module>(l:6) : Federated Training Epoch 12 of 51 [MainProcess : MainThread (INFO)]\n",
      "2022-02-04 11:13:47,293 - <ipython-input-13-00521f11c043>::<module>(l:22) : Global Test Outut after Epoch 12 of 51 {\n",
      "    \"accuracy\": 91.03,\n",
      "    \"correct\": 9103,\n",
      "    \"test_loss\": 0.33364137353897094\n",
      "} [MainProcess : MainThread (INFO)]\n",
      " 25%|██▌       | 13/51 [10:47<31:22, 49.53s/it]2022-02-04 11:14:33,958 - <ipython-input-13-00521f11c043>::<module>(l:6) : Federated Training Epoch 13 of 51 [MainProcess : MainThread (INFO)]\n",
      "2022-02-04 11:14:37,266 - <ipython-input-13-00521f11c043>::<module>(l:22) : Global Test Outut after Epoch 13 of 51 {\n",
      "    \"accuracy\": 91.24,\n",
      "    \"correct\": 9124,\n",
      "    \"test_loss\": 0.3213484841346741\n",
      "} [MainProcess : MainThread (INFO)]\n",
      " 27%|██▋       | 14/51 [11:36<30:25, 49.34s/it]2022-02-04 11:15:22,835 - <ipython-input-13-00521f11c043>::<module>(l:6) : Federated Training Epoch 14 of 51 [MainProcess : MainThread (INFO)]\n",
      "2022-02-04 11:15:26,370 - <ipython-input-13-00521f11c043>::<module>(l:22) : Global Test Outut after Epoch 14 of 51 {\n",
      "    \"accuracy\": 91.49000000000001,\n",
      "    \"correct\": 9149,\n",
      "    \"test_loss\": 0.30996916785240175\n",
      "} [MainProcess : MainThread (INFO)]\n",
      " 29%|██▉       | 15/51 [12:25<29:26, 49.06s/it]2022-02-04 11:16:11,251 - <ipython-input-13-00521f11c043>::<module>(l:6) : Federated Training Epoch 15 of 51 [MainProcess : MainThread (INFO)]\n",
      "2022-02-04 11:16:14,460 - <ipython-input-13-00521f11c043>::<module>(l:22) : Global Test Outut after Epoch 15 of 51 {\n",
      "    \"accuracy\": 91.72,\n",
      "    \"correct\": 9172,\n",
      "    \"test_loss\": 0.30067652969360353\n",
      "} [MainProcess : MainThread (INFO)]\n",
      " 31%|███▏      | 16/51 [13:14<28:36, 49.04s/it]2022-02-04 11:17:00,248 - <ipython-input-13-00521f11c043>::<module>(l:6) : Federated Training Epoch 16 of 51 [MainProcess : MainThread (INFO)]\n",
      "2022-02-04 11:17:03,450 - <ipython-input-13-00521f11c043>::<module>(l:22) : Global Test Outut after Epoch 16 of 51 {\n",
      "    \"accuracy\": 91.91,\n",
      "    \"correct\": 9191,\n",
      "    \"test_loss\": 0.29169219875335695\n",
      "} [MainProcess : MainThread (INFO)]\n",
      " 33%|███▎      | 17/51 [14:03<27:52, 49.20s/it]2022-02-04 11:17:49,833 - <ipython-input-13-00521f11c043>::<module>(l:6) : Federated Training Epoch 17 of 51 [MainProcess : MainThread (INFO)]\n",
      "2022-02-04 11:17:53,217 - <ipython-input-13-00521f11c043>::<module>(l:22) : Global Test Outut after Epoch 17 of 51 {\n",
      "    \"accuracy\": 92.12,\n",
      "    \"correct\": 9212,\n",
      "    \"test_loss\": 0.2834043438434601\n",
      "} [MainProcess : MainThread (INFO)]\n",
      " 35%|███▌      | 18/51 [14:52<27:04, 49.22s/it]2022-02-04 11:18:39,079 - <ipython-input-13-00521f11c043>::<module>(l:6) : Federated Training Epoch 18 of 51 [MainProcess : MainThread (INFO)]\n",
      "2022-02-04 11:18:42,713 - <ipython-input-13-00521f11c043>::<module>(l:22) : Global Test Outut after Epoch 18 of 51 {\n",
      "    \"accuracy\": 92.25999999999999,\n",
      "    \"correct\": 9226,\n",
      "    \"test_loss\": 0.27619411258697507\n",
      "} [MainProcess : MainThread (INFO)]\n",
      " 37%|███▋      | 19/51 [15:42<26:19, 49.37s/it]2022-02-04 11:19:28,803 - <ipython-input-13-00521f11c043>::<module>(l:6) : Federated Training Epoch 19 of 51 [MainProcess : MainThread (INFO)]\n",
      "2022-02-04 11:19:32,048 - <ipython-input-13-00521f11c043>::<module>(l:22) : Global Test Outut after Epoch 19 of 51 {\n",
      "    \"accuracy\": 92.54,\n",
      "    \"correct\": 9254,\n",
      "    \"test_loss\": 0.2690496859192848\n",
      "} [MainProcess : MainThread (INFO)]\n"
     ]
    },
    {
     "name": "stderr",
     "output_type": "stream",
     "text": [
      " 39%|███▉      | 20/51 [16:32<25:32, 49.44s/it]2022-02-04 11:20:18,411 - <ipython-input-13-00521f11c043>::<module>(l:6) : Federated Training Epoch 20 of 51 [MainProcess : MainThread (INFO)]\n",
      "2022-02-04 11:20:21,538 - <ipython-input-13-00521f11c043>::<module>(l:22) : Global Test Outut after Epoch 20 of 51 {\n",
      "    \"accuracy\": 92.67999999999999,\n",
      "    \"correct\": 9268,\n",
      "    \"test_loss\": 0.2625988066673279\n",
      "} [MainProcess : MainThread (INFO)]\n",
      " 41%|████      | 21/51 [17:20<24:35, 49.19s/it]2022-02-04 11:21:07,038 - <ipython-input-13-00521f11c043>::<module>(l:6) : Federated Training Epoch 21 of 51 [MainProcess : MainThread (INFO)]\n",
      "2022-02-04 11:21:10,330 - <ipython-input-13-00521f11c043>::<module>(l:22) : Global Test Outut after Epoch 21 of 51 {\n",
      "    \"accuracy\": 92.82000000000001,\n",
      "    \"correct\": 9282,\n",
      "    \"test_loss\": 0.25697710835933685\n",
      "} [MainProcess : MainThread (INFO)]\n",
      " 43%|████▎     | 22/51 [18:09<23:38, 48.92s/it]2022-02-04 11:21:55,319 - <ipython-input-13-00521f11c043>::<module>(l:6) : Federated Training Epoch 22 of 51 [MainProcess : MainThread (INFO)]\n",
      "2022-02-04 11:21:58,331 - <ipython-input-13-00521f11c043>::<module>(l:22) : Global Test Outut after Epoch 22 of 51 {\n",
      "    \"accuracy\": 92.91,\n",
      "    \"correct\": 9291,\n",
      "    \"test_loss\": 0.2514772292613983\n",
      "} [MainProcess : MainThread (INFO)]\n",
      " 45%|████▌     | 23/51 [18:58<22:51, 48.98s/it]2022-02-04 11:22:44,442 - <ipython-input-13-00521f11c043>::<module>(l:6) : Federated Training Epoch 23 of 51 [MainProcess : MainThread (INFO)]\n",
      "2022-02-04 11:22:47,550 - <ipython-input-13-00521f11c043>::<module>(l:22) : Global Test Outut after Epoch 23 of 51 {\n",
      "    \"accuracy\": 92.97999999999999,\n",
      "    \"correct\": 9298,\n",
      "    \"test_loss\": 0.2458910804271698\n",
      "} [MainProcess : MainThread (INFO)]\n",
      " 47%|████▋     | 24/51 [19:47<22:05, 49.10s/it]2022-02-04 11:23:33,821 - <ipython-input-13-00521f11c043>::<module>(l:6) : Federated Training Epoch 24 of 51 [MainProcess : MainThread (INFO)]\n",
      "2022-02-04 11:23:36,913 - <ipython-input-13-00521f11c043>::<module>(l:22) : Global Test Outut after Epoch 24 of 51 {\n",
      "    \"accuracy\": 93.17999999999999,\n",
      "    \"correct\": 9318,\n",
      "    \"test_loss\": 0.24043988046646117\n",
      "} [MainProcess : MainThread (INFO)]\n",
      " 49%|████▉     | 25/51 [20:36<21:10, 48.87s/it]2022-02-04 11:24:22,152 - <ipython-input-13-00521f11c043>::<module>(l:6) : Federated Training Epoch 25 of 51 [MainProcess : MainThread (INFO)]\n",
      "2022-02-04 11:24:25,181 - <ipython-input-13-00521f11c043>::<module>(l:22) : Global Test Outut after Epoch 25 of 51 {\n",
      "    \"accuracy\": 93.26,\n",
      "    \"correct\": 9326,\n",
      "    \"test_loss\": 0.235385506439209\n",
      "} [MainProcess : MainThread (INFO)]\n",
      " 51%|█████     | 26/51 [21:23<20:13, 48.55s/it]2022-02-04 11:25:09,938 - <ipython-input-13-00521f11c043>::<module>(l:6) : Federated Training Epoch 26 of 51 [MainProcess : MainThread (INFO)]\n",
      "2022-02-04 11:25:13,464 - <ipython-input-13-00521f11c043>::<module>(l:22) : Global Test Outut after Epoch 26 of 51 {\n",
      "    \"accuracy\": 93.43,\n",
      "    \"correct\": 9343,\n",
      "    \"test_loss\": 0.23036091656684876\n",
      "} [MainProcess : MainThread (INFO)]\n",
      " 53%|█████▎    | 27/51 [22:11<19:21, 48.39s/it]2022-02-04 11:25:57,959 - <ipython-input-13-00521f11c043>::<module>(l:6) : Federated Training Epoch 27 of 51 [MainProcess : MainThread (INFO)]\n",
      "2022-02-04 11:26:00,989 - <ipython-input-13-00521f11c043>::<module>(l:22) : Global Test Outut after Epoch 27 of 51 {\n",
      "    \"accuracy\": 93.51,\n",
      "    \"correct\": 9351,\n",
      "    \"test_loss\": 0.22613112061023713\n",
      "} [MainProcess : MainThread (INFO)]\n",
      " 55%|█████▍    | 28/51 [23:00<18:36, 48.53s/it]2022-02-04 11:26:46,811 - <ipython-input-13-00521f11c043>::<module>(l:6) : Federated Training Epoch 28 of 51 [MainProcess : MainThread (INFO)]\n",
      "2022-02-04 11:26:49,965 - <ipython-input-13-00521f11c043>::<module>(l:22) : Global Test Outut after Epoch 28 of 51 {\n",
      "    \"accuracy\": 93.66,\n",
      "    \"correct\": 9366,\n",
      "    \"test_loss\": 0.22089620084762573\n",
      "} [MainProcess : MainThread (INFO)]\n",
      " 57%|█████▋    | 29/51 [23:48<17:44, 48.40s/it]2022-02-04 11:27:34,918 - <ipython-input-13-00521f11c043>::<module>(l:6) : Federated Training Epoch 29 of 51 [MainProcess : MainThread (INFO)]\n",
      "2022-02-04 11:27:37,777 - <ipython-input-13-00521f11c043>::<module>(l:22) : Global Test Outut after Epoch 29 of 51 {\n",
      "    \"accuracy\": 93.73,\n",
      "    \"correct\": 9373,\n",
      "    \"test_loss\": 0.21750442824363708\n",
      "} [MainProcess : MainThread (INFO)]\n",
      " 59%|█████▉    | 30/51 [24:37<17:01, 48.62s/it]2022-02-04 11:28:24,055 - <ipython-input-13-00521f11c043>::<module>(l:6) : Federated Training Epoch 30 of 51 [MainProcess : MainThread (INFO)]\n",
      "2022-02-04 11:28:27,252 - <ipython-input-13-00521f11c043>::<module>(l:22) : Global Test Outut after Epoch 30 of 51 {\n",
      "    \"accuracy\": 93.89999999999999,\n",
      "    \"correct\": 9390,\n",
      "    \"test_loss\": 0.2123755223274231\n",
      "} [MainProcess : MainThread (INFO)]\n",
      " 61%|██████    | 31/51 [25:26<16:10, 48.50s/it]2022-02-04 11:29:12,270 - <ipython-input-13-00521f11c043>::<module>(l:6) : Federated Training Epoch 31 of 51 [MainProcess : MainThread (INFO)]\n",
      "2022-02-04 11:29:15,191 - <ipython-input-13-00521f11c043>::<module>(l:22) : Global Test Outut after Epoch 31 of 51 {\n",
      "    \"accuracy\": 93.96,\n",
      "    \"correct\": 9396,\n",
      "    \"test_loss\": 0.20867359795570373\n",
      "} [MainProcess : MainThread (INFO)]\n",
      " 63%|██████▎   | 32/51 [26:15<15:23, 48.59s/it]2022-02-04 11:30:01,086 - <ipython-input-13-00521f11c043>::<module>(l:6) : Federated Training Epoch 32 of 51 [MainProcess : MainThread (INFO)]\n",
      "2022-02-04 11:30:04,140 - <ipython-input-13-00521f11c043>::<module>(l:22) : Global Test Outut after Epoch 32 of 51 {\n",
      "    \"accuracy\": 94.11,\n",
      "    \"correct\": 9411,\n",
      "    \"test_loss\": 0.20451949456334115\n",
      "} [MainProcess : MainThread (INFO)]\n",
      " 65%|██████▍   | 33/51 [27:02<14:29, 48.28s/it]2022-02-04 11:30:48,642 - <ipython-input-13-00521f11c043>::<module>(l:6) : Federated Training Epoch 33 of 51 [MainProcess : MainThread (INFO)]\n",
      "2022-02-04 11:30:51,619 - <ipython-input-13-00521f11c043>::<module>(l:22) : Global Test Outut after Epoch 33 of 51 {\n",
      "    \"accuracy\": 94.27,\n",
      "    \"correct\": 9427,\n",
      "    \"test_loss\": 0.20093514559268952\n",
      "} [MainProcess : MainThread (INFO)]\n",
      " 67%|██████▋   | 34/51 [27:51<13:45, 48.55s/it]2022-02-04 11:31:37,827 - <ipython-input-13-00521f11c043>::<module>(l:6) : Federated Training Epoch 34 of 51 [MainProcess : MainThread (INFO)]\n",
      "2022-02-04 11:31:40,801 - <ipython-input-13-00521f11c043>::<module>(l:22) : Global Test Outut after Epoch 34 of 51 {\n",
      "    \"accuracy\": 94.37,\n",
      "    \"correct\": 9437,\n",
      "    \"test_loss\": 0.1968307909488678\n",
      "} [MainProcess : MainThread (INFO)]\n",
      " 69%|██████▊   | 35/51 [28:39<12:53, 48.37s/it]2022-02-04 11:32:25,774 - <ipython-input-13-00521f11c043>::<module>(l:6) : Federated Training Epoch 35 of 51 [MainProcess : MainThread (INFO)]\n",
      "2022-02-04 11:32:28,684 - <ipython-input-13-00521f11c043>::<module>(l:22) : Global Test Outut after Epoch 35 of 51 {\n",
      "    \"accuracy\": 94.54,\n",
      "    \"correct\": 9454,\n",
      "    \"test_loss\": 0.19323733928203582\n",
      "} [MainProcess : MainThread (INFO)]\n",
      " 71%|███████   | 36/51 [29:27<12:01, 48.09s/it]2022-02-04 11:33:13,200 - <ipython-input-13-00521f11c043>::<module>(l:6) : Federated Training Epoch 36 of 51 [MainProcess : MainThread (INFO)]\n",
      "2022-02-04 11:33:16,172 - <ipython-input-13-00521f11c043>::<module>(l:22) : Global Test Outut after Epoch 36 of 51 {\n",
      "    \"accuracy\": 94.65,\n",
      "    \"correct\": 9465,\n",
      "    \"test_loss\": 0.1896616201967001\n",
      "} [MainProcess : MainThread (INFO)]\n",
      " 73%|███████▎  | 37/51 [30:16<11:17, 48.39s/it]2022-02-04 11:34:02,291 - <ipython-input-13-00521f11c043>::<module>(l:6) : Federated Training Epoch 37 of 51 [MainProcess : MainThread (INFO)]\n",
      "2022-02-04 11:34:05,402 - <ipython-input-13-00521f11c043>::<module>(l:22) : Global Test Outut after Epoch 37 of 51 {\n",
      "    \"accuracy\": 94.74000000000001,\n",
      "    \"correct\": 9474,\n",
      "    \"test_loss\": 0.18566338031888008\n",
      "} [MainProcess : MainThread (INFO)]\n",
      " 75%|███████▍  | 38/51 [31:04<10:29, 48.45s/it]2022-02-04 11:34:50,894 - <ipython-input-13-00521f11c043>::<module>(l:6) : Federated Training Epoch 38 of 51 [MainProcess : MainThread (INFO)]\n",
      "2022-02-04 11:34:53,878 - <ipython-input-13-00521f11c043>::<module>(l:22) : Global Test Outut after Epoch 38 of 51 {\n",
      "    \"accuracy\": 94.91000000000001,\n",
      "    \"correct\": 9491,\n",
      "    \"test_loss\": 0.1825648777782917\n",
      "} [MainProcess : MainThread (INFO)]\n",
      " 76%|███████▋  | 39/51 [31:52<09:37, 48.13s/it]2022-02-04 11:35:38,273 - <ipython-input-13-00521f11c043>::<module>(l:6) : Federated Training Epoch 39 of 51 [MainProcess : MainThread (INFO)]\n"
     ]
    },
    {
     "name": "stderr",
     "output_type": "stream",
     "text": [
      "2022-02-04 11:35:41,103 - <ipython-input-13-00521f11c043>::<module>(l:22) : Global Test Outut after Epoch 39 of 51 {\n",
      "    \"accuracy\": 94.99,\n",
      "    \"correct\": 9499,\n",
      "    \"test_loss\": 0.17889632086753846\n",
      "} [MainProcess : MainThread (INFO)]\n",
      " 78%|███████▊  | 40/51 [32:39<08:48, 48.02s/it]2022-02-04 11:36:26,042 - <ipython-input-13-00521f11c043>::<module>(l:6) : Federated Training Epoch 40 of 51 [MainProcess : MainThread (INFO)]\n",
      "2022-02-04 11:36:29,320 - <ipython-input-13-00521f11c043>::<module>(l:22) : Global Test Outut after Epoch 40 of 51 {\n",
      "    \"accuracy\": 95.04,\n",
      "    \"correct\": 9504,\n",
      "    \"test_loss\": 0.17595592032670976\n",
      "} [MainProcess : MainThread (INFO)]\n",
      " 80%|████████  | 41/51 [33:28<08:01, 48.13s/it]2022-02-04 11:37:14,437 - <ipython-input-13-00521f11c043>::<module>(l:6) : Federated Training Epoch 41 of 51 [MainProcess : MainThread (INFO)]\n",
      "2022-02-04 11:37:17,340 - <ipython-input-13-00521f11c043>::<module>(l:22) : Global Test Outut after Epoch 41 of 51 {\n",
      "    \"accuracy\": 95.16,\n",
      "    \"correct\": 9516,\n",
      "    \"test_loss\": 0.1723080082654953\n",
      "} [MainProcess : MainThread (INFO)]\n",
      " 82%|████████▏ | 42/51 [34:15<07:10, 47.87s/it]2022-02-04 11:38:01,700 - <ipython-input-13-00521f11c043>::<module>(l:6) : Federated Training Epoch 42 of 51 [MainProcess : MainThread (INFO)]\n",
      "2022-02-04 11:38:04,777 - <ipython-input-13-00521f11c043>::<module>(l:22) : Global Test Outut after Epoch 42 of 51 {\n",
      "    \"accuracy\": 95.17,\n",
      "    \"correct\": 9517,\n",
      "    \"test_loss\": 0.1693600766658783\n",
      "} [MainProcess : MainThread (INFO)]\n",
      " 84%|████████▍ | 43/51 [35:03<06:23, 47.96s/it]2022-02-04 11:38:49,878 - <ipython-input-13-00521f11c043>::<module>(l:6) : Federated Training Epoch 43 of 51 [MainProcess : MainThread (INFO)]\n",
      "2022-02-04 11:38:52,789 - <ipython-input-13-00521f11c043>::<module>(l:22) : Global Test Outut after Epoch 43 of 51 {\n",
      "    \"accuracy\": 95.21,\n",
      "    \"correct\": 9521,\n",
      "    \"test_loss\": 0.1664006269931793\n",
      "} [MainProcess : MainThread (INFO)]\n",
      " 86%|████████▋ | 44/51 [35:51<05:34, 47.78s/it]2022-02-04 11:39:37,235 - <ipython-input-13-00521f11c043>::<module>(l:6) : Federated Training Epoch 44 of 51 [MainProcess : MainThread (INFO)]\n",
      "2022-02-04 11:39:40,256 - <ipython-input-13-00521f11c043>::<module>(l:22) : Global Test Outut after Epoch 44 of 51 {\n",
      "    \"accuracy\": 95.30999999999999,\n",
      "    \"correct\": 9531,\n",
      "    \"test_loss\": 0.16345989260673524\n",
      "} [MainProcess : MainThread (INFO)]\n",
      " 88%|████████▊ | 45/51 [36:39<04:48, 48.04s/it]2022-02-04 11:40:25,876 - <ipython-input-13-00521f11c043>::<module>(l:6) : Federated Training Epoch 45 of 51 [MainProcess : MainThread (INFO)]\n",
      "2022-02-04 11:40:28,911 - <ipython-input-13-00521f11c043>::<module>(l:22) : Global Test Outut after Epoch 45 of 51 {\n",
      "    \"accuracy\": 95.41,\n",
      "    \"correct\": 9541,\n",
      "    \"test_loss\": 0.16064390071034432\n",
      "} [MainProcess : MainThread (INFO)]\n",
      " 90%|█████████ | 46/51 [37:27<03:59, 47.88s/it]2022-02-04 11:41:13,394 - <ipython-input-13-00521f11c043>::<module>(l:6) : Federated Training Epoch 46 of 51 [MainProcess : MainThread (INFO)]\n",
      "2022-02-04 11:41:16,365 - <ipython-input-13-00521f11c043>::<module>(l:22) : Global Test Outut after Epoch 46 of 51 {\n",
      "    \"accuracy\": 95.5,\n",
      "    \"correct\": 9550,\n",
      "    \"test_loss\": 0.1576709245145321\n",
      "} [MainProcess : MainThread (INFO)]\n",
      " 92%|█████████▏| 47/51 [38:14<03:11, 47.78s/it]2022-02-04 11:42:00,927 - <ipython-input-13-00521f11c043>::<module>(l:6) : Federated Training Epoch 47 of 51 [MainProcess : MainThread (INFO)]\n",
      "2022-02-04 11:42:03,993 - <ipython-input-13-00521f11c043>::<module>(l:22) : Global Test Outut after Epoch 47 of 51 {\n",
      "    \"accuracy\": 95.55,\n",
      "    \"correct\": 9555,\n",
      "    \"test_loss\": 0.15513603854179384\n",
      "} [MainProcess : MainThread (INFO)]\n",
      " 94%|█████████▍| 48/51 [39:03<02:23, 47.90s/it]2022-02-04 11:42:49,114 - <ipython-input-13-00521f11c043>::<module>(l:6) : Federated Training Epoch 48 of 51 [MainProcess : MainThread (INFO)]\n",
      "2022-02-04 11:42:52,232 - <ipython-input-13-00521f11c043>::<module>(l:22) : Global Test Outut after Epoch 48 of 51 {\n",
      "    \"accuracy\": 95.7,\n",
      "    \"correct\": 9570,\n",
      "    \"test_loss\": 0.15203853012025356\n",
      "} [MainProcess : MainThread (INFO)]\n",
      " 96%|█████████▌| 49/51 [39:51<01:36, 48.01s/it]2022-02-04 11:43:37,380 - <ipython-input-13-00521f11c043>::<module>(l:6) : Federated Training Epoch 49 of 51 [MainProcess : MainThread (INFO)]\n",
      "2022-02-04 11:43:40,286 - <ipython-input-13-00521f11c043>::<module>(l:22) : Global Test Outut after Epoch 49 of 51 {\n",
      "    \"accuracy\": 95.78,\n",
      "    \"correct\": 9578,\n",
      "    \"test_loss\": 0.14982467064857483\n",
      "} [MainProcess : MainThread (INFO)]\n",
      " 98%|█████████▊| 50/51 [40:39<00:48, 48.10s/it]2022-02-04 11:44:25,675 - <ipython-input-13-00521f11c043>::<module>(l:6) : Federated Training Epoch 50 of 51 [MainProcess : MainThread (INFO)]\n",
      "2022-02-04 11:44:28,502 - <ipython-input-13-00521f11c043>::<module>(l:22) : Global Test Outut after Epoch 50 of 51 {\n",
      "    \"accuracy\": 95.81,\n",
      "    \"correct\": 9581,\n",
      "    \"test_loss\": 0.14688776092529296\n",
      "} [MainProcess : MainThread (INFO)]\n",
      "100%|██████████| 51/51 [41:27<00:00, 48.78s/it]"
     ]
    },
    {
     "name": "stdout",
     "output_type": "stream",
     "text": [
      "2487.9885885715485\n"
     ]
    },
    {
     "name": "stderr",
     "output_type": "stream",
     "text": [
      "\n"
     ]
    }
   ],
   "source": [
    "import time\n",
    "start_time = time.time()\n",
    "    \n",
    "# Federated Training\n",
    "for epoch in tqdm(range(fedargs.epochs)):\n",
    "    log.info(\"Federated Training Epoch {} of {}\".format(epoch, fedargs.epochs))\n",
    "\n",
    "    # Global Model Update\n",
    "    if epoch > 0:\n",
    "        # For Tmean and FLTrust, not impacts others as of now\n",
    "        avgargs = {\"beta\": len(mal_clients), \n",
    "                   \"base_model_update\": global_model_update if FLTrust[\"is\"] else None,\n",
    "                   \"base_norm\": True}\n",
    "        \n",
    "        # Average\n",
    "        global_model = fl.federated_avg(client_model_updates, global_model, fedargs.agg_rule, **avgargs)\n",
    "        log.modeldebug(global_model, \"Epoch {}: Server Update\".format(epoch))\n",
    "        \n",
    "        # Test, Plot and Log\n",
    "        global_test_output = fedargs.eval_func(global_model, test_loader, device, label_flip_attack[\"labels\"])\n",
    "        wb.log({\"epoch\": epoch, \"time\": time.time(), \"acc\": global_test_output[\"accuracy\"], \"loss\": global_test_output[\"test_loss\"]})\n",
    "        log.jsoninfo(global_test_output, \"Global Test Outut after Epoch {} of {}\".format(epoch, fedargs.epochs))\n",
    "        \n",
    "        # Evaluate LFA\n",
    "        if \"attack\" in global_test_output:\n",
    "            if \"attack_success_rate\" in global_test_output[\"attack\"]:\n",
    "                wb.log({\"attack_success_rate\": global_test_output[\"attack\"][\"attack_success_rate\"]})\n",
    "            if \"misclassification_rate\" in global_test_output[\"attack\"]:\n",
    "                wb.log({\"misclassification_rate\": global_test_output[\"attack\"][\"misclassification_rate\"]})\n",
    "\n",
    "        # Evaluate Backdoor\n",
    "        if backdoor_attack[\"is\"]:\n",
    "            backdoor_test_output = fl.backdoor_test(global_model, backdoor_attack[\"loader\"], device, backdoor_attack[\"target_label\"])\n",
    "            wb.log({\"backdoor_success_rate\": backdoor_test_output[\"accuracy\"]})\n",
    "            log.jsoninfo(backdoor_test_output, \"Backdoor Test Outut after Epoch {} of {}\".format(epoch, fedargs.epochs))\n",
    "\n",
    "        # Update client models\n",
    "        for client in clients:\n",
    "            client_details[client]['model'] = copy.deepcopy(global_model)\n",
    "\n",
    "    # Clients\n",
    "    tasks = [process(client, epoch, client_details[client]['model'],\n",
    "                     client_details[client]['train_loader'],\n",
    "                     fedargs, device) for client in clients]\n",
    "    try:\n",
    "        updates = fedargs.loop.run_until_complete(asyncio.gather(*tasks))\n",
    "    except KeyboardInterrupt as e:\n",
    "        log.error(\"Caught keyboard interrupt. Canceling tasks...\")\n",
    "        tasks.cancel()\n",
    "        fedargs.loop.run_forever()\n",
    "        tasks.exception()\n",
    "\n",
    "    for client, update in zip(clients, updates):\n",
    "        client_details[client]['model_update'] = update\n",
    "    client_model_updates = {client: details[\"model_update\"] for client, details in client_details.items()}\n",
    "    \n",
    "    # Fang attack\n",
    "    if fang_attack[\"is\"]:\n",
    "        client_model_updates = fang_attack[\"func\"](client_model_updates, len(mal_clients), fang_attack[\"kn\"])\n",
    "        \n",
    "    # LIE attack\n",
    "    if lie_attack[\"is\"]:\n",
    "        client_model_updates = lie_attack[\"func\"](client_model_updates, len(mal_clients), lie_attack[\"kn\"])\n",
    "   \n",
    "    # SOTA attack\n",
    "    if sota_attack[\"is\"]:\n",
    "        client_model_updates = sota_attack[\"func\"](client_model_updates, len(mal_clients), \n",
    "                                                   sota_attack[\"kn\"], sota_attack[\"dev_type\"])\n",
    "    \n",
    "    # FLtrust or FLTC based aggregation rules or attacks\n",
    "    if FLTrust[\"is\"]:\n",
    "        global_model_update, _, _ = fedargs.train_func(global_model, FLTrust[\"loader\"],\n",
    "                                                       fedargs.learning_rate,\n",
    "                                                       fedargs.weight_decay,\n",
    "                                                       fedargs.local_rounds, device)\n",
    "\n",
    "        # For Attacks related to FLTrust\n",
    "        base_model_update = global_model_update\n",
    "        if FLTrust[\"proxy\"][\"is\"]:\n",
    "            base_model_update, _, _ = fedargs.train_func(global_model, FLTrust[\"proxy\"][\"loader\"],\n",
    "                                                         fedargs.learning_rate,\n",
    "                                                         fedargs.weight_decay,\n",
    "                                                         fedargs.local_rounds, device)\n",
    "        \n",
    "        # Layer replacement attack\n",
    "        if layer_replacement_attack[\"is\"]:\n",
    "            for client in mal_clients:\n",
    "                client_details[clients[client]]['model_update'] = layer_replacement_attack[\"func\"](base_model_update,\n",
    "                                                                                                   client_details[clients[client]]['model_update'],\n",
    "                                                                                                   layer_replacement_attack[\"layers\"])\n",
    "\n",
    "        # For cosine attack, Malicious Clients\n",
    "        if cosine_attack[\"is\"]:\n",
    "            p_models, params_changed = cosine_attack[\"func\"](base_model_update, cosine_attack[\"args\"], epoch,\n",
    "                                                             client_model_updates, len(mal_clients), cosine_attack[\"kn\"])\n",
    "            \n",
    "            for client, p_model in enumerate(p_models):\n",
    "                client_details[clients[client]]['model_update'] = p_model \n",
    "\n",
    "            #plot params changed for only one client\n",
    "            fedargs.tb.add_scalar(\"Params Changed for Cosine Attack/\", params_changed, epoch)\n",
    "\n",
    "        # For sybil attack, Malicious Clients\n",
    "        if sybil_attack[\"is\"]:\n",
    "            for client in mal_clients:\n",
    "                client_details[clients[client]]['model_update'] = base_model_update\n",
    "                \n",
    "        # again pair, as changed during attack\n",
    "        client_model_updates = {client: details[\"model_update\"] for client, details in client_details.items()}\n",
    "\n",
    "print(time.time() - start_time)"
   ]
  },
  {
   "cell_type": "markdown",
   "id": "37b2d6a9",
   "metadata": {
    "deletable": false,
    "editable": false
   },
   "source": [
    "<h1> End </h1>"
   ]
  }
 ],
 "metadata": {
  "kernelspec": {
   "display_name": "Python [conda env:syft]",
   "language": "python",
   "name": "conda-env-syft-py"
  },
  "language_info": {
   "codemirror_mode": {
    "name": "ipython",
    "version": 3
   },
   "file_extension": ".py",
   "mimetype": "text/x-python",
   "name": "python",
   "nbconvert_exporter": "python",
   "pygments_lexer": "ipython3",
   "version": "3.9.5"
  }
 },
 "nbformat": 4,
 "nbformat_minor": 5
}
