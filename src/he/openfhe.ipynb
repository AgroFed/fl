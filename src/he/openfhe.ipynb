{
 "cells": [
  {
   "cell_type": "code",
   "execution_count": 1,
   "id": "0d177cdf",
   "metadata": {},
   "outputs": [],
   "source": [
    "from openfhe import *"
   ]
  },
  {
   "cell_type": "code",
   "execution_count": 2,
   "id": "d10489fe",
   "metadata": {},
   "outputs": [],
   "source": [
    "parameters = CCParamsCKKSRNS()\n",
    "\n",
    "secret_key_dist = SecretKeyDist.UNIFORM_TERNARY\n",
    "parameters.SetSecretKeyDist(secret_key_dist)\n",
    "\n",
    "parameters.SetSecurityLevel(SecurityLevel.HEStd_NotSet)\n",
    "parameters.SetRingDim(1<<12)\n",
    "\n",
    "if get_native_int()==128:\n",
    "    rescale_tech = ScalingTechnique.FIXEDAUTO\n",
    "    dcrt_bits = 78\n",
    "    first_mod = 89\n",
    "else:\n",
    "    rescale_tech = ScalingTechnique.FLEXIBLEAUTO\n",
    "    dcrt_bits = 59\n",
    "    first_mod = 60\n",
    "\n",
    "parameters.SetScalingModSize(dcrt_bits)\n",
    "parameters.SetScalingTechnique(rescale_tech)\n",
    "parameters.SetFirstModSize(first_mod)\n",
    "\n",
    "level_budget = [4, 4]\n",
    "\n",
    "levels_available_after_bootstrap = 10\n",
    "\n",
    "depth = levels_available_after_bootstrap + FHECKKSRNS.GetBootstrapDepth(level_budget, secret_key_dist)\n",
    "\n",
    "parameters.SetMultiplicativeDepth(depth)"
   ]
  },
  {
   "cell_type": "code",
   "execution_count": 3,
   "id": "69b28a18",
   "metadata": {},
   "outputs": [
    {
     "name": "stdout",
     "output_type": "stream",
     "text": [
      "CKKS is using ring dimension 4096\n"
     ]
    }
   ],
   "source": [
    "cryptocontext = GenCryptoContext(parameters)\n",
    "cryptocontext.Enable(PKESchemeFeature.PKE)\n",
    "cryptocontext.Enable(PKESchemeFeature.KEYSWITCH)\n",
    "cryptocontext.Enable(PKESchemeFeature.LEVELEDSHE)\n",
    "cryptocontext.Enable(PKESchemeFeature.ADVANCEDSHE)\n",
    "cryptocontext.Enable(PKESchemeFeature.FHE)\n",
    "\n",
    "ring_dim = cryptocontext.GetRingDimension()\n",
    "# This is the mazimum number of slots that can be used full packing.\n",
    "\n",
    "num_slots = int(ring_dim / 2)\n",
    "print(f\"CKKS is using ring dimension {ring_dim}\")\n",
    "\n",
    "cryptocontext.EvalBootstrapSetup(level_budget)\n",
    "\n",
    "key_pair = cryptocontext.KeyGen()\n",
    "cryptocontext.EvalMultKeyGen(key_pair.secretKey)\n",
    "cryptocontext.EvalBootstrapKeyGen(key_pair.secretKey, num_slots)"
   ]
  },
  {
   "cell_type": "code",
   "execution_count": 4,
   "id": "9ffe32e8",
   "metadata": {},
   "outputs": [
    {
     "name": "stdout",
     "output_type": "stream",
     "text": [
      "Input: (0.25, 0.5, 0.75, 1, 2, 3, 4, 5,  ... ); Estimated precision: 59 bits\n",
      "\n",
      "Initial number of levels remaining: 1\n",
      "Number of levels remaining after bootstrapping: 10\n",
      "Output after bootstrapping: (0.249999, 0.5, 0.750003, 1, 2, 3, 4.00001, 5.00001,  ... ); Estimated precision: 18 bits\n",
      "\n"
     ]
    }
   ],
   "source": [
    "x = [0.25, 0.5, 0.75, 1.0, 2.0, 3.0, 4.0, 5.0]\n",
    "#x = [i for i in range(10000)]\n",
    "#encoded_length = len(x)\n",
    "encoded_length = len(x)\n",
    "\n",
    "ptxt = cryptocontext.MakeCKKSPackedPlaintext(x,1,depth-1)\n",
    "ptxt.SetLength(encoded_length)\n",
    "\n",
    "print(f\"Input: {ptxt}\")\n",
    "\n",
    "ciph = cryptocontext.Encrypt(key_pair.publicKey, ptxt)\n",
    "\n",
    "print(f\"Initial number of levels remaining: {depth - ciph.GetLevel()}\")\n",
    "\n",
    "ciphertext_after = cryptocontext.EvalBootstrap(ciph)\n",
    "\n",
    "print(f\"Number of levels remaining after bootstrapping: {depth - ciphertext_after.GetLevel()}\")\n",
    "\n",
    "result = cryptocontext.Decrypt(ciphertext_after,key_pair.secretKey)\n",
    "result.SetLength(encoded_length)\n",
    "print(f\"Output after bootstrapping: {result}\")"
   ]
  },
  {
   "cell_type": "code",
   "execution_count": null,
   "id": "bfffb3da",
   "metadata": {},
   "outputs": [],
   "source": []
  }
 ],
 "metadata": {
  "kernelspec": {
   "display_name": "Python [conda env:menv]",
   "language": "python",
   "name": "conda-env-menv-py"
  },
  "language_info": {
   "codemirror_mode": {
    "name": "ipython",
    "version": 3
   },
   "file_extension": ".py",
   "mimetype": "text/x-python",
   "name": "python",
   "nbconvert_exporter": "python",
   "pygments_lexer": "ipython3",
   "version": "3.10.12"
  }
 },
 "nbformat": 4,
 "nbformat_minor": 5
}
