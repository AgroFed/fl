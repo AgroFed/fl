{
 "cells": [
  {
   "cell_type": "code",
   "execution_count": 2,
   "id": "33d3dfb1",
   "metadata": {},
   "outputs": [
    {
     "name": "stdout",
     "output_type": "stream",
     "text": [
      "The autoreload extension is already loaded. To reload it, use:\n",
      "  %reload_ext autoreload\n"
     ]
    }
   ],
   "source": [
    "%load_ext autoreload\n",
    "%autoreload 2\n",
    "\n",
    "import asyncio, nest_asyncio\n",
    "nest_asyncio.apply()\n",
    "\n",
    "import copy, os, socket, sys, time\n",
    "from functools import partial\n",
    "from multiprocessing import Pool, Process\n",
    "from pathlib import Path\n",
    "from tqdm import tqdm\n",
    "\n",
    "import torch\n",
    "from torch import optim\n",
    "from torch.utils.tensorboard import SummaryWriter\n",
    "\n",
    "sys.path.insert(0, os.path.abspath(os.path.join(os.getcwd(), \"../\")))\n",
    "from libs import agg, data, fl, log, nn, plot, poison, resnet, sim\n",
    "from cfgs.fedargs import *"
   ]
  },
  {
   "cell_type": "code",
   "execution_count": 3,
   "id": "91db2c1c",
   "metadata": {},
   "outputs": [],
   "source": [
    "import base64\n",
    "\n",
    "def writeCkks(ckks_vec, filename):\n",
    "    ser_ckks_vec = base64.b64encode(ckks_vec)\n",
    "\n",
    "    with open(filename, 'wb') as f:\n",
    "        f.write(ser_ckks_vec)\n",
    "\n",
    "def readCkks(filename):\n",
    "    with open(filename, 'rb') as f:\n",
    "        ser_ckks_vec = f.read()\n",
    "    \n",
    "    return base64.b64decode(ser_ckks_vec)"
   ]
  },
  {
   "cell_type": "code",
   "execution_count": 4,
   "id": "84749228",
   "metadata": {},
   "outputs": [],
   "source": [
    "import tenseal as ts\n",
    "\n",
    "poly_modulus_degree = 8192\n",
    "coeff_mod_bit_sizes = [60, 40, 40, 60]\n",
    "global_scale= 2**40\n",
    "\n",
    "context = ts.context(\n",
    "            ts.SCHEME_TYPE.CKKS, \n",
    "            poly_modulus_degree = poly_modulus_degree,\n",
    "            coeff_mod_bit_sizes = coeff_mod_bit_sizes\n",
    "            )\n",
    "context.generate_galois_keys()\n",
    "context.global_scale = global_scale"
   ]
  },
  {
   "cell_type": "code",
   "execution_count": 5,
   "id": "186d357c",
   "metadata": {},
   "outputs": [
    {
     "data": {
      "text/plain": [
       "array([ 0.24539003, -0.2912912 ,  0.27941722, ...,  0.04997873,\n",
       "       -0.06753939,  0.04011188], dtype=float32)"
      ]
     },
     "execution_count": 5,
     "metadata": {},
     "output_type": "execute_result"
    }
   ],
   "source": [
    "# Initialize Global and Client models\n",
    "global_model = copy.deepcopy(fedargs.model)\n",
    "one_d_arr, _list = sim.get_net_arr(global_model)\n",
    "one_d_arr"
   ]
  },
  {
   "cell_type": "code",
   "execution_count": null,
   "id": "3d56b906",
   "metadata": {},
   "outputs": [],
   "source": [
    "enc_one_d_arr = ts.ckks_tensor(context, [one_d_arr])\n",
    "#enc_one_d_arr_ser = enc_one_d_arr.serialize()\n",
    "#writeCkks(enc_one_d_arr_ser, \"enc_one_d_arr_ser\")"
   ]
  },
  {
   "cell_type": "code",
   "execution_count": 6,
   "id": "4fafdd1e",
   "metadata": {},
   "outputs": [
    {
     "data": {
      "text/plain": [
       "[[2.0000002689945218,\n",
       "  1.5000002013768505,\n",
       "  4.000000534991955,\n",
       "  1.5000002032055955,\n",
       "  3.0000004014287747,\n",
       "  2.000000269334496,\n",
       "  5.000000668263548,\n",
       "  2.0000002675888777,\n",
       "  4.000000535849215,\n",
       "  2.5000003349209248,\n",
       "  6.000000802937905,\n",
       "  2.5000003338183427]]"
      ]
     },
     "execution_count": 6,
     "metadata": {},
     "output_type": "execute_result"
    }
   ],
   "source": [
    "w1 = [1,2,3]\n",
    "w2 = [2,2,2]\n",
    "\n",
    "_lambda = 4\n",
    "#Encode into messages, assume pattern is to encode at index 0 and 2, given lambda is 4\n",
    "def encode(wi):\n",
    "    encoded_vec = []\n",
    "    for identifier, i in enumerate(wi):\n",
    "        identifier = identifier + 1\n",
    "        enc_template = [0 for i in range(_lambda)]\n",
    "        for j in range(_lambda):\n",
    "            if j == 0 or j == 2:\n",
    "                enc_template[j] = identifier + j + 1\n",
    "            else:    \n",
    "                enc_template[j] = i\n",
    "        encoded_vec = encoded_vec + enc_template\n",
    "    return encoded_vec\n",
    "\n",
    "w1_encoded = encode(w1)\n",
    "w2_encoded = encode(w2)\n",
    "\n",
    "enc_w1 = ts.ckks_tensor(context, [w1_encoded])\n",
    "enc_w2 = ts.ckks_tensor(context, [w2_encoded])\n",
    "\n",
    "enc_w = (enc_w1 + enc_w2) * 0.5 # Average operation\n",
    "enc_w.decrypt().tolist()\n",
    "\n",
    "#To Verify, clients will check at all specified positions, assuming clients know the pattern, identifier and index."
   ]
  },
  {
   "cell_type": "code",
   "execution_count": null,
   "id": "86ecf0e4",
   "metadata": {},
   "outputs": [],
   "source": [
    "encoded_one_d_arr = encode(one_d_arr)\n",
    "enc_one_d_arr = ts.ckks_tensor(context, [one_d_arr])\n",
    "enc_one_d_arr_ser = enc_one_d_arr.serialize()\n",
    "writeCkks(enc_one_d_arr_ser, \"enc_one_d_arr_ser\")"
   ]
  }
 ],
 "metadata": {
  "kernelspec": {
   "display_name": "Python [conda env:tenseal]",
   "language": "python",
   "name": "conda-env-tenseal-py"
  },
  "language_info": {
   "codemirror_mode": {
    "name": "ipython",
    "version": 3
   },
   "file_extension": ".py",
   "mimetype": "text/x-python",
   "name": "python",
   "nbconvert_exporter": "python",
   "pygments_lexer": "ipython3",
   "version": "3.10.12"
  }
 },
 "nbformat": 4,
 "nbformat_minor": 5
}
