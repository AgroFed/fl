{
 "cells": [
  {
   "cell_type": "code",
   "execution_count": 1,
   "id": "70a77f9c",
   "metadata": {},
   "outputs": [],
   "source": [
    "%load_ext autoreload\n",
    "%autoreload 2\n",
    "\n",
    "import os, sys\n",
    "import copy\n",
    "import socket\n",
    "from tqdm import tqdm\n",
    "import torch\n",
    "import pickle\n",
    "from torch import optim\n",
    "from pathlib import Path\n",
    "from torch.utils.tensorboard import SummaryWriter\n",
    "\n",
    "sys.path.insert(0, os.path.abspath(os.path.join(os.getcwd(), \"../\")))\n",
    "from libs import fl, nn, data, log"
   ]
  },
  {
   "cell_type": "code",
   "execution_count": 2,
   "id": "8c9749cd",
   "metadata": {},
   "outputs": [],
   "source": [
    "# Save Logs To File (info | debug | warning | error | critical) [optional]\n",
    "log.init(\"info\")\n",
    "#log.init(\"info\", \"federated.log\")\n",
    "#log.init(\"debug\", \"flkafka.log\")"
   ]
  },
  {
   "cell_type": "code",
   "execution_count": 3,
   "id": "ea0623fc",
   "metadata": {},
   "outputs": [],
   "source": [
    "class FedArgs():\n",
    "    def __init__(self):\n",
    "        self.num_clients = 5\n",
    "        self.epochs = 5\n",
    "        self.local_rounds = 1\n",
    "        self.client_batch_size = 32\n",
    "        self.test_batch_size = 128\n",
    "        self.learning_rate = 1e-4\n",
    "        self.weight_decay = 1e-5\n",
    "        self.cuda = False\n",
    "        self.seed = 1\n",
    "        self.topic = 'pyflx'\n",
    "        self.tb = SummaryWriter('../out/runs/federated', comment=\"Mnist Centralized Federated training\")\n",
    "\n",
    "fedargs = FedArgs()"
   ]
  },
  {
   "cell_type": "code",
   "execution_count": 4,
   "id": "6a3022ee",
   "metadata": {},
   "outputs": [],
   "source": [
    "use_cuda = fedargs.cuda and torch.cuda.is_available()\n",
    "torch.manual_seed(fedargs.seed)\n",
    "device = torch.device(\"cuda\" if use_cuda else \"cpu\")\n",
    "kwargs = {\"num_workers\": 1, \"pin_memory\": True} if use_cuda else {}"
   ]
  },
  {
   "cell_type": "code",
   "execution_count": 5,
   "id": "3e8de969",
   "metadata": {},
   "outputs": [],
   "source": [
    "host = socket.gethostname()\n",
    "clients = [host + \"(\" + str(client + 1) + \")\" for client in range(fedargs.num_clients)]"
   ]
  },
  {
   "cell_type": "code",
   "execution_count": 6,
   "id": "b7283a3b",
   "metadata": {},
   "outputs": [],
   "source": [
    "# Load MNIST Data to clients\n",
    "train_data, test_data = data.load_dataset(\"mnist\")\n",
    "clients_data = data.split_data(train_data, clients)\n",
    "client_train_loaders, _ = data.load_client_data(clients_data, fedargs.client_batch_size, None, **kwargs)\n",
    "test_loader = torch.utils.data.DataLoader(test_data, batch_size=fedargs.test_batch_size, shuffle=True, **kwargs)\n",
    "\n",
    "clients_info = {\n",
    "        client: {\"train_loader\": client_train_loaders[client]}\n",
    "        for client in clients\n",
    "    }"
   ]
  },
  {
   "cell_type": "code",
   "execution_count": 7,
   "id": "bdb33528",
   "metadata": {},
   "outputs": [],
   "source": [
    "import asyncio\n",
    "import time\n",
    "\n",
    "def background(f):\n",
    "    def wrapped(*args, **kwargs):\n",
    "        return asyncio.get_event_loop().run_in_executor(None, f, *args, **kwargs)\n",
    "\n",
    "    return wrapped\n",
    "\n",
    "@background\n",
    "def process(client, epoch, model, train_loader, fedargs, device):\n",
    "    # Train\n",
    "    model, loss = fl.client_update(model,\n",
    "                                train_loader,\n",
    "                                fedargs.learning_rate,\n",
    "                                fedargs.weight_decay,\n",
    "                                fedargs.local_rounds,\n",
    "                                device)\n",
    "\n",
    "    #Plot and Log\n",
    "    for local_epoch, loss in enumerate(list(loss.values())):\n",
    "        fedargs.tb.add_scalars(\"Training Loss/\" + client, {str(epoch): loss}, str(local_epoch + 1))\n",
    "\n",
    "    log.jsondebug(loss, \"Epoch {} of {} : Federated Training loss, Client {}\".format(epoch, fedargs.epochs, client))\n",
    "    log.modeldebug(model, \"Epoch {} of {} : Client {} Update\".format(epoch, fedargs.epochs, client))\n",
    "    \n",
    "    return model"
   ]
  },
  {
   "cell_type": "code",
   "execution_count": 8,
   "id": "fc40c00d",
   "metadata": {},
   "outputs": [
    {
     "name": "stderr",
     "output_type": "stream",
     "text": [
      "  0%|          | 0/5 [00:00<?, ?it/s]2021-08-02 13:30:01,105 - <ipython-input-8-32be403491dc>::<module>(l:12) : Federated Training Epoch 1 of 5 [MainProcess : MainThread (INFO)]\n",
      "2021-08-02 13:30:07,481 - <ipython-input-8-32be403491dc>::<module>(l:19) : Gloabl Test Outut after Epoch 1 of 5 {\n",
      "    \"accuracy\": 10.25,\n",
      "    \"attack\": {\n",
      "        \"attack_success_count\": 0,\n",
      "        \"attack_success_rate\": 0,\n",
      "        \"instances\": 0,\n",
      "        \"misclassification_rate\": 0,\n",
      "        \"misclassifications\": 0\n",
      "    },\n",
      "    \"correct\": 1025,\n",
      "    \"test_loss\": 2.3071889125823977\n",
      "} [MainProcess : MainThread (INFO)]\n",
      " 20%|██        | 1/5 [00:30<02:03, 30.94s/it]2021-08-02 13:30:31,910 - <ipython-input-8-32be403491dc>::<module>(l:12) : Federated Training Epoch 2 of 5 [MainProcess : MainThread (INFO)]\n",
      "2021-08-02 13:30:38,138 - <ipython-input-8-32be403491dc>::<module>(l:19) : Gloabl Test Outut after Epoch 2 of 5 {\n",
      "    \"accuracy\": 92.7,\n",
      "    \"attack\": {\n",
      "        \"attack_success_count\": 0,\n",
      "        \"attack_success_rate\": 0,\n",
      "        \"instances\": 0,\n",
      "        \"misclassification_rate\": 0,\n",
      "        \"misclassifications\": 0\n",
      "    },\n",
      "    \"correct\": 9270,\n",
      "    \"test_loss\": 0.30913598453998564\n",
      "} [MainProcess : MainThread (INFO)]\n",
      " 40%|████      | 2/5 [01:02<01:33, 31.23s/it]2021-08-02 13:31:03,341 - <ipython-input-8-32be403491dc>::<module>(l:12) : Federated Training Epoch 3 of 5 [MainProcess : MainThread (INFO)]\n",
      "2021-08-02 13:31:09,037 - <ipython-input-8-32be403491dc>::<module>(l:19) : Gloabl Test Outut after Epoch 3 of 5 {\n",
      "    \"accuracy\": 95.05,\n",
      "    \"attack\": {\n",
      "        \"attack_success_count\": 0,\n",
      "        \"attack_success_rate\": 0,\n",
      "        \"instances\": 0,\n",
      "        \"misclassification_rate\": 0,\n",
      "        \"misclassifications\": 0\n",
      "    },\n",
      "    \"correct\": 9505,\n",
      "    \"test_loss\": 0.16895155973434448\n",
      "} [MainProcess : MainThread (INFO)]\n",
      " 60%|██████    | 3/5 [01:33<01:02, 31.12s/it]2021-08-02 13:31:34,318 - <ipython-input-8-32be403491dc>::<module>(l:12) : Federated Training Epoch 4 of 5 [MainProcess : MainThread (INFO)]\n",
      "2021-08-02 13:31:39,988 - <ipython-input-8-32be403491dc>::<module>(l:19) : Gloabl Test Outut after Epoch 4 of 5 {\n",
      "    \"accuracy\": 96.2,\n",
      "    \"attack\": {\n",
      "        \"attack_success_count\": 0,\n",
      "        \"attack_success_rate\": 0,\n",
      "        \"instances\": 0,\n",
      "        \"misclassification_rate\": 0,\n",
      "        \"misclassifications\": 0\n",
      "    },\n",
      "    \"correct\": 9620,\n",
      "    \"test_loss\": 0.12163616168498993\n",
      "} [MainProcess : MainThread (INFO)]\n",
      " 80%|████████  | 4/5 [02:03<00:30, 30.87s/it]2021-08-02 13:32:04,816 - <ipython-input-8-32be403491dc>::<module>(l:12) : Federated Training Epoch 5 of 5 [MainProcess : MainThread (INFO)]\n",
      "2021-08-02 13:32:09,917 - <ipython-input-8-32be403491dc>::<module>(l:19) : Gloabl Test Outut after Epoch 5 of 5 {\n",
      "    \"accuracy\": 97.07000000000001,\n",
      "    \"attack\": {\n",
      "        \"attack_success_count\": 0,\n",
      "        \"attack_success_rate\": 0,\n",
      "        \"instances\": 0,\n",
      "        \"misclassification_rate\": 0,\n",
      "        \"misclassifications\": 0\n",
      "    },\n",
      "    \"correct\": 9707,\n",
      "    \"test_loss\": 0.09396609916687011\n",
      "} [MainProcess : MainThread (INFO)]\n",
      "100%|██████████| 5/5 [02:33<00:00, 30.66s/it]"
     ]
    },
    {
     "name": "stdout",
     "output_type": "stream",
     "text": [
      "153.3175311088562\n"
     ]
    },
    {
     "name": "stderr",
     "output_type": "stream",
     "text": [
      "\n"
     ]
    }
   ],
   "source": [
    "import time\n",
    "start_time = time.time()\n",
    "\n",
    "#Initialize Global and Client models\n",
    "global_model = nn.ModelMNIST()\n",
    "client_models = {client: copy.deepcopy(global_model) for client in clients}\n",
    "    \n",
    "# Federated Training\n",
    "for _epoch in tqdm(range(fedargs.epochs)):\n",
    "\n",
    "    epoch = _epoch + 1\n",
    "    log.info(\"Federated Training Epoch {} of {}\".format(epoch, fedargs.epochs))\n",
    "\n",
    "    #Gloabal Model Update and Test\n",
    "    global_model = fl.federated_avg(client_models)\n",
    "    log.modeldebug(global_model, \"Epoch {} of {} : Server Update\".format(epoch, fedargs.epochs))\n",
    "    global_test_output = fl.eval(global_model, test_loader, device)\n",
    "    fedargs.tb.add_scalar(\"Gloabl Accuracy/\", global_test_output[\"accuracy\"], epoch)\n",
    "    log.jsoninfo(global_test_output, \n",
    "                 \"Gloabl Test Outut after Epoch {} of {}\".format(epoch, fedargs.epochs))\n",
    "    \n",
    "    #Update client models\n",
    "    client_models = {client: copy.deepcopy(global_model) for client in clients}\n",
    "\n",
    "    # Clients\n",
    "    loop = asyncio.get_event_loop()\n",
    "    tasks = [process(client, epoch, client_models[client],\n",
    "                     clients_info[client]['train_loader'],\n",
    "                     fedargs, device) for client in clients]\n",
    "    updates = loop.run_until_complete(asyncio.gather(*tasks))\n",
    "    client_models = {client: update for client, update in zip(clients, updates)}\n",
    "    \n",
    "print(time.time() - start_time)"
   ]
  },
  {
   "cell_type": "code",
   "execution_count": null,
   "id": "e682562c",
   "metadata": {},
   "outputs": [],
   "source": []
  }
 ],
 "metadata": {
  "kernelspec": {
   "display_name": "Python [conda env:syft]",
   "language": "python",
   "name": "conda-env-syft-py"
  },
  "language_info": {
   "codemirror_mode": {
    "name": "ipython",
    "version": 3
   },
   "file_extension": ".py",
   "mimetype": "text/x-python",
   "name": "python",
   "nbconvert_exporter": "python",
   "pygments_lexer": "ipython3",
   "version": "3.9.5"
  }
 },
 "nbformat": 4,
 "nbformat_minor": 5
}
