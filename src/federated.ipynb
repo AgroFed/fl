{
 "cells": [
  {
   "cell_type": "code",
   "execution_count": 19,
   "id": "70a77f9c",
   "metadata": {},
   "outputs": [
    {
     "name": "stdout",
     "output_type": "stream",
     "text": [
      "The autoreload extension is already loaded. To reload it, use:\n",
      "  %reload_ext autoreload\n"
     ]
    }
   ],
   "source": [
    "%load_ext autoreload\n",
    "%autoreload 2\n",
    "\n",
    "import os, sys\n",
    "import copy\n",
    "import socket\n",
    "from tqdm import tqdm\n",
    "import torch\n",
    "import pickle\n",
    "from torch import optim\n",
    "from pathlib import Path\n",
    "from torch.utils.tensorboard import SummaryWriter\n",
    "\n",
    "sys.path.insert(0, os.path.abspath(os.path.join(os.getcwd(), \"../\")))\n",
    "from libs import fl, nn, data, log"
   ]
  },
  {
   "cell_type": "code",
   "execution_count": 20,
   "id": "8c9749cd",
   "metadata": {},
   "outputs": [],
   "source": [
    "# Save Logs To File (info | debug | warning | error | critical) [optional]\n",
    "log.init(\"info\")\n",
    "#log.init(\"info\", \"federated.log\")\n",
    "#log.init(\"debug\", \"flkafka.log\")"
   ]
  },
  {
   "cell_type": "code",
   "execution_count": 21,
   "id": "ea0623fc",
   "metadata": {},
   "outputs": [],
   "source": [
    "class FedArgs():\n",
    "    def __init__(self):\n",
    "        self.num_clients = 5\n",
    "        self.epochs = 5\n",
    "        self.local_rounds = 1\n",
    "        self.client_batch_size = 32\n",
    "        self.test_batch_size = 128\n",
    "        self.learning_rate = 1e-4\n",
    "        self.weight_decay = 1e-5\n",
    "        self.cuda = False\n",
    "        self.seed = 1\n",
    "        self.topic = 'pyflx'\n",
    "        self.tb = SummaryWriter('../out/runs/federated', comment=\"Mnist Centralized Federated training\")\n",
    "\n",
    "fedargs = FedArgs()"
   ]
  },
  {
   "cell_type": "code",
   "execution_count": 22,
   "id": "6a3022ee",
   "metadata": {},
   "outputs": [],
   "source": [
    "use_cuda = fedargs.cuda and torch.cuda.is_available()\n",
    "torch.manual_seed(fedargs.seed)\n",
    "device = torch.device(\"cuda\" if use_cuda else \"cpu\")\n",
    "kwargs = {\"num_workers\": 1, \"pin_memory\": True} if use_cuda else {}"
   ]
  },
  {
   "cell_type": "code",
   "execution_count": 23,
   "id": "3e8de969",
   "metadata": {},
   "outputs": [],
   "source": [
    "host = socket.gethostname()\n",
    "clients = [host + \"(\" + str(client + 1) + \")\" for client in range(fedargs.num_clients)]"
   ]
  },
  {
   "cell_type": "code",
   "execution_count": 24,
   "id": "b7283a3b",
   "metadata": {},
   "outputs": [],
   "source": [
    "# Load MNIST Data to clients\n",
    "train_data, test_data = data.load_mnist_dataset()\n",
    "clients_data = data.split_data(train_data, clients)\n",
    "client_loaders, test_loader = data.load_client_data(clients_data, fedargs.client_batch_size, test_data, fedargs.test_batch_size, **kwargs)\n",
    "\n",
    "# Load preliminary models\n",
    "# if want to do random initialization, replace copy.deepcopy(global_model) with nn.ModelMNIST() and vice versa\n",
    "global_model = nn.ModelMNIST().to(device)\n",
    "clients_info = {\n",
    "        client: { \"model\": copy.deepcopy(global_model).to(device), \"loss\": {}, \"data_loader\": client_loaders[client]}\n",
    "        for client in clients\n",
    "    }"
   ]
  },
  {
   "cell_type": "code",
   "execution_count": 25,
   "id": "bdb33528",
   "metadata": {},
   "outputs": [],
   "source": [
    "import asyncio\n",
    "import time\n",
    "\n",
    "def background(f):\n",
    "    def wrapped(*args, **kwargs):\n",
    "        return asyncio.get_event_loop().run_in_executor(None, f, *args, **kwargs)\n",
    "\n",
    "    return wrapped\n",
    "\n",
    "@background\n",
    "def process(client, client_models, epoch):\n",
    "    # Train\n",
    "    clients_info[client]['model'], clients_info[client]['loss'] = fl.client_update(clients_info[client]['model'],\n",
    "                                                                                clients_info[client]['data_loader'],\n",
    "                                                                                fedargs.learning_rate,\n",
    "                                                                                fedargs.weight_decay,\n",
    "                                                                                fedargs.local_rounds,\n",
    "                                                                                device)\n",
    "    \n",
    "    client_models[client] = clients_info[client]['model']\n",
    "\n",
    "    for local_epoch, loss in enumerate(list(clients_info[client]['loss'].values())):\n",
    "        fedargs.tb.add_scalars(\"Training Loss/\" + client, \n",
    "                               {str(epoch): loss}, \n",
    "                               str(local_epoch + 1))\n",
    "\n",
    "    log.jsondebug(clients_info[client]['loss'],\n",
    "                 \"Epoch {} of {} : Federated Training loss, Client {}\".format(epoch, \n",
    "                                                                      fedargs.epochs, \n",
    "                                                                      client))\n",
    "    log.modeldebug(clients_info[client]['model'],\n",
    "                   \"Epoch {} of {} : Client {} Update\".format(epoch, \n",
    "                                                              fedargs.epochs, \n",
    "                                                              client))"
   ]
  },
  {
   "cell_type": "code",
   "execution_count": null,
   "id": "fc40c00d",
   "metadata": {},
   "outputs": [
    {
     "name": "stderr",
     "output_type": "stream",
     "text": [
      "  0%|          | 0/5 [00:00<?, ?it/s]2021-07-27 23:57:32,335 - <ipython-input-26-9b49d7e383a8>::<module>(l:7) : Federated Training Epoch 1 of 5\n",
      "2021-07-27 23:58:02,645 - <ipython-input-26-9b49d7e383a8>::<module>(l:20) : Test Outut after Epoch 1 of 5 {\n",
      "    \"accuracy\": 92.44,\n",
      "    \"attack\": {\n",
      "        \"attack_success_count\": 0,\n",
      "        \"attack_success_rate\": 0,\n",
      "        \"instances\": 0,\n",
      "        \"misclassification_rate\": 0,\n",
      "        \"misclassifications\": 0\n",
      "    },\n",
      "    \"correct\": 9244,\n",
      "    \"test_loss\": 0.3118038007259369\n",
      "}\n",
      " 20%|██        | 1/5 [00:30<02:01, 30.32s/it]2021-07-27 23:58:02,656 - <ipython-input-26-9b49d7e383a8>::<module>(l:7) : Federated Training Epoch 2 of 5\n",
      "2021-07-27 23:58:34,289 - <ipython-input-26-9b49d7e383a8>::<module>(l:20) : Test Outut after Epoch 2 of 5 {\n",
      "    \"accuracy\": 94.66,\n",
      "    \"attack\": {\n",
      "        \"attack_success_count\": 0,\n",
      "        \"attack_success_rate\": 0,\n",
      "        \"instances\": 0,\n",
      "        \"misclassification_rate\": 0,\n",
      "        \"misclassifications\": 0\n",
      "    },\n",
      "    \"correct\": 9466,\n",
      "    \"test_loss\": 0.19609418952465058\n",
      "}\n",
      " 40%|████      | 2/5 [01:01<01:33, 31.10s/it]2021-07-27 23:58:34,300 - <ipython-input-26-9b49d7e383a8>::<module>(l:7) : Federated Training Epoch 3 of 5\n"
     ]
    }
   ],
   "source": [
    "import time\n",
    "start_time = time.time()\n",
    "\n",
    "# Federated Training\n",
    "for _epoch in tqdm(range(fedargs.epochs)):\n",
    "    epoch = _epoch + 1\n",
    "    log.info(\"Federated Training Epoch {} of {}\".format(epoch, fedargs.epochs))\n",
    "\n",
    "    # Train\n",
    "    client_models = {}\n",
    "    tasks = [process(client, client_models, epoch) for client in clients]\n",
    "    await asyncio.wait(tasks)\n",
    "\n",
    "    # Average the client updates\n",
    "    global_model = fl.federated_avg(client_models)\n",
    "    log.modeldebug(global_model, \"Epoch {} of {} : Global Model\".format(epoch, fedargs.epochs))\n",
    "    \n",
    "    # Test Epoch\n",
    "    test_output = fl.eval(global_model, test_loader, device)\n",
    "    log.jsoninfo(test_output, \"Test Outut after Epoch {} of {}\".format(epoch, fedargs.epochs))\n",
    "    \n",
    "print(time.time() - start_time)"
   ]
  }
 ],
 "metadata": {
  "kernelspec": {
   "display_name": "Python [conda env:syft]",
   "language": "python",
   "name": "conda-env-syft-py"
  },
  "language_info": {
   "codemirror_mode": {
    "name": "ipython",
    "version": 3
   },
   "file_extension": ".py",
   "mimetype": "text/x-python",
   "name": "python",
   "nbconvert_exporter": "python",
   "pygments_lexer": "ipython3",
   "version": "3.9.5"
  }
 },
 "nbformat": 4,
 "nbformat_minor": 5
}
